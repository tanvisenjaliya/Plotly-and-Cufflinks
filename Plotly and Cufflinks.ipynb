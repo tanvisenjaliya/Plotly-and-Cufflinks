{
 "cells": [
  {
   "cell_type": "markdown",
   "metadata": {},
   "source": [
    "# Plotly and Cufflinks"
   ]
  },
  {
   "cell_type": "markdown",
   "metadata": {},
   "source": [
    "## Imports and Set-up"
   ]
  },
  {
   "cell_type": "code",
   "execution_count": 1,
   "metadata": {},
   "outputs": [],
   "source": [
    "import pandas as pd\n",
    "import numpy as np\n",
    "%matplotlib inline"
   ]
  },
  {
   "cell_type": "code",
   "execution_count": 2,
   "metadata": {},
   "outputs": [
    {
     "name": "stdout",
     "output_type": "stream",
     "text": [
      "4.11.0\n"
     ]
    }
   ],
   "source": [
    "from plotly import __version__\n",
    "from plotly.offline import download_plotlyjs, init_notebook_mode, plot, iplot\n",
    "\n",
    "print(__version__) # requires version >= 1.9.0"
   ]
  },
  {
   "cell_type": "code",
   "execution_count": 4,
   "metadata": {},
   "outputs": [],
   "source": [
    "import cufflinks as cf"
   ]
  },
  {
   "cell_type": "code",
   "execution_count": 5,
   "metadata": {},
   "outputs": [
    {
     "data": {
      "text/html": [
       "        <script type=\"text/javascript\">\n",
       "        window.PlotlyConfig = {MathJaxConfig: 'local'};\n",
       "        if (window.MathJax) {MathJax.Hub.Config({SVG: {font: \"STIX-Web\"}});}\n",
       "        if (typeof require !== 'undefined') {\n",
       "        require.undef(\"plotly\");\n",
       "        requirejs.config({\n",
       "            paths: {\n",
       "                'plotly': ['https://cdn.plot.ly/plotly-latest.min']\n",
       "            }\n",
       "        });\n",
       "        require(['plotly'], function(Plotly) {\n",
       "            window._Plotly = Plotly;\n",
       "        });\n",
       "        }\n",
       "        </script>\n",
       "        "
      ]
     },
     "metadata": {},
     "output_type": "display_data"
    }
   ],
   "source": [
    "# For Notebooks\n",
    "init_notebook_mode(connected=True)"
   ]
  },
  {
   "cell_type": "code",
   "execution_count": 6,
   "metadata": {},
   "outputs": [
    {
     "data": {
      "text/html": [
       "        <script type=\"text/javascript\">\n",
       "        window.PlotlyConfig = {MathJaxConfig: 'local'};\n",
       "        if (window.MathJax) {MathJax.Hub.Config({SVG: {font: \"STIX-Web\"}});}\n",
       "        if (typeof require !== 'undefined') {\n",
       "        require.undef(\"plotly\");\n",
       "        requirejs.config({\n",
       "            paths: {\n",
       "                'plotly': ['https://cdn.plot.ly/plotly-latest.min']\n",
       "            }\n",
       "        });\n",
       "        require(['plotly'], function(Plotly) {\n",
       "            window._Plotly = Plotly;\n",
       "        });\n",
       "        }\n",
       "        </script>\n",
       "        "
      ]
     },
     "metadata": {},
     "output_type": "display_data"
    }
   ],
   "source": [
    "# For offline use\n",
    "cf.go_offline()"
   ]
  },
  {
   "cell_type": "markdown",
   "metadata": {},
   "source": [
    "### Fake Data"
   ]
  },
  {
   "cell_type": "code",
   "execution_count": 7,
   "metadata": {},
   "outputs": [],
   "source": [
    "df = pd.DataFrame(np.random.randn(100,4),columns='A B C D'.split())"
   ]
  },
  {
   "cell_type": "code",
   "execution_count": 8,
   "metadata": {},
   "outputs": [
    {
     "data": {
      "text/html": [
       "<div>\n",
       "<style scoped>\n",
       "    .dataframe tbody tr th:only-of-type {\n",
       "        vertical-align: middle;\n",
       "    }\n",
       "\n",
       "    .dataframe tbody tr th {\n",
       "        vertical-align: top;\n",
       "    }\n",
       "\n",
       "    .dataframe thead th {\n",
       "        text-align: right;\n",
       "    }\n",
       "</style>\n",
       "<table border=\"1\" class=\"dataframe\">\n",
       "  <thead>\n",
       "    <tr style=\"text-align: right;\">\n",
       "      <th></th>\n",
       "      <th>A</th>\n",
       "      <th>B</th>\n",
       "      <th>C</th>\n",
       "      <th>D</th>\n",
       "    </tr>\n",
       "  </thead>\n",
       "  <tbody>\n",
       "    <tr>\n",
       "      <th>0</th>\n",
       "      <td>-0.701761</td>\n",
       "      <td>1.096107</td>\n",
       "      <td>-0.719057</td>\n",
       "      <td>-2.710003</td>\n",
       "    </tr>\n",
       "    <tr>\n",
       "      <th>1</th>\n",
       "      <td>0.016793</td>\n",
       "      <td>-0.973730</td>\n",
       "      <td>-0.521872</td>\n",
       "      <td>1.509230</td>\n",
       "    </tr>\n",
       "    <tr>\n",
       "      <th>2</th>\n",
       "      <td>0.892591</td>\n",
       "      <td>-0.725011</td>\n",
       "      <td>-2.127508</td>\n",
       "      <td>1.105749</td>\n",
       "    </tr>\n",
       "    <tr>\n",
       "      <th>3</th>\n",
       "      <td>-0.666867</td>\n",
       "      <td>0.767449</td>\n",
       "      <td>-0.269603</td>\n",
       "      <td>2.121129</td>\n",
       "    </tr>\n",
       "    <tr>\n",
       "      <th>4</th>\n",
       "      <td>-0.089666</td>\n",
       "      <td>-0.588654</td>\n",
       "      <td>-1.079074</td>\n",
       "      <td>-1.191440</td>\n",
       "    </tr>\n",
       "  </tbody>\n",
       "</table>\n",
       "</div>"
      ],
      "text/plain": [
       "          A         B         C         D\n",
       "0 -0.701761  1.096107 -0.719057 -2.710003\n",
       "1  0.016793 -0.973730 -0.521872  1.509230\n",
       "2  0.892591 -0.725011 -2.127508  1.105749\n",
       "3 -0.666867  0.767449 -0.269603  2.121129\n",
       "4 -0.089666 -0.588654 -1.079074 -1.191440"
      ]
     },
     "execution_count": 8,
     "metadata": {},
     "output_type": "execute_result"
    }
   ],
   "source": [
    "df.head()"
   ]
  },
  {
   "cell_type": "code",
   "execution_count": 9,
   "metadata": {},
   "outputs": [],
   "source": [
    "df2 = pd.DataFrame({'Category':['A','B','C'],'Values':[32,43,50]})"
   ]
  },
  {
   "cell_type": "code",
   "execution_count": 10,
   "metadata": {},
   "outputs": [
    {
     "data": {
      "text/html": [
       "<div>\n",
       "<style scoped>\n",
       "    .dataframe tbody tr th:only-of-type {\n",
       "        vertical-align: middle;\n",
       "    }\n",
       "\n",
       "    .dataframe tbody tr th {\n",
       "        vertical-align: top;\n",
       "    }\n",
       "\n",
       "    .dataframe thead th {\n",
       "        text-align: right;\n",
       "    }\n",
       "</style>\n",
       "<table border=\"1\" class=\"dataframe\">\n",
       "  <thead>\n",
       "    <tr style=\"text-align: right;\">\n",
       "      <th></th>\n",
       "      <th>Category</th>\n",
       "      <th>Values</th>\n",
       "    </tr>\n",
       "  </thead>\n",
       "  <tbody>\n",
       "    <tr>\n",
       "      <th>0</th>\n",
       "      <td>A</td>\n",
       "      <td>32</td>\n",
       "    </tr>\n",
       "    <tr>\n",
       "      <th>1</th>\n",
       "      <td>B</td>\n",
       "      <td>43</td>\n",
       "    </tr>\n",
       "    <tr>\n",
       "      <th>2</th>\n",
       "      <td>C</td>\n",
       "      <td>50</td>\n",
       "    </tr>\n",
       "  </tbody>\n",
       "</table>\n",
       "</div>"
      ],
      "text/plain": [
       "  Category  Values\n",
       "0        A      32\n",
       "1        B      43\n",
       "2        C      50"
      ]
     },
     "execution_count": 10,
     "metadata": {},
     "output_type": "execute_result"
    }
   ],
   "source": [
    "df2.head()"
   ]
  },
  {
   "cell_type": "markdown",
   "metadata": {},
   "source": [
    "## Using Cufflinks and iplot()\n",
    "\n",
    "* scatter\n",
    "* bar\n",
    "* box\n",
    "* spread\n",
    "* ratio\n",
    "* heatmap\n",
    "* surface\n",
    "* histogram\n",
    "* bubble"
   ]
  },
  {
   "cell_type": "markdown",
   "metadata": {},
   "source": [
    "## Scatter"
   ]
  },
  {
   "cell_type": "code",
   "execution_count": 11,
   "metadata": {},
   "outputs": [
    {
     "data": {
      "application/vnd.plotly.v1+json": {
       "config": {
        "linkText": "Export to plot.ly",
        "plotlyServerURL": "https://plot.ly",
        "showLink": true
       },
       "data": [
        {
         "line": {
          "color": "rgba(255, 153, 51, 1.0)",
          "dash": "solid",
          "shape": "linear",
          "width": 1.3
         },
         "marker": {
          "size": 10,
          "symbol": "circle"
         },
         "mode": "markers",
         "name": "B",
         "text": "",
         "type": "scatter",
         "x": [
          -0.7017613191698328,
          0.01679259812028604,
          0.8925912413549707,
          -0.6668670618650194,
          -0.08966585714852059,
          -0.24458849205836947,
          -0.4022839095584551,
          0.7369432460042893,
          -1.2494079912136582,
          -0.6401976385659033,
          0.35695542238683164,
          -0.31573632031264465,
          -0.29246285955204526,
          -1.1497298652321202,
          -1.9829912112648982,
          0.5098656704313177,
          2.188181621409416,
          -1.8772696836014646,
          -0.4205418507884751,
          0.30075831472836556,
          0.2473020794475996,
          1.0923057343868103,
          2.214046009241756,
          1.4336535784483952,
          1.4496004076576658,
          -0.682315049522406,
          1.598661713427201,
          1.4227754396583445,
          -1.0553567255207785,
          -1.4467280078731937,
          0.20179887245784411,
          0.35903774873412975,
          -0.3555565196644582,
          1.0761852720282128,
          -0.8916717438447009,
          -1.0601444174693633,
          2.0819303347522395,
          -0.7167603005349762,
          -1.53530673446921,
          1.9133948727068533,
          1.0407153002753171,
          1.4532560987038319,
          0.013243946716610581,
          0.07978980625508145,
          -0.7928520041366476,
          0.9490485222915815,
          0.6796773785389835,
          -0.5312708016279892,
          -0.42543554249806664,
          0.10502509437704735,
          1.6737017511277883,
          -1.8668727674163699,
          0.22836886459639544,
          1.218973217565057,
          0.40212949895106903,
          0.47944343085272584,
          1.2304180606624848,
          0.9922489862689469,
          1.4686658229282794,
          2.0143136536858615,
          -0.14595261041800572,
          -1.1518106457881085,
          -0.6742607596454501,
          -0.7520225160865858,
          -0.08264514311404035,
          -1.944206140200247,
          -0.8218453602495646,
          -0.9346787373246029,
          -0.22471916393044564,
          -1.0780813137475604,
          1.0931423702001777,
          0.1110246057804523,
          0.45843380751609986,
          -1.1479604243030028,
          0.06401934841743986,
          -0.40936004108937313,
          -2.475032937690778,
          -0.5798847812432872,
          0.14760048032172526,
          -1.4746689176623073,
          -0.8130010946296682,
          0.8174795080559044,
          1.2400992521174226,
          -1.1738531185743155,
          0.14683153608009747,
          -1.08192782694488,
          0.23943436417174233,
          -1.8361135319933861,
          0.4890161330117654,
          1.6763408612708235,
          0.140950911004665,
          -0.34898665268627543,
          0.9774154607000615,
          1.4071048918097957,
          0.9928899978366662,
          0.47473909400514425,
          -1.0159736244406523,
          -1.2328148128058634,
          1.5251809494141184,
          0.9749457059105875
         ],
         "y": [
          1.096107160913988,
          -0.9737302345058281,
          -0.7250110916221839,
          0.7674488710153434,
          -0.5886541668788527,
          -1.0622784516157855,
          -1.2238707436028022,
          0.5253344718323851,
          -1.2878683268608349,
          -0.29911395934561635,
          0.3228157242692437,
          -1.3772019647253797,
          0.8422799608523274,
          0.46673940511242085,
          -1.9024107187745396,
          0.155657667140865,
          -0.7071356823154644,
          1.2253160474108702,
          -0.2882825609357239,
          0.36254222065700026,
          -1.1010538416552,
          1.492275113314927,
          -0.8466546929147944,
          -1.407165100389169,
          1.5632998286714186,
          -1.844746282810375,
          0.15876902191918163,
          -1.5707713349068917,
          -0.8912945042064594,
          -1.1888331358388045,
          -0.27504992184297344,
          0.7719987193746825,
          1.0204442420513675,
          -0.8759967579455494,
          0.315369460523939,
          -0.21239405545229284,
          -0.6288758205361382,
          -1.107447520892792,
          -0.2747002480687447,
          -0.4878952806445132,
          0.45536338144084904,
          -0.06056216817983006,
          0.9155766888351832,
          0.3225396215491934,
          1.336825319564932,
          -0.37695618372560696,
          0.6325172658764953,
          0.26144100072357696,
          -0.9176232114780261,
          -1.208512843841877,
          -0.1316287517068255,
          0.8046785617875465,
          -0.5298092909996793,
          -0.37895398463692803,
          -0.05015310836103133,
          1.8473860712933061,
          1.5828731768120015,
          -0.8313732498063346,
          1.56577510300552,
          -0.09835768242436443,
          -0.388099432966121,
          0.9213329848355416,
          -2.348329762291072,
          -0.3698905589364241,
          -1.3494687348772076,
          1.3037780678011601,
          2.417803512990605,
          0.29235264572616937,
          -0.8885381405600554,
          1.298273421113763,
          -0.3243102006073436,
          1.7694595161130415,
          1.1645387332927113,
          0.6288572400159901,
          -0.4527526189306913,
          1.9960678439093071,
          -0.041270654120210824,
          1.2496205442177806,
          -0.8840401546835186,
          0.8183218519596385,
          -2.0264573504660435,
          -0.4060040927237812,
          0.4729778895675059,
          -1.018633095188232,
          -0.29007097710175345,
          -0.06404339828919584,
          -2.1361917322659645,
          0.2609275108959407,
          0.8218707805270796,
          0.9456373949586805,
          0.8181515489793115,
          -1.4850632655046452,
          0.811063068792345,
          -0.31666137234541136,
          1.2786160004896594,
          0.8786720744927401,
          0.3944281417496477,
          0.22966085439033096,
          0.1673512133000957,
          -0.35535519018683315
         ]
        }
       ],
       "layout": {
        "legend": {
         "bgcolor": "#F5F6F9",
         "font": {
          "color": "#4D5663"
         }
        },
        "paper_bgcolor": "#F5F6F9",
        "plot_bgcolor": "#F5F6F9",
        "template": {
         "data": {
          "bar": [
           {
            "error_x": {
             "color": "#2a3f5f"
            },
            "error_y": {
             "color": "#2a3f5f"
            },
            "marker": {
             "line": {
              "color": "#E5ECF6",
              "width": 0.5
             }
            },
            "type": "bar"
           }
          ],
          "barpolar": [
           {
            "marker": {
             "line": {
              "color": "#E5ECF6",
              "width": 0.5
             }
            },
            "type": "barpolar"
           }
          ],
          "carpet": [
           {
            "aaxis": {
             "endlinecolor": "#2a3f5f",
             "gridcolor": "white",
             "linecolor": "white",
             "minorgridcolor": "white",
             "startlinecolor": "#2a3f5f"
            },
            "baxis": {
             "endlinecolor": "#2a3f5f",
             "gridcolor": "white",
             "linecolor": "white",
             "minorgridcolor": "white",
             "startlinecolor": "#2a3f5f"
            },
            "type": "carpet"
           }
          ],
          "choropleth": [
           {
            "colorbar": {
             "outlinewidth": 0,
             "ticks": ""
            },
            "type": "choropleth"
           }
          ],
          "contour": [
           {
            "colorbar": {
             "outlinewidth": 0,
             "ticks": ""
            },
            "colorscale": [
             [
              0,
              "#0d0887"
             ],
             [
              0.1111111111111111,
              "#46039f"
             ],
             [
              0.2222222222222222,
              "#7201a8"
             ],
             [
              0.3333333333333333,
              "#9c179e"
             ],
             [
              0.4444444444444444,
              "#bd3786"
             ],
             [
              0.5555555555555556,
              "#d8576b"
             ],
             [
              0.6666666666666666,
              "#ed7953"
             ],
             [
              0.7777777777777778,
              "#fb9f3a"
             ],
             [
              0.8888888888888888,
              "#fdca26"
             ],
             [
              1,
              "#f0f921"
             ]
            ],
            "type": "contour"
           }
          ],
          "contourcarpet": [
           {
            "colorbar": {
             "outlinewidth": 0,
             "ticks": ""
            },
            "type": "contourcarpet"
           }
          ],
          "heatmap": [
           {
            "colorbar": {
             "outlinewidth": 0,
             "ticks": ""
            },
            "colorscale": [
             [
              0,
              "#0d0887"
             ],
             [
              0.1111111111111111,
              "#46039f"
             ],
             [
              0.2222222222222222,
              "#7201a8"
             ],
             [
              0.3333333333333333,
              "#9c179e"
             ],
             [
              0.4444444444444444,
              "#bd3786"
             ],
             [
              0.5555555555555556,
              "#d8576b"
             ],
             [
              0.6666666666666666,
              "#ed7953"
             ],
             [
              0.7777777777777778,
              "#fb9f3a"
             ],
             [
              0.8888888888888888,
              "#fdca26"
             ],
             [
              1,
              "#f0f921"
             ]
            ],
            "type": "heatmap"
           }
          ],
          "heatmapgl": [
           {
            "colorbar": {
             "outlinewidth": 0,
             "ticks": ""
            },
            "colorscale": [
             [
              0,
              "#0d0887"
             ],
             [
              0.1111111111111111,
              "#46039f"
             ],
             [
              0.2222222222222222,
              "#7201a8"
             ],
             [
              0.3333333333333333,
              "#9c179e"
             ],
             [
              0.4444444444444444,
              "#bd3786"
             ],
             [
              0.5555555555555556,
              "#d8576b"
             ],
             [
              0.6666666666666666,
              "#ed7953"
             ],
             [
              0.7777777777777778,
              "#fb9f3a"
             ],
             [
              0.8888888888888888,
              "#fdca26"
             ],
             [
              1,
              "#f0f921"
             ]
            ],
            "type": "heatmapgl"
           }
          ],
          "histogram": [
           {
            "marker": {
             "colorbar": {
              "outlinewidth": 0,
              "ticks": ""
             }
            },
            "type": "histogram"
           }
          ],
          "histogram2d": [
           {
            "colorbar": {
             "outlinewidth": 0,
             "ticks": ""
            },
            "colorscale": [
             [
              0,
              "#0d0887"
             ],
             [
              0.1111111111111111,
              "#46039f"
             ],
             [
              0.2222222222222222,
              "#7201a8"
             ],
             [
              0.3333333333333333,
              "#9c179e"
             ],
             [
              0.4444444444444444,
              "#bd3786"
             ],
             [
              0.5555555555555556,
              "#d8576b"
             ],
             [
              0.6666666666666666,
              "#ed7953"
             ],
             [
              0.7777777777777778,
              "#fb9f3a"
             ],
             [
              0.8888888888888888,
              "#fdca26"
             ],
             [
              1,
              "#f0f921"
             ]
            ],
            "type": "histogram2d"
           }
          ],
          "histogram2dcontour": [
           {
            "colorbar": {
             "outlinewidth": 0,
             "ticks": ""
            },
            "colorscale": [
             [
              0,
              "#0d0887"
             ],
             [
              0.1111111111111111,
              "#46039f"
             ],
             [
              0.2222222222222222,
              "#7201a8"
             ],
             [
              0.3333333333333333,
              "#9c179e"
             ],
             [
              0.4444444444444444,
              "#bd3786"
             ],
             [
              0.5555555555555556,
              "#d8576b"
             ],
             [
              0.6666666666666666,
              "#ed7953"
             ],
             [
              0.7777777777777778,
              "#fb9f3a"
             ],
             [
              0.8888888888888888,
              "#fdca26"
             ],
             [
              1,
              "#f0f921"
             ]
            ],
            "type": "histogram2dcontour"
           }
          ],
          "mesh3d": [
           {
            "colorbar": {
             "outlinewidth": 0,
             "ticks": ""
            },
            "type": "mesh3d"
           }
          ],
          "parcoords": [
           {
            "line": {
             "colorbar": {
              "outlinewidth": 0,
              "ticks": ""
             }
            },
            "type": "parcoords"
           }
          ],
          "pie": [
           {
            "automargin": true,
            "type": "pie"
           }
          ],
          "scatter": [
           {
            "marker": {
             "colorbar": {
              "outlinewidth": 0,
              "ticks": ""
             }
            },
            "type": "scatter"
           }
          ],
          "scatter3d": [
           {
            "line": {
             "colorbar": {
              "outlinewidth": 0,
              "ticks": ""
             }
            },
            "marker": {
             "colorbar": {
              "outlinewidth": 0,
              "ticks": ""
             }
            },
            "type": "scatter3d"
           }
          ],
          "scattercarpet": [
           {
            "marker": {
             "colorbar": {
              "outlinewidth": 0,
              "ticks": ""
             }
            },
            "type": "scattercarpet"
           }
          ],
          "scattergeo": [
           {
            "marker": {
             "colorbar": {
              "outlinewidth": 0,
              "ticks": ""
             }
            },
            "type": "scattergeo"
           }
          ],
          "scattergl": [
           {
            "marker": {
             "colorbar": {
              "outlinewidth": 0,
              "ticks": ""
             }
            },
            "type": "scattergl"
           }
          ],
          "scattermapbox": [
           {
            "marker": {
             "colorbar": {
              "outlinewidth": 0,
              "ticks": ""
             }
            },
            "type": "scattermapbox"
           }
          ],
          "scatterpolar": [
           {
            "marker": {
             "colorbar": {
              "outlinewidth": 0,
              "ticks": ""
             }
            },
            "type": "scatterpolar"
           }
          ],
          "scatterpolargl": [
           {
            "marker": {
             "colorbar": {
              "outlinewidth": 0,
              "ticks": ""
             }
            },
            "type": "scatterpolargl"
           }
          ],
          "scatterternary": [
           {
            "marker": {
             "colorbar": {
              "outlinewidth": 0,
              "ticks": ""
             }
            },
            "type": "scatterternary"
           }
          ],
          "surface": [
           {
            "colorbar": {
             "outlinewidth": 0,
             "ticks": ""
            },
            "colorscale": [
             [
              0,
              "#0d0887"
             ],
             [
              0.1111111111111111,
              "#46039f"
             ],
             [
              0.2222222222222222,
              "#7201a8"
             ],
             [
              0.3333333333333333,
              "#9c179e"
             ],
             [
              0.4444444444444444,
              "#bd3786"
             ],
             [
              0.5555555555555556,
              "#d8576b"
             ],
             [
              0.6666666666666666,
              "#ed7953"
             ],
             [
              0.7777777777777778,
              "#fb9f3a"
             ],
             [
              0.8888888888888888,
              "#fdca26"
             ],
             [
              1,
              "#f0f921"
             ]
            ],
            "type": "surface"
           }
          ],
          "table": [
           {
            "cells": {
             "fill": {
              "color": "#EBF0F8"
             },
             "line": {
              "color": "white"
             }
            },
            "header": {
             "fill": {
              "color": "#C8D4E3"
             },
             "line": {
              "color": "white"
             }
            },
            "type": "table"
           }
          ]
         },
         "layout": {
          "annotationdefaults": {
           "arrowcolor": "#2a3f5f",
           "arrowhead": 0,
           "arrowwidth": 1
          },
          "coloraxis": {
           "colorbar": {
            "outlinewidth": 0,
            "ticks": ""
           }
          },
          "colorscale": {
           "diverging": [
            [
             0,
             "#8e0152"
            ],
            [
             0.1,
             "#c51b7d"
            ],
            [
             0.2,
             "#de77ae"
            ],
            [
             0.3,
             "#f1b6da"
            ],
            [
             0.4,
             "#fde0ef"
            ],
            [
             0.5,
             "#f7f7f7"
            ],
            [
             0.6,
             "#e6f5d0"
            ],
            [
             0.7,
             "#b8e186"
            ],
            [
             0.8,
             "#7fbc41"
            ],
            [
             0.9,
             "#4d9221"
            ],
            [
             1,
             "#276419"
            ]
           ],
           "sequential": [
            [
             0,
             "#0d0887"
            ],
            [
             0.1111111111111111,
             "#46039f"
            ],
            [
             0.2222222222222222,
             "#7201a8"
            ],
            [
             0.3333333333333333,
             "#9c179e"
            ],
            [
             0.4444444444444444,
             "#bd3786"
            ],
            [
             0.5555555555555556,
             "#d8576b"
            ],
            [
             0.6666666666666666,
             "#ed7953"
            ],
            [
             0.7777777777777778,
             "#fb9f3a"
            ],
            [
             0.8888888888888888,
             "#fdca26"
            ],
            [
             1,
             "#f0f921"
            ]
           ],
           "sequentialminus": [
            [
             0,
             "#0d0887"
            ],
            [
             0.1111111111111111,
             "#46039f"
            ],
            [
             0.2222222222222222,
             "#7201a8"
            ],
            [
             0.3333333333333333,
             "#9c179e"
            ],
            [
             0.4444444444444444,
             "#bd3786"
            ],
            [
             0.5555555555555556,
             "#d8576b"
            ],
            [
             0.6666666666666666,
             "#ed7953"
            ],
            [
             0.7777777777777778,
             "#fb9f3a"
            ],
            [
             0.8888888888888888,
             "#fdca26"
            ],
            [
             1,
             "#f0f921"
            ]
           ]
          },
          "colorway": [
           "#636efa",
           "#EF553B",
           "#00cc96",
           "#ab63fa",
           "#FFA15A",
           "#19d3f3",
           "#FF6692",
           "#B6E880",
           "#FF97FF",
           "#FECB52"
          ],
          "font": {
           "color": "#2a3f5f"
          },
          "geo": {
           "bgcolor": "white",
           "lakecolor": "white",
           "landcolor": "#E5ECF6",
           "showlakes": true,
           "showland": true,
           "subunitcolor": "white"
          },
          "hoverlabel": {
           "align": "left"
          },
          "hovermode": "closest",
          "mapbox": {
           "style": "light"
          },
          "paper_bgcolor": "white",
          "plot_bgcolor": "#E5ECF6",
          "polar": {
           "angularaxis": {
            "gridcolor": "white",
            "linecolor": "white",
            "ticks": ""
           },
           "bgcolor": "#E5ECF6",
           "radialaxis": {
            "gridcolor": "white",
            "linecolor": "white",
            "ticks": ""
           }
          },
          "scene": {
           "xaxis": {
            "backgroundcolor": "#E5ECF6",
            "gridcolor": "white",
            "gridwidth": 2,
            "linecolor": "white",
            "showbackground": true,
            "ticks": "",
            "zerolinecolor": "white"
           },
           "yaxis": {
            "backgroundcolor": "#E5ECF6",
            "gridcolor": "white",
            "gridwidth": 2,
            "linecolor": "white",
            "showbackground": true,
            "ticks": "",
            "zerolinecolor": "white"
           },
           "zaxis": {
            "backgroundcolor": "#E5ECF6",
            "gridcolor": "white",
            "gridwidth": 2,
            "linecolor": "white",
            "showbackground": true,
            "ticks": "",
            "zerolinecolor": "white"
           }
          },
          "shapedefaults": {
           "line": {
            "color": "#2a3f5f"
           }
          },
          "ternary": {
           "aaxis": {
            "gridcolor": "white",
            "linecolor": "white",
            "ticks": ""
           },
           "baxis": {
            "gridcolor": "white",
            "linecolor": "white",
            "ticks": ""
           },
           "bgcolor": "#E5ECF6",
           "caxis": {
            "gridcolor": "white",
            "linecolor": "white",
            "ticks": ""
           }
          },
          "title": {
           "x": 0.05
          },
          "xaxis": {
           "automargin": true,
           "gridcolor": "white",
           "linecolor": "white",
           "ticks": "",
           "title": {
            "standoff": 15
           },
           "zerolinecolor": "white",
           "zerolinewidth": 2
          },
          "yaxis": {
           "automargin": true,
           "gridcolor": "white",
           "linecolor": "white",
           "ticks": "",
           "title": {
            "standoff": 15
           },
           "zerolinecolor": "white",
           "zerolinewidth": 2
          }
         }
        },
        "title": {
         "font": {
          "color": "#4D5663"
         }
        },
        "xaxis": {
         "gridcolor": "#E1E5ED",
         "showgrid": true,
         "tickfont": {
          "color": "#4D5663"
         },
         "title": {
          "font": {
           "color": "#4D5663"
          },
          "text": ""
         },
         "zerolinecolor": "#E1E5ED"
        },
        "yaxis": {
         "gridcolor": "#E1E5ED",
         "showgrid": true,
         "tickfont": {
          "color": "#4D5663"
         },
         "title": {
          "font": {
           "color": "#4D5663"
          },
          "text": ""
         },
         "zerolinecolor": "#E1E5ED"
        }
       }
      },
      "text/html": [
       "<div>                            <div id=\"c945ad90-d5e1-418e-a85f-b66d24abcc30\" class=\"plotly-graph-div\" style=\"height:525px; width:100%;\"></div>            <script type=\"text/javascript\">                require([\"plotly\"], function(Plotly) {                    window.PLOTLYENV=window.PLOTLYENV || {};\n",
       "                    window.PLOTLYENV.BASE_URL='https://plot.ly';                                    if (document.getElementById(\"c945ad90-d5e1-418e-a85f-b66d24abcc30\")) {                    Plotly.newPlot(                        \"c945ad90-d5e1-418e-a85f-b66d24abcc30\",                        [{\"line\": {\"color\": \"rgba(255, 153, 51, 1.0)\", \"dash\": \"solid\", \"shape\": \"linear\", \"width\": 1.3}, \"marker\": {\"size\": 10, \"symbol\": \"circle\"}, \"mode\": \"markers\", \"name\": \"B\", \"text\": \"\", \"type\": \"scatter\", \"x\": [-0.7017613191698328, 0.01679259812028604, 0.8925912413549707, -0.6668670618650194, -0.08966585714852059, -0.24458849205836947, -0.4022839095584551, 0.7369432460042893, -1.2494079912136582, -0.6401976385659033, 0.35695542238683164, -0.31573632031264465, -0.29246285955204526, -1.1497298652321202, -1.9829912112648982, 0.5098656704313177, 2.188181621409416, -1.8772696836014646, -0.4205418507884751, 0.30075831472836556, 0.2473020794475996, 1.0923057343868103, 2.214046009241756, 1.4336535784483952, 1.4496004076576658, -0.682315049522406, 1.598661713427201, 1.4227754396583445, -1.0553567255207785, -1.4467280078731937, 0.20179887245784411, 0.35903774873412975, -0.3555565196644582, 1.0761852720282128, -0.8916717438447009, -1.0601444174693633, 2.0819303347522395, -0.7167603005349762, -1.53530673446921, 1.9133948727068533, 1.0407153002753171, 1.4532560987038319, 0.013243946716610581, 0.07978980625508145, -0.7928520041366476, 0.9490485222915815, 0.6796773785389835, -0.5312708016279892, -0.42543554249806664, 0.10502509437704735, 1.6737017511277883, -1.8668727674163699, 0.22836886459639544, 1.218973217565057, 0.40212949895106903, 0.47944343085272584, 1.2304180606624848, 0.9922489862689469, 1.4686658229282794, 2.0143136536858615, -0.14595261041800572, -1.1518106457881085, -0.6742607596454501, -0.7520225160865858, -0.08264514311404035, -1.944206140200247, -0.8218453602495646, -0.9346787373246029, -0.22471916393044564, -1.0780813137475604, 1.0931423702001777, 0.1110246057804523, 0.45843380751609986, -1.1479604243030028, 0.06401934841743986, -0.40936004108937313, -2.475032937690778, -0.5798847812432872, 0.14760048032172526, -1.4746689176623073, -0.8130010946296682, 0.8174795080559044, 1.2400992521174226, -1.1738531185743155, 0.14683153608009747, -1.08192782694488, 0.23943436417174233, -1.8361135319933861, 0.4890161330117654, 1.6763408612708235, 0.140950911004665, -0.34898665268627543, 0.9774154607000615, 1.4071048918097957, 0.9928899978366662, 0.47473909400514425, -1.0159736244406523, -1.2328148128058634, 1.5251809494141184, 0.9749457059105875], \"y\": [1.096107160913988, -0.9737302345058281, -0.7250110916221839, 0.7674488710153434, -0.5886541668788527, -1.0622784516157855, -1.2238707436028022, 0.5253344718323851, -1.2878683268608349, -0.29911395934561635, 0.3228157242692437, -1.3772019647253797, 0.8422799608523274, 0.46673940511242085, -1.9024107187745396, 0.155657667140865, -0.7071356823154644, 1.2253160474108702, -0.2882825609357239, 0.36254222065700026, -1.1010538416552, 1.492275113314927, -0.8466546929147944, -1.407165100389169, 1.5632998286714186, -1.844746282810375, 0.15876902191918163, -1.5707713349068917, -0.8912945042064594, -1.1888331358388045, -0.27504992184297344, 0.7719987193746825, 1.0204442420513675, -0.8759967579455494, 0.315369460523939, -0.21239405545229284, -0.6288758205361382, -1.107447520892792, -0.2747002480687447, -0.4878952806445132, 0.45536338144084904, -0.06056216817983006, 0.9155766888351832, 0.3225396215491934, 1.336825319564932, -0.37695618372560696, 0.6325172658764953, 0.26144100072357696, -0.9176232114780261, -1.208512843841877, -0.1316287517068255, 0.8046785617875465, -0.5298092909996793, -0.37895398463692803, -0.05015310836103133, 1.8473860712933061, 1.5828731768120015, -0.8313732498063346, 1.56577510300552, -0.09835768242436443, -0.388099432966121, 0.9213329848355416, -2.348329762291072, -0.3698905589364241, -1.3494687348772076, 1.3037780678011601, 2.417803512990605, 0.29235264572616937, -0.8885381405600554, 1.298273421113763, -0.3243102006073436, 1.7694595161130415, 1.1645387332927113, 0.6288572400159901, -0.4527526189306913, 1.9960678439093071, -0.041270654120210824, 1.2496205442177806, -0.8840401546835186, 0.8183218519596385, -2.0264573504660435, -0.4060040927237812, 0.4729778895675059, -1.018633095188232, -0.29007097710175345, -0.06404339828919584, -2.1361917322659645, 0.2609275108959407, 0.8218707805270796, 0.9456373949586805, 0.8181515489793115, -1.4850632655046452, 0.811063068792345, -0.31666137234541136, 1.2786160004896594, 0.8786720744927401, 0.3944281417496477, 0.22966085439033096, 0.1673512133000957, -0.35535519018683315]}],                        {\"legend\": {\"bgcolor\": \"#F5F6F9\", \"font\": {\"color\": \"#4D5663\"}}, \"paper_bgcolor\": \"#F5F6F9\", \"plot_bgcolor\": \"#F5F6F9\", \"template\": {\"data\": {\"bar\": [{\"error_x\": {\"color\": \"#2a3f5f\"}, \"error_y\": {\"color\": \"#2a3f5f\"}, \"marker\": {\"line\": {\"color\": \"#E5ECF6\", \"width\": 0.5}}, \"type\": \"bar\"}], \"barpolar\": [{\"marker\": {\"line\": {\"color\": \"#E5ECF6\", \"width\": 0.5}}, \"type\": \"barpolar\"}], \"carpet\": [{\"aaxis\": {\"endlinecolor\": \"#2a3f5f\", \"gridcolor\": \"white\", \"linecolor\": \"white\", \"minorgridcolor\": \"white\", \"startlinecolor\": \"#2a3f5f\"}, \"baxis\": {\"endlinecolor\": \"#2a3f5f\", \"gridcolor\": \"white\", \"linecolor\": \"white\", \"minorgridcolor\": \"white\", \"startlinecolor\": \"#2a3f5f\"}, \"type\": \"carpet\"}], \"choropleth\": [{\"colorbar\": {\"outlinewidth\": 0, \"ticks\": \"\"}, \"type\": \"choropleth\"}], \"contour\": [{\"colorbar\": {\"outlinewidth\": 0, \"ticks\": \"\"}, \"colorscale\": [[0.0, \"#0d0887\"], [0.1111111111111111, \"#46039f\"], [0.2222222222222222, \"#7201a8\"], [0.3333333333333333, \"#9c179e\"], [0.4444444444444444, \"#bd3786\"], [0.5555555555555556, \"#d8576b\"], [0.6666666666666666, \"#ed7953\"], [0.7777777777777778, \"#fb9f3a\"], [0.8888888888888888, \"#fdca26\"], [1.0, \"#f0f921\"]], \"type\": \"contour\"}], \"contourcarpet\": [{\"colorbar\": {\"outlinewidth\": 0, \"ticks\": \"\"}, \"type\": \"contourcarpet\"}], \"heatmap\": [{\"colorbar\": {\"outlinewidth\": 0, \"ticks\": \"\"}, \"colorscale\": [[0.0, \"#0d0887\"], [0.1111111111111111, \"#46039f\"], [0.2222222222222222, \"#7201a8\"], [0.3333333333333333, \"#9c179e\"], [0.4444444444444444, \"#bd3786\"], [0.5555555555555556, \"#d8576b\"], [0.6666666666666666, \"#ed7953\"], [0.7777777777777778, \"#fb9f3a\"], [0.8888888888888888, \"#fdca26\"], [1.0, \"#f0f921\"]], \"type\": \"heatmap\"}], \"heatmapgl\": [{\"colorbar\": {\"outlinewidth\": 0, \"ticks\": \"\"}, \"colorscale\": [[0.0, \"#0d0887\"], [0.1111111111111111, \"#46039f\"], [0.2222222222222222, \"#7201a8\"], [0.3333333333333333, \"#9c179e\"], [0.4444444444444444, \"#bd3786\"], [0.5555555555555556, \"#d8576b\"], [0.6666666666666666, \"#ed7953\"], [0.7777777777777778, \"#fb9f3a\"], [0.8888888888888888, \"#fdca26\"], [1.0, \"#f0f921\"]], \"type\": \"heatmapgl\"}], \"histogram\": [{\"marker\": {\"colorbar\": {\"outlinewidth\": 0, \"ticks\": \"\"}}, \"type\": \"histogram\"}], \"histogram2d\": [{\"colorbar\": {\"outlinewidth\": 0, \"ticks\": \"\"}, \"colorscale\": [[0.0, \"#0d0887\"], [0.1111111111111111, \"#46039f\"], [0.2222222222222222, \"#7201a8\"], [0.3333333333333333, \"#9c179e\"], [0.4444444444444444, \"#bd3786\"], [0.5555555555555556, \"#d8576b\"], [0.6666666666666666, \"#ed7953\"], [0.7777777777777778, \"#fb9f3a\"], [0.8888888888888888, \"#fdca26\"], [1.0, \"#f0f921\"]], \"type\": \"histogram2d\"}], \"histogram2dcontour\": [{\"colorbar\": {\"outlinewidth\": 0, \"ticks\": \"\"}, \"colorscale\": [[0.0, \"#0d0887\"], [0.1111111111111111, \"#46039f\"], [0.2222222222222222, \"#7201a8\"], [0.3333333333333333, \"#9c179e\"], [0.4444444444444444, \"#bd3786\"], [0.5555555555555556, \"#d8576b\"], [0.6666666666666666, \"#ed7953\"], [0.7777777777777778, \"#fb9f3a\"], [0.8888888888888888, \"#fdca26\"], [1.0, \"#f0f921\"]], \"type\": \"histogram2dcontour\"}], \"mesh3d\": [{\"colorbar\": {\"outlinewidth\": 0, \"ticks\": \"\"}, \"type\": \"mesh3d\"}], \"parcoords\": [{\"line\": {\"colorbar\": {\"outlinewidth\": 0, \"ticks\": \"\"}}, \"type\": \"parcoords\"}], \"pie\": [{\"automargin\": true, \"type\": \"pie\"}], \"scatter\": [{\"marker\": {\"colorbar\": {\"outlinewidth\": 0, \"ticks\": \"\"}}, \"type\": \"scatter\"}], \"scatter3d\": [{\"line\": {\"colorbar\": {\"outlinewidth\": 0, \"ticks\": \"\"}}, \"marker\": {\"colorbar\": {\"outlinewidth\": 0, \"ticks\": \"\"}}, \"type\": \"scatter3d\"}], \"scattercarpet\": [{\"marker\": {\"colorbar\": {\"outlinewidth\": 0, \"ticks\": \"\"}}, \"type\": \"scattercarpet\"}], \"scattergeo\": [{\"marker\": {\"colorbar\": {\"outlinewidth\": 0, \"ticks\": \"\"}}, \"type\": \"scattergeo\"}], \"scattergl\": [{\"marker\": {\"colorbar\": {\"outlinewidth\": 0, \"ticks\": \"\"}}, \"type\": \"scattergl\"}], \"scattermapbox\": [{\"marker\": {\"colorbar\": {\"outlinewidth\": 0, \"ticks\": \"\"}}, \"type\": \"scattermapbox\"}], \"scatterpolar\": [{\"marker\": {\"colorbar\": {\"outlinewidth\": 0, \"ticks\": \"\"}}, \"type\": \"scatterpolar\"}], \"scatterpolargl\": [{\"marker\": {\"colorbar\": {\"outlinewidth\": 0, \"ticks\": \"\"}}, \"type\": \"scatterpolargl\"}], \"scatterternary\": [{\"marker\": {\"colorbar\": {\"outlinewidth\": 0, \"ticks\": \"\"}}, \"type\": \"scatterternary\"}], \"surface\": [{\"colorbar\": {\"outlinewidth\": 0, \"ticks\": \"\"}, \"colorscale\": [[0.0, \"#0d0887\"], [0.1111111111111111, \"#46039f\"], [0.2222222222222222, \"#7201a8\"], [0.3333333333333333, \"#9c179e\"], [0.4444444444444444, \"#bd3786\"], [0.5555555555555556, \"#d8576b\"], [0.6666666666666666, \"#ed7953\"], [0.7777777777777778, \"#fb9f3a\"], [0.8888888888888888, \"#fdca26\"], [1.0, \"#f0f921\"]], \"type\": \"surface\"}], \"table\": [{\"cells\": {\"fill\": {\"color\": \"#EBF0F8\"}, \"line\": {\"color\": \"white\"}}, \"header\": {\"fill\": {\"color\": \"#C8D4E3\"}, \"line\": {\"color\": \"white\"}}, \"type\": \"table\"}]}, \"layout\": {\"annotationdefaults\": {\"arrowcolor\": \"#2a3f5f\", \"arrowhead\": 0, \"arrowwidth\": 1}, \"coloraxis\": {\"colorbar\": {\"outlinewidth\": 0, \"ticks\": \"\"}}, \"colorscale\": {\"diverging\": [[0, \"#8e0152\"], [0.1, \"#c51b7d\"], [0.2, \"#de77ae\"], [0.3, \"#f1b6da\"], [0.4, \"#fde0ef\"], [0.5, \"#f7f7f7\"], [0.6, \"#e6f5d0\"], [0.7, \"#b8e186\"], [0.8, \"#7fbc41\"], [0.9, \"#4d9221\"], [1, \"#276419\"]], \"sequential\": [[0.0, \"#0d0887\"], [0.1111111111111111, \"#46039f\"], [0.2222222222222222, \"#7201a8\"], [0.3333333333333333, \"#9c179e\"], [0.4444444444444444, \"#bd3786\"], [0.5555555555555556, \"#d8576b\"], [0.6666666666666666, \"#ed7953\"], [0.7777777777777778, \"#fb9f3a\"], [0.8888888888888888, \"#fdca26\"], [1.0, \"#f0f921\"]], \"sequentialminus\": [[0.0, \"#0d0887\"], [0.1111111111111111, \"#46039f\"], [0.2222222222222222, \"#7201a8\"], [0.3333333333333333, \"#9c179e\"], [0.4444444444444444, \"#bd3786\"], [0.5555555555555556, \"#d8576b\"], [0.6666666666666666, \"#ed7953\"], [0.7777777777777778, \"#fb9f3a\"], [0.8888888888888888, \"#fdca26\"], [1.0, \"#f0f921\"]]}, \"colorway\": [\"#636efa\", \"#EF553B\", \"#00cc96\", \"#ab63fa\", \"#FFA15A\", \"#19d3f3\", \"#FF6692\", \"#B6E880\", \"#FF97FF\", \"#FECB52\"], \"font\": {\"color\": \"#2a3f5f\"}, \"geo\": {\"bgcolor\": \"white\", \"lakecolor\": \"white\", \"landcolor\": \"#E5ECF6\", \"showlakes\": true, \"showland\": true, \"subunitcolor\": \"white\"}, \"hoverlabel\": {\"align\": \"left\"}, \"hovermode\": \"closest\", \"mapbox\": {\"style\": \"light\"}, \"paper_bgcolor\": \"white\", \"plot_bgcolor\": \"#E5ECF6\", \"polar\": {\"angularaxis\": {\"gridcolor\": \"white\", \"linecolor\": \"white\", \"ticks\": \"\"}, \"bgcolor\": \"#E5ECF6\", \"radialaxis\": {\"gridcolor\": \"white\", \"linecolor\": \"white\", \"ticks\": \"\"}}, \"scene\": {\"xaxis\": {\"backgroundcolor\": \"#E5ECF6\", \"gridcolor\": \"white\", \"gridwidth\": 2, \"linecolor\": \"white\", \"showbackground\": true, \"ticks\": \"\", \"zerolinecolor\": \"white\"}, \"yaxis\": {\"backgroundcolor\": \"#E5ECF6\", \"gridcolor\": \"white\", \"gridwidth\": 2, \"linecolor\": \"white\", \"showbackground\": true, \"ticks\": \"\", \"zerolinecolor\": \"white\"}, \"zaxis\": {\"backgroundcolor\": \"#E5ECF6\", \"gridcolor\": \"white\", \"gridwidth\": 2, \"linecolor\": \"white\", \"showbackground\": true, \"ticks\": \"\", \"zerolinecolor\": \"white\"}}, \"shapedefaults\": {\"line\": {\"color\": \"#2a3f5f\"}}, \"ternary\": {\"aaxis\": {\"gridcolor\": \"white\", \"linecolor\": \"white\", \"ticks\": \"\"}, \"baxis\": {\"gridcolor\": \"white\", \"linecolor\": \"white\", \"ticks\": \"\"}, \"bgcolor\": \"#E5ECF6\", \"caxis\": {\"gridcolor\": \"white\", \"linecolor\": \"white\", \"ticks\": \"\"}}, \"title\": {\"x\": 0.05}, \"xaxis\": {\"automargin\": true, \"gridcolor\": \"white\", \"linecolor\": \"white\", \"ticks\": \"\", \"title\": {\"standoff\": 15}, \"zerolinecolor\": \"white\", \"zerolinewidth\": 2}, \"yaxis\": {\"automargin\": true, \"gridcolor\": \"white\", \"linecolor\": \"white\", \"ticks\": \"\", \"title\": {\"standoff\": 15}, \"zerolinecolor\": \"white\", \"zerolinewidth\": 2}}}, \"title\": {\"font\": {\"color\": \"#4D5663\"}}, \"xaxis\": {\"gridcolor\": \"#E1E5ED\", \"showgrid\": true, \"tickfont\": {\"color\": \"#4D5663\"}, \"title\": {\"font\": {\"color\": \"#4D5663\"}, \"text\": \"\"}, \"zerolinecolor\": \"#E1E5ED\"}, \"yaxis\": {\"gridcolor\": \"#E1E5ED\", \"showgrid\": true, \"tickfont\": {\"color\": \"#4D5663\"}, \"title\": {\"font\": {\"color\": \"#4D5663\"}, \"text\": \"\"}, \"zerolinecolor\": \"#E1E5ED\"}},                        {\"showLink\": true, \"linkText\": \"Export to plot.ly\", \"plotlyServerURL\": \"https://plot.ly\", \"responsive\": true}                    ).then(function(){\n",
       "                            \n",
       "var gd = document.getElementById('c945ad90-d5e1-418e-a85f-b66d24abcc30');\n",
       "var x = new MutationObserver(function (mutations, observer) {{\n",
       "        var display = window.getComputedStyle(gd).display;\n",
       "        if (!display || display === 'none') {{\n",
       "            console.log([gd, 'removed!']);\n",
       "            Plotly.purge(gd);\n",
       "            observer.disconnect();\n",
       "        }}\n",
       "}});\n",
       "\n",
       "// Listen for the removal of the full notebook cells\n",
       "var notebookContainer = gd.closest('#notebook-container');\n",
       "if (notebookContainer) {{\n",
       "    x.observe(notebookContainer, {childList: true});\n",
       "}}\n",
       "\n",
       "// Listen for the clearing of the current output cell\n",
       "var outputEl = gd.closest('.output');\n",
       "if (outputEl) {{\n",
       "    x.observe(outputEl, {childList: true});\n",
       "}}\n",
       "\n",
       "                        })                };                });            </script>        </div>"
      ]
     },
     "metadata": {},
     "output_type": "display_data"
    }
   ],
   "source": [
    "df.iplot(kind='scatter',x='A',y='B',mode='markers',size=10)"
   ]
  },
  {
   "cell_type": "markdown",
   "metadata": {},
   "source": [
    "## Bar Plots"
   ]
  },
  {
   "cell_type": "code",
   "execution_count": 12,
   "metadata": {},
   "outputs": [
    {
     "data": {
      "application/vnd.plotly.v1+json": {
       "config": {
        "linkText": "Export to plot.ly",
        "plotlyServerURL": "https://plot.ly",
        "showLink": true
       },
       "data": [
        {
         "marker": {
          "color": "rgba(255, 153, 51, 0.6)",
          "line": {
           "color": "rgba(255, 153, 51, 1.0)",
           "width": 1
          }
         },
         "name": "Values",
         "orientation": "v",
         "text": "",
         "type": "bar",
         "x": [
          "A",
          "B",
          "C"
         ],
         "y": [
          32,
          43,
          50
         ]
        }
       ],
       "layout": {
        "legend": {
         "bgcolor": "#F5F6F9",
         "font": {
          "color": "#4D5663"
         }
        },
        "paper_bgcolor": "#F5F6F9",
        "plot_bgcolor": "#F5F6F9",
        "template": {
         "data": {
          "bar": [
           {
            "error_x": {
             "color": "#2a3f5f"
            },
            "error_y": {
             "color": "#2a3f5f"
            },
            "marker": {
             "line": {
              "color": "#E5ECF6",
              "width": 0.5
             }
            },
            "type": "bar"
           }
          ],
          "barpolar": [
           {
            "marker": {
             "line": {
              "color": "#E5ECF6",
              "width": 0.5
             }
            },
            "type": "barpolar"
           }
          ],
          "carpet": [
           {
            "aaxis": {
             "endlinecolor": "#2a3f5f",
             "gridcolor": "white",
             "linecolor": "white",
             "minorgridcolor": "white",
             "startlinecolor": "#2a3f5f"
            },
            "baxis": {
             "endlinecolor": "#2a3f5f",
             "gridcolor": "white",
             "linecolor": "white",
             "minorgridcolor": "white",
             "startlinecolor": "#2a3f5f"
            },
            "type": "carpet"
           }
          ],
          "choropleth": [
           {
            "colorbar": {
             "outlinewidth": 0,
             "ticks": ""
            },
            "type": "choropleth"
           }
          ],
          "contour": [
           {
            "colorbar": {
             "outlinewidth": 0,
             "ticks": ""
            },
            "colorscale": [
             [
              0,
              "#0d0887"
             ],
             [
              0.1111111111111111,
              "#46039f"
             ],
             [
              0.2222222222222222,
              "#7201a8"
             ],
             [
              0.3333333333333333,
              "#9c179e"
             ],
             [
              0.4444444444444444,
              "#bd3786"
             ],
             [
              0.5555555555555556,
              "#d8576b"
             ],
             [
              0.6666666666666666,
              "#ed7953"
             ],
             [
              0.7777777777777778,
              "#fb9f3a"
             ],
             [
              0.8888888888888888,
              "#fdca26"
             ],
             [
              1,
              "#f0f921"
             ]
            ],
            "type": "contour"
           }
          ],
          "contourcarpet": [
           {
            "colorbar": {
             "outlinewidth": 0,
             "ticks": ""
            },
            "type": "contourcarpet"
           }
          ],
          "heatmap": [
           {
            "colorbar": {
             "outlinewidth": 0,
             "ticks": ""
            },
            "colorscale": [
             [
              0,
              "#0d0887"
             ],
             [
              0.1111111111111111,
              "#46039f"
             ],
             [
              0.2222222222222222,
              "#7201a8"
             ],
             [
              0.3333333333333333,
              "#9c179e"
             ],
             [
              0.4444444444444444,
              "#bd3786"
             ],
             [
              0.5555555555555556,
              "#d8576b"
             ],
             [
              0.6666666666666666,
              "#ed7953"
             ],
             [
              0.7777777777777778,
              "#fb9f3a"
             ],
             [
              0.8888888888888888,
              "#fdca26"
             ],
             [
              1,
              "#f0f921"
             ]
            ],
            "type": "heatmap"
           }
          ],
          "heatmapgl": [
           {
            "colorbar": {
             "outlinewidth": 0,
             "ticks": ""
            },
            "colorscale": [
             [
              0,
              "#0d0887"
             ],
             [
              0.1111111111111111,
              "#46039f"
             ],
             [
              0.2222222222222222,
              "#7201a8"
             ],
             [
              0.3333333333333333,
              "#9c179e"
             ],
             [
              0.4444444444444444,
              "#bd3786"
             ],
             [
              0.5555555555555556,
              "#d8576b"
             ],
             [
              0.6666666666666666,
              "#ed7953"
             ],
             [
              0.7777777777777778,
              "#fb9f3a"
             ],
             [
              0.8888888888888888,
              "#fdca26"
             ],
             [
              1,
              "#f0f921"
             ]
            ],
            "type": "heatmapgl"
           }
          ],
          "histogram": [
           {
            "marker": {
             "colorbar": {
              "outlinewidth": 0,
              "ticks": ""
             }
            },
            "type": "histogram"
           }
          ],
          "histogram2d": [
           {
            "colorbar": {
             "outlinewidth": 0,
             "ticks": ""
            },
            "colorscale": [
             [
              0,
              "#0d0887"
             ],
             [
              0.1111111111111111,
              "#46039f"
             ],
             [
              0.2222222222222222,
              "#7201a8"
             ],
             [
              0.3333333333333333,
              "#9c179e"
             ],
             [
              0.4444444444444444,
              "#bd3786"
             ],
             [
              0.5555555555555556,
              "#d8576b"
             ],
             [
              0.6666666666666666,
              "#ed7953"
             ],
             [
              0.7777777777777778,
              "#fb9f3a"
             ],
             [
              0.8888888888888888,
              "#fdca26"
             ],
             [
              1,
              "#f0f921"
             ]
            ],
            "type": "histogram2d"
           }
          ],
          "histogram2dcontour": [
           {
            "colorbar": {
             "outlinewidth": 0,
             "ticks": ""
            },
            "colorscale": [
             [
              0,
              "#0d0887"
             ],
             [
              0.1111111111111111,
              "#46039f"
             ],
             [
              0.2222222222222222,
              "#7201a8"
             ],
             [
              0.3333333333333333,
              "#9c179e"
             ],
             [
              0.4444444444444444,
              "#bd3786"
             ],
             [
              0.5555555555555556,
              "#d8576b"
             ],
             [
              0.6666666666666666,
              "#ed7953"
             ],
             [
              0.7777777777777778,
              "#fb9f3a"
             ],
             [
              0.8888888888888888,
              "#fdca26"
             ],
             [
              1,
              "#f0f921"
             ]
            ],
            "type": "histogram2dcontour"
           }
          ],
          "mesh3d": [
           {
            "colorbar": {
             "outlinewidth": 0,
             "ticks": ""
            },
            "type": "mesh3d"
           }
          ],
          "parcoords": [
           {
            "line": {
             "colorbar": {
              "outlinewidth": 0,
              "ticks": ""
             }
            },
            "type": "parcoords"
           }
          ],
          "pie": [
           {
            "automargin": true,
            "type": "pie"
           }
          ],
          "scatter": [
           {
            "marker": {
             "colorbar": {
              "outlinewidth": 0,
              "ticks": ""
             }
            },
            "type": "scatter"
           }
          ],
          "scatter3d": [
           {
            "line": {
             "colorbar": {
              "outlinewidth": 0,
              "ticks": ""
             }
            },
            "marker": {
             "colorbar": {
              "outlinewidth": 0,
              "ticks": ""
             }
            },
            "type": "scatter3d"
           }
          ],
          "scattercarpet": [
           {
            "marker": {
             "colorbar": {
              "outlinewidth": 0,
              "ticks": ""
             }
            },
            "type": "scattercarpet"
           }
          ],
          "scattergeo": [
           {
            "marker": {
             "colorbar": {
              "outlinewidth": 0,
              "ticks": ""
             }
            },
            "type": "scattergeo"
           }
          ],
          "scattergl": [
           {
            "marker": {
             "colorbar": {
              "outlinewidth": 0,
              "ticks": ""
             }
            },
            "type": "scattergl"
           }
          ],
          "scattermapbox": [
           {
            "marker": {
             "colorbar": {
              "outlinewidth": 0,
              "ticks": ""
             }
            },
            "type": "scattermapbox"
           }
          ],
          "scatterpolar": [
           {
            "marker": {
             "colorbar": {
              "outlinewidth": 0,
              "ticks": ""
             }
            },
            "type": "scatterpolar"
           }
          ],
          "scatterpolargl": [
           {
            "marker": {
             "colorbar": {
              "outlinewidth": 0,
              "ticks": ""
             }
            },
            "type": "scatterpolargl"
           }
          ],
          "scatterternary": [
           {
            "marker": {
             "colorbar": {
              "outlinewidth": 0,
              "ticks": ""
             }
            },
            "type": "scatterternary"
           }
          ],
          "surface": [
           {
            "colorbar": {
             "outlinewidth": 0,
             "ticks": ""
            },
            "colorscale": [
             [
              0,
              "#0d0887"
             ],
             [
              0.1111111111111111,
              "#46039f"
             ],
             [
              0.2222222222222222,
              "#7201a8"
             ],
             [
              0.3333333333333333,
              "#9c179e"
             ],
             [
              0.4444444444444444,
              "#bd3786"
             ],
             [
              0.5555555555555556,
              "#d8576b"
             ],
             [
              0.6666666666666666,
              "#ed7953"
             ],
             [
              0.7777777777777778,
              "#fb9f3a"
             ],
             [
              0.8888888888888888,
              "#fdca26"
             ],
             [
              1,
              "#f0f921"
             ]
            ],
            "type": "surface"
           }
          ],
          "table": [
           {
            "cells": {
             "fill": {
              "color": "#EBF0F8"
             },
             "line": {
              "color": "white"
             }
            },
            "header": {
             "fill": {
              "color": "#C8D4E3"
             },
             "line": {
              "color": "white"
             }
            },
            "type": "table"
           }
          ]
         },
         "layout": {
          "annotationdefaults": {
           "arrowcolor": "#2a3f5f",
           "arrowhead": 0,
           "arrowwidth": 1
          },
          "coloraxis": {
           "colorbar": {
            "outlinewidth": 0,
            "ticks": ""
           }
          },
          "colorscale": {
           "diverging": [
            [
             0,
             "#8e0152"
            ],
            [
             0.1,
             "#c51b7d"
            ],
            [
             0.2,
             "#de77ae"
            ],
            [
             0.3,
             "#f1b6da"
            ],
            [
             0.4,
             "#fde0ef"
            ],
            [
             0.5,
             "#f7f7f7"
            ],
            [
             0.6,
             "#e6f5d0"
            ],
            [
             0.7,
             "#b8e186"
            ],
            [
             0.8,
             "#7fbc41"
            ],
            [
             0.9,
             "#4d9221"
            ],
            [
             1,
             "#276419"
            ]
           ],
           "sequential": [
            [
             0,
             "#0d0887"
            ],
            [
             0.1111111111111111,
             "#46039f"
            ],
            [
             0.2222222222222222,
             "#7201a8"
            ],
            [
             0.3333333333333333,
             "#9c179e"
            ],
            [
             0.4444444444444444,
             "#bd3786"
            ],
            [
             0.5555555555555556,
             "#d8576b"
            ],
            [
             0.6666666666666666,
             "#ed7953"
            ],
            [
             0.7777777777777778,
             "#fb9f3a"
            ],
            [
             0.8888888888888888,
             "#fdca26"
            ],
            [
             1,
             "#f0f921"
            ]
           ],
           "sequentialminus": [
            [
             0,
             "#0d0887"
            ],
            [
             0.1111111111111111,
             "#46039f"
            ],
            [
             0.2222222222222222,
             "#7201a8"
            ],
            [
             0.3333333333333333,
             "#9c179e"
            ],
            [
             0.4444444444444444,
             "#bd3786"
            ],
            [
             0.5555555555555556,
             "#d8576b"
            ],
            [
             0.6666666666666666,
             "#ed7953"
            ],
            [
             0.7777777777777778,
             "#fb9f3a"
            ],
            [
             0.8888888888888888,
             "#fdca26"
            ],
            [
             1,
             "#f0f921"
            ]
           ]
          },
          "colorway": [
           "#636efa",
           "#EF553B",
           "#00cc96",
           "#ab63fa",
           "#FFA15A",
           "#19d3f3",
           "#FF6692",
           "#B6E880",
           "#FF97FF",
           "#FECB52"
          ],
          "font": {
           "color": "#2a3f5f"
          },
          "geo": {
           "bgcolor": "white",
           "lakecolor": "white",
           "landcolor": "#E5ECF6",
           "showlakes": true,
           "showland": true,
           "subunitcolor": "white"
          },
          "hoverlabel": {
           "align": "left"
          },
          "hovermode": "closest",
          "mapbox": {
           "style": "light"
          },
          "paper_bgcolor": "white",
          "plot_bgcolor": "#E5ECF6",
          "polar": {
           "angularaxis": {
            "gridcolor": "white",
            "linecolor": "white",
            "ticks": ""
           },
           "bgcolor": "#E5ECF6",
           "radialaxis": {
            "gridcolor": "white",
            "linecolor": "white",
            "ticks": ""
           }
          },
          "scene": {
           "xaxis": {
            "backgroundcolor": "#E5ECF6",
            "gridcolor": "white",
            "gridwidth": 2,
            "linecolor": "white",
            "showbackground": true,
            "ticks": "",
            "zerolinecolor": "white"
           },
           "yaxis": {
            "backgroundcolor": "#E5ECF6",
            "gridcolor": "white",
            "gridwidth": 2,
            "linecolor": "white",
            "showbackground": true,
            "ticks": "",
            "zerolinecolor": "white"
           },
           "zaxis": {
            "backgroundcolor": "#E5ECF6",
            "gridcolor": "white",
            "gridwidth": 2,
            "linecolor": "white",
            "showbackground": true,
            "ticks": "",
            "zerolinecolor": "white"
           }
          },
          "shapedefaults": {
           "line": {
            "color": "#2a3f5f"
           }
          },
          "ternary": {
           "aaxis": {
            "gridcolor": "white",
            "linecolor": "white",
            "ticks": ""
           },
           "baxis": {
            "gridcolor": "white",
            "linecolor": "white",
            "ticks": ""
           },
           "bgcolor": "#E5ECF6",
           "caxis": {
            "gridcolor": "white",
            "linecolor": "white",
            "ticks": ""
           }
          },
          "title": {
           "x": 0.05
          },
          "xaxis": {
           "automargin": true,
           "gridcolor": "white",
           "linecolor": "white",
           "ticks": "",
           "title": {
            "standoff": 15
           },
           "zerolinecolor": "white",
           "zerolinewidth": 2
          },
          "yaxis": {
           "automargin": true,
           "gridcolor": "white",
           "linecolor": "white",
           "ticks": "",
           "title": {
            "standoff": 15
           },
           "zerolinecolor": "white",
           "zerolinewidth": 2
          }
         }
        },
        "title": {
         "font": {
          "color": "#4D5663"
         }
        },
        "xaxis": {
         "gridcolor": "#E1E5ED",
         "showgrid": true,
         "tickfont": {
          "color": "#4D5663"
         },
         "title": {
          "font": {
           "color": "#4D5663"
          },
          "text": ""
         },
         "zerolinecolor": "#E1E5ED"
        },
        "yaxis": {
         "gridcolor": "#E1E5ED",
         "showgrid": true,
         "tickfont": {
          "color": "#4D5663"
         },
         "title": {
          "font": {
           "color": "#4D5663"
          },
          "text": ""
         },
         "zerolinecolor": "#E1E5ED"
        }
       }
      },
      "text/html": [
       "<div>                            <div id=\"5cb26311-d976-4ef5-a0f6-a9390c66ce48\" class=\"plotly-graph-div\" style=\"height:525px; width:100%;\"></div>            <script type=\"text/javascript\">                require([\"plotly\"], function(Plotly) {                    window.PLOTLYENV=window.PLOTLYENV || {};\n",
       "                    window.PLOTLYENV.BASE_URL='https://plot.ly';                                    if (document.getElementById(\"5cb26311-d976-4ef5-a0f6-a9390c66ce48\")) {                    Plotly.newPlot(                        \"5cb26311-d976-4ef5-a0f6-a9390c66ce48\",                        [{\"marker\": {\"color\": \"rgba(255, 153, 51, 0.6)\", \"line\": {\"color\": \"rgba(255, 153, 51, 1.0)\", \"width\": 1}}, \"name\": \"Values\", \"orientation\": \"v\", \"text\": \"\", \"type\": \"bar\", \"x\": [\"A\", \"B\", \"C\"], \"y\": [32, 43, 50]}],                        {\"legend\": {\"bgcolor\": \"#F5F6F9\", \"font\": {\"color\": \"#4D5663\"}}, \"paper_bgcolor\": \"#F5F6F9\", \"plot_bgcolor\": \"#F5F6F9\", \"template\": {\"data\": {\"bar\": [{\"error_x\": {\"color\": \"#2a3f5f\"}, \"error_y\": {\"color\": \"#2a3f5f\"}, \"marker\": {\"line\": {\"color\": \"#E5ECF6\", \"width\": 0.5}}, \"type\": \"bar\"}], \"barpolar\": [{\"marker\": {\"line\": {\"color\": \"#E5ECF6\", \"width\": 0.5}}, \"type\": \"barpolar\"}], \"carpet\": [{\"aaxis\": {\"endlinecolor\": \"#2a3f5f\", \"gridcolor\": \"white\", \"linecolor\": \"white\", \"minorgridcolor\": \"white\", \"startlinecolor\": \"#2a3f5f\"}, \"baxis\": {\"endlinecolor\": \"#2a3f5f\", \"gridcolor\": \"white\", \"linecolor\": \"white\", \"minorgridcolor\": \"white\", \"startlinecolor\": \"#2a3f5f\"}, \"type\": \"carpet\"}], \"choropleth\": [{\"colorbar\": {\"outlinewidth\": 0, \"ticks\": \"\"}, \"type\": \"choropleth\"}], \"contour\": [{\"colorbar\": {\"outlinewidth\": 0, \"ticks\": \"\"}, \"colorscale\": [[0.0, \"#0d0887\"], [0.1111111111111111, \"#46039f\"], [0.2222222222222222, \"#7201a8\"], [0.3333333333333333, \"#9c179e\"], [0.4444444444444444, \"#bd3786\"], [0.5555555555555556, \"#d8576b\"], [0.6666666666666666, \"#ed7953\"], [0.7777777777777778, \"#fb9f3a\"], [0.8888888888888888, \"#fdca26\"], [1.0, \"#f0f921\"]], \"type\": \"contour\"}], \"contourcarpet\": [{\"colorbar\": {\"outlinewidth\": 0, \"ticks\": \"\"}, \"type\": \"contourcarpet\"}], \"heatmap\": [{\"colorbar\": {\"outlinewidth\": 0, \"ticks\": \"\"}, \"colorscale\": [[0.0, \"#0d0887\"], [0.1111111111111111, \"#46039f\"], [0.2222222222222222, \"#7201a8\"], [0.3333333333333333, \"#9c179e\"], [0.4444444444444444, \"#bd3786\"], [0.5555555555555556, \"#d8576b\"], [0.6666666666666666, \"#ed7953\"], [0.7777777777777778, \"#fb9f3a\"], [0.8888888888888888, \"#fdca26\"], [1.0, \"#f0f921\"]], \"type\": \"heatmap\"}], \"heatmapgl\": [{\"colorbar\": {\"outlinewidth\": 0, \"ticks\": \"\"}, \"colorscale\": [[0.0, \"#0d0887\"], [0.1111111111111111, \"#46039f\"], [0.2222222222222222, \"#7201a8\"], [0.3333333333333333, \"#9c179e\"], [0.4444444444444444, \"#bd3786\"], [0.5555555555555556, \"#d8576b\"], [0.6666666666666666, \"#ed7953\"], [0.7777777777777778, \"#fb9f3a\"], [0.8888888888888888, \"#fdca26\"], [1.0, \"#f0f921\"]], \"type\": \"heatmapgl\"}], \"histogram\": [{\"marker\": {\"colorbar\": {\"outlinewidth\": 0, \"ticks\": \"\"}}, \"type\": \"histogram\"}], \"histogram2d\": [{\"colorbar\": {\"outlinewidth\": 0, \"ticks\": \"\"}, \"colorscale\": [[0.0, \"#0d0887\"], [0.1111111111111111, \"#46039f\"], [0.2222222222222222, \"#7201a8\"], [0.3333333333333333, \"#9c179e\"], [0.4444444444444444, \"#bd3786\"], [0.5555555555555556, \"#d8576b\"], [0.6666666666666666, \"#ed7953\"], [0.7777777777777778, \"#fb9f3a\"], [0.8888888888888888, \"#fdca26\"], [1.0, \"#f0f921\"]], \"type\": \"histogram2d\"}], \"histogram2dcontour\": [{\"colorbar\": {\"outlinewidth\": 0, \"ticks\": \"\"}, \"colorscale\": [[0.0, \"#0d0887\"], [0.1111111111111111, \"#46039f\"], [0.2222222222222222, \"#7201a8\"], [0.3333333333333333, \"#9c179e\"], [0.4444444444444444, \"#bd3786\"], [0.5555555555555556, \"#d8576b\"], [0.6666666666666666, \"#ed7953\"], [0.7777777777777778, \"#fb9f3a\"], [0.8888888888888888, \"#fdca26\"], [1.0, \"#f0f921\"]], \"type\": \"histogram2dcontour\"}], \"mesh3d\": [{\"colorbar\": {\"outlinewidth\": 0, \"ticks\": \"\"}, \"type\": \"mesh3d\"}], \"parcoords\": [{\"line\": {\"colorbar\": {\"outlinewidth\": 0, \"ticks\": \"\"}}, \"type\": \"parcoords\"}], \"pie\": [{\"automargin\": true, \"type\": \"pie\"}], \"scatter\": [{\"marker\": {\"colorbar\": {\"outlinewidth\": 0, \"ticks\": \"\"}}, \"type\": \"scatter\"}], \"scatter3d\": [{\"line\": {\"colorbar\": {\"outlinewidth\": 0, \"ticks\": \"\"}}, \"marker\": {\"colorbar\": {\"outlinewidth\": 0, \"ticks\": \"\"}}, \"type\": \"scatter3d\"}], \"scattercarpet\": [{\"marker\": {\"colorbar\": {\"outlinewidth\": 0, \"ticks\": \"\"}}, \"type\": \"scattercarpet\"}], \"scattergeo\": [{\"marker\": {\"colorbar\": {\"outlinewidth\": 0, \"ticks\": \"\"}}, \"type\": \"scattergeo\"}], \"scattergl\": [{\"marker\": {\"colorbar\": {\"outlinewidth\": 0, \"ticks\": \"\"}}, \"type\": \"scattergl\"}], \"scattermapbox\": [{\"marker\": {\"colorbar\": {\"outlinewidth\": 0, \"ticks\": \"\"}}, \"type\": \"scattermapbox\"}], \"scatterpolar\": [{\"marker\": {\"colorbar\": {\"outlinewidth\": 0, \"ticks\": \"\"}}, \"type\": \"scatterpolar\"}], \"scatterpolargl\": [{\"marker\": {\"colorbar\": {\"outlinewidth\": 0, \"ticks\": \"\"}}, \"type\": \"scatterpolargl\"}], \"scatterternary\": [{\"marker\": {\"colorbar\": {\"outlinewidth\": 0, \"ticks\": \"\"}}, \"type\": \"scatterternary\"}], \"surface\": [{\"colorbar\": {\"outlinewidth\": 0, \"ticks\": \"\"}, \"colorscale\": [[0.0, \"#0d0887\"], [0.1111111111111111, \"#46039f\"], [0.2222222222222222, \"#7201a8\"], [0.3333333333333333, \"#9c179e\"], [0.4444444444444444, \"#bd3786\"], [0.5555555555555556, \"#d8576b\"], [0.6666666666666666, \"#ed7953\"], [0.7777777777777778, \"#fb9f3a\"], [0.8888888888888888, \"#fdca26\"], [1.0, \"#f0f921\"]], \"type\": \"surface\"}], \"table\": [{\"cells\": {\"fill\": {\"color\": \"#EBF0F8\"}, \"line\": {\"color\": \"white\"}}, \"header\": {\"fill\": {\"color\": \"#C8D4E3\"}, \"line\": {\"color\": \"white\"}}, \"type\": \"table\"}]}, \"layout\": {\"annotationdefaults\": {\"arrowcolor\": \"#2a3f5f\", \"arrowhead\": 0, \"arrowwidth\": 1}, \"coloraxis\": {\"colorbar\": {\"outlinewidth\": 0, \"ticks\": \"\"}}, \"colorscale\": {\"diverging\": [[0, \"#8e0152\"], [0.1, \"#c51b7d\"], [0.2, \"#de77ae\"], [0.3, \"#f1b6da\"], [0.4, \"#fde0ef\"], [0.5, \"#f7f7f7\"], [0.6, \"#e6f5d0\"], [0.7, \"#b8e186\"], [0.8, \"#7fbc41\"], [0.9, \"#4d9221\"], [1, \"#276419\"]], \"sequential\": [[0.0, \"#0d0887\"], [0.1111111111111111, \"#46039f\"], [0.2222222222222222, \"#7201a8\"], [0.3333333333333333, \"#9c179e\"], [0.4444444444444444, \"#bd3786\"], [0.5555555555555556, \"#d8576b\"], [0.6666666666666666, \"#ed7953\"], [0.7777777777777778, \"#fb9f3a\"], [0.8888888888888888, \"#fdca26\"], [1.0, \"#f0f921\"]], \"sequentialminus\": [[0.0, \"#0d0887\"], [0.1111111111111111, \"#46039f\"], [0.2222222222222222, \"#7201a8\"], [0.3333333333333333, \"#9c179e\"], [0.4444444444444444, \"#bd3786\"], [0.5555555555555556, \"#d8576b\"], [0.6666666666666666, \"#ed7953\"], [0.7777777777777778, \"#fb9f3a\"], [0.8888888888888888, \"#fdca26\"], [1.0, \"#f0f921\"]]}, \"colorway\": [\"#636efa\", \"#EF553B\", \"#00cc96\", \"#ab63fa\", \"#FFA15A\", \"#19d3f3\", \"#FF6692\", \"#B6E880\", \"#FF97FF\", \"#FECB52\"], \"font\": {\"color\": \"#2a3f5f\"}, \"geo\": {\"bgcolor\": \"white\", \"lakecolor\": \"white\", \"landcolor\": \"#E5ECF6\", \"showlakes\": true, \"showland\": true, \"subunitcolor\": \"white\"}, \"hoverlabel\": {\"align\": \"left\"}, \"hovermode\": \"closest\", \"mapbox\": {\"style\": \"light\"}, \"paper_bgcolor\": \"white\", \"plot_bgcolor\": \"#E5ECF6\", \"polar\": {\"angularaxis\": {\"gridcolor\": \"white\", \"linecolor\": \"white\", \"ticks\": \"\"}, \"bgcolor\": \"#E5ECF6\", \"radialaxis\": {\"gridcolor\": \"white\", \"linecolor\": \"white\", \"ticks\": \"\"}}, \"scene\": {\"xaxis\": {\"backgroundcolor\": \"#E5ECF6\", \"gridcolor\": \"white\", \"gridwidth\": 2, \"linecolor\": \"white\", \"showbackground\": true, \"ticks\": \"\", \"zerolinecolor\": \"white\"}, \"yaxis\": {\"backgroundcolor\": \"#E5ECF6\", \"gridcolor\": \"white\", \"gridwidth\": 2, \"linecolor\": \"white\", \"showbackground\": true, \"ticks\": \"\", \"zerolinecolor\": \"white\"}, \"zaxis\": {\"backgroundcolor\": \"#E5ECF6\", \"gridcolor\": \"white\", \"gridwidth\": 2, \"linecolor\": \"white\", \"showbackground\": true, \"ticks\": \"\", \"zerolinecolor\": \"white\"}}, \"shapedefaults\": {\"line\": {\"color\": \"#2a3f5f\"}}, \"ternary\": {\"aaxis\": {\"gridcolor\": \"white\", \"linecolor\": \"white\", \"ticks\": \"\"}, \"baxis\": {\"gridcolor\": \"white\", \"linecolor\": \"white\", \"ticks\": \"\"}, \"bgcolor\": \"#E5ECF6\", \"caxis\": {\"gridcolor\": \"white\", \"linecolor\": \"white\", \"ticks\": \"\"}}, \"title\": {\"x\": 0.05}, \"xaxis\": {\"automargin\": true, \"gridcolor\": \"white\", \"linecolor\": \"white\", \"ticks\": \"\", \"title\": {\"standoff\": 15}, \"zerolinecolor\": \"white\", \"zerolinewidth\": 2}, \"yaxis\": {\"automargin\": true, \"gridcolor\": \"white\", \"linecolor\": \"white\", \"ticks\": \"\", \"title\": {\"standoff\": 15}, \"zerolinecolor\": \"white\", \"zerolinewidth\": 2}}}, \"title\": {\"font\": {\"color\": \"#4D5663\"}}, \"xaxis\": {\"gridcolor\": \"#E1E5ED\", \"showgrid\": true, \"tickfont\": {\"color\": \"#4D5663\"}, \"title\": {\"font\": {\"color\": \"#4D5663\"}, \"text\": \"\"}, \"zerolinecolor\": \"#E1E5ED\"}, \"yaxis\": {\"gridcolor\": \"#E1E5ED\", \"showgrid\": true, \"tickfont\": {\"color\": \"#4D5663\"}, \"title\": {\"font\": {\"color\": \"#4D5663\"}, \"text\": \"\"}, \"zerolinecolor\": \"#E1E5ED\"}},                        {\"showLink\": true, \"linkText\": \"Export to plot.ly\", \"plotlyServerURL\": \"https://plot.ly\", \"responsive\": true}                    ).then(function(){\n",
       "                            \n",
       "var gd = document.getElementById('5cb26311-d976-4ef5-a0f6-a9390c66ce48');\n",
       "var x = new MutationObserver(function (mutations, observer) {{\n",
       "        var display = window.getComputedStyle(gd).display;\n",
       "        if (!display || display === 'none') {{\n",
       "            console.log([gd, 'removed!']);\n",
       "            Plotly.purge(gd);\n",
       "            observer.disconnect();\n",
       "        }}\n",
       "}});\n",
       "\n",
       "// Listen for the removal of the full notebook cells\n",
       "var notebookContainer = gd.closest('#notebook-container');\n",
       "if (notebookContainer) {{\n",
       "    x.observe(notebookContainer, {childList: true});\n",
       "}}\n",
       "\n",
       "// Listen for the clearing of the current output cell\n",
       "var outputEl = gd.closest('.output');\n",
       "if (outputEl) {{\n",
       "    x.observe(outputEl, {childList: true});\n",
       "}}\n",
       "\n",
       "                        })                };                });            </script>        </div>"
      ]
     },
     "metadata": {},
     "output_type": "display_data"
    }
   ],
   "source": [
    "df2.iplot(kind='bar',x='Category',y='Values')"
   ]
  },
  {
   "cell_type": "code",
   "execution_count": 13,
   "metadata": {},
   "outputs": [
    {
     "data": {
      "application/vnd.plotly.v1+json": {
       "config": {
        "linkText": "Export to plot.ly",
        "plotlyServerURL": "https://plot.ly",
        "showLink": true
       },
       "data": [
        {
         "marker": {
          "color": "rgba(255, 153, 51, 0.6)",
          "line": {
           "color": "rgba(255, 153, 51, 1.0)",
           "width": 1
          }
         },
         "name": "None",
         "orientation": "v",
         "text": "",
         "type": "bar",
         "x": [
          "A",
          "B",
          "C",
          "D"
         ],
         "y": [
          100,
          100,
          100,
          100
         ]
        }
       ],
       "layout": {
        "legend": {
         "bgcolor": "#F5F6F9",
         "font": {
          "color": "#4D5663"
         }
        },
        "paper_bgcolor": "#F5F6F9",
        "plot_bgcolor": "#F5F6F9",
        "template": {
         "data": {
          "bar": [
           {
            "error_x": {
             "color": "#2a3f5f"
            },
            "error_y": {
             "color": "#2a3f5f"
            },
            "marker": {
             "line": {
              "color": "#E5ECF6",
              "width": 0.5
             }
            },
            "type": "bar"
           }
          ],
          "barpolar": [
           {
            "marker": {
             "line": {
              "color": "#E5ECF6",
              "width": 0.5
             }
            },
            "type": "barpolar"
           }
          ],
          "carpet": [
           {
            "aaxis": {
             "endlinecolor": "#2a3f5f",
             "gridcolor": "white",
             "linecolor": "white",
             "minorgridcolor": "white",
             "startlinecolor": "#2a3f5f"
            },
            "baxis": {
             "endlinecolor": "#2a3f5f",
             "gridcolor": "white",
             "linecolor": "white",
             "minorgridcolor": "white",
             "startlinecolor": "#2a3f5f"
            },
            "type": "carpet"
           }
          ],
          "choropleth": [
           {
            "colorbar": {
             "outlinewidth": 0,
             "ticks": ""
            },
            "type": "choropleth"
           }
          ],
          "contour": [
           {
            "colorbar": {
             "outlinewidth": 0,
             "ticks": ""
            },
            "colorscale": [
             [
              0,
              "#0d0887"
             ],
             [
              0.1111111111111111,
              "#46039f"
             ],
             [
              0.2222222222222222,
              "#7201a8"
             ],
             [
              0.3333333333333333,
              "#9c179e"
             ],
             [
              0.4444444444444444,
              "#bd3786"
             ],
             [
              0.5555555555555556,
              "#d8576b"
             ],
             [
              0.6666666666666666,
              "#ed7953"
             ],
             [
              0.7777777777777778,
              "#fb9f3a"
             ],
             [
              0.8888888888888888,
              "#fdca26"
             ],
             [
              1,
              "#f0f921"
             ]
            ],
            "type": "contour"
           }
          ],
          "contourcarpet": [
           {
            "colorbar": {
             "outlinewidth": 0,
             "ticks": ""
            },
            "type": "contourcarpet"
           }
          ],
          "heatmap": [
           {
            "colorbar": {
             "outlinewidth": 0,
             "ticks": ""
            },
            "colorscale": [
             [
              0,
              "#0d0887"
             ],
             [
              0.1111111111111111,
              "#46039f"
             ],
             [
              0.2222222222222222,
              "#7201a8"
             ],
             [
              0.3333333333333333,
              "#9c179e"
             ],
             [
              0.4444444444444444,
              "#bd3786"
             ],
             [
              0.5555555555555556,
              "#d8576b"
             ],
             [
              0.6666666666666666,
              "#ed7953"
             ],
             [
              0.7777777777777778,
              "#fb9f3a"
             ],
             [
              0.8888888888888888,
              "#fdca26"
             ],
             [
              1,
              "#f0f921"
             ]
            ],
            "type": "heatmap"
           }
          ],
          "heatmapgl": [
           {
            "colorbar": {
             "outlinewidth": 0,
             "ticks": ""
            },
            "colorscale": [
             [
              0,
              "#0d0887"
             ],
             [
              0.1111111111111111,
              "#46039f"
             ],
             [
              0.2222222222222222,
              "#7201a8"
             ],
             [
              0.3333333333333333,
              "#9c179e"
             ],
             [
              0.4444444444444444,
              "#bd3786"
             ],
             [
              0.5555555555555556,
              "#d8576b"
             ],
             [
              0.6666666666666666,
              "#ed7953"
             ],
             [
              0.7777777777777778,
              "#fb9f3a"
             ],
             [
              0.8888888888888888,
              "#fdca26"
             ],
             [
              1,
              "#f0f921"
             ]
            ],
            "type": "heatmapgl"
           }
          ],
          "histogram": [
           {
            "marker": {
             "colorbar": {
              "outlinewidth": 0,
              "ticks": ""
             }
            },
            "type": "histogram"
           }
          ],
          "histogram2d": [
           {
            "colorbar": {
             "outlinewidth": 0,
             "ticks": ""
            },
            "colorscale": [
             [
              0,
              "#0d0887"
             ],
             [
              0.1111111111111111,
              "#46039f"
             ],
             [
              0.2222222222222222,
              "#7201a8"
             ],
             [
              0.3333333333333333,
              "#9c179e"
             ],
             [
              0.4444444444444444,
              "#bd3786"
             ],
             [
              0.5555555555555556,
              "#d8576b"
             ],
             [
              0.6666666666666666,
              "#ed7953"
             ],
             [
              0.7777777777777778,
              "#fb9f3a"
             ],
             [
              0.8888888888888888,
              "#fdca26"
             ],
             [
              1,
              "#f0f921"
             ]
            ],
            "type": "histogram2d"
           }
          ],
          "histogram2dcontour": [
           {
            "colorbar": {
             "outlinewidth": 0,
             "ticks": ""
            },
            "colorscale": [
             [
              0,
              "#0d0887"
             ],
             [
              0.1111111111111111,
              "#46039f"
             ],
             [
              0.2222222222222222,
              "#7201a8"
             ],
             [
              0.3333333333333333,
              "#9c179e"
             ],
             [
              0.4444444444444444,
              "#bd3786"
             ],
             [
              0.5555555555555556,
              "#d8576b"
             ],
             [
              0.6666666666666666,
              "#ed7953"
             ],
             [
              0.7777777777777778,
              "#fb9f3a"
             ],
             [
              0.8888888888888888,
              "#fdca26"
             ],
             [
              1,
              "#f0f921"
             ]
            ],
            "type": "histogram2dcontour"
           }
          ],
          "mesh3d": [
           {
            "colorbar": {
             "outlinewidth": 0,
             "ticks": ""
            },
            "type": "mesh3d"
           }
          ],
          "parcoords": [
           {
            "line": {
             "colorbar": {
              "outlinewidth": 0,
              "ticks": ""
             }
            },
            "type": "parcoords"
           }
          ],
          "pie": [
           {
            "automargin": true,
            "type": "pie"
           }
          ],
          "scatter": [
           {
            "marker": {
             "colorbar": {
              "outlinewidth": 0,
              "ticks": ""
             }
            },
            "type": "scatter"
           }
          ],
          "scatter3d": [
           {
            "line": {
             "colorbar": {
              "outlinewidth": 0,
              "ticks": ""
             }
            },
            "marker": {
             "colorbar": {
              "outlinewidth": 0,
              "ticks": ""
             }
            },
            "type": "scatter3d"
           }
          ],
          "scattercarpet": [
           {
            "marker": {
             "colorbar": {
              "outlinewidth": 0,
              "ticks": ""
             }
            },
            "type": "scattercarpet"
           }
          ],
          "scattergeo": [
           {
            "marker": {
             "colorbar": {
              "outlinewidth": 0,
              "ticks": ""
             }
            },
            "type": "scattergeo"
           }
          ],
          "scattergl": [
           {
            "marker": {
             "colorbar": {
              "outlinewidth": 0,
              "ticks": ""
             }
            },
            "type": "scattergl"
           }
          ],
          "scattermapbox": [
           {
            "marker": {
             "colorbar": {
              "outlinewidth": 0,
              "ticks": ""
             }
            },
            "type": "scattermapbox"
           }
          ],
          "scatterpolar": [
           {
            "marker": {
             "colorbar": {
              "outlinewidth": 0,
              "ticks": ""
             }
            },
            "type": "scatterpolar"
           }
          ],
          "scatterpolargl": [
           {
            "marker": {
             "colorbar": {
              "outlinewidth": 0,
              "ticks": ""
             }
            },
            "type": "scatterpolargl"
           }
          ],
          "scatterternary": [
           {
            "marker": {
             "colorbar": {
              "outlinewidth": 0,
              "ticks": ""
             }
            },
            "type": "scatterternary"
           }
          ],
          "surface": [
           {
            "colorbar": {
             "outlinewidth": 0,
             "ticks": ""
            },
            "colorscale": [
             [
              0,
              "#0d0887"
             ],
             [
              0.1111111111111111,
              "#46039f"
             ],
             [
              0.2222222222222222,
              "#7201a8"
             ],
             [
              0.3333333333333333,
              "#9c179e"
             ],
             [
              0.4444444444444444,
              "#bd3786"
             ],
             [
              0.5555555555555556,
              "#d8576b"
             ],
             [
              0.6666666666666666,
              "#ed7953"
             ],
             [
              0.7777777777777778,
              "#fb9f3a"
             ],
             [
              0.8888888888888888,
              "#fdca26"
             ],
             [
              1,
              "#f0f921"
             ]
            ],
            "type": "surface"
           }
          ],
          "table": [
           {
            "cells": {
             "fill": {
              "color": "#EBF0F8"
             },
             "line": {
              "color": "white"
             }
            },
            "header": {
             "fill": {
              "color": "#C8D4E3"
             },
             "line": {
              "color": "white"
             }
            },
            "type": "table"
           }
          ]
         },
         "layout": {
          "annotationdefaults": {
           "arrowcolor": "#2a3f5f",
           "arrowhead": 0,
           "arrowwidth": 1
          },
          "coloraxis": {
           "colorbar": {
            "outlinewidth": 0,
            "ticks": ""
           }
          },
          "colorscale": {
           "diverging": [
            [
             0,
             "#8e0152"
            ],
            [
             0.1,
             "#c51b7d"
            ],
            [
             0.2,
             "#de77ae"
            ],
            [
             0.3,
             "#f1b6da"
            ],
            [
             0.4,
             "#fde0ef"
            ],
            [
             0.5,
             "#f7f7f7"
            ],
            [
             0.6,
             "#e6f5d0"
            ],
            [
             0.7,
             "#b8e186"
            ],
            [
             0.8,
             "#7fbc41"
            ],
            [
             0.9,
             "#4d9221"
            ],
            [
             1,
             "#276419"
            ]
           ],
           "sequential": [
            [
             0,
             "#0d0887"
            ],
            [
             0.1111111111111111,
             "#46039f"
            ],
            [
             0.2222222222222222,
             "#7201a8"
            ],
            [
             0.3333333333333333,
             "#9c179e"
            ],
            [
             0.4444444444444444,
             "#bd3786"
            ],
            [
             0.5555555555555556,
             "#d8576b"
            ],
            [
             0.6666666666666666,
             "#ed7953"
            ],
            [
             0.7777777777777778,
             "#fb9f3a"
            ],
            [
             0.8888888888888888,
             "#fdca26"
            ],
            [
             1,
             "#f0f921"
            ]
           ],
           "sequentialminus": [
            [
             0,
             "#0d0887"
            ],
            [
             0.1111111111111111,
             "#46039f"
            ],
            [
             0.2222222222222222,
             "#7201a8"
            ],
            [
             0.3333333333333333,
             "#9c179e"
            ],
            [
             0.4444444444444444,
             "#bd3786"
            ],
            [
             0.5555555555555556,
             "#d8576b"
            ],
            [
             0.6666666666666666,
             "#ed7953"
            ],
            [
             0.7777777777777778,
             "#fb9f3a"
            ],
            [
             0.8888888888888888,
             "#fdca26"
            ],
            [
             1,
             "#f0f921"
            ]
           ]
          },
          "colorway": [
           "#636efa",
           "#EF553B",
           "#00cc96",
           "#ab63fa",
           "#FFA15A",
           "#19d3f3",
           "#FF6692",
           "#B6E880",
           "#FF97FF",
           "#FECB52"
          ],
          "font": {
           "color": "#2a3f5f"
          },
          "geo": {
           "bgcolor": "white",
           "lakecolor": "white",
           "landcolor": "#E5ECF6",
           "showlakes": true,
           "showland": true,
           "subunitcolor": "white"
          },
          "hoverlabel": {
           "align": "left"
          },
          "hovermode": "closest",
          "mapbox": {
           "style": "light"
          },
          "paper_bgcolor": "white",
          "plot_bgcolor": "#E5ECF6",
          "polar": {
           "angularaxis": {
            "gridcolor": "white",
            "linecolor": "white",
            "ticks": ""
           },
           "bgcolor": "#E5ECF6",
           "radialaxis": {
            "gridcolor": "white",
            "linecolor": "white",
            "ticks": ""
           }
          },
          "scene": {
           "xaxis": {
            "backgroundcolor": "#E5ECF6",
            "gridcolor": "white",
            "gridwidth": 2,
            "linecolor": "white",
            "showbackground": true,
            "ticks": "",
            "zerolinecolor": "white"
           },
           "yaxis": {
            "backgroundcolor": "#E5ECF6",
            "gridcolor": "white",
            "gridwidth": 2,
            "linecolor": "white",
            "showbackground": true,
            "ticks": "",
            "zerolinecolor": "white"
           },
           "zaxis": {
            "backgroundcolor": "#E5ECF6",
            "gridcolor": "white",
            "gridwidth": 2,
            "linecolor": "white",
            "showbackground": true,
            "ticks": "",
            "zerolinecolor": "white"
           }
          },
          "shapedefaults": {
           "line": {
            "color": "#2a3f5f"
           }
          },
          "ternary": {
           "aaxis": {
            "gridcolor": "white",
            "linecolor": "white",
            "ticks": ""
           },
           "baxis": {
            "gridcolor": "white",
            "linecolor": "white",
            "ticks": ""
           },
           "bgcolor": "#E5ECF6",
           "caxis": {
            "gridcolor": "white",
            "linecolor": "white",
            "ticks": ""
           }
          },
          "title": {
           "x": 0.05
          },
          "xaxis": {
           "automargin": true,
           "gridcolor": "white",
           "linecolor": "white",
           "ticks": "",
           "title": {
            "standoff": 15
           },
           "zerolinecolor": "white",
           "zerolinewidth": 2
          },
          "yaxis": {
           "automargin": true,
           "gridcolor": "white",
           "linecolor": "white",
           "ticks": "",
           "title": {
            "standoff": 15
           },
           "zerolinecolor": "white",
           "zerolinewidth": 2
          }
         }
        },
        "title": {
         "font": {
          "color": "#4D5663"
         }
        },
        "xaxis": {
         "gridcolor": "#E1E5ED",
         "showgrid": true,
         "tickfont": {
          "color": "#4D5663"
         },
         "title": {
          "font": {
           "color": "#4D5663"
          },
          "text": ""
         },
         "zerolinecolor": "#E1E5ED"
        },
        "yaxis": {
         "gridcolor": "#E1E5ED",
         "showgrid": true,
         "tickfont": {
          "color": "#4D5663"
         },
         "title": {
          "font": {
           "color": "#4D5663"
          },
          "text": ""
         },
         "zerolinecolor": "#E1E5ED"
        }
       }
      },
      "text/html": [
       "<div>                            <div id=\"4d8bc75c-338e-4222-a1d6-a13fe422def8\" class=\"plotly-graph-div\" style=\"height:525px; width:100%;\"></div>            <script type=\"text/javascript\">                require([\"plotly\"], function(Plotly) {                    window.PLOTLYENV=window.PLOTLYENV || {};\n",
       "                    window.PLOTLYENV.BASE_URL='https://plot.ly';                                    if (document.getElementById(\"4d8bc75c-338e-4222-a1d6-a13fe422def8\")) {                    Plotly.newPlot(                        \"4d8bc75c-338e-4222-a1d6-a13fe422def8\",                        [{\"marker\": {\"color\": \"rgba(255, 153, 51, 0.6)\", \"line\": {\"color\": \"rgba(255, 153, 51, 1.0)\", \"width\": 1}}, \"name\": \"None\", \"orientation\": \"v\", \"text\": \"\", \"type\": \"bar\", \"x\": [\"A\", \"B\", \"C\", \"D\"], \"y\": [100, 100, 100, 100]}],                        {\"legend\": {\"bgcolor\": \"#F5F6F9\", \"font\": {\"color\": \"#4D5663\"}}, \"paper_bgcolor\": \"#F5F6F9\", \"plot_bgcolor\": \"#F5F6F9\", \"template\": {\"data\": {\"bar\": [{\"error_x\": {\"color\": \"#2a3f5f\"}, \"error_y\": {\"color\": \"#2a3f5f\"}, \"marker\": {\"line\": {\"color\": \"#E5ECF6\", \"width\": 0.5}}, \"type\": \"bar\"}], \"barpolar\": [{\"marker\": {\"line\": {\"color\": \"#E5ECF6\", \"width\": 0.5}}, \"type\": \"barpolar\"}], \"carpet\": [{\"aaxis\": {\"endlinecolor\": \"#2a3f5f\", \"gridcolor\": \"white\", \"linecolor\": \"white\", \"minorgridcolor\": \"white\", \"startlinecolor\": \"#2a3f5f\"}, \"baxis\": {\"endlinecolor\": \"#2a3f5f\", \"gridcolor\": \"white\", \"linecolor\": \"white\", \"minorgridcolor\": \"white\", \"startlinecolor\": \"#2a3f5f\"}, \"type\": \"carpet\"}], \"choropleth\": [{\"colorbar\": {\"outlinewidth\": 0, \"ticks\": \"\"}, \"type\": \"choropleth\"}], \"contour\": [{\"colorbar\": {\"outlinewidth\": 0, \"ticks\": \"\"}, \"colorscale\": [[0.0, \"#0d0887\"], [0.1111111111111111, \"#46039f\"], [0.2222222222222222, \"#7201a8\"], [0.3333333333333333, \"#9c179e\"], [0.4444444444444444, \"#bd3786\"], [0.5555555555555556, \"#d8576b\"], [0.6666666666666666, \"#ed7953\"], [0.7777777777777778, \"#fb9f3a\"], [0.8888888888888888, \"#fdca26\"], [1.0, \"#f0f921\"]], \"type\": \"contour\"}], \"contourcarpet\": [{\"colorbar\": {\"outlinewidth\": 0, \"ticks\": \"\"}, \"type\": \"contourcarpet\"}], \"heatmap\": [{\"colorbar\": {\"outlinewidth\": 0, \"ticks\": \"\"}, \"colorscale\": [[0.0, \"#0d0887\"], [0.1111111111111111, \"#46039f\"], [0.2222222222222222, \"#7201a8\"], [0.3333333333333333, \"#9c179e\"], [0.4444444444444444, \"#bd3786\"], [0.5555555555555556, \"#d8576b\"], [0.6666666666666666, \"#ed7953\"], [0.7777777777777778, \"#fb9f3a\"], [0.8888888888888888, \"#fdca26\"], [1.0, \"#f0f921\"]], \"type\": \"heatmap\"}], \"heatmapgl\": [{\"colorbar\": {\"outlinewidth\": 0, \"ticks\": \"\"}, \"colorscale\": [[0.0, \"#0d0887\"], [0.1111111111111111, \"#46039f\"], [0.2222222222222222, \"#7201a8\"], [0.3333333333333333, \"#9c179e\"], [0.4444444444444444, \"#bd3786\"], [0.5555555555555556, \"#d8576b\"], [0.6666666666666666, \"#ed7953\"], [0.7777777777777778, \"#fb9f3a\"], [0.8888888888888888, \"#fdca26\"], [1.0, \"#f0f921\"]], \"type\": \"heatmapgl\"}], \"histogram\": [{\"marker\": {\"colorbar\": {\"outlinewidth\": 0, \"ticks\": \"\"}}, \"type\": \"histogram\"}], \"histogram2d\": [{\"colorbar\": {\"outlinewidth\": 0, \"ticks\": \"\"}, \"colorscale\": [[0.0, \"#0d0887\"], [0.1111111111111111, \"#46039f\"], [0.2222222222222222, \"#7201a8\"], [0.3333333333333333, \"#9c179e\"], [0.4444444444444444, \"#bd3786\"], [0.5555555555555556, \"#d8576b\"], [0.6666666666666666, \"#ed7953\"], [0.7777777777777778, \"#fb9f3a\"], [0.8888888888888888, \"#fdca26\"], [1.0, \"#f0f921\"]], \"type\": \"histogram2d\"}], \"histogram2dcontour\": [{\"colorbar\": {\"outlinewidth\": 0, \"ticks\": \"\"}, \"colorscale\": [[0.0, \"#0d0887\"], [0.1111111111111111, \"#46039f\"], [0.2222222222222222, \"#7201a8\"], [0.3333333333333333, \"#9c179e\"], [0.4444444444444444, \"#bd3786\"], [0.5555555555555556, \"#d8576b\"], [0.6666666666666666, \"#ed7953\"], [0.7777777777777778, \"#fb9f3a\"], [0.8888888888888888, \"#fdca26\"], [1.0, \"#f0f921\"]], \"type\": \"histogram2dcontour\"}], \"mesh3d\": [{\"colorbar\": {\"outlinewidth\": 0, \"ticks\": \"\"}, \"type\": \"mesh3d\"}], \"parcoords\": [{\"line\": {\"colorbar\": {\"outlinewidth\": 0, \"ticks\": \"\"}}, \"type\": \"parcoords\"}], \"pie\": [{\"automargin\": true, \"type\": \"pie\"}], \"scatter\": [{\"marker\": {\"colorbar\": {\"outlinewidth\": 0, \"ticks\": \"\"}}, \"type\": \"scatter\"}], \"scatter3d\": [{\"line\": {\"colorbar\": {\"outlinewidth\": 0, \"ticks\": \"\"}}, \"marker\": {\"colorbar\": {\"outlinewidth\": 0, \"ticks\": \"\"}}, \"type\": \"scatter3d\"}], \"scattercarpet\": [{\"marker\": {\"colorbar\": {\"outlinewidth\": 0, \"ticks\": \"\"}}, \"type\": \"scattercarpet\"}], \"scattergeo\": [{\"marker\": {\"colorbar\": {\"outlinewidth\": 0, \"ticks\": \"\"}}, \"type\": \"scattergeo\"}], \"scattergl\": [{\"marker\": {\"colorbar\": {\"outlinewidth\": 0, \"ticks\": \"\"}}, \"type\": \"scattergl\"}], \"scattermapbox\": [{\"marker\": {\"colorbar\": {\"outlinewidth\": 0, \"ticks\": \"\"}}, \"type\": \"scattermapbox\"}], \"scatterpolar\": [{\"marker\": {\"colorbar\": {\"outlinewidth\": 0, \"ticks\": \"\"}}, \"type\": \"scatterpolar\"}], \"scatterpolargl\": [{\"marker\": {\"colorbar\": {\"outlinewidth\": 0, \"ticks\": \"\"}}, \"type\": \"scatterpolargl\"}], \"scatterternary\": [{\"marker\": {\"colorbar\": {\"outlinewidth\": 0, \"ticks\": \"\"}}, \"type\": \"scatterternary\"}], \"surface\": [{\"colorbar\": {\"outlinewidth\": 0, \"ticks\": \"\"}, \"colorscale\": [[0.0, \"#0d0887\"], [0.1111111111111111, \"#46039f\"], [0.2222222222222222, \"#7201a8\"], [0.3333333333333333, \"#9c179e\"], [0.4444444444444444, \"#bd3786\"], [0.5555555555555556, \"#d8576b\"], [0.6666666666666666, \"#ed7953\"], [0.7777777777777778, \"#fb9f3a\"], [0.8888888888888888, \"#fdca26\"], [1.0, \"#f0f921\"]], \"type\": \"surface\"}], \"table\": [{\"cells\": {\"fill\": {\"color\": \"#EBF0F8\"}, \"line\": {\"color\": \"white\"}}, \"header\": {\"fill\": {\"color\": \"#C8D4E3\"}, \"line\": {\"color\": \"white\"}}, \"type\": \"table\"}]}, \"layout\": {\"annotationdefaults\": {\"arrowcolor\": \"#2a3f5f\", \"arrowhead\": 0, \"arrowwidth\": 1}, \"coloraxis\": {\"colorbar\": {\"outlinewidth\": 0, \"ticks\": \"\"}}, \"colorscale\": {\"diverging\": [[0, \"#8e0152\"], [0.1, \"#c51b7d\"], [0.2, \"#de77ae\"], [0.3, \"#f1b6da\"], [0.4, \"#fde0ef\"], [0.5, \"#f7f7f7\"], [0.6, \"#e6f5d0\"], [0.7, \"#b8e186\"], [0.8, \"#7fbc41\"], [0.9, \"#4d9221\"], [1, \"#276419\"]], \"sequential\": [[0.0, \"#0d0887\"], [0.1111111111111111, \"#46039f\"], [0.2222222222222222, \"#7201a8\"], [0.3333333333333333, \"#9c179e\"], [0.4444444444444444, \"#bd3786\"], [0.5555555555555556, \"#d8576b\"], [0.6666666666666666, \"#ed7953\"], [0.7777777777777778, \"#fb9f3a\"], [0.8888888888888888, \"#fdca26\"], [1.0, \"#f0f921\"]], \"sequentialminus\": [[0.0, \"#0d0887\"], [0.1111111111111111, \"#46039f\"], [0.2222222222222222, \"#7201a8\"], [0.3333333333333333, \"#9c179e\"], [0.4444444444444444, \"#bd3786\"], [0.5555555555555556, \"#d8576b\"], [0.6666666666666666, \"#ed7953\"], [0.7777777777777778, \"#fb9f3a\"], [0.8888888888888888, \"#fdca26\"], [1.0, \"#f0f921\"]]}, \"colorway\": [\"#636efa\", \"#EF553B\", \"#00cc96\", \"#ab63fa\", \"#FFA15A\", \"#19d3f3\", \"#FF6692\", \"#B6E880\", \"#FF97FF\", \"#FECB52\"], \"font\": {\"color\": \"#2a3f5f\"}, \"geo\": {\"bgcolor\": \"white\", \"lakecolor\": \"white\", \"landcolor\": \"#E5ECF6\", \"showlakes\": true, \"showland\": true, \"subunitcolor\": \"white\"}, \"hoverlabel\": {\"align\": \"left\"}, \"hovermode\": \"closest\", \"mapbox\": {\"style\": \"light\"}, \"paper_bgcolor\": \"white\", \"plot_bgcolor\": \"#E5ECF6\", \"polar\": {\"angularaxis\": {\"gridcolor\": \"white\", \"linecolor\": \"white\", \"ticks\": \"\"}, \"bgcolor\": \"#E5ECF6\", \"radialaxis\": {\"gridcolor\": \"white\", \"linecolor\": \"white\", \"ticks\": \"\"}}, \"scene\": {\"xaxis\": {\"backgroundcolor\": \"#E5ECF6\", \"gridcolor\": \"white\", \"gridwidth\": 2, \"linecolor\": \"white\", \"showbackground\": true, \"ticks\": \"\", \"zerolinecolor\": \"white\"}, \"yaxis\": {\"backgroundcolor\": \"#E5ECF6\", \"gridcolor\": \"white\", \"gridwidth\": 2, \"linecolor\": \"white\", \"showbackground\": true, \"ticks\": \"\", \"zerolinecolor\": \"white\"}, \"zaxis\": {\"backgroundcolor\": \"#E5ECF6\", \"gridcolor\": \"white\", \"gridwidth\": 2, \"linecolor\": \"white\", \"showbackground\": true, \"ticks\": \"\", \"zerolinecolor\": \"white\"}}, \"shapedefaults\": {\"line\": {\"color\": \"#2a3f5f\"}}, \"ternary\": {\"aaxis\": {\"gridcolor\": \"white\", \"linecolor\": \"white\", \"ticks\": \"\"}, \"baxis\": {\"gridcolor\": \"white\", \"linecolor\": \"white\", \"ticks\": \"\"}, \"bgcolor\": \"#E5ECF6\", \"caxis\": {\"gridcolor\": \"white\", \"linecolor\": \"white\", \"ticks\": \"\"}}, \"title\": {\"x\": 0.05}, \"xaxis\": {\"automargin\": true, \"gridcolor\": \"white\", \"linecolor\": \"white\", \"ticks\": \"\", \"title\": {\"standoff\": 15}, \"zerolinecolor\": \"white\", \"zerolinewidth\": 2}, \"yaxis\": {\"automargin\": true, \"gridcolor\": \"white\", \"linecolor\": \"white\", \"ticks\": \"\", \"title\": {\"standoff\": 15}, \"zerolinecolor\": \"white\", \"zerolinewidth\": 2}}}, \"title\": {\"font\": {\"color\": \"#4D5663\"}}, \"xaxis\": {\"gridcolor\": \"#E1E5ED\", \"showgrid\": true, \"tickfont\": {\"color\": \"#4D5663\"}, \"title\": {\"font\": {\"color\": \"#4D5663\"}, \"text\": \"\"}, \"zerolinecolor\": \"#E1E5ED\"}, \"yaxis\": {\"gridcolor\": \"#E1E5ED\", \"showgrid\": true, \"tickfont\": {\"color\": \"#4D5663\"}, \"title\": {\"font\": {\"color\": \"#4D5663\"}, \"text\": \"\"}, \"zerolinecolor\": \"#E1E5ED\"}},                        {\"showLink\": true, \"linkText\": \"Export to plot.ly\", \"plotlyServerURL\": \"https://plot.ly\", \"responsive\": true}                    ).then(function(){\n",
       "                            \n",
       "var gd = document.getElementById('4d8bc75c-338e-4222-a1d6-a13fe422def8');\n",
       "var x = new MutationObserver(function (mutations, observer) {{\n",
       "        var display = window.getComputedStyle(gd).display;\n",
       "        if (!display || display === 'none') {{\n",
       "            console.log([gd, 'removed!']);\n",
       "            Plotly.purge(gd);\n",
       "            observer.disconnect();\n",
       "        }}\n",
       "}});\n",
       "\n",
       "// Listen for the removal of the full notebook cells\n",
       "var notebookContainer = gd.closest('#notebook-container');\n",
       "if (notebookContainer) {{\n",
       "    x.observe(notebookContainer, {childList: true});\n",
       "}}\n",
       "\n",
       "// Listen for the clearing of the current output cell\n",
       "var outputEl = gd.closest('.output');\n",
       "if (outputEl) {{\n",
       "    x.observe(outputEl, {childList: true});\n",
       "}}\n",
       "\n",
       "                        })                };                });            </script>        </div>"
      ]
     },
     "metadata": {},
     "output_type": "display_data"
    }
   ],
   "source": [
    "df.count().iplot(kind='bar')"
   ]
  },
  {
   "cell_type": "markdown",
   "metadata": {},
   "source": [
    "## Boxplots"
   ]
  },
  {
   "cell_type": "code",
   "execution_count": 14,
   "metadata": {},
   "outputs": [
    {
     "data": {
      "application/vnd.plotly.v1+json": {
       "config": {
        "linkText": "Export to plot.ly",
        "plotlyServerURL": "https://plot.ly",
        "showLink": true
       },
       "data": [
        {
         "boxpoints": false,
         "line": {
          "width": 1.3
         },
         "marker": {
          "color": "rgba(255, 153, 51, 1.0)"
         },
         "name": "A",
         "orientation": "v",
         "type": "box",
         "y": [
          -0.7017613191698328,
          0.01679259812028604,
          0.8925912413549707,
          -0.6668670618650194,
          -0.08966585714852059,
          -0.24458849205836947,
          -0.4022839095584551,
          0.7369432460042893,
          -1.2494079912136582,
          -0.6401976385659033,
          0.35695542238683164,
          -0.31573632031264465,
          -0.29246285955204526,
          -1.1497298652321202,
          -1.9829912112648982,
          0.5098656704313177,
          2.188181621409416,
          -1.8772696836014646,
          -0.4205418507884751,
          0.30075831472836556,
          0.2473020794475996,
          1.0923057343868103,
          2.214046009241756,
          1.4336535784483952,
          1.4496004076576658,
          -0.682315049522406,
          1.598661713427201,
          1.4227754396583445,
          -1.0553567255207785,
          -1.4467280078731937,
          0.20179887245784411,
          0.35903774873412975,
          -0.3555565196644582,
          1.0761852720282128,
          -0.8916717438447009,
          -1.0601444174693633,
          2.0819303347522395,
          -0.7167603005349762,
          -1.53530673446921,
          1.9133948727068533,
          1.0407153002753171,
          1.4532560987038319,
          0.013243946716610581,
          0.07978980625508145,
          -0.7928520041366476,
          0.9490485222915815,
          0.6796773785389835,
          -0.5312708016279892,
          -0.42543554249806664,
          0.10502509437704735,
          1.6737017511277883,
          -1.8668727674163699,
          0.22836886459639544,
          1.218973217565057,
          0.40212949895106903,
          0.47944343085272584,
          1.2304180606624848,
          0.9922489862689469,
          1.4686658229282794,
          2.0143136536858615,
          -0.14595261041800572,
          -1.1518106457881085,
          -0.6742607596454501,
          -0.7520225160865858,
          -0.08264514311404035,
          -1.944206140200247,
          -0.8218453602495646,
          -0.9346787373246029,
          -0.22471916393044564,
          -1.0780813137475604,
          1.0931423702001777,
          0.1110246057804523,
          0.45843380751609986,
          -1.1479604243030028,
          0.06401934841743986,
          -0.40936004108937313,
          -2.475032937690778,
          -0.5798847812432872,
          0.14760048032172526,
          -1.4746689176623073,
          -0.8130010946296682,
          0.8174795080559044,
          1.2400992521174226,
          -1.1738531185743155,
          0.14683153608009747,
          -1.08192782694488,
          0.23943436417174233,
          -1.8361135319933861,
          0.4890161330117654,
          1.6763408612708235,
          0.140950911004665,
          -0.34898665268627543,
          0.9774154607000615,
          1.4071048918097957,
          0.9928899978366662,
          0.47473909400514425,
          -1.0159736244406523,
          -1.2328148128058634,
          1.5251809494141184,
          0.9749457059105875
         ]
        },
        {
         "boxpoints": false,
         "line": {
          "width": 1.3
         },
         "marker": {
          "color": "rgba(55, 128, 191, 1.0)"
         },
         "name": "B",
         "orientation": "v",
         "type": "box",
         "y": [
          1.096107160913988,
          -0.9737302345058281,
          -0.7250110916221839,
          0.7674488710153434,
          -0.5886541668788527,
          -1.0622784516157855,
          -1.2238707436028022,
          0.5253344718323851,
          -1.2878683268608349,
          -0.29911395934561635,
          0.3228157242692437,
          -1.3772019647253797,
          0.8422799608523274,
          0.46673940511242085,
          -1.9024107187745396,
          0.155657667140865,
          -0.7071356823154644,
          1.2253160474108702,
          -0.2882825609357239,
          0.36254222065700026,
          -1.1010538416552,
          1.492275113314927,
          -0.8466546929147944,
          -1.407165100389169,
          1.5632998286714186,
          -1.844746282810375,
          0.15876902191918163,
          -1.5707713349068917,
          -0.8912945042064594,
          -1.1888331358388045,
          -0.27504992184297344,
          0.7719987193746825,
          1.0204442420513675,
          -0.8759967579455494,
          0.315369460523939,
          -0.21239405545229284,
          -0.6288758205361382,
          -1.107447520892792,
          -0.2747002480687447,
          -0.4878952806445132,
          0.45536338144084904,
          -0.06056216817983006,
          0.9155766888351832,
          0.3225396215491934,
          1.336825319564932,
          -0.37695618372560696,
          0.6325172658764953,
          0.26144100072357696,
          -0.9176232114780261,
          -1.208512843841877,
          -0.1316287517068255,
          0.8046785617875465,
          -0.5298092909996793,
          -0.37895398463692803,
          -0.05015310836103133,
          1.8473860712933061,
          1.5828731768120015,
          -0.8313732498063346,
          1.56577510300552,
          -0.09835768242436443,
          -0.388099432966121,
          0.9213329848355416,
          -2.348329762291072,
          -0.3698905589364241,
          -1.3494687348772076,
          1.3037780678011601,
          2.417803512990605,
          0.29235264572616937,
          -0.8885381405600554,
          1.298273421113763,
          -0.3243102006073436,
          1.7694595161130415,
          1.1645387332927113,
          0.6288572400159901,
          -0.4527526189306913,
          1.9960678439093071,
          -0.041270654120210824,
          1.2496205442177806,
          -0.8840401546835186,
          0.8183218519596385,
          -2.0264573504660435,
          -0.4060040927237812,
          0.4729778895675059,
          -1.018633095188232,
          -0.29007097710175345,
          -0.06404339828919584,
          -2.1361917322659645,
          0.2609275108959407,
          0.8218707805270796,
          0.9456373949586805,
          0.8181515489793115,
          -1.4850632655046452,
          0.811063068792345,
          -0.31666137234541136,
          1.2786160004896594,
          0.8786720744927401,
          0.3944281417496477,
          0.22966085439033096,
          0.1673512133000957,
          -0.35535519018683315
         ]
        },
        {
         "boxpoints": false,
         "line": {
          "width": 1.3
         },
         "marker": {
          "color": "rgba(50, 171, 96, 1.0)"
         },
         "name": "C",
         "orientation": "v",
         "type": "box",
         "y": [
          -0.7190573047379413,
          -0.5218718981353269,
          -2.1275080461682445,
          -0.26960277311906,
          -1.0790737644754171,
          0.7341284109331028,
          -1.266846062375404,
          -1.2387256433799363,
          -0.21932968038558281,
          -0.013187734310136546,
          0.7032215937556977,
          0.12120609567616611,
          -0.35209807800567167,
          0.5134455262152473,
          -0.26475513443163706,
          -0.7451059786687938,
          0.3943095743441828,
          0.3713231796345752,
          1.6286334447211743,
          1.8442538198408855,
          -1.151830965301197,
          0.5229720015753714,
          0.881194453165917,
          1.606844883388436,
          1.4226236804197914,
          -0.9147988163058547,
          -0.3103286360332352,
          -0.6080075048503447,
          -2.465086189765115,
          1.0515487947146003,
          0.9350470844581024,
          0.06056732333367964,
          -0.48728832073017975,
          -0.5341429120950548,
          0.567108178025013,
          -1.426519473921635,
          0.42768715035685445,
          1.328981492746673,
          -1.3581344700053142,
          -0.5620634315264172,
          -0.4546029207207217,
          2.024428908600939,
          -2.2446087801726655,
          -0.11575069506561245,
          -0.42293352730504197,
          -0.715839010337148,
          -0.413273278778596,
          -0.3515080434189393,
          -1.7165045749911738,
          2.1214726728907998,
          -0.26197840327992683,
          -1.4822822334419699,
          -0.9740005446679961,
          1.3633555475638726,
          -1.3245938521217255,
          1.056420702314937,
          -0.34758214747490396,
          -0.24722960505443037,
          -0.7186505583381386,
          0.1898097306266676,
          0.43299129289059984,
          -0.9362834976115473,
          -1.4298244426857565,
          -1.0534077564072122,
          1.8593094016744611,
          0.8548661205200041,
          -1.3926642016521464,
          -0.5053390753017923,
          -0.682033657955724,
          0.4780039408444455,
          0.4300136249879697,
          0.980883202547787,
          -0.22924488568444756,
          -0.6586989779084301,
          -0.4007190910086093,
          0.3972123229401916,
          1.3029152807213498,
          -0.3815785754169035,
          -0.7484065978209936,
          0.8210504140417529,
          -0.20601732878354262,
          0.24761134531898804,
          0.7040517682313486,
          0.14880891665905396,
          -0.7986815187922411,
          -2.378780532301465,
          0.3187482514131689,
          -0.9934186516974625,
          1.1509456174198616,
          -0.4451139762514316,
          -0.016631977140144284,
          -1.0362573529744676,
          0.7409713523742906,
          1.5830793365139446,
          0.6765580609132692,
          0.1853833194790049,
          -0.6181347969700357,
          -0.34580794958581784,
          1.6797600008794107,
          0.5880586721788934
         ]
        },
        {
         "boxpoints": false,
         "line": {
          "width": 1.3
         },
         "marker": {
          "color": "rgba(128, 0, 128, 1.0)"
         },
         "name": "D",
         "orientation": "v",
         "type": "box",
         "y": [
          -2.7100027074512263,
          1.5092298638203234,
          1.1057494615184085,
          2.1211286432568324,
          -1.1914403370727311,
          0.41929186434710386,
          -0.8912222018834959,
          0.8032717543495098,
          0.5323382839005606,
          0.7387146178691983,
          0.5262429080554617,
          0.6314237830695967,
          -0.6245340419464724,
          -0.38653643401312915,
          -3.2315136838898405e-05,
          0.6594586539018324,
          -0.8329134530810053,
          1.7016483503963837,
          -0.43409322580015036,
          0.2379801323068665,
          1.6818622904089098,
          -0.30146283972452553,
          0.2551305621479686,
          -0.045384304234003546,
          -0.00821748274901138,
          -0.6648783946530121,
          0.8481206379652664,
          -0.7073702075946093,
          0.3222214926225584,
          -0.9556689747586344,
          0.5634897506208155,
          0.8973608738586154,
          0.13521149549799152,
          -0.351024519858675,
          -1.167015643327293,
          0.9354356194470855,
          0.12385613021386416,
          1.5383648033578345,
          1.901857447308807,
          -0.3866803452023101,
          0.5323164116776599,
          -1.0350154451302893,
          -0.5885030194095547,
          0.37310283740938044,
          0.7948691117118398,
          -0.06642443103251437,
          -0.15958262124597886,
          -0.1970990048918327,
          0.5781068521769578,
          -0.527575222479752,
          -0.8217711389264142,
          1.1048384725245357,
          1.2149480117740057,
          1.9949756503818386,
          -0.21438775731404128,
          -0.42177415282852676,
          1.1499665354881479,
          0.23124086825926587,
          0.16761476703225098,
          -0.14188263184526026,
          1.2963591778857908,
          -0.0015903658037731045,
          -1.1750227183435296,
          -0.5146625844422362,
          0.04525138896638736,
          -1.5158560076332714,
          1.4406393720384827,
          1.0078606044802698,
          -0.12062413745357488,
          -0.6826130761628161,
          -2.367040772010056,
          0.6160818040935914,
          2.416724620529064,
          -0.02413914940279359,
          1.2671432363260808,
          0.2447521594542125,
          -1.2762423050923153,
          1.087979549415762,
          -0.10309456170998484,
          -0.980895290291369,
          -0.5730758333602567,
          1.9394435189591532,
          0.5356258340664333,
          0.39708387457322813,
          0.7091732169573783,
          -0.04977270833216509,
          0.03530437065346389,
          1.2614908521508261,
          0.013803138309950282,
          -0.32250403925302146,
          0.36824266995696003,
          -0.2654923739716801,
          1.8731019929541703,
          0.4285525395547248,
          0.7672964842434786,
          -0.2944144574609767,
          0.5933737771391042,
          -0.40141253257098036,
          0.28440855406739873,
          -0.21540319371195374
         ]
        }
       ],
       "layout": {
        "legend": {
         "bgcolor": "#F5F6F9",
         "font": {
          "color": "#4D5663"
         }
        },
        "paper_bgcolor": "#F5F6F9",
        "plot_bgcolor": "#F5F6F9",
        "template": {
         "data": {
          "bar": [
           {
            "error_x": {
             "color": "#2a3f5f"
            },
            "error_y": {
             "color": "#2a3f5f"
            },
            "marker": {
             "line": {
              "color": "#E5ECF6",
              "width": 0.5
             }
            },
            "type": "bar"
           }
          ],
          "barpolar": [
           {
            "marker": {
             "line": {
              "color": "#E5ECF6",
              "width": 0.5
             }
            },
            "type": "barpolar"
           }
          ],
          "carpet": [
           {
            "aaxis": {
             "endlinecolor": "#2a3f5f",
             "gridcolor": "white",
             "linecolor": "white",
             "minorgridcolor": "white",
             "startlinecolor": "#2a3f5f"
            },
            "baxis": {
             "endlinecolor": "#2a3f5f",
             "gridcolor": "white",
             "linecolor": "white",
             "minorgridcolor": "white",
             "startlinecolor": "#2a3f5f"
            },
            "type": "carpet"
           }
          ],
          "choropleth": [
           {
            "colorbar": {
             "outlinewidth": 0,
             "ticks": ""
            },
            "type": "choropleth"
           }
          ],
          "contour": [
           {
            "colorbar": {
             "outlinewidth": 0,
             "ticks": ""
            },
            "colorscale": [
             [
              0,
              "#0d0887"
             ],
             [
              0.1111111111111111,
              "#46039f"
             ],
             [
              0.2222222222222222,
              "#7201a8"
             ],
             [
              0.3333333333333333,
              "#9c179e"
             ],
             [
              0.4444444444444444,
              "#bd3786"
             ],
             [
              0.5555555555555556,
              "#d8576b"
             ],
             [
              0.6666666666666666,
              "#ed7953"
             ],
             [
              0.7777777777777778,
              "#fb9f3a"
             ],
             [
              0.8888888888888888,
              "#fdca26"
             ],
             [
              1,
              "#f0f921"
             ]
            ],
            "type": "contour"
           }
          ],
          "contourcarpet": [
           {
            "colorbar": {
             "outlinewidth": 0,
             "ticks": ""
            },
            "type": "contourcarpet"
           }
          ],
          "heatmap": [
           {
            "colorbar": {
             "outlinewidth": 0,
             "ticks": ""
            },
            "colorscale": [
             [
              0,
              "#0d0887"
             ],
             [
              0.1111111111111111,
              "#46039f"
             ],
             [
              0.2222222222222222,
              "#7201a8"
             ],
             [
              0.3333333333333333,
              "#9c179e"
             ],
             [
              0.4444444444444444,
              "#bd3786"
             ],
             [
              0.5555555555555556,
              "#d8576b"
             ],
             [
              0.6666666666666666,
              "#ed7953"
             ],
             [
              0.7777777777777778,
              "#fb9f3a"
             ],
             [
              0.8888888888888888,
              "#fdca26"
             ],
             [
              1,
              "#f0f921"
             ]
            ],
            "type": "heatmap"
           }
          ],
          "heatmapgl": [
           {
            "colorbar": {
             "outlinewidth": 0,
             "ticks": ""
            },
            "colorscale": [
             [
              0,
              "#0d0887"
             ],
             [
              0.1111111111111111,
              "#46039f"
             ],
             [
              0.2222222222222222,
              "#7201a8"
             ],
             [
              0.3333333333333333,
              "#9c179e"
             ],
             [
              0.4444444444444444,
              "#bd3786"
             ],
             [
              0.5555555555555556,
              "#d8576b"
             ],
             [
              0.6666666666666666,
              "#ed7953"
             ],
             [
              0.7777777777777778,
              "#fb9f3a"
             ],
             [
              0.8888888888888888,
              "#fdca26"
             ],
             [
              1,
              "#f0f921"
             ]
            ],
            "type": "heatmapgl"
           }
          ],
          "histogram": [
           {
            "marker": {
             "colorbar": {
              "outlinewidth": 0,
              "ticks": ""
             }
            },
            "type": "histogram"
           }
          ],
          "histogram2d": [
           {
            "colorbar": {
             "outlinewidth": 0,
             "ticks": ""
            },
            "colorscale": [
             [
              0,
              "#0d0887"
             ],
             [
              0.1111111111111111,
              "#46039f"
             ],
             [
              0.2222222222222222,
              "#7201a8"
             ],
             [
              0.3333333333333333,
              "#9c179e"
             ],
             [
              0.4444444444444444,
              "#bd3786"
             ],
             [
              0.5555555555555556,
              "#d8576b"
             ],
             [
              0.6666666666666666,
              "#ed7953"
             ],
             [
              0.7777777777777778,
              "#fb9f3a"
             ],
             [
              0.8888888888888888,
              "#fdca26"
             ],
             [
              1,
              "#f0f921"
             ]
            ],
            "type": "histogram2d"
           }
          ],
          "histogram2dcontour": [
           {
            "colorbar": {
             "outlinewidth": 0,
             "ticks": ""
            },
            "colorscale": [
             [
              0,
              "#0d0887"
             ],
             [
              0.1111111111111111,
              "#46039f"
             ],
             [
              0.2222222222222222,
              "#7201a8"
             ],
             [
              0.3333333333333333,
              "#9c179e"
             ],
             [
              0.4444444444444444,
              "#bd3786"
             ],
             [
              0.5555555555555556,
              "#d8576b"
             ],
             [
              0.6666666666666666,
              "#ed7953"
             ],
             [
              0.7777777777777778,
              "#fb9f3a"
             ],
             [
              0.8888888888888888,
              "#fdca26"
             ],
             [
              1,
              "#f0f921"
             ]
            ],
            "type": "histogram2dcontour"
           }
          ],
          "mesh3d": [
           {
            "colorbar": {
             "outlinewidth": 0,
             "ticks": ""
            },
            "type": "mesh3d"
           }
          ],
          "parcoords": [
           {
            "line": {
             "colorbar": {
              "outlinewidth": 0,
              "ticks": ""
             }
            },
            "type": "parcoords"
           }
          ],
          "pie": [
           {
            "automargin": true,
            "type": "pie"
           }
          ],
          "scatter": [
           {
            "marker": {
             "colorbar": {
              "outlinewidth": 0,
              "ticks": ""
             }
            },
            "type": "scatter"
           }
          ],
          "scatter3d": [
           {
            "line": {
             "colorbar": {
              "outlinewidth": 0,
              "ticks": ""
             }
            },
            "marker": {
             "colorbar": {
              "outlinewidth": 0,
              "ticks": ""
             }
            },
            "type": "scatter3d"
           }
          ],
          "scattercarpet": [
           {
            "marker": {
             "colorbar": {
              "outlinewidth": 0,
              "ticks": ""
             }
            },
            "type": "scattercarpet"
           }
          ],
          "scattergeo": [
           {
            "marker": {
             "colorbar": {
              "outlinewidth": 0,
              "ticks": ""
             }
            },
            "type": "scattergeo"
           }
          ],
          "scattergl": [
           {
            "marker": {
             "colorbar": {
              "outlinewidth": 0,
              "ticks": ""
             }
            },
            "type": "scattergl"
           }
          ],
          "scattermapbox": [
           {
            "marker": {
             "colorbar": {
              "outlinewidth": 0,
              "ticks": ""
             }
            },
            "type": "scattermapbox"
           }
          ],
          "scatterpolar": [
           {
            "marker": {
             "colorbar": {
              "outlinewidth": 0,
              "ticks": ""
             }
            },
            "type": "scatterpolar"
           }
          ],
          "scatterpolargl": [
           {
            "marker": {
             "colorbar": {
              "outlinewidth": 0,
              "ticks": ""
             }
            },
            "type": "scatterpolargl"
           }
          ],
          "scatterternary": [
           {
            "marker": {
             "colorbar": {
              "outlinewidth": 0,
              "ticks": ""
             }
            },
            "type": "scatterternary"
           }
          ],
          "surface": [
           {
            "colorbar": {
             "outlinewidth": 0,
             "ticks": ""
            },
            "colorscale": [
             [
              0,
              "#0d0887"
             ],
             [
              0.1111111111111111,
              "#46039f"
             ],
             [
              0.2222222222222222,
              "#7201a8"
             ],
             [
              0.3333333333333333,
              "#9c179e"
             ],
             [
              0.4444444444444444,
              "#bd3786"
             ],
             [
              0.5555555555555556,
              "#d8576b"
             ],
             [
              0.6666666666666666,
              "#ed7953"
             ],
             [
              0.7777777777777778,
              "#fb9f3a"
             ],
             [
              0.8888888888888888,
              "#fdca26"
             ],
             [
              1,
              "#f0f921"
             ]
            ],
            "type": "surface"
           }
          ],
          "table": [
           {
            "cells": {
             "fill": {
              "color": "#EBF0F8"
             },
             "line": {
              "color": "white"
             }
            },
            "header": {
             "fill": {
              "color": "#C8D4E3"
             },
             "line": {
              "color": "white"
             }
            },
            "type": "table"
           }
          ]
         },
         "layout": {
          "annotationdefaults": {
           "arrowcolor": "#2a3f5f",
           "arrowhead": 0,
           "arrowwidth": 1
          },
          "coloraxis": {
           "colorbar": {
            "outlinewidth": 0,
            "ticks": ""
           }
          },
          "colorscale": {
           "diverging": [
            [
             0,
             "#8e0152"
            ],
            [
             0.1,
             "#c51b7d"
            ],
            [
             0.2,
             "#de77ae"
            ],
            [
             0.3,
             "#f1b6da"
            ],
            [
             0.4,
             "#fde0ef"
            ],
            [
             0.5,
             "#f7f7f7"
            ],
            [
             0.6,
             "#e6f5d0"
            ],
            [
             0.7,
             "#b8e186"
            ],
            [
             0.8,
             "#7fbc41"
            ],
            [
             0.9,
             "#4d9221"
            ],
            [
             1,
             "#276419"
            ]
           ],
           "sequential": [
            [
             0,
             "#0d0887"
            ],
            [
             0.1111111111111111,
             "#46039f"
            ],
            [
             0.2222222222222222,
             "#7201a8"
            ],
            [
             0.3333333333333333,
             "#9c179e"
            ],
            [
             0.4444444444444444,
             "#bd3786"
            ],
            [
             0.5555555555555556,
             "#d8576b"
            ],
            [
             0.6666666666666666,
             "#ed7953"
            ],
            [
             0.7777777777777778,
             "#fb9f3a"
            ],
            [
             0.8888888888888888,
             "#fdca26"
            ],
            [
             1,
             "#f0f921"
            ]
           ],
           "sequentialminus": [
            [
             0,
             "#0d0887"
            ],
            [
             0.1111111111111111,
             "#46039f"
            ],
            [
             0.2222222222222222,
             "#7201a8"
            ],
            [
             0.3333333333333333,
             "#9c179e"
            ],
            [
             0.4444444444444444,
             "#bd3786"
            ],
            [
             0.5555555555555556,
             "#d8576b"
            ],
            [
             0.6666666666666666,
             "#ed7953"
            ],
            [
             0.7777777777777778,
             "#fb9f3a"
            ],
            [
             0.8888888888888888,
             "#fdca26"
            ],
            [
             1,
             "#f0f921"
            ]
           ]
          },
          "colorway": [
           "#636efa",
           "#EF553B",
           "#00cc96",
           "#ab63fa",
           "#FFA15A",
           "#19d3f3",
           "#FF6692",
           "#B6E880",
           "#FF97FF",
           "#FECB52"
          ],
          "font": {
           "color": "#2a3f5f"
          },
          "geo": {
           "bgcolor": "white",
           "lakecolor": "white",
           "landcolor": "#E5ECF6",
           "showlakes": true,
           "showland": true,
           "subunitcolor": "white"
          },
          "hoverlabel": {
           "align": "left"
          },
          "hovermode": "closest",
          "mapbox": {
           "style": "light"
          },
          "paper_bgcolor": "white",
          "plot_bgcolor": "#E5ECF6",
          "polar": {
           "angularaxis": {
            "gridcolor": "white",
            "linecolor": "white",
            "ticks": ""
           },
           "bgcolor": "#E5ECF6",
           "radialaxis": {
            "gridcolor": "white",
            "linecolor": "white",
            "ticks": ""
           }
          },
          "scene": {
           "xaxis": {
            "backgroundcolor": "#E5ECF6",
            "gridcolor": "white",
            "gridwidth": 2,
            "linecolor": "white",
            "showbackground": true,
            "ticks": "",
            "zerolinecolor": "white"
           },
           "yaxis": {
            "backgroundcolor": "#E5ECF6",
            "gridcolor": "white",
            "gridwidth": 2,
            "linecolor": "white",
            "showbackground": true,
            "ticks": "",
            "zerolinecolor": "white"
           },
           "zaxis": {
            "backgroundcolor": "#E5ECF6",
            "gridcolor": "white",
            "gridwidth": 2,
            "linecolor": "white",
            "showbackground": true,
            "ticks": "",
            "zerolinecolor": "white"
           }
          },
          "shapedefaults": {
           "line": {
            "color": "#2a3f5f"
           }
          },
          "ternary": {
           "aaxis": {
            "gridcolor": "white",
            "linecolor": "white",
            "ticks": ""
           },
           "baxis": {
            "gridcolor": "white",
            "linecolor": "white",
            "ticks": ""
           },
           "bgcolor": "#E5ECF6",
           "caxis": {
            "gridcolor": "white",
            "linecolor": "white",
            "ticks": ""
           }
          },
          "title": {
           "x": 0.05
          },
          "xaxis": {
           "automargin": true,
           "gridcolor": "white",
           "linecolor": "white",
           "ticks": "",
           "title": {
            "standoff": 15
           },
           "zerolinecolor": "white",
           "zerolinewidth": 2
          },
          "yaxis": {
           "automargin": true,
           "gridcolor": "white",
           "linecolor": "white",
           "ticks": "",
           "title": {
            "standoff": 15
           },
           "zerolinecolor": "white",
           "zerolinewidth": 2
          }
         }
        },
        "title": {
         "font": {
          "color": "#4D5663"
         }
        },
        "xaxis": {
         "gridcolor": "#E1E5ED",
         "showgrid": true,
         "tickfont": {
          "color": "#4D5663"
         },
         "title": {
          "font": {
           "color": "#4D5663"
          },
          "text": ""
         },
         "zerolinecolor": "#E1E5ED"
        },
        "yaxis": {
         "gridcolor": "#E1E5ED",
         "showgrid": true,
         "tickfont": {
          "color": "#4D5663"
         },
         "title": {
          "font": {
           "color": "#4D5663"
          },
          "text": ""
         },
         "zerolinecolor": "#E1E5ED"
        }
       }
      },
      "text/html": [
       "<div>                            <div id=\"1e962759-1db7-4f3f-9952-5baf0a0882fb\" class=\"plotly-graph-div\" style=\"height:525px; width:100%;\"></div>            <script type=\"text/javascript\">                require([\"plotly\"], function(Plotly) {                    window.PLOTLYENV=window.PLOTLYENV || {};\n",
       "                    window.PLOTLYENV.BASE_URL='https://plot.ly';                                    if (document.getElementById(\"1e962759-1db7-4f3f-9952-5baf0a0882fb\")) {                    Plotly.newPlot(                        \"1e962759-1db7-4f3f-9952-5baf0a0882fb\",                        [{\"boxpoints\": false, \"line\": {\"width\": 1.3}, \"marker\": {\"color\": \"rgba(255, 153, 51, 1.0)\"}, \"name\": \"A\", \"orientation\": \"v\", \"type\": \"box\", \"y\": [-0.7017613191698328, 0.01679259812028604, 0.8925912413549707, -0.6668670618650194, -0.08966585714852059, -0.24458849205836947, -0.4022839095584551, 0.7369432460042893, -1.2494079912136582, -0.6401976385659033, 0.35695542238683164, -0.31573632031264465, -0.29246285955204526, -1.1497298652321202, -1.9829912112648982, 0.5098656704313177, 2.188181621409416, -1.8772696836014646, -0.4205418507884751, 0.30075831472836556, 0.2473020794475996, 1.0923057343868103, 2.214046009241756, 1.4336535784483952, 1.4496004076576658, -0.682315049522406, 1.598661713427201, 1.4227754396583445, -1.0553567255207785, -1.4467280078731937, 0.20179887245784411, 0.35903774873412975, -0.3555565196644582, 1.0761852720282128, -0.8916717438447009, -1.0601444174693633, 2.0819303347522395, -0.7167603005349762, -1.53530673446921, 1.9133948727068533, 1.0407153002753171, 1.4532560987038319, 0.013243946716610581, 0.07978980625508145, -0.7928520041366476, 0.9490485222915815, 0.6796773785389835, -0.5312708016279892, -0.42543554249806664, 0.10502509437704735, 1.6737017511277883, -1.8668727674163699, 0.22836886459639544, 1.218973217565057, 0.40212949895106903, 0.47944343085272584, 1.2304180606624848, 0.9922489862689469, 1.4686658229282794, 2.0143136536858615, -0.14595261041800572, -1.1518106457881085, -0.6742607596454501, -0.7520225160865858, -0.08264514311404035, -1.944206140200247, -0.8218453602495646, -0.9346787373246029, -0.22471916393044564, -1.0780813137475604, 1.0931423702001777, 0.1110246057804523, 0.45843380751609986, -1.1479604243030028, 0.06401934841743986, -0.40936004108937313, -2.475032937690778, -0.5798847812432872, 0.14760048032172526, -1.4746689176623073, -0.8130010946296682, 0.8174795080559044, 1.2400992521174226, -1.1738531185743155, 0.14683153608009747, -1.08192782694488, 0.23943436417174233, -1.8361135319933861, 0.4890161330117654, 1.6763408612708235, 0.140950911004665, -0.34898665268627543, 0.9774154607000615, 1.4071048918097957, 0.9928899978366662, 0.47473909400514425, -1.0159736244406523, -1.2328148128058634, 1.5251809494141184, 0.9749457059105875]}, {\"boxpoints\": false, \"line\": {\"width\": 1.3}, \"marker\": {\"color\": \"rgba(55, 128, 191, 1.0)\"}, \"name\": \"B\", \"orientation\": \"v\", \"type\": \"box\", \"y\": [1.096107160913988, -0.9737302345058281, -0.7250110916221839, 0.7674488710153434, -0.5886541668788527, -1.0622784516157855, -1.2238707436028022, 0.5253344718323851, -1.2878683268608349, -0.29911395934561635, 0.3228157242692437, -1.3772019647253797, 0.8422799608523274, 0.46673940511242085, -1.9024107187745396, 0.155657667140865, -0.7071356823154644, 1.2253160474108702, -0.2882825609357239, 0.36254222065700026, -1.1010538416552, 1.492275113314927, -0.8466546929147944, -1.407165100389169, 1.5632998286714186, -1.844746282810375, 0.15876902191918163, -1.5707713349068917, -0.8912945042064594, -1.1888331358388045, -0.27504992184297344, 0.7719987193746825, 1.0204442420513675, -0.8759967579455494, 0.315369460523939, -0.21239405545229284, -0.6288758205361382, -1.107447520892792, -0.2747002480687447, -0.4878952806445132, 0.45536338144084904, -0.06056216817983006, 0.9155766888351832, 0.3225396215491934, 1.336825319564932, -0.37695618372560696, 0.6325172658764953, 0.26144100072357696, -0.9176232114780261, -1.208512843841877, -0.1316287517068255, 0.8046785617875465, -0.5298092909996793, -0.37895398463692803, -0.05015310836103133, 1.8473860712933061, 1.5828731768120015, -0.8313732498063346, 1.56577510300552, -0.09835768242436443, -0.388099432966121, 0.9213329848355416, -2.348329762291072, -0.3698905589364241, -1.3494687348772076, 1.3037780678011601, 2.417803512990605, 0.29235264572616937, -0.8885381405600554, 1.298273421113763, -0.3243102006073436, 1.7694595161130415, 1.1645387332927113, 0.6288572400159901, -0.4527526189306913, 1.9960678439093071, -0.041270654120210824, 1.2496205442177806, -0.8840401546835186, 0.8183218519596385, -2.0264573504660435, -0.4060040927237812, 0.4729778895675059, -1.018633095188232, -0.29007097710175345, -0.06404339828919584, -2.1361917322659645, 0.2609275108959407, 0.8218707805270796, 0.9456373949586805, 0.8181515489793115, -1.4850632655046452, 0.811063068792345, -0.31666137234541136, 1.2786160004896594, 0.8786720744927401, 0.3944281417496477, 0.22966085439033096, 0.1673512133000957, -0.35535519018683315]}, {\"boxpoints\": false, \"line\": {\"width\": 1.3}, \"marker\": {\"color\": \"rgba(50, 171, 96, 1.0)\"}, \"name\": \"C\", \"orientation\": \"v\", \"type\": \"box\", \"y\": [-0.7190573047379413, -0.5218718981353269, -2.1275080461682445, -0.26960277311906, -1.0790737644754171, 0.7341284109331028, -1.266846062375404, -1.2387256433799363, -0.21932968038558281, -0.013187734310136546, 0.7032215937556977, 0.12120609567616611, -0.35209807800567167, 0.5134455262152473, -0.26475513443163706, -0.7451059786687938, 0.3943095743441828, 0.3713231796345752, 1.6286334447211743, 1.8442538198408855, -1.151830965301197, 0.5229720015753714, 0.881194453165917, 1.606844883388436, 1.4226236804197914, -0.9147988163058547, -0.3103286360332352, -0.6080075048503447, -2.465086189765115, 1.0515487947146003, 0.9350470844581024, 0.06056732333367964, -0.48728832073017975, -0.5341429120950548, 0.567108178025013, -1.426519473921635, 0.42768715035685445, 1.328981492746673, -1.3581344700053142, -0.5620634315264172, -0.4546029207207217, 2.024428908600939, -2.2446087801726655, -0.11575069506561245, -0.42293352730504197, -0.715839010337148, -0.413273278778596, -0.3515080434189393, -1.7165045749911738, 2.1214726728907998, -0.26197840327992683, -1.4822822334419699, -0.9740005446679961, 1.3633555475638726, -1.3245938521217255, 1.056420702314937, -0.34758214747490396, -0.24722960505443037, -0.7186505583381386, 0.1898097306266676, 0.43299129289059984, -0.9362834976115473, -1.4298244426857565, -1.0534077564072122, 1.8593094016744611, 0.8548661205200041, -1.3926642016521464, -0.5053390753017923, -0.682033657955724, 0.4780039408444455, 0.4300136249879697, 0.980883202547787, -0.22924488568444756, -0.6586989779084301, -0.4007190910086093, 0.3972123229401916, 1.3029152807213498, -0.3815785754169035, -0.7484065978209936, 0.8210504140417529, -0.20601732878354262, 0.24761134531898804, 0.7040517682313486, 0.14880891665905396, -0.7986815187922411, -2.378780532301465, 0.3187482514131689, -0.9934186516974625, 1.1509456174198616, -0.4451139762514316, -0.016631977140144284, -1.0362573529744676, 0.7409713523742906, 1.5830793365139446, 0.6765580609132692, 0.1853833194790049, -0.6181347969700357, -0.34580794958581784, 1.6797600008794107, 0.5880586721788934]}, {\"boxpoints\": false, \"line\": {\"width\": 1.3}, \"marker\": {\"color\": \"rgba(128, 0, 128, 1.0)\"}, \"name\": \"D\", \"orientation\": \"v\", \"type\": \"box\", \"y\": [-2.7100027074512263, 1.5092298638203234, 1.1057494615184085, 2.1211286432568324, -1.1914403370727311, 0.41929186434710386, -0.8912222018834959, 0.8032717543495098, 0.5323382839005606, 0.7387146178691983, 0.5262429080554617, 0.6314237830695967, -0.6245340419464724, -0.38653643401312915, -3.2315136838898405e-05, 0.6594586539018324, -0.8329134530810053, 1.7016483503963837, -0.43409322580015036, 0.2379801323068665, 1.6818622904089098, -0.30146283972452553, 0.2551305621479686, -0.045384304234003546, -0.00821748274901138, -0.6648783946530121, 0.8481206379652664, -0.7073702075946093, 0.3222214926225584, -0.9556689747586344, 0.5634897506208155, 0.8973608738586154, 0.13521149549799152, -0.351024519858675, -1.167015643327293, 0.9354356194470855, 0.12385613021386416, 1.5383648033578345, 1.901857447308807, -0.3866803452023101, 0.5323164116776599, -1.0350154451302893, -0.5885030194095547, 0.37310283740938044, 0.7948691117118398, -0.06642443103251437, -0.15958262124597886, -0.1970990048918327, 0.5781068521769578, -0.527575222479752, -0.8217711389264142, 1.1048384725245357, 1.2149480117740057, 1.9949756503818386, -0.21438775731404128, -0.42177415282852676, 1.1499665354881479, 0.23124086825926587, 0.16761476703225098, -0.14188263184526026, 1.2963591778857908, -0.0015903658037731045, -1.1750227183435296, -0.5146625844422362, 0.04525138896638736, -1.5158560076332714, 1.4406393720384827, 1.0078606044802698, -0.12062413745357488, -0.6826130761628161, -2.367040772010056, 0.6160818040935914, 2.416724620529064, -0.02413914940279359, 1.2671432363260808, 0.2447521594542125, -1.2762423050923153, 1.087979549415762, -0.10309456170998484, -0.980895290291369, -0.5730758333602567, 1.9394435189591532, 0.5356258340664333, 0.39708387457322813, 0.7091732169573783, -0.04977270833216509, 0.03530437065346389, 1.2614908521508261, 0.013803138309950282, -0.32250403925302146, 0.36824266995696003, -0.2654923739716801, 1.8731019929541703, 0.4285525395547248, 0.7672964842434786, -0.2944144574609767, 0.5933737771391042, -0.40141253257098036, 0.28440855406739873, -0.21540319371195374]}],                        {\"legend\": {\"bgcolor\": \"#F5F6F9\", \"font\": {\"color\": \"#4D5663\"}}, \"paper_bgcolor\": \"#F5F6F9\", \"plot_bgcolor\": \"#F5F6F9\", \"template\": {\"data\": {\"bar\": [{\"error_x\": {\"color\": \"#2a3f5f\"}, \"error_y\": {\"color\": \"#2a3f5f\"}, \"marker\": {\"line\": {\"color\": \"#E5ECF6\", \"width\": 0.5}}, \"type\": \"bar\"}], \"barpolar\": [{\"marker\": {\"line\": {\"color\": \"#E5ECF6\", \"width\": 0.5}}, \"type\": \"barpolar\"}], \"carpet\": [{\"aaxis\": {\"endlinecolor\": \"#2a3f5f\", \"gridcolor\": \"white\", \"linecolor\": \"white\", \"minorgridcolor\": \"white\", \"startlinecolor\": \"#2a3f5f\"}, \"baxis\": {\"endlinecolor\": \"#2a3f5f\", \"gridcolor\": \"white\", \"linecolor\": \"white\", \"minorgridcolor\": \"white\", \"startlinecolor\": \"#2a3f5f\"}, \"type\": \"carpet\"}], \"choropleth\": [{\"colorbar\": {\"outlinewidth\": 0, \"ticks\": \"\"}, \"type\": \"choropleth\"}], \"contour\": [{\"colorbar\": {\"outlinewidth\": 0, \"ticks\": \"\"}, \"colorscale\": [[0.0, \"#0d0887\"], [0.1111111111111111, \"#46039f\"], [0.2222222222222222, \"#7201a8\"], [0.3333333333333333, \"#9c179e\"], [0.4444444444444444, \"#bd3786\"], [0.5555555555555556, \"#d8576b\"], [0.6666666666666666, \"#ed7953\"], [0.7777777777777778, \"#fb9f3a\"], [0.8888888888888888, \"#fdca26\"], [1.0, \"#f0f921\"]], \"type\": \"contour\"}], \"contourcarpet\": [{\"colorbar\": {\"outlinewidth\": 0, \"ticks\": \"\"}, \"type\": \"contourcarpet\"}], \"heatmap\": [{\"colorbar\": {\"outlinewidth\": 0, \"ticks\": \"\"}, \"colorscale\": [[0.0, \"#0d0887\"], [0.1111111111111111, \"#46039f\"], [0.2222222222222222, \"#7201a8\"], [0.3333333333333333, \"#9c179e\"], [0.4444444444444444, \"#bd3786\"], [0.5555555555555556, \"#d8576b\"], [0.6666666666666666, \"#ed7953\"], [0.7777777777777778, \"#fb9f3a\"], [0.8888888888888888, \"#fdca26\"], [1.0, \"#f0f921\"]], \"type\": \"heatmap\"}], \"heatmapgl\": [{\"colorbar\": {\"outlinewidth\": 0, \"ticks\": \"\"}, \"colorscale\": [[0.0, \"#0d0887\"], [0.1111111111111111, \"#46039f\"], [0.2222222222222222, \"#7201a8\"], [0.3333333333333333, \"#9c179e\"], [0.4444444444444444, \"#bd3786\"], [0.5555555555555556, \"#d8576b\"], [0.6666666666666666, \"#ed7953\"], [0.7777777777777778, \"#fb9f3a\"], [0.8888888888888888, \"#fdca26\"], [1.0, \"#f0f921\"]], \"type\": \"heatmapgl\"}], \"histogram\": [{\"marker\": {\"colorbar\": {\"outlinewidth\": 0, \"ticks\": \"\"}}, \"type\": \"histogram\"}], \"histogram2d\": [{\"colorbar\": {\"outlinewidth\": 0, \"ticks\": \"\"}, \"colorscale\": [[0.0, \"#0d0887\"], [0.1111111111111111, \"#46039f\"], [0.2222222222222222, \"#7201a8\"], [0.3333333333333333, \"#9c179e\"], [0.4444444444444444, \"#bd3786\"], [0.5555555555555556, \"#d8576b\"], [0.6666666666666666, \"#ed7953\"], [0.7777777777777778, \"#fb9f3a\"], [0.8888888888888888, \"#fdca26\"], [1.0, \"#f0f921\"]], \"type\": \"histogram2d\"}], \"histogram2dcontour\": [{\"colorbar\": {\"outlinewidth\": 0, \"ticks\": \"\"}, \"colorscale\": [[0.0, \"#0d0887\"], [0.1111111111111111, \"#46039f\"], [0.2222222222222222, \"#7201a8\"], [0.3333333333333333, \"#9c179e\"], [0.4444444444444444, \"#bd3786\"], [0.5555555555555556, \"#d8576b\"], [0.6666666666666666, \"#ed7953\"], [0.7777777777777778, \"#fb9f3a\"], [0.8888888888888888, \"#fdca26\"], [1.0, \"#f0f921\"]], \"type\": \"histogram2dcontour\"}], \"mesh3d\": [{\"colorbar\": {\"outlinewidth\": 0, \"ticks\": \"\"}, \"type\": \"mesh3d\"}], \"parcoords\": [{\"line\": {\"colorbar\": {\"outlinewidth\": 0, \"ticks\": \"\"}}, \"type\": \"parcoords\"}], \"pie\": [{\"automargin\": true, \"type\": \"pie\"}], \"scatter\": [{\"marker\": {\"colorbar\": {\"outlinewidth\": 0, \"ticks\": \"\"}}, \"type\": \"scatter\"}], \"scatter3d\": [{\"line\": {\"colorbar\": {\"outlinewidth\": 0, \"ticks\": \"\"}}, \"marker\": {\"colorbar\": {\"outlinewidth\": 0, \"ticks\": \"\"}}, \"type\": \"scatter3d\"}], \"scattercarpet\": [{\"marker\": {\"colorbar\": {\"outlinewidth\": 0, \"ticks\": \"\"}}, \"type\": \"scattercarpet\"}], \"scattergeo\": [{\"marker\": {\"colorbar\": {\"outlinewidth\": 0, \"ticks\": \"\"}}, \"type\": \"scattergeo\"}], \"scattergl\": [{\"marker\": {\"colorbar\": {\"outlinewidth\": 0, \"ticks\": \"\"}}, \"type\": \"scattergl\"}], \"scattermapbox\": [{\"marker\": {\"colorbar\": {\"outlinewidth\": 0, \"ticks\": \"\"}}, \"type\": \"scattermapbox\"}], \"scatterpolar\": [{\"marker\": {\"colorbar\": {\"outlinewidth\": 0, \"ticks\": \"\"}}, \"type\": \"scatterpolar\"}], \"scatterpolargl\": [{\"marker\": {\"colorbar\": {\"outlinewidth\": 0, \"ticks\": \"\"}}, \"type\": \"scatterpolargl\"}], \"scatterternary\": [{\"marker\": {\"colorbar\": {\"outlinewidth\": 0, \"ticks\": \"\"}}, \"type\": \"scatterternary\"}], \"surface\": [{\"colorbar\": {\"outlinewidth\": 0, \"ticks\": \"\"}, \"colorscale\": [[0.0, \"#0d0887\"], [0.1111111111111111, \"#46039f\"], [0.2222222222222222, \"#7201a8\"], [0.3333333333333333, \"#9c179e\"], [0.4444444444444444, \"#bd3786\"], [0.5555555555555556, \"#d8576b\"], [0.6666666666666666, \"#ed7953\"], [0.7777777777777778, \"#fb9f3a\"], [0.8888888888888888, \"#fdca26\"], [1.0, \"#f0f921\"]], \"type\": \"surface\"}], \"table\": [{\"cells\": {\"fill\": {\"color\": \"#EBF0F8\"}, \"line\": {\"color\": \"white\"}}, \"header\": {\"fill\": {\"color\": \"#C8D4E3\"}, \"line\": {\"color\": \"white\"}}, \"type\": \"table\"}]}, \"layout\": {\"annotationdefaults\": {\"arrowcolor\": \"#2a3f5f\", \"arrowhead\": 0, \"arrowwidth\": 1}, \"coloraxis\": {\"colorbar\": {\"outlinewidth\": 0, \"ticks\": \"\"}}, \"colorscale\": {\"diverging\": [[0, \"#8e0152\"], [0.1, \"#c51b7d\"], [0.2, \"#de77ae\"], [0.3, \"#f1b6da\"], [0.4, \"#fde0ef\"], [0.5, \"#f7f7f7\"], [0.6, \"#e6f5d0\"], [0.7, \"#b8e186\"], [0.8, \"#7fbc41\"], [0.9, \"#4d9221\"], [1, \"#276419\"]], \"sequential\": [[0.0, \"#0d0887\"], [0.1111111111111111, \"#46039f\"], [0.2222222222222222, \"#7201a8\"], [0.3333333333333333, \"#9c179e\"], [0.4444444444444444, \"#bd3786\"], [0.5555555555555556, \"#d8576b\"], [0.6666666666666666, \"#ed7953\"], [0.7777777777777778, \"#fb9f3a\"], [0.8888888888888888, \"#fdca26\"], [1.0, \"#f0f921\"]], \"sequentialminus\": [[0.0, \"#0d0887\"], [0.1111111111111111, \"#46039f\"], [0.2222222222222222, \"#7201a8\"], [0.3333333333333333, \"#9c179e\"], [0.4444444444444444, \"#bd3786\"], [0.5555555555555556, \"#d8576b\"], [0.6666666666666666, \"#ed7953\"], [0.7777777777777778, \"#fb9f3a\"], [0.8888888888888888, \"#fdca26\"], [1.0, \"#f0f921\"]]}, \"colorway\": [\"#636efa\", \"#EF553B\", \"#00cc96\", \"#ab63fa\", \"#FFA15A\", \"#19d3f3\", \"#FF6692\", \"#B6E880\", \"#FF97FF\", \"#FECB52\"], \"font\": {\"color\": \"#2a3f5f\"}, \"geo\": {\"bgcolor\": \"white\", \"lakecolor\": \"white\", \"landcolor\": \"#E5ECF6\", \"showlakes\": true, \"showland\": true, \"subunitcolor\": \"white\"}, \"hoverlabel\": {\"align\": \"left\"}, \"hovermode\": \"closest\", \"mapbox\": {\"style\": \"light\"}, \"paper_bgcolor\": \"white\", \"plot_bgcolor\": \"#E5ECF6\", \"polar\": {\"angularaxis\": {\"gridcolor\": \"white\", \"linecolor\": \"white\", \"ticks\": \"\"}, \"bgcolor\": \"#E5ECF6\", \"radialaxis\": {\"gridcolor\": \"white\", \"linecolor\": \"white\", \"ticks\": \"\"}}, \"scene\": {\"xaxis\": {\"backgroundcolor\": \"#E5ECF6\", \"gridcolor\": \"white\", \"gridwidth\": 2, \"linecolor\": \"white\", \"showbackground\": true, \"ticks\": \"\", \"zerolinecolor\": \"white\"}, \"yaxis\": {\"backgroundcolor\": \"#E5ECF6\", \"gridcolor\": \"white\", \"gridwidth\": 2, \"linecolor\": \"white\", \"showbackground\": true, \"ticks\": \"\", \"zerolinecolor\": \"white\"}, \"zaxis\": {\"backgroundcolor\": \"#E5ECF6\", \"gridcolor\": \"white\", \"gridwidth\": 2, \"linecolor\": \"white\", \"showbackground\": true, \"ticks\": \"\", \"zerolinecolor\": \"white\"}}, \"shapedefaults\": {\"line\": {\"color\": \"#2a3f5f\"}}, \"ternary\": {\"aaxis\": {\"gridcolor\": \"white\", \"linecolor\": \"white\", \"ticks\": \"\"}, \"baxis\": {\"gridcolor\": \"white\", \"linecolor\": \"white\", \"ticks\": \"\"}, \"bgcolor\": \"#E5ECF6\", \"caxis\": {\"gridcolor\": \"white\", \"linecolor\": \"white\", \"ticks\": \"\"}}, \"title\": {\"x\": 0.05}, \"xaxis\": {\"automargin\": true, \"gridcolor\": \"white\", \"linecolor\": \"white\", \"ticks\": \"\", \"title\": {\"standoff\": 15}, \"zerolinecolor\": \"white\", \"zerolinewidth\": 2}, \"yaxis\": {\"automargin\": true, \"gridcolor\": \"white\", \"linecolor\": \"white\", \"ticks\": \"\", \"title\": {\"standoff\": 15}, \"zerolinecolor\": \"white\", \"zerolinewidth\": 2}}}, \"title\": {\"font\": {\"color\": \"#4D5663\"}}, \"xaxis\": {\"gridcolor\": \"#E1E5ED\", \"showgrid\": true, \"tickfont\": {\"color\": \"#4D5663\"}, \"title\": {\"font\": {\"color\": \"#4D5663\"}, \"text\": \"\"}, \"zerolinecolor\": \"#E1E5ED\"}, \"yaxis\": {\"gridcolor\": \"#E1E5ED\", \"showgrid\": true, \"tickfont\": {\"color\": \"#4D5663\"}, \"title\": {\"font\": {\"color\": \"#4D5663\"}, \"text\": \"\"}, \"zerolinecolor\": \"#E1E5ED\"}},                        {\"showLink\": true, \"linkText\": \"Export to plot.ly\", \"plotlyServerURL\": \"https://plot.ly\", \"responsive\": true}                    ).then(function(){\n",
       "                            \n",
       "var gd = document.getElementById('1e962759-1db7-4f3f-9952-5baf0a0882fb');\n",
       "var x = new MutationObserver(function (mutations, observer) {{\n",
       "        var display = window.getComputedStyle(gd).display;\n",
       "        if (!display || display === 'none') {{\n",
       "            console.log([gd, 'removed!']);\n",
       "            Plotly.purge(gd);\n",
       "            observer.disconnect();\n",
       "        }}\n",
       "}});\n",
       "\n",
       "// Listen for the removal of the full notebook cells\n",
       "var notebookContainer = gd.closest('#notebook-container');\n",
       "if (notebookContainer) {{\n",
       "    x.observe(notebookContainer, {childList: true});\n",
       "}}\n",
       "\n",
       "// Listen for the clearing of the current output cell\n",
       "var outputEl = gd.closest('.output');\n",
       "if (outputEl) {{\n",
       "    x.observe(outputEl, {childList: true});\n",
       "}}\n",
       "\n",
       "                        })                };                });            </script>        </div>"
      ]
     },
     "metadata": {},
     "output_type": "display_data"
    }
   ],
   "source": [
    "df.iplot(kind='box')"
   ]
  },
  {
   "cell_type": "markdown",
   "metadata": {},
   "source": [
    "## 3d Surface"
   ]
  },
  {
   "cell_type": "code",
   "execution_count": 15,
   "metadata": {},
   "outputs": [
    {
     "data": {
      "application/vnd.plotly.v1+json": {
       "config": {
        "linkText": "Export to plot.ly",
        "plotlyServerURL": "https://plot.ly",
        "showLink": true
       },
       "data": [
        {
         "colorscale": [
          [
           0,
           "rgb(165,0,38)"
          ],
          [
           0.1,
           "rgb(215,48,39)"
          ],
          [
           0.2,
           "rgb(244,109,67)"
          ],
          [
           0.3,
           "rgb(253,174,97)"
          ],
          [
           0.4,
           "rgb(254,224,144)"
          ],
          [
           0.5,
           "rgb(255,255,191)"
          ],
          [
           0.6,
           "rgb(224,243,248)"
          ],
          [
           0.7,
           "rgb(171,217,233)"
          ],
          [
           0.8,
           "rgb(116,173,209)"
          ],
          [
           0.9,
           "rgb(69,117,180)"
          ],
          [
           1,
           "rgb(49,54,149)"
          ]
         ],
         "type": "surface",
         "x": [
          0,
          1,
          2,
          3,
          4
         ],
         "y": [
          "x",
          "y",
          "z"
         ],
         "z": [
          [
           1,
           2,
           3,
           4,
           5
          ],
          [
           10,
           20,
           30,
           20,
           10
          ],
          [
           5,
           4,
           3,
           2,
           1
          ]
         ]
        }
       ],
       "layout": {
        "legend": {
         "bgcolor": "#F5F6F9",
         "font": {
          "color": "#4D5663"
         }
        },
        "paper_bgcolor": "#F5F6F9",
        "plot_bgcolor": "#F5F6F9",
        "template": {
         "data": {
          "bar": [
           {
            "error_x": {
             "color": "#2a3f5f"
            },
            "error_y": {
             "color": "#2a3f5f"
            },
            "marker": {
             "line": {
              "color": "#E5ECF6",
              "width": 0.5
             }
            },
            "type": "bar"
           }
          ],
          "barpolar": [
           {
            "marker": {
             "line": {
              "color": "#E5ECF6",
              "width": 0.5
             }
            },
            "type": "barpolar"
           }
          ],
          "carpet": [
           {
            "aaxis": {
             "endlinecolor": "#2a3f5f",
             "gridcolor": "white",
             "linecolor": "white",
             "minorgridcolor": "white",
             "startlinecolor": "#2a3f5f"
            },
            "baxis": {
             "endlinecolor": "#2a3f5f",
             "gridcolor": "white",
             "linecolor": "white",
             "minorgridcolor": "white",
             "startlinecolor": "#2a3f5f"
            },
            "type": "carpet"
           }
          ],
          "choropleth": [
           {
            "colorbar": {
             "outlinewidth": 0,
             "ticks": ""
            },
            "type": "choropleth"
           }
          ],
          "contour": [
           {
            "colorbar": {
             "outlinewidth": 0,
             "ticks": ""
            },
            "colorscale": [
             [
              0,
              "#0d0887"
             ],
             [
              0.1111111111111111,
              "#46039f"
             ],
             [
              0.2222222222222222,
              "#7201a8"
             ],
             [
              0.3333333333333333,
              "#9c179e"
             ],
             [
              0.4444444444444444,
              "#bd3786"
             ],
             [
              0.5555555555555556,
              "#d8576b"
             ],
             [
              0.6666666666666666,
              "#ed7953"
             ],
             [
              0.7777777777777778,
              "#fb9f3a"
             ],
             [
              0.8888888888888888,
              "#fdca26"
             ],
             [
              1,
              "#f0f921"
             ]
            ],
            "type": "contour"
           }
          ],
          "contourcarpet": [
           {
            "colorbar": {
             "outlinewidth": 0,
             "ticks": ""
            },
            "type": "contourcarpet"
           }
          ],
          "heatmap": [
           {
            "colorbar": {
             "outlinewidth": 0,
             "ticks": ""
            },
            "colorscale": [
             [
              0,
              "#0d0887"
             ],
             [
              0.1111111111111111,
              "#46039f"
             ],
             [
              0.2222222222222222,
              "#7201a8"
             ],
             [
              0.3333333333333333,
              "#9c179e"
             ],
             [
              0.4444444444444444,
              "#bd3786"
             ],
             [
              0.5555555555555556,
              "#d8576b"
             ],
             [
              0.6666666666666666,
              "#ed7953"
             ],
             [
              0.7777777777777778,
              "#fb9f3a"
             ],
             [
              0.8888888888888888,
              "#fdca26"
             ],
             [
              1,
              "#f0f921"
             ]
            ],
            "type": "heatmap"
           }
          ],
          "heatmapgl": [
           {
            "colorbar": {
             "outlinewidth": 0,
             "ticks": ""
            },
            "colorscale": [
             [
              0,
              "#0d0887"
             ],
             [
              0.1111111111111111,
              "#46039f"
             ],
             [
              0.2222222222222222,
              "#7201a8"
             ],
             [
              0.3333333333333333,
              "#9c179e"
             ],
             [
              0.4444444444444444,
              "#bd3786"
             ],
             [
              0.5555555555555556,
              "#d8576b"
             ],
             [
              0.6666666666666666,
              "#ed7953"
             ],
             [
              0.7777777777777778,
              "#fb9f3a"
             ],
             [
              0.8888888888888888,
              "#fdca26"
             ],
             [
              1,
              "#f0f921"
             ]
            ],
            "type": "heatmapgl"
           }
          ],
          "histogram": [
           {
            "marker": {
             "colorbar": {
              "outlinewidth": 0,
              "ticks": ""
             }
            },
            "type": "histogram"
           }
          ],
          "histogram2d": [
           {
            "colorbar": {
             "outlinewidth": 0,
             "ticks": ""
            },
            "colorscale": [
             [
              0,
              "#0d0887"
             ],
             [
              0.1111111111111111,
              "#46039f"
             ],
             [
              0.2222222222222222,
              "#7201a8"
             ],
             [
              0.3333333333333333,
              "#9c179e"
             ],
             [
              0.4444444444444444,
              "#bd3786"
             ],
             [
              0.5555555555555556,
              "#d8576b"
             ],
             [
              0.6666666666666666,
              "#ed7953"
             ],
             [
              0.7777777777777778,
              "#fb9f3a"
             ],
             [
              0.8888888888888888,
              "#fdca26"
             ],
             [
              1,
              "#f0f921"
             ]
            ],
            "type": "histogram2d"
           }
          ],
          "histogram2dcontour": [
           {
            "colorbar": {
             "outlinewidth": 0,
             "ticks": ""
            },
            "colorscale": [
             [
              0,
              "#0d0887"
             ],
             [
              0.1111111111111111,
              "#46039f"
             ],
             [
              0.2222222222222222,
              "#7201a8"
             ],
             [
              0.3333333333333333,
              "#9c179e"
             ],
             [
              0.4444444444444444,
              "#bd3786"
             ],
             [
              0.5555555555555556,
              "#d8576b"
             ],
             [
              0.6666666666666666,
              "#ed7953"
             ],
             [
              0.7777777777777778,
              "#fb9f3a"
             ],
             [
              0.8888888888888888,
              "#fdca26"
             ],
             [
              1,
              "#f0f921"
             ]
            ],
            "type": "histogram2dcontour"
           }
          ],
          "mesh3d": [
           {
            "colorbar": {
             "outlinewidth": 0,
             "ticks": ""
            },
            "type": "mesh3d"
           }
          ],
          "parcoords": [
           {
            "line": {
             "colorbar": {
              "outlinewidth": 0,
              "ticks": ""
             }
            },
            "type": "parcoords"
           }
          ],
          "pie": [
           {
            "automargin": true,
            "type": "pie"
           }
          ],
          "scatter": [
           {
            "marker": {
             "colorbar": {
              "outlinewidth": 0,
              "ticks": ""
             }
            },
            "type": "scatter"
           }
          ],
          "scatter3d": [
           {
            "line": {
             "colorbar": {
              "outlinewidth": 0,
              "ticks": ""
             }
            },
            "marker": {
             "colorbar": {
              "outlinewidth": 0,
              "ticks": ""
             }
            },
            "type": "scatter3d"
           }
          ],
          "scattercarpet": [
           {
            "marker": {
             "colorbar": {
              "outlinewidth": 0,
              "ticks": ""
             }
            },
            "type": "scattercarpet"
           }
          ],
          "scattergeo": [
           {
            "marker": {
             "colorbar": {
              "outlinewidth": 0,
              "ticks": ""
             }
            },
            "type": "scattergeo"
           }
          ],
          "scattergl": [
           {
            "marker": {
             "colorbar": {
              "outlinewidth": 0,
              "ticks": ""
             }
            },
            "type": "scattergl"
           }
          ],
          "scattermapbox": [
           {
            "marker": {
             "colorbar": {
              "outlinewidth": 0,
              "ticks": ""
             }
            },
            "type": "scattermapbox"
           }
          ],
          "scatterpolar": [
           {
            "marker": {
             "colorbar": {
              "outlinewidth": 0,
              "ticks": ""
             }
            },
            "type": "scatterpolar"
           }
          ],
          "scatterpolargl": [
           {
            "marker": {
             "colorbar": {
              "outlinewidth": 0,
              "ticks": ""
             }
            },
            "type": "scatterpolargl"
           }
          ],
          "scatterternary": [
           {
            "marker": {
             "colorbar": {
              "outlinewidth": 0,
              "ticks": ""
             }
            },
            "type": "scatterternary"
           }
          ],
          "surface": [
           {
            "colorbar": {
             "outlinewidth": 0,
             "ticks": ""
            },
            "colorscale": [
             [
              0,
              "#0d0887"
             ],
             [
              0.1111111111111111,
              "#46039f"
             ],
             [
              0.2222222222222222,
              "#7201a8"
             ],
             [
              0.3333333333333333,
              "#9c179e"
             ],
             [
              0.4444444444444444,
              "#bd3786"
             ],
             [
              0.5555555555555556,
              "#d8576b"
             ],
             [
              0.6666666666666666,
              "#ed7953"
             ],
             [
              0.7777777777777778,
              "#fb9f3a"
             ],
             [
              0.8888888888888888,
              "#fdca26"
             ],
             [
              1,
              "#f0f921"
             ]
            ],
            "type": "surface"
           }
          ],
          "table": [
           {
            "cells": {
             "fill": {
              "color": "#EBF0F8"
             },
             "line": {
              "color": "white"
             }
            },
            "header": {
             "fill": {
              "color": "#C8D4E3"
             },
             "line": {
              "color": "white"
             }
            },
            "type": "table"
           }
          ]
         },
         "layout": {
          "annotationdefaults": {
           "arrowcolor": "#2a3f5f",
           "arrowhead": 0,
           "arrowwidth": 1
          },
          "coloraxis": {
           "colorbar": {
            "outlinewidth": 0,
            "ticks": ""
           }
          },
          "colorscale": {
           "diverging": [
            [
             0,
             "#8e0152"
            ],
            [
             0.1,
             "#c51b7d"
            ],
            [
             0.2,
             "#de77ae"
            ],
            [
             0.3,
             "#f1b6da"
            ],
            [
             0.4,
             "#fde0ef"
            ],
            [
             0.5,
             "#f7f7f7"
            ],
            [
             0.6,
             "#e6f5d0"
            ],
            [
             0.7,
             "#b8e186"
            ],
            [
             0.8,
             "#7fbc41"
            ],
            [
             0.9,
             "#4d9221"
            ],
            [
             1,
             "#276419"
            ]
           ],
           "sequential": [
            [
             0,
             "#0d0887"
            ],
            [
             0.1111111111111111,
             "#46039f"
            ],
            [
             0.2222222222222222,
             "#7201a8"
            ],
            [
             0.3333333333333333,
             "#9c179e"
            ],
            [
             0.4444444444444444,
             "#bd3786"
            ],
            [
             0.5555555555555556,
             "#d8576b"
            ],
            [
             0.6666666666666666,
             "#ed7953"
            ],
            [
             0.7777777777777778,
             "#fb9f3a"
            ],
            [
             0.8888888888888888,
             "#fdca26"
            ],
            [
             1,
             "#f0f921"
            ]
           ],
           "sequentialminus": [
            [
             0,
             "#0d0887"
            ],
            [
             0.1111111111111111,
             "#46039f"
            ],
            [
             0.2222222222222222,
             "#7201a8"
            ],
            [
             0.3333333333333333,
             "#9c179e"
            ],
            [
             0.4444444444444444,
             "#bd3786"
            ],
            [
             0.5555555555555556,
             "#d8576b"
            ],
            [
             0.6666666666666666,
             "#ed7953"
            ],
            [
             0.7777777777777778,
             "#fb9f3a"
            ],
            [
             0.8888888888888888,
             "#fdca26"
            ],
            [
             1,
             "#f0f921"
            ]
           ]
          },
          "colorway": [
           "#636efa",
           "#EF553B",
           "#00cc96",
           "#ab63fa",
           "#FFA15A",
           "#19d3f3",
           "#FF6692",
           "#B6E880",
           "#FF97FF",
           "#FECB52"
          ],
          "font": {
           "color": "#2a3f5f"
          },
          "geo": {
           "bgcolor": "white",
           "lakecolor": "white",
           "landcolor": "#E5ECF6",
           "showlakes": true,
           "showland": true,
           "subunitcolor": "white"
          },
          "hoverlabel": {
           "align": "left"
          },
          "hovermode": "closest",
          "mapbox": {
           "style": "light"
          },
          "paper_bgcolor": "white",
          "plot_bgcolor": "#E5ECF6",
          "polar": {
           "angularaxis": {
            "gridcolor": "white",
            "linecolor": "white",
            "ticks": ""
           },
           "bgcolor": "#E5ECF6",
           "radialaxis": {
            "gridcolor": "white",
            "linecolor": "white",
            "ticks": ""
           }
          },
          "scene": {
           "xaxis": {
            "backgroundcolor": "#E5ECF6",
            "gridcolor": "white",
            "gridwidth": 2,
            "linecolor": "white",
            "showbackground": true,
            "ticks": "",
            "zerolinecolor": "white"
           },
           "yaxis": {
            "backgroundcolor": "#E5ECF6",
            "gridcolor": "white",
            "gridwidth": 2,
            "linecolor": "white",
            "showbackground": true,
            "ticks": "",
            "zerolinecolor": "white"
           },
           "zaxis": {
            "backgroundcolor": "#E5ECF6",
            "gridcolor": "white",
            "gridwidth": 2,
            "linecolor": "white",
            "showbackground": true,
            "ticks": "",
            "zerolinecolor": "white"
           }
          },
          "shapedefaults": {
           "line": {
            "color": "#2a3f5f"
           }
          },
          "ternary": {
           "aaxis": {
            "gridcolor": "white",
            "linecolor": "white",
            "ticks": ""
           },
           "baxis": {
            "gridcolor": "white",
            "linecolor": "white",
            "ticks": ""
           },
           "bgcolor": "#E5ECF6",
           "caxis": {
            "gridcolor": "white",
            "linecolor": "white",
            "ticks": ""
           }
          },
          "title": {
           "x": 0.05
          },
          "xaxis": {
           "automargin": true,
           "gridcolor": "white",
           "linecolor": "white",
           "ticks": "",
           "title": {
            "standoff": 15
           },
           "zerolinecolor": "white",
           "zerolinewidth": 2
          },
          "yaxis": {
           "automargin": true,
           "gridcolor": "white",
           "linecolor": "white",
           "ticks": "",
           "title": {
            "standoff": 15
           },
           "zerolinecolor": "white",
           "zerolinewidth": 2
          }
         }
        },
        "title": {
         "font": {
          "color": "#4D5663"
         }
        },
        "xaxis": {
         "gridcolor": "#E1E5ED",
         "showgrid": true,
         "tickfont": {
          "color": "#4D5663"
         },
         "title": {
          "font": {
           "color": "#4D5663"
          },
          "text": ""
         },
         "zerolinecolor": "#E1E5ED"
        },
        "yaxis": {
         "gridcolor": "#E1E5ED",
         "showgrid": true,
         "tickfont": {
          "color": "#4D5663"
         },
         "title": {
          "font": {
           "color": "#4D5663"
          },
          "text": ""
         },
         "zerolinecolor": "#E1E5ED"
        }
       }
      },
      "text/html": [
       "<div>                            <div id=\"9e592a31-8cc4-4e3f-b062-e89ba78d2d07\" class=\"plotly-graph-div\" style=\"height:525px; width:100%;\"></div>            <script type=\"text/javascript\">                require([\"plotly\"], function(Plotly) {                    window.PLOTLYENV=window.PLOTLYENV || {};\n",
       "                    window.PLOTLYENV.BASE_URL='https://plot.ly';                                    if (document.getElementById(\"9e592a31-8cc4-4e3f-b062-e89ba78d2d07\")) {                    Plotly.newPlot(                        \"9e592a31-8cc4-4e3f-b062-e89ba78d2d07\",                        [{\"colorscale\": [[0.0, \"rgb(165,0,38)\"], [0.1, \"rgb(215,48,39)\"], [0.2, \"rgb(244,109,67)\"], [0.3, \"rgb(253,174,97)\"], [0.4, \"rgb(254,224,144)\"], [0.5, \"rgb(255,255,191)\"], [0.6, \"rgb(224,243,248)\"], [0.7, \"rgb(171,217,233)\"], [0.8, \"rgb(116,173,209)\"], [0.9, \"rgb(69,117,180)\"], [1.0, \"rgb(49,54,149)\"]], \"type\": \"surface\", \"x\": [0, 1, 2, 3, 4], \"y\": [\"x\", \"y\", \"z\"], \"z\": [[1, 2, 3, 4, 5], [10, 20, 30, 20, 10], [5, 4, 3, 2, 1]]}],                        {\"legend\": {\"bgcolor\": \"#F5F6F9\", \"font\": {\"color\": \"#4D5663\"}}, \"paper_bgcolor\": \"#F5F6F9\", \"plot_bgcolor\": \"#F5F6F9\", \"template\": {\"data\": {\"bar\": [{\"error_x\": {\"color\": \"#2a3f5f\"}, \"error_y\": {\"color\": \"#2a3f5f\"}, \"marker\": {\"line\": {\"color\": \"#E5ECF6\", \"width\": 0.5}}, \"type\": \"bar\"}], \"barpolar\": [{\"marker\": {\"line\": {\"color\": \"#E5ECF6\", \"width\": 0.5}}, \"type\": \"barpolar\"}], \"carpet\": [{\"aaxis\": {\"endlinecolor\": \"#2a3f5f\", \"gridcolor\": \"white\", \"linecolor\": \"white\", \"minorgridcolor\": \"white\", \"startlinecolor\": \"#2a3f5f\"}, \"baxis\": {\"endlinecolor\": \"#2a3f5f\", \"gridcolor\": \"white\", \"linecolor\": \"white\", \"minorgridcolor\": \"white\", \"startlinecolor\": \"#2a3f5f\"}, \"type\": \"carpet\"}], \"choropleth\": [{\"colorbar\": {\"outlinewidth\": 0, \"ticks\": \"\"}, \"type\": \"choropleth\"}], \"contour\": [{\"colorbar\": {\"outlinewidth\": 0, \"ticks\": \"\"}, \"colorscale\": [[0.0, \"#0d0887\"], [0.1111111111111111, \"#46039f\"], [0.2222222222222222, \"#7201a8\"], [0.3333333333333333, \"#9c179e\"], [0.4444444444444444, \"#bd3786\"], [0.5555555555555556, \"#d8576b\"], [0.6666666666666666, \"#ed7953\"], [0.7777777777777778, \"#fb9f3a\"], [0.8888888888888888, \"#fdca26\"], [1.0, \"#f0f921\"]], \"type\": \"contour\"}], \"contourcarpet\": [{\"colorbar\": {\"outlinewidth\": 0, \"ticks\": \"\"}, \"type\": \"contourcarpet\"}], \"heatmap\": [{\"colorbar\": {\"outlinewidth\": 0, \"ticks\": \"\"}, \"colorscale\": [[0.0, \"#0d0887\"], [0.1111111111111111, \"#46039f\"], [0.2222222222222222, \"#7201a8\"], [0.3333333333333333, \"#9c179e\"], [0.4444444444444444, \"#bd3786\"], [0.5555555555555556, \"#d8576b\"], [0.6666666666666666, \"#ed7953\"], [0.7777777777777778, \"#fb9f3a\"], [0.8888888888888888, \"#fdca26\"], [1.0, \"#f0f921\"]], \"type\": \"heatmap\"}], \"heatmapgl\": [{\"colorbar\": {\"outlinewidth\": 0, \"ticks\": \"\"}, \"colorscale\": [[0.0, \"#0d0887\"], [0.1111111111111111, \"#46039f\"], [0.2222222222222222, \"#7201a8\"], [0.3333333333333333, \"#9c179e\"], [0.4444444444444444, \"#bd3786\"], [0.5555555555555556, \"#d8576b\"], [0.6666666666666666, \"#ed7953\"], [0.7777777777777778, \"#fb9f3a\"], [0.8888888888888888, \"#fdca26\"], [1.0, \"#f0f921\"]], \"type\": \"heatmapgl\"}], \"histogram\": [{\"marker\": {\"colorbar\": {\"outlinewidth\": 0, \"ticks\": \"\"}}, \"type\": \"histogram\"}], \"histogram2d\": [{\"colorbar\": {\"outlinewidth\": 0, \"ticks\": \"\"}, \"colorscale\": [[0.0, \"#0d0887\"], [0.1111111111111111, \"#46039f\"], [0.2222222222222222, \"#7201a8\"], [0.3333333333333333, \"#9c179e\"], [0.4444444444444444, \"#bd3786\"], [0.5555555555555556, \"#d8576b\"], [0.6666666666666666, \"#ed7953\"], [0.7777777777777778, \"#fb9f3a\"], [0.8888888888888888, \"#fdca26\"], [1.0, \"#f0f921\"]], \"type\": \"histogram2d\"}], \"histogram2dcontour\": [{\"colorbar\": {\"outlinewidth\": 0, \"ticks\": \"\"}, \"colorscale\": [[0.0, \"#0d0887\"], [0.1111111111111111, \"#46039f\"], [0.2222222222222222, \"#7201a8\"], [0.3333333333333333, \"#9c179e\"], [0.4444444444444444, \"#bd3786\"], [0.5555555555555556, \"#d8576b\"], [0.6666666666666666, \"#ed7953\"], [0.7777777777777778, \"#fb9f3a\"], [0.8888888888888888, \"#fdca26\"], [1.0, \"#f0f921\"]], \"type\": \"histogram2dcontour\"}], \"mesh3d\": [{\"colorbar\": {\"outlinewidth\": 0, \"ticks\": \"\"}, \"type\": \"mesh3d\"}], \"parcoords\": [{\"line\": {\"colorbar\": {\"outlinewidth\": 0, \"ticks\": \"\"}}, \"type\": \"parcoords\"}], \"pie\": [{\"automargin\": true, \"type\": \"pie\"}], \"scatter\": [{\"marker\": {\"colorbar\": {\"outlinewidth\": 0, \"ticks\": \"\"}}, \"type\": \"scatter\"}], \"scatter3d\": [{\"line\": {\"colorbar\": {\"outlinewidth\": 0, \"ticks\": \"\"}}, \"marker\": {\"colorbar\": {\"outlinewidth\": 0, \"ticks\": \"\"}}, \"type\": \"scatter3d\"}], \"scattercarpet\": [{\"marker\": {\"colorbar\": {\"outlinewidth\": 0, \"ticks\": \"\"}}, \"type\": \"scattercarpet\"}], \"scattergeo\": [{\"marker\": {\"colorbar\": {\"outlinewidth\": 0, \"ticks\": \"\"}}, \"type\": \"scattergeo\"}], \"scattergl\": [{\"marker\": {\"colorbar\": {\"outlinewidth\": 0, \"ticks\": \"\"}}, \"type\": \"scattergl\"}], \"scattermapbox\": [{\"marker\": {\"colorbar\": {\"outlinewidth\": 0, \"ticks\": \"\"}}, \"type\": \"scattermapbox\"}], \"scatterpolar\": [{\"marker\": {\"colorbar\": {\"outlinewidth\": 0, \"ticks\": \"\"}}, \"type\": \"scatterpolar\"}], \"scatterpolargl\": [{\"marker\": {\"colorbar\": {\"outlinewidth\": 0, \"ticks\": \"\"}}, \"type\": \"scatterpolargl\"}], \"scatterternary\": [{\"marker\": {\"colorbar\": {\"outlinewidth\": 0, \"ticks\": \"\"}}, \"type\": \"scatterternary\"}], \"surface\": [{\"colorbar\": {\"outlinewidth\": 0, \"ticks\": \"\"}, \"colorscale\": [[0.0, \"#0d0887\"], [0.1111111111111111, \"#46039f\"], [0.2222222222222222, \"#7201a8\"], [0.3333333333333333, \"#9c179e\"], [0.4444444444444444, \"#bd3786\"], [0.5555555555555556, \"#d8576b\"], [0.6666666666666666, \"#ed7953\"], [0.7777777777777778, \"#fb9f3a\"], [0.8888888888888888, \"#fdca26\"], [1.0, \"#f0f921\"]], \"type\": \"surface\"}], \"table\": [{\"cells\": {\"fill\": {\"color\": \"#EBF0F8\"}, \"line\": {\"color\": \"white\"}}, \"header\": {\"fill\": {\"color\": \"#C8D4E3\"}, \"line\": {\"color\": \"white\"}}, \"type\": \"table\"}]}, \"layout\": {\"annotationdefaults\": {\"arrowcolor\": \"#2a3f5f\", \"arrowhead\": 0, \"arrowwidth\": 1}, \"coloraxis\": {\"colorbar\": {\"outlinewidth\": 0, \"ticks\": \"\"}}, \"colorscale\": {\"diverging\": [[0, \"#8e0152\"], [0.1, \"#c51b7d\"], [0.2, \"#de77ae\"], [0.3, \"#f1b6da\"], [0.4, \"#fde0ef\"], [0.5, \"#f7f7f7\"], [0.6, \"#e6f5d0\"], [0.7, \"#b8e186\"], [0.8, \"#7fbc41\"], [0.9, \"#4d9221\"], [1, \"#276419\"]], \"sequential\": [[0.0, \"#0d0887\"], [0.1111111111111111, \"#46039f\"], [0.2222222222222222, \"#7201a8\"], [0.3333333333333333, \"#9c179e\"], [0.4444444444444444, \"#bd3786\"], [0.5555555555555556, \"#d8576b\"], [0.6666666666666666, \"#ed7953\"], [0.7777777777777778, \"#fb9f3a\"], [0.8888888888888888, \"#fdca26\"], [1.0, \"#f0f921\"]], \"sequentialminus\": [[0.0, \"#0d0887\"], [0.1111111111111111, \"#46039f\"], [0.2222222222222222, \"#7201a8\"], [0.3333333333333333, \"#9c179e\"], [0.4444444444444444, \"#bd3786\"], [0.5555555555555556, \"#d8576b\"], [0.6666666666666666, \"#ed7953\"], [0.7777777777777778, \"#fb9f3a\"], [0.8888888888888888, \"#fdca26\"], [1.0, \"#f0f921\"]]}, \"colorway\": [\"#636efa\", \"#EF553B\", \"#00cc96\", \"#ab63fa\", \"#FFA15A\", \"#19d3f3\", \"#FF6692\", \"#B6E880\", \"#FF97FF\", \"#FECB52\"], \"font\": {\"color\": \"#2a3f5f\"}, \"geo\": {\"bgcolor\": \"white\", \"lakecolor\": \"white\", \"landcolor\": \"#E5ECF6\", \"showlakes\": true, \"showland\": true, \"subunitcolor\": \"white\"}, \"hoverlabel\": {\"align\": \"left\"}, \"hovermode\": \"closest\", \"mapbox\": {\"style\": \"light\"}, \"paper_bgcolor\": \"white\", \"plot_bgcolor\": \"#E5ECF6\", \"polar\": {\"angularaxis\": {\"gridcolor\": \"white\", \"linecolor\": \"white\", \"ticks\": \"\"}, \"bgcolor\": \"#E5ECF6\", \"radialaxis\": {\"gridcolor\": \"white\", \"linecolor\": \"white\", \"ticks\": \"\"}}, \"scene\": {\"xaxis\": {\"backgroundcolor\": \"#E5ECF6\", \"gridcolor\": \"white\", \"gridwidth\": 2, \"linecolor\": \"white\", \"showbackground\": true, \"ticks\": \"\", \"zerolinecolor\": \"white\"}, \"yaxis\": {\"backgroundcolor\": \"#E5ECF6\", \"gridcolor\": \"white\", \"gridwidth\": 2, \"linecolor\": \"white\", \"showbackground\": true, \"ticks\": \"\", \"zerolinecolor\": \"white\"}, \"zaxis\": {\"backgroundcolor\": \"#E5ECF6\", \"gridcolor\": \"white\", \"gridwidth\": 2, \"linecolor\": \"white\", \"showbackground\": true, \"ticks\": \"\", \"zerolinecolor\": \"white\"}}, \"shapedefaults\": {\"line\": {\"color\": \"#2a3f5f\"}}, \"ternary\": {\"aaxis\": {\"gridcolor\": \"white\", \"linecolor\": \"white\", \"ticks\": \"\"}, \"baxis\": {\"gridcolor\": \"white\", \"linecolor\": \"white\", \"ticks\": \"\"}, \"bgcolor\": \"#E5ECF6\", \"caxis\": {\"gridcolor\": \"white\", \"linecolor\": \"white\", \"ticks\": \"\"}}, \"title\": {\"x\": 0.05}, \"xaxis\": {\"automargin\": true, \"gridcolor\": \"white\", \"linecolor\": \"white\", \"ticks\": \"\", \"title\": {\"standoff\": 15}, \"zerolinecolor\": \"white\", \"zerolinewidth\": 2}, \"yaxis\": {\"automargin\": true, \"gridcolor\": \"white\", \"linecolor\": \"white\", \"ticks\": \"\", \"title\": {\"standoff\": 15}, \"zerolinecolor\": \"white\", \"zerolinewidth\": 2}}}, \"title\": {\"font\": {\"color\": \"#4D5663\"}}, \"xaxis\": {\"gridcolor\": \"#E1E5ED\", \"showgrid\": true, \"tickfont\": {\"color\": \"#4D5663\"}, \"title\": {\"font\": {\"color\": \"#4D5663\"}, \"text\": \"\"}, \"zerolinecolor\": \"#E1E5ED\"}, \"yaxis\": {\"gridcolor\": \"#E1E5ED\", \"showgrid\": true, \"tickfont\": {\"color\": \"#4D5663\"}, \"title\": {\"font\": {\"color\": \"#4D5663\"}, \"text\": \"\"}, \"zerolinecolor\": \"#E1E5ED\"}},                        {\"showLink\": true, \"linkText\": \"Export to plot.ly\", \"plotlyServerURL\": \"https://plot.ly\", \"responsive\": true}                    ).then(function(){\n",
       "                            \n",
       "var gd = document.getElementById('9e592a31-8cc4-4e3f-b062-e89ba78d2d07');\n",
       "var x = new MutationObserver(function (mutations, observer) {{\n",
       "        var display = window.getComputedStyle(gd).display;\n",
       "        if (!display || display === 'none') {{\n",
       "            console.log([gd, 'removed!']);\n",
       "            Plotly.purge(gd);\n",
       "            observer.disconnect();\n",
       "        }}\n",
       "}});\n",
       "\n",
       "// Listen for the removal of the full notebook cells\n",
       "var notebookContainer = gd.closest('#notebook-container');\n",
       "if (notebookContainer) {{\n",
       "    x.observe(notebookContainer, {childList: true});\n",
       "}}\n",
       "\n",
       "// Listen for the clearing of the current output cell\n",
       "var outputEl = gd.closest('.output');\n",
       "if (outputEl) {{\n",
       "    x.observe(outputEl, {childList: true});\n",
       "}}\n",
       "\n",
       "                        })                };                });            </script>        </div>"
      ]
     },
     "metadata": {},
     "output_type": "display_data"
    }
   ],
   "source": [
    "df3 = pd.DataFrame({'x':[1,2,3,4,5],'y':[10,20,30,20,10],'z':[5,4,3,2,1]})\n",
    "df3.iplot(kind='surface',colorscale='rdylbu')"
   ]
  },
  {
   "cell_type": "markdown",
   "metadata": {},
   "source": [
    "## Spread"
   ]
  },
  {
   "cell_type": "code",
   "execution_count": 16,
   "metadata": {},
   "outputs": [
    {
     "name": "stderr",
     "output_type": "stream",
     "text": [
      "C:\\ProgramData\\Anaconda3\\lib\\site-packages\\cufflinks\\plotlytools.py:849: FutureWarning:\n",
      "\n",
      "The pandas.np module is deprecated and will be removed from pandas in a future version. Import numpy directly instead\n",
      "\n",
      "C:\\ProgramData\\Anaconda3\\lib\\site-packages\\cufflinks\\plotlytools.py:850: FutureWarning:\n",
      "\n",
      "The pandas.np module is deprecated and will be removed from pandas in a future version. Import numpy directly instead\n",
      "\n"
     ]
    },
    {
     "data": {
      "application/vnd.plotly.v1+json": {
       "config": {
        "linkText": "Export to plot.ly",
        "plotlyServerURL": "https://plot.ly",
        "showLink": true
       },
       "data": [
        {
         "line": {
          "color": "rgba(255, 153, 51, 1.0)",
          "dash": "solid",
          "shape": "linear",
          "width": 1.3
         },
         "mode": "lines",
         "name": "A",
         "text": "",
         "type": "scatter",
         "x": [
          0,
          1,
          2,
          3,
          4,
          5,
          6,
          7,
          8,
          9,
          10,
          11,
          12,
          13,
          14,
          15,
          16,
          17,
          18,
          19,
          20,
          21,
          22,
          23,
          24,
          25,
          26,
          27,
          28,
          29,
          30,
          31,
          32,
          33,
          34,
          35,
          36,
          37,
          38,
          39,
          40,
          41,
          42,
          43,
          44,
          45,
          46,
          47,
          48,
          49,
          50,
          51,
          52,
          53,
          54,
          55,
          56,
          57,
          58,
          59,
          60,
          61,
          62,
          63,
          64,
          65,
          66,
          67,
          68,
          69,
          70,
          71,
          72,
          73,
          74,
          75,
          76,
          77,
          78,
          79,
          80,
          81,
          82,
          83,
          84,
          85,
          86,
          87,
          88,
          89,
          90,
          91,
          92,
          93,
          94,
          95,
          96,
          97,
          98,
          99
         ],
         "y": [
          -0.7017613191698328,
          0.01679259812028604,
          0.8925912413549707,
          -0.6668670618650194,
          -0.08966585714852059,
          -0.24458849205836947,
          -0.4022839095584551,
          0.7369432460042893,
          -1.2494079912136582,
          -0.6401976385659033,
          0.35695542238683164,
          -0.31573632031264465,
          -0.29246285955204526,
          -1.1497298652321202,
          -1.9829912112648982,
          0.5098656704313177,
          2.188181621409416,
          -1.8772696836014646,
          -0.4205418507884751,
          0.30075831472836556,
          0.2473020794475996,
          1.0923057343868103,
          2.214046009241756,
          1.4336535784483952,
          1.4496004076576658,
          -0.682315049522406,
          1.598661713427201,
          1.4227754396583445,
          -1.0553567255207785,
          -1.4467280078731937,
          0.20179887245784411,
          0.35903774873412975,
          -0.3555565196644582,
          1.0761852720282128,
          -0.8916717438447009,
          -1.0601444174693633,
          2.0819303347522395,
          -0.7167603005349762,
          -1.53530673446921,
          1.9133948727068533,
          1.0407153002753171,
          1.4532560987038319,
          0.013243946716610581,
          0.07978980625508145,
          -0.7928520041366476,
          0.9490485222915815,
          0.6796773785389835,
          -0.5312708016279892,
          -0.42543554249806664,
          0.10502509437704735,
          1.6737017511277883,
          -1.8668727674163699,
          0.22836886459639544,
          1.218973217565057,
          0.40212949895106903,
          0.47944343085272584,
          1.2304180606624848,
          0.9922489862689469,
          1.4686658229282794,
          2.0143136536858615,
          -0.14595261041800572,
          -1.1518106457881085,
          -0.6742607596454501,
          -0.7520225160865858,
          -0.08264514311404035,
          -1.944206140200247,
          -0.8218453602495646,
          -0.9346787373246029,
          -0.22471916393044564,
          -1.0780813137475604,
          1.0931423702001777,
          0.1110246057804523,
          0.45843380751609986,
          -1.1479604243030028,
          0.06401934841743986,
          -0.40936004108937313,
          -2.475032937690778,
          -0.5798847812432872,
          0.14760048032172526,
          -1.4746689176623073,
          -0.8130010946296682,
          0.8174795080559044,
          1.2400992521174226,
          -1.1738531185743155,
          0.14683153608009747,
          -1.08192782694488,
          0.23943436417174233,
          -1.8361135319933861,
          0.4890161330117654,
          1.6763408612708235,
          0.140950911004665,
          -0.34898665268627543,
          0.9774154607000615,
          1.4071048918097957,
          0.9928899978366662,
          0.47473909400514425,
          -1.0159736244406523,
          -1.2328148128058634,
          1.5251809494141184,
          0.9749457059105875
         ]
        },
        {
         "line": {
          "color": "rgba(55, 128, 191, 1.0)",
          "dash": "solid",
          "shape": "linear",
          "width": 1.3
         },
         "mode": "lines",
         "name": "B",
         "text": "",
         "type": "scatter",
         "x": [
          0,
          1,
          2,
          3,
          4,
          5,
          6,
          7,
          8,
          9,
          10,
          11,
          12,
          13,
          14,
          15,
          16,
          17,
          18,
          19,
          20,
          21,
          22,
          23,
          24,
          25,
          26,
          27,
          28,
          29,
          30,
          31,
          32,
          33,
          34,
          35,
          36,
          37,
          38,
          39,
          40,
          41,
          42,
          43,
          44,
          45,
          46,
          47,
          48,
          49,
          50,
          51,
          52,
          53,
          54,
          55,
          56,
          57,
          58,
          59,
          60,
          61,
          62,
          63,
          64,
          65,
          66,
          67,
          68,
          69,
          70,
          71,
          72,
          73,
          74,
          75,
          76,
          77,
          78,
          79,
          80,
          81,
          82,
          83,
          84,
          85,
          86,
          87,
          88,
          89,
          90,
          91,
          92,
          93,
          94,
          95,
          96,
          97,
          98,
          99
         ],
         "y": [
          1.096107160913988,
          -0.9737302345058281,
          -0.7250110916221839,
          0.7674488710153434,
          -0.5886541668788527,
          -1.0622784516157855,
          -1.2238707436028022,
          0.5253344718323851,
          -1.2878683268608349,
          -0.29911395934561635,
          0.3228157242692437,
          -1.3772019647253797,
          0.8422799608523274,
          0.46673940511242085,
          -1.9024107187745396,
          0.155657667140865,
          -0.7071356823154644,
          1.2253160474108702,
          -0.2882825609357239,
          0.36254222065700026,
          -1.1010538416552,
          1.492275113314927,
          -0.8466546929147944,
          -1.407165100389169,
          1.5632998286714186,
          -1.844746282810375,
          0.15876902191918163,
          -1.5707713349068917,
          -0.8912945042064594,
          -1.1888331358388045,
          -0.27504992184297344,
          0.7719987193746825,
          1.0204442420513675,
          -0.8759967579455494,
          0.315369460523939,
          -0.21239405545229284,
          -0.6288758205361382,
          -1.107447520892792,
          -0.2747002480687447,
          -0.4878952806445132,
          0.45536338144084904,
          -0.06056216817983006,
          0.9155766888351832,
          0.3225396215491934,
          1.336825319564932,
          -0.37695618372560696,
          0.6325172658764953,
          0.26144100072357696,
          -0.9176232114780261,
          -1.208512843841877,
          -0.1316287517068255,
          0.8046785617875465,
          -0.5298092909996793,
          -0.37895398463692803,
          -0.05015310836103133,
          1.8473860712933061,
          1.5828731768120015,
          -0.8313732498063346,
          1.56577510300552,
          -0.09835768242436443,
          -0.388099432966121,
          0.9213329848355416,
          -2.348329762291072,
          -0.3698905589364241,
          -1.3494687348772076,
          1.3037780678011601,
          2.417803512990605,
          0.29235264572616937,
          -0.8885381405600554,
          1.298273421113763,
          -0.3243102006073436,
          1.7694595161130415,
          1.1645387332927113,
          0.6288572400159901,
          -0.4527526189306913,
          1.9960678439093071,
          -0.041270654120210824,
          1.2496205442177806,
          -0.8840401546835186,
          0.8183218519596385,
          -2.0264573504660435,
          -0.4060040927237812,
          0.4729778895675059,
          -1.018633095188232,
          -0.29007097710175345,
          -0.06404339828919584,
          -2.1361917322659645,
          0.2609275108959407,
          0.8218707805270796,
          0.9456373949586805,
          0.8181515489793115,
          -1.4850632655046452,
          0.811063068792345,
          -0.31666137234541136,
          1.2786160004896594,
          0.8786720744927401,
          0.3944281417496477,
          0.22966085439033096,
          0.1673512133000957,
          -0.35535519018683315
         ]
        },
        {
         "connectgaps": false,
         "fill": "tozeroy",
         "line": {
          "color": "green",
          "dash": "solid",
          "shape": "linear",
          "width": 0.5
         },
         "mode": "lines",
         "name": "Spread",
         "showlegend": false,
         "type": "scatter",
         "x": [
          0,
          1,
          2,
          3,
          4,
          5,
          6,
          7,
          8,
          9,
          10,
          11,
          12,
          13,
          14,
          15,
          16,
          17,
          18,
          19,
          20,
          21,
          22,
          23,
          24,
          25,
          26,
          27,
          28,
          29,
          30,
          31,
          32,
          33,
          34,
          35,
          36,
          37,
          38,
          39,
          40,
          41,
          42,
          43,
          44,
          45,
          46,
          47,
          48,
          49,
          50,
          51,
          52,
          53,
          54,
          55,
          56,
          57,
          58,
          59,
          60,
          61,
          62,
          63,
          64,
          65,
          66,
          67,
          68,
          69,
          70,
          71,
          72,
          73,
          74,
          75,
          76,
          77,
          78,
          79,
          80,
          81,
          82,
          83,
          84,
          85,
          86,
          87,
          88,
          89,
          90,
          91,
          92,
          93,
          94,
          95,
          96,
          97,
          98,
          99
         ],
         "xaxis": "x2",
         "y": [
          "",
          0.9905228326261141,
          1.6176023329771545,
          "",
          0.49898830973033215,
          0.8176899595574161,
          0.8215868340443471,
          0.21160877417190416,
          0.03846033564717666,
          "",
          0.034139698117587935,
          1.061465644412735,
          "",
          "",
          "",
          0.35420800329045266,
          2.8953173037248803,
          "",
          "",
          "",
          1.3483559211027996,
          "",
          3.0607007021565504,
          2.8408186788375644,
          "",
          1.162431233287969,
          1.4398926915080192,
          2.993546774565236,
          "",
          "",
          0.47684879430081756,
          "",
          "",
          1.9521820299737622,
          "",
          "",
          2.7108061552883775,
          0.3906872203578159,
          "",
          2.4012901533513666,
          0.585351918834468,
          1.513818266883662,
          "",
          "",
          "",
          1.3260047060171885,
          0.04716011266248821,
          "",
          0.4921876689799594,
          1.3135379382189245,
          1.8053305028346138,
          "",
          0.7581781555960747,
          1.597927202201985,
          0.45228260731210035,
          "",
          "",
          1.8236222360752814,
          "",
          2.112671336110226,
          0.24214682254811526,
          "",
          1.6740690026456222,
          "",
          1.2668235917631674,
          "",
          "",
          "",
          0.6638189766296098,
          "",
          1.4174525708075212,
          "",
          "",
          "",
          0.5167719673481311,
          "",
          "",
          "",
          1.0316406350052438,
          "",
          1.2134562558363753,
          1.2234836007796857,
          0.7671213625499167,
          "",
          0.4369025131818509,
          "",
          2.3756260964377067,
          "",
          "",
          0.730703466312143,
          "",
          1.1360766128183697,
          0.16635239190771645,
          1.723766264155207,
          "",
          "",
          "",
          "",
          1.3578297361140228,
          1.3303008960974205
         ],
         "yaxis": "y2"
        },
        {
         "connectgaps": false,
         "fill": "tozeroy",
         "line": {
          "color": "red",
          "dash": "solid",
          "shape": "linear",
          "width": 0.5
         },
         "mode": "lines",
         "name": "Spread",
         "showlegend": false,
         "type": "scatter",
         "x": [
          0,
          1,
          2,
          3,
          4,
          5,
          6,
          7,
          8,
          9,
          10,
          11,
          12,
          13,
          14,
          15,
          16,
          17,
          18,
          19,
          20,
          21,
          22,
          23,
          24,
          25,
          26,
          27,
          28,
          29,
          30,
          31,
          32,
          33,
          34,
          35,
          36,
          37,
          38,
          39,
          40,
          41,
          42,
          43,
          44,
          45,
          46,
          47,
          48,
          49,
          50,
          51,
          52,
          53,
          54,
          55,
          56,
          57,
          58,
          59,
          60,
          61,
          62,
          63,
          64,
          65,
          66,
          67,
          68,
          69,
          70,
          71,
          72,
          73,
          74,
          75,
          76,
          77,
          78,
          79,
          80,
          81,
          82,
          83,
          84,
          85,
          86,
          87,
          88,
          89,
          90,
          91,
          92,
          93,
          94,
          95,
          96,
          97,
          98,
          99
         ],
         "xaxis": "x2",
         "y": [
          -1.797868480083821,
          "",
          "",
          -1.434315932880363,
          "",
          "",
          "",
          "",
          "",
          -0.34108367922028693,
          "",
          "",
          -1.1347428204043726,
          -1.616469270344541,
          -0.08058049249035859,
          "",
          "",
          -3.1025857310123346,
          -0.1322592898527512,
          -0.0617839059286347,
          "",
          -0.3999693789281167,
          "",
          "",
          -0.11369942101375274,
          "",
          "",
          "",
          -0.16406222131431913,
          -0.2578948720343892,
          "",
          -0.4129609706405527,
          -1.3760007617158259,
          "",
          -1.20704120436864,
          -0.8477503620170704,
          "",
          "",
          -1.2606064864004654,
          "",
          "",
          "",
          -0.9023327421185726,
          -0.24274981529411196,
          -2.1296773237015794,
          "",
          "",
          -0.7927118023515662,
          "",
          "",
          "",
          -2.6715513292039166,
          "",
          "",
          "",
          -1.3679426404405803,
          -0.35245511614951663,
          "",
          -0.09710928007724062,
          "",
          "",
          -2.07314363062365,
          "",
          -0.3821319571501617,
          "",
          -3.247984208001407,
          -3.2396488732401694,
          -1.2270313830507722,
          "",
          -2.3763547348613234,
          "",
          -1.6584349103325893,
          -0.7061049257766114,
          -1.776817664318993,
          "",
          -2.40542788499868,
          -2.4337622835705672,
          -1.8295053254610678,
          "",
          -2.292990769621946,
          "",
          "",
          "",
          -0.15522002338608343,
          "",
          -1.017884428655684,
          "",
          -2.0970410428893267,
          -0.33285464751531424,
          "",
          -0.6772006379746465,
          "",
          "",
          "",
          -0.2857260026529932,
          -0.40393298048759585,
          -1.4104017661902999,
          -1.4624756671961943,
          "",
          ""
         ],
         "yaxis": "y2"
        }
       ],
       "layout": {
        "hovermode": "x",
        "legend": {
         "bgcolor": "#F5F6F9",
         "font": {
          "color": "#4D5663"
         }
        },
        "paper_bgcolor": "#F5F6F9",
        "plot_bgcolor": "#F5F6F9",
        "template": {
         "data": {
          "bar": [
           {
            "error_x": {
             "color": "#2a3f5f"
            },
            "error_y": {
             "color": "#2a3f5f"
            },
            "marker": {
             "line": {
              "color": "#E5ECF6",
              "width": 0.5
             }
            },
            "type": "bar"
           }
          ],
          "barpolar": [
           {
            "marker": {
             "line": {
              "color": "#E5ECF6",
              "width": 0.5
             }
            },
            "type": "barpolar"
           }
          ],
          "carpet": [
           {
            "aaxis": {
             "endlinecolor": "#2a3f5f",
             "gridcolor": "white",
             "linecolor": "white",
             "minorgridcolor": "white",
             "startlinecolor": "#2a3f5f"
            },
            "baxis": {
             "endlinecolor": "#2a3f5f",
             "gridcolor": "white",
             "linecolor": "white",
             "minorgridcolor": "white",
             "startlinecolor": "#2a3f5f"
            },
            "type": "carpet"
           }
          ],
          "choropleth": [
           {
            "colorbar": {
             "outlinewidth": 0,
             "ticks": ""
            },
            "type": "choropleth"
           }
          ],
          "contour": [
           {
            "colorbar": {
             "outlinewidth": 0,
             "ticks": ""
            },
            "colorscale": [
             [
              0,
              "#0d0887"
             ],
             [
              0.1111111111111111,
              "#46039f"
             ],
             [
              0.2222222222222222,
              "#7201a8"
             ],
             [
              0.3333333333333333,
              "#9c179e"
             ],
             [
              0.4444444444444444,
              "#bd3786"
             ],
             [
              0.5555555555555556,
              "#d8576b"
             ],
             [
              0.6666666666666666,
              "#ed7953"
             ],
             [
              0.7777777777777778,
              "#fb9f3a"
             ],
             [
              0.8888888888888888,
              "#fdca26"
             ],
             [
              1,
              "#f0f921"
             ]
            ],
            "type": "contour"
           }
          ],
          "contourcarpet": [
           {
            "colorbar": {
             "outlinewidth": 0,
             "ticks": ""
            },
            "type": "contourcarpet"
           }
          ],
          "heatmap": [
           {
            "colorbar": {
             "outlinewidth": 0,
             "ticks": ""
            },
            "colorscale": [
             [
              0,
              "#0d0887"
             ],
             [
              0.1111111111111111,
              "#46039f"
             ],
             [
              0.2222222222222222,
              "#7201a8"
             ],
             [
              0.3333333333333333,
              "#9c179e"
             ],
             [
              0.4444444444444444,
              "#bd3786"
             ],
             [
              0.5555555555555556,
              "#d8576b"
             ],
             [
              0.6666666666666666,
              "#ed7953"
             ],
             [
              0.7777777777777778,
              "#fb9f3a"
             ],
             [
              0.8888888888888888,
              "#fdca26"
             ],
             [
              1,
              "#f0f921"
             ]
            ],
            "type": "heatmap"
           }
          ],
          "heatmapgl": [
           {
            "colorbar": {
             "outlinewidth": 0,
             "ticks": ""
            },
            "colorscale": [
             [
              0,
              "#0d0887"
             ],
             [
              0.1111111111111111,
              "#46039f"
             ],
             [
              0.2222222222222222,
              "#7201a8"
             ],
             [
              0.3333333333333333,
              "#9c179e"
             ],
             [
              0.4444444444444444,
              "#bd3786"
             ],
             [
              0.5555555555555556,
              "#d8576b"
             ],
             [
              0.6666666666666666,
              "#ed7953"
             ],
             [
              0.7777777777777778,
              "#fb9f3a"
             ],
             [
              0.8888888888888888,
              "#fdca26"
             ],
             [
              1,
              "#f0f921"
             ]
            ],
            "type": "heatmapgl"
           }
          ],
          "histogram": [
           {
            "marker": {
             "colorbar": {
              "outlinewidth": 0,
              "ticks": ""
             }
            },
            "type": "histogram"
           }
          ],
          "histogram2d": [
           {
            "colorbar": {
             "outlinewidth": 0,
             "ticks": ""
            },
            "colorscale": [
             [
              0,
              "#0d0887"
             ],
             [
              0.1111111111111111,
              "#46039f"
             ],
             [
              0.2222222222222222,
              "#7201a8"
             ],
             [
              0.3333333333333333,
              "#9c179e"
             ],
             [
              0.4444444444444444,
              "#bd3786"
             ],
             [
              0.5555555555555556,
              "#d8576b"
             ],
             [
              0.6666666666666666,
              "#ed7953"
             ],
             [
              0.7777777777777778,
              "#fb9f3a"
             ],
             [
              0.8888888888888888,
              "#fdca26"
             ],
             [
              1,
              "#f0f921"
             ]
            ],
            "type": "histogram2d"
           }
          ],
          "histogram2dcontour": [
           {
            "colorbar": {
             "outlinewidth": 0,
             "ticks": ""
            },
            "colorscale": [
             [
              0,
              "#0d0887"
             ],
             [
              0.1111111111111111,
              "#46039f"
             ],
             [
              0.2222222222222222,
              "#7201a8"
             ],
             [
              0.3333333333333333,
              "#9c179e"
             ],
             [
              0.4444444444444444,
              "#bd3786"
             ],
             [
              0.5555555555555556,
              "#d8576b"
             ],
             [
              0.6666666666666666,
              "#ed7953"
             ],
             [
              0.7777777777777778,
              "#fb9f3a"
             ],
             [
              0.8888888888888888,
              "#fdca26"
             ],
             [
              1,
              "#f0f921"
             ]
            ],
            "type": "histogram2dcontour"
           }
          ],
          "mesh3d": [
           {
            "colorbar": {
             "outlinewidth": 0,
             "ticks": ""
            },
            "type": "mesh3d"
           }
          ],
          "parcoords": [
           {
            "line": {
             "colorbar": {
              "outlinewidth": 0,
              "ticks": ""
             }
            },
            "type": "parcoords"
           }
          ],
          "pie": [
           {
            "automargin": true,
            "type": "pie"
           }
          ],
          "scatter": [
           {
            "marker": {
             "colorbar": {
              "outlinewidth": 0,
              "ticks": ""
             }
            },
            "type": "scatter"
           }
          ],
          "scatter3d": [
           {
            "line": {
             "colorbar": {
              "outlinewidth": 0,
              "ticks": ""
             }
            },
            "marker": {
             "colorbar": {
              "outlinewidth": 0,
              "ticks": ""
             }
            },
            "type": "scatter3d"
           }
          ],
          "scattercarpet": [
           {
            "marker": {
             "colorbar": {
              "outlinewidth": 0,
              "ticks": ""
             }
            },
            "type": "scattercarpet"
           }
          ],
          "scattergeo": [
           {
            "marker": {
             "colorbar": {
              "outlinewidth": 0,
              "ticks": ""
             }
            },
            "type": "scattergeo"
           }
          ],
          "scattergl": [
           {
            "marker": {
             "colorbar": {
              "outlinewidth": 0,
              "ticks": ""
             }
            },
            "type": "scattergl"
           }
          ],
          "scattermapbox": [
           {
            "marker": {
             "colorbar": {
              "outlinewidth": 0,
              "ticks": ""
             }
            },
            "type": "scattermapbox"
           }
          ],
          "scatterpolar": [
           {
            "marker": {
             "colorbar": {
              "outlinewidth": 0,
              "ticks": ""
             }
            },
            "type": "scatterpolar"
           }
          ],
          "scatterpolargl": [
           {
            "marker": {
             "colorbar": {
              "outlinewidth": 0,
              "ticks": ""
             }
            },
            "type": "scatterpolargl"
           }
          ],
          "scatterternary": [
           {
            "marker": {
             "colorbar": {
              "outlinewidth": 0,
              "ticks": ""
             }
            },
            "type": "scatterternary"
           }
          ],
          "surface": [
           {
            "colorbar": {
             "outlinewidth": 0,
             "ticks": ""
            },
            "colorscale": [
             [
              0,
              "#0d0887"
             ],
             [
              0.1111111111111111,
              "#46039f"
             ],
             [
              0.2222222222222222,
              "#7201a8"
             ],
             [
              0.3333333333333333,
              "#9c179e"
             ],
             [
              0.4444444444444444,
              "#bd3786"
             ],
             [
              0.5555555555555556,
              "#d8576b"
             ],
             [
              0.6666666666666666,
              "#ed7953"
             ],
             [
              0.7777777777777778,
              "#fb9f3a"
             ],
             [
              0.8888888888888888,
              "#fdca26"
             ],
             [
              1,
              "#f0f921"
             ]
            ],
            "type": "surface"
           }
          ],
          "table": [
           {
            "cells": {
             "fill": {
              "color": "#EBF0F8"
             },
             "line": {
              "color": "white"
             }
            },
            "header": {
             "fill": {
              "color": "#C8D4E3"
             },
             "line": {
              "color": "white"
             }
            },
            "type": "table"
           }
          ]
         },
         "layout": {
          "annotationdefaults": {
           "arrowcolor": "#2a3f5f",
           "arrowhead": 0,
           "arrowwidth": 1
          },
          "coloraxis": {
           "colorbar": {
            "outlinewidth": 0,
            "ticks": ""
           }
          },
          "colorscale": {
           "diverging": [
            [
             0,
             "#8e0152"
            ],
            [
             0.1,
             "#c51b7d"
            ],
            [
             0.2,
             "#de77ae"
            ],
            [
             0.3,
             "#f1b6da"
            ],
            [
             0.4,
             "#fde0ef"
            ],
            [
             0.5,
             "#f7f7f7"
            ],
            [
             0.6,
             "#e6f5d0"
            ],
            [
             0.7,
             "#b8e186"
            ],
            [
             0.8,
             "#7fbc41"
            ],
            [
             0.9,
             "#4d9221"
            ],
            [
             1,
             "#276419"
            ]
           ],
           "sequential": [
            [
             0,
             "#0d0887"
            ],
            [
             0.1111111111111111,
             "#46039f"
            ],
            [
             0.2222222222222222,
             "#7201a8"
            ],
            [
             0.3333333333333333,
             "#9c179e"
            ],
            [
             0.4444444444444444,
             "#bd3786"
            ],
            [
             0.5555555555555556,
             "#d8576b"
            ],
            [
             0.6666666666666666,
             "#ed7953"
            ],
            [
             0.7777777777777778,
             "#fb9f3a"
            ],
            [
             0.8888888888888888,
             "#fdca26"
            ],
            [
             1,
             "#f0f921"
            ]
           ],
           "sequentialminus": [
            [
             0,
             "#0d0887"
            ],
            [
             0.1111111111111111,
             "#46039f"
            ],
            [
             0.2222222222222222,
             "#7201a8"
            ],
            [
             0.3333333333333333,
             "#9c179e"
            ],
            [
             0.4444444444444444,
             "#bd3786"
            ],
            [
             0.5555555555555556,
             "#d8576b"
            ],
            [
             0.6666666666666666,
             "#ed7953"
            ],
            [
             0.7777777777777778,
             "#fb9f3a"
            ],
            [
             0.8888888888888888,
             "#fdca26"
            ],
            [
             1,
             "#f0f921"
            ]
           ]
          },
          "colorway": [
           "#636efa",
           "#EF553B",
           "#00cc96",
           "#ab63fa",
           "#FFA15A",
           "#19d3f3",
           "#FF6692",
           "#B6E880",
           "#FF97FF",
           "#FECB52"
          ],
          "font": {
           "color": "#2a3f5f"
          },
          "geo": {
           "bgcolor": "white",
           "lakecolor": "white",
           "landcolor": "#E5ECF6",
           "showlakes": true,
           "showland": true,
           "subunitcolor": "white"
          },
          "hoverlabel": {
           "align": "left"
          },
          "hovermode": "closest",
          "mapbox": {
           "style": "light"
          },
          "paper_bgcolor": "white",
          "plot_bgcolor": "#E5ECF6",
          "polar": {
           "angularaxis": {
            "gridcolor": "white",
            "linecolor": "white",
            "ticks": ""
           },
           "bgcolor": "#E5ECF6",
           "radialaxis": {
            "gridcolor": "white",
            "linecolor": "white",
            "ticks": ""
           }
          },
          "scene": {
           "xaxis": {
            "backgroundcolor": "#E5ECF6",
            "gridcolor": "white",
            "gridwidth": 2,
            "linecolor": "white",
            "showbackground": true,
            "ticks": "",
            "zerolinecolor": "white"
           },
           "yaxis": {
            "backgroundcolor": "#E5ECF6",
            "gridcolor": "white",
            "gridwidth": 2,
            "linecolor": "white",
            "showbackground": true,
            "ticks": "",
            "zerolinecolor": "white"
           },
           "zaxis": {
            "backgroundcolor": "#E5ECF6",
            "gridcolor": "white",
            "gridwidth": 2,
            "linecolor": "white",
            "showbackground": true,
            "ticks": "",
            "zerolinecolor": "white"
           }
          },
          "shapedefaults": {
           "line": {
            "color": "#2a3f5f"
           }
          },
          "ternary": {
           "aaxis": {
            "gridcolor": "white",
            "linecolor": "white",
            "ticks": ""
           },
           "baxis": {
            "gridcolor": "white",
            "linecolor": "white",
            "ticks": ""
           },
           "bgcolor": "#E5ECF6",
           "caxis": {
            "gridcolor": "white",
            "linecolor": "white",
            "ticks": ""
           }
          },
          "title": {
           "x": 0.05
          },
          "xaxis": {
           "automargin": true,
           "gridcolor": "white",
           "linecolor": "white",
           "ticks": "",
           "title": {
            "standoff": 15
           },
           "zerolinecolor": "white",
           "zerolinewidth": 2
          },
          "yaxis": {
           "automargin": true,
           "gridcolor": "white",
           "linecolor": "white",
           "ticks": "",
           "title": {
            "standoff": 15
           },
           "zerolinecolor": "white",
           "zerolinewidth": 2
          }
         }
        },
        "title": {
         "font": {
          "color": "#4D5663"
         }
        },
        "xaxis": {
         "gridcolor": "#E1E5ED",
         "showgrid": true,
         "tickfont": {
          "color": "#4D5663"
         },
         "title": {
          "font": {
           "color": "#4D5663"
          },
          "text": ""
         },
         "zerolinecolor": "#E1E5ED"
        },
        "xaxis2": {
         "anchor": "y2",
         "gridcolor": "#E1E5ED",
         "showgrid": true,
         "showticklabels": false,
         "tickfont": {
          "color": "#4D5663"
         },
         "title": {
          "font": {
           "color": "#4D5663"
          },
          "text": ""
         },
         "zerolinecolor": "#E1E5ED"
        },
        "yaxis": {
         "domain": [
          0.3,
          1
         ],
         "gridcolor": "#E1E5ED",
         "showgrid": true,
         "tickfont": {
          "color": "#4D5663"
         },
         "title": {
          "font": {
           "color": "#4D5663"
          },
          "text": ""
         },
         "zerolinecolor": "#E1E5ED"
        },
        "yaxis2": {
         "domain": [
          0,
          0.25
         ],
         "gridcolor": "#E1E5ED",
         "showgrid": true,
         "tickfont": {
          "color": "#4D5663"
         },
         "title": {
          "font": {
           "color": "#4D5663"
          },
          "text": "Spread"
         },
         "zerolinecolor": "#E1E5ED"
        }
       }
      },
      "text/html": [
       "<div>                            <div id=\"57d5e26a-c227-4625-b9d0-fbb3ca400e71\" class=\"plotly-graph-div\" style=\"height:525px; width:100%;\"></div>            <script type=\"text/javascript\">                require([\"plotly\"], function(Plotly) {                    window.PLOTLYENV=window.PLOTLYENV || {};\n",
       "                    window.PLOTLYENV.BASE_URL='https://plot.ly';                                    if (document.getElementById(\"57d5e26a-c227-4625-b9d0-fbb3ca400e71\")) {                    Plotly.newPlot(                        \"57d5e26a-c227-4625-b9d0-fbb3ca400e71\",                        [{\"line\": {\"color\": \"rgba(255, 153, 51, 1.0)\", \"dash\": \"solid\", \"shape\": \"linear\", \"width\": 1.3}, \"mode\": \"lines\", \"name\": \"A\", \"text\": \"\", \"type\": \"scatter\", \"x\": [0, 1, 2, 3, 4, 5, 6, 7, 8, 9, 10, 11, 12, 13, 14, 15, 16, 17, 18, 19, 20, 21, 22, 23, 24, 25, 26, 27, 28, 29, 30, 31, 32, 33, 34, 35, 36, 37, 38, 39, 40, 41, 42, 43, 44, 45, 46, 47, 48, 49, 50, 51, 52, 53, 54, 55, 56, 57, 58, 59, 60, 61, 62, 63, 64, 65, 66, 67, 68, 69, 70, 71, 72, 73, 74, 75, 76, 77, 78, 79, 80, 81, 82, 83, 84, 85, 86, 87, 88, 89, 90, 91, 92, 93, 94, 95, 96, 97, 98, 99], \"y\": [-0.7017613191698328, 0.01679259812028604, 0.8925912413549707, -0.6668670618650194, -0.08966585714852059, -0.24458849205836947, -0.4022839095584551, 0.7369432460042893, -1.2494079912136582, -0.6401976385659033, 0.35695542238683164, -0.31573632031264465, -0.29246285955204526, -1.1497298652321202, -1.9829912112648982, 0.5098656704313177, 2.188181621409416, -1.8772696836014646, -0.4205418507884751, 0.30075831472836556, 0.2473020794475996, 1.0923057343868103, 2.214046009241756, 1.4336535784483952, 1.4496004076576658, -0.682315049522406, 1.598661713427201, 1.4227754396583445, -1.0553567255207785, -1.4467280078731937, 0.20179887245784411, 0.35903774873412975, -0.3555565196644582, 1.0761852720282128, -0.8916717438447009, -1.0601444174693633, 2.0819303347522395, -0.7167603005349762, -1.53530673446921, 1.9133948727068533, 1.0407153002753171, 1.4532560987038319, 0.013243946716610581, 0.07978980625508145, -0.7928520041366476, 0.9490485222915815, 0.6796773785389835, -0.5312708016279892, -0.42543554249806664, 0.10502509437704735, 1.6737017511277883, -1.8668727674163699, 0.22836886459639544, 1.218973217565057, 0.40212949895106903, 0.47944343085272584, 1.2304180606624848, 0.9922489862689469, 1.4686658229282794, 2.0143136536858615, -0.14595261041800572, -1.1518106457881085, -0.6742607596454501, -0.7520225160865858, -0.08264514311404035, -1.944206140200247, -0.8218453602495646, -0.9346787373246029, -0.22471916393044564, -1.0780813137475604, 1.0931423702001777, 0.1110246057804523, 0.45843380751609986, -1.1479604243030028, 0.06401934841743986, -0.40936004108937313, -2.475032937690778, -0.5798847812432872, 0.14760048032172526, -1.4746689176623073, -0.8130010946296682, 0.8174795080559044, 1.2400992521174226, -1.1738531185743155, 0.14683153608009747, -1.08192782694488, 0.23943436417174233, -1.8361135319933861, 0.4890161330117654, 1.6763408612708235, 0.140950911004665, -0.34898665268627543, 0.9774154607000615, 1.4071048918097957, 0.9928899978366662, 0.47473909400514425, -1.0159736244406523, -1.2328148128058634, 1.5251809494141184, 0.9749457059105875]}, {\"line\": {\"color\": \"rgba(55, 128, 191, 1.0)\", \"dash\": \"solid\", \"shape\": \"linear\", \"width\": 1.3}, \"mode\": \"lines\", \"name\": \"B\", \"text\": \"\", \"type\": \"scatter\", \"x\": [0, 1, 2, 3, 4, 5, 6, 7, 8, 9, 10, 11, 12, 13, 14, 15, 16, 17, 18, 19, 20, 21, 22, 23, 24, 25, 26, 27, 28, 29, 30, 31, 32, 33, 34, 35, 36, 37, 38, 39, 40, 41, 42, 43, 44, 45, 46, 47, 48, 49, 50, 51, 52, 53, 54, 55, 56, 57, 58, 59, 60, 61, 62, 63, 64, 65, 66, 67, 68, 69, 70, 71, 72, 73, 74, 75, 76, 77, 78, 79, 80, 81, 82, 83, 84, 85, 86, 87, 88, 89, 90, 91, 92, 93, 94, 95, 96, 97, 98, 99], \"y\": [1.096107160913988, -0.9737302345058281, -0.7250110916221839, 0.7674488710153434, -0.5886541668788527, -1.0622784516157855, -1.2238707436028022, 0.5253344718323851, -1.2878683268608349, -0.29911395934561635, 0.3228157242692437, -1.3772019647253797, 0.8422799608523274, 0.46673940511242085, -1.9024107187745396, 0.155657667140865, -0.7071356823154644, 1.2253160474108702, -0.2882825609357239, 0.36254222065700026, -1.1010538416552, 1.492275113314927, -0.8466546929147944, -1.407165100389169, 1.5632998286714186, -1.844746282810375, 0.15876902191918163, -1.5707713349068917, -0.8912945042064594, -1.1888331358388045, -0.27504992184297344, 0.7719987193746825, 1.0204442420513675, -0.8759967579455494, 0.315369460523939, -0.21239405545229284, -0.6288758205361382, -1.107447520892792, -0.2747002480687447, -0.4878952806445132, 0.45536338144084904, -0.06056216817983006, 0.9155766888351832, 0.3225396215491934, 1.336825319564932, -0.37695618372560696, 0.6325172658764953, 0.26144100072357696, -0.9176232114780261, -1.208512843841877, -0.1316287517068255, 0.8046785617875465, -0.5298092909996793, -0.37895398463692803, -0.05015310836103133, 1.8473860712933061, 1.5828731768120015, -0.8313732498063346, 1.56577510300552, -0.09835768242436443, -0.388099432966121, 0.9213329848355416, -2.348329762291072, -0.3698905589364241, -1.3494687348772076, 1.3037780678011601, 2.417803512990605, 0.29235264572616937, -0.8885381405600554, 1.298273421113763, -0.3243102006073436, 1.7694595161130415, 1.1645387332927113, 0.6288572400159901, -0.4527526189306913, 1.9960678439093071, -0.041270654120210824, 1.2496205442177806, -0.8840401546835186, 0.8183218519596385, -2.0264573504660435, -0.4060040927237812, 0.4729778895675059, -1.018633095188232, -0.29007097710175345, -0.06404339828919584, -2.1361917322659645, 0.2609275108959407, 0.8218707805270796, 0.9456373949586805, 0.8181515489793115, -1.4850632655046452, 0.811063068792345, -0.31666137234541136, 1.2786160004896594, 0.8786720744927401, 0.3944281417496477, 0.22966085439033096, 0.1673512133000957, -0.35535519018683315]}, {\"connectgaps\": false, \"fill\": \"tozeroy\", \"line\": {\"color\": \"green\", \"dash\": \"solid\", \"shape\": \"linear\", \"width\": 0.5}, \"mode\": \"lines\", \"name\": \"Spread\", \"showlegend\": false, \"type\": \"scatter\", \"x\": [0, 1, 2, 3, 4, 5, 6, 7, 8, 9, 10, 11, 12, 13, 14, 15, 16, 17, 18, 19, 20, 21, 22, 23, 24, 25, 26, 27, 28, 29, 30, 31, 32, 33, 34, 35, 36, 37, 38, 39, 40, 41, 42, 43, 44, 45, 46, 47, 48, 49, 50, 51, 52, 53, 54, 55, 56, 57, 58, 59, 60, 61, 62, 63, 64, 65, 66, 67, 68, 69, 70, 71, 72, 73, 74, 75, 76, 77, 78, 79, 80, 81, 82, 83, 84, 85, 86, 87, 88, 89, 90, 91, 92, 93, 94, 95, 96, 97, 98, 99], \"xaxis\": \"x2\", \"y\": [\"\", 0.9905228326261141, 1.6176023329771545, \"\", 0.49898830973033215, 0.8176899595574161, 0.8215868340443471, 0.21160877417190416, 0.03846033564717666, \"\", 0.034139698117587935, 1.061465644412735, \"\", \"\", \"\", 0.35420800329045266, 2.8953173037248803, \"\", \"\", \"\", 1.3483559211027996, \"\", 3.0607007021565504, 2.8408186788375644, \"\", 1.162431233287969, 1.4398926915080192, 2.993546774565236, \"\", \"\", 0.47684879430081756, \"\", \"\", 1.9521820299737622, \"\", \"\", 2.7108061552883775, 0.3906872203578159, \"\", 2.4012901533513666, 0.585351918834468, 1.513818266883662, \"\", \"\", \"\", 1.3260047060171885, 0.04716011266248821, \"\", 0.4921876689799594, 1.3135379382189245, 1.8053305028346138, \"\", 0.7581781555960747, 1.597927202201985, 0.45228260731210035, \"\", \"\", 1.8236222360752814, \"\", 2.112671336110226, 0.24214682254811526, \"\", 1.6740690026456222, \"\", 1.2668235917631674, \"\", \"\", \"\", 0.6638189766296098, \"\", 1.4174525708075212, \"\", \"\", \"\", 0.5167719673481311, \"\", \"\", \"\", 1.0316406350052438, \"\", 1.2134562558363753, 1.2234836007796857, 0.7671213625499167, \"\", 0.4369025131818509, \"\", 2.3756260964377067, \"\", \"\", 0.730703466312143, \"\", 1.1360766128183697, 0.16635239190771645, 1.723766264155207, \"\", \"\", \"\", \"\", 1.3578297361140228, 1.3303008960974205], \"yaxis\": \"y2\"}, {\"connectgaps\": false, \"fill\": \"tozeroy\", \"line\": {\"color\": \"red\", \"dash\": \"solid\", \"shape\": \"linear\", \"width\": 0.5}, \"mode\": \"lines\", \"name\": \"Spread\", \"showlegend\": false, \"type\": \"scatter\", \"x\": [0, 1, 2, 3, 4, 5, 6, 7, 8, 9, 10, 11, 12, 13, 14, 15, 16, 17, 18, 19, 20, 21, 22, 23, 24, 25, 26, 27, 28, 29, 30, 31, 32, 33, 34, 35, 36, 37, 38, 39, 40, 41, 42, 43, 44, 45, 46, 47, 48, 49, 50, 51, 52, 53, 54, 55, 56, 57, 58, 59, 60, 61, 62, 63, 64, 65, 66, 67, 68, 69, 70, 71, 72, 73, 74, 75, 76, 77, 78, 79, 80, 81, 82, 83, 84, 85, 86, 87, 88, 89, 90, 91, 92, 93, 94, 95, 96, 97, 98, 99], \"xaxis\": \"x2\", \"y\": [-1.797868480083821, \"\", \"\", -1.434315932880363, \"\", \"\", \"\", \"\", \"\", -0.34108367922028693, \"\", \"\", -1.1347428204043726, -1.616469270344541, -0.08058049249035859, \"\", \"\", -3.1025857310123346, -0.1322592898527512, -0.0617839059286347, \"\", -0.3999693789281167, \"\", \"\", -0.11369942101375274, \"\", \"\", \"\", -0.16406222131431913, -0.2578948720343892, \"\", -0.4129609706405527, -1.3760007617158259, \"\", -1.20704120436864, -0.8477503620170704, \"\", \"\", -1.2606064864004654, \"\", \"\", \"\", -0.9023327421185726, -0.24274981529411196, -2.1296773237015794, \"\", \"\", -0.7927118023515662, \"\", \"\", \"\", -2.6715513292039166, \"\", \"\", \"\", -1.3679426404405803, -0.35245511614951663, \"\", -0.09710928007724062, \"\", \"\", -2.07314363062365, \"\", -0.3821319571501617, \"\", -3.247984208001407, -3.2396488732401694, -1.2270313830507722, \"\", -2.3763547348613234, \"\", -1.6584349103325893, -0.7061049257766114, -1.776817664318993, \"\", -2.40542788499868, -2.4337622835705672, -1.8295053254610678, \"\", -2.292990769621946, \"\", \"\", \"\", -0.15522002338608343, \"\", -1.017884428655684, \"\", -2.0970410428893267, -0.33285464751531424, \"\", -0.6772006379746465, \"\", \"\", \"\", -0.2857260026529932, -0.40393298048759585, -1.4104017661902999, -1.4624756671961943, \"\", \"\"], \"yaxis\": \"y2\"}],                        {\"hovermode\": \"x\", \"legend\": {\"bgcolor\": \"#F5F6F9\", \"font\": {\"color\": \"#4D5663\"}}, \"paper_bgcolor\": \"#F5F6F9\", \"plot_bgcolor\": \"#F5F6F9\", \"template\": {\"data\": {\"bar\": [{\"error_x\": {\"color\": \"#2a3f5f\"}, \"error_y\": {\"color\": \"#2a3f5f\"}, \"marker\": {\"line\": {\"color\": \"#E5ECF6\", \"width\": 0.5}}, \"type\": \"bar\"}], \"barpolar\": [{\"marker\": {\"line\": {\"color\": \"#E5ECF6\", \"width\": 0.5}}, \"type\": \"barpolar\"}], \"carpet\": [{\"aaxis\": {\"endlinecolor\": \"#2a3f5f\", \"gridcolor\": \"white\", \"linecolor\": \"white\", \"minorgridcolor\": \"white\", \"startlinecolor\": \"#2a3f5f\"}, \"baxis\": {\"endlinecolor\": \"#2a3f5f\", \"gridcolor\": \"white\", \"linecolor\": \"white\", \"minorgridcolor\": \"white\", \"startlinecolor\": \"#2a3f5f\"}, \"type\": \"carpet\"}], \"choropleth\": [{\"colorbar\": {\"outlinewidth\": 0, \"ticks\": \"\"}, \"type\": \"choropleth\"}], \"contour\": [{\"colorbar\": {\"outlinewidth\": 0, \"ticks\": \"\"}, \"colorscale\": [[0.0, \"#0d0887\"], [0.1111111111111111, \"#46039f\"], [0.2222222222222222, \"#7201a8\"], [0.3333333333333333, \"#9c179e\"], [0.4444444444444444, \"#bd3786\"], [0.5555555555555556, \"#d8576b\"], [0.6666666666666666, \"#ed7953\"], [0.7777777777777778, \"#fb9f3a\"], [0.8888888888888888, \"#fdca26\"], [1.0, \"#f0f921\"]], \"type\": \"contour\"}], \"contourcarpet\": [{\"colorbar\": {\"outlinewidth\": 0, \"ticks\": \"\"}, \"type\": \"contourcarpet\"}], \"heatmap\": [{\"colorbar\": {\"outlinewidth\": 0, \"ticks\": \"\"}, \"colorscale\": [[0.0, \"#0d0887\"], [0.1111111111111111, \"#46039f\"], [0.2222222222222222, \"#7201a8\"], [0.3333333333333333, \"#9c179e\"], [0.4444444444444444, \"#bd3786\"], [0.5555555555555556, \"#d8576b\"], [0.6666666666666666, \"#ed7953\"], [0.7777777777777778, \"#fb9f3a\"], [0.8888888888888888, \"#fdca26\"], [1.0, \"#f0f921\"]], \"type\": \"heatmap\"}], \"heatmapgl\": [{\"colorbar\": {\"outlinewidth\": 0, \"ticks\": \"\"}, \"colorscale\": [[0.0, \"#0d0887\"], [0.1111111111111111, \"#46039f\"], [0.2222222222222222, \"#7201a8\"], [0.3333333333333333, \"#9c179e\"], [0.4444444444444444, \"#bd3786\"], [0.5555555555555556, \"#d8576b\"], [0.6666666666666666, \"#ed7953\"], [0.7777777777777778, \"#fb9f3a\"], [0.8888888888888888, \"#fdca26\"], [1.0, \"#f0f921\"]], \"type\": \"heatmapgl\"}], \"histogram\": [{\"marker\": {\"colorbar\": {\"outlinewidth\": 0, \"ticks\": \"\"}}, \"type\": \"histogram\"}], \"histogram2d\": [{\"colorbar\": {\"outlinewidth\": 0, \"ticks\": \"\"}, \"colorscale\": [[0.0, \"#0d0887\"], [0.1111111111111111, \"#46039f\"], [0.2222222222222222, \"#7201a8\"], [0.3333333333333333, \"#9c179e\"], [0.4444444444444444, \"#bd3786\"], [0.5555555555555556, \"#d8576b\"], [0.6666666666666666, \"#ed7953\"], [0.7777777777777778, \"#fb9f3a\"], [0.8888888888888888, \"#fdca26\"], [1.0, \"#f0f921\"]], \"type\": \"histogram2d\"}], \"histogram2dcontour\": [{\"colorbar\": {\"outlinewidth\": 0, \"ticks\": \"\"}, \"colorscale\": [[0.0, \"#0d0887\"], [0.1111111111111111, \"#46039f\"], [0.2222222222222222, \"#7201a8\"], [0.3333333333333333, \"#9c179e\"], [0.4444444444444444, \"#bd3786\"], [0.5555555555555556, \"#d8576b\"], [0.6666666666666666, \"#ed7953\"], [0.7777777777777778, \"#fb9f3a\"], [0.8888888888888888, \"#fdca26\"], [1.0, \"#f0f921\"]], \"type\": \"histogram2dcontour\"}], \"mesh3d\": [{\"colorbar\": {\"outlinewidth\": 0, \"ticks\": \"\"}, \"type\": \"mesh3d\"}], \"parcoords\": [{\"line\": {\"colorbar\": {\"outlinewidth\": 0, \"ticks\": \"\"}}, \"type\": \"parcoords\"}], \"pie\": [{\"automargin\": true, \"type\": \"pie\"}], \"scatter\": [{\"marker\": {\"colorbar\": {\"outlinewidth\": 0, \"ticks\": \"\"}}, \"type\": \"scatter\"}], \"scatter3d\": [{\"line\": {\"colorbar\": {\"outlinewidth\": 0, \"ticks\": \"\"}}, \"marker\": {\"colorbar\": {\"outlinewidth\": 0, \"ticks\": \"\"}}, \"type\": \"scatter3d\"}], \"scattercarpet\": [{\"marker\": {\"colorbar\": {\"outlinewidth\": 0, \"ticks\": \"\"}}, \"type\": \"scattercarpet\"}], \"scattergeo\": [{\"marker\": {\"colorbar\": {\"outlinewidth\": 0, \"ticks\": \"\"}}, \"type\": \"scattergeo\"}], \"scattergl\": [{\"marker\": {\"colorbar\": {\"outlinewidth\": 0, \"ticks\": \"\"}}, \"type\": \"scattergl\"}], \"scattermapbox\": [{\"marker\": {\"colorbar\": {\"outlinewidth\": 0, \"ticks\": \"\"}}, \"type\": \"scattermapbox\"}], \"scatterpolar\": [{\"marker\": {\"colorbar\": {\"outlinewidth\": 0, \"ticks\": \"\"}}, \"type\": \"scatterpolar\"}], \"scatterpolargl\": [{\"marker\": {\"colorbar\": {\"outlinewidth\": 0, \"ticks\": \"\"}}, \"type\": \"scatterpolargl\"}], \"scatterternary\": [{\"marker\": {\"colorbar\": {\"outlinewidth\": 0, \"ticks\": \"\"}}, \"type\": \"scatterternary\"}], \"surface\": [{\"colorbar\": {\"outlinewidth\": 0, \"ticks\": \"\"}, \"colorscale\": [[0.0, \"#0d0887\"], [0.1111111111111111, \"#46039f\"], [0.2222222222222222, \"#7201a8\"], [0.3333333333333333, \"#9c179e\"], [0.4444444444444444, \"#bd3786\"], [0.5555555555555556, \"#d8576b\"], [0.6666666666666666, \"#ed7953\"], [0.7777777777777778, \"#fb9f3a\"], [0.8888888888888888, \"#fdca26\"], [1.0, \"#f0f921\"]], \"type\": \"surface\"}], \"table\": [{\"cells\": {\"fill\": {\"color\": \"#EBF0F8\"}, \"line\": {\"color\": \"white\"}}, \"header\": {\"fill\": {\"color\": \"#C8D4E3\"}, \"line\": {\"color\": \"white\"}}, \"type\": \"table\"}]}, \"layout\": {\"annotationdefaults\": {\"arrowcolor\": \"#2a3f5f\", \"arrowhead\": 0, \"arrowwidth\": 1}, \"coloraxis\": {\"colorbar\": {\"outlinewidth\": 0, \"ticks\": \"\"}}, \"colorscale\": {\"diverging\": [[0, \"#8e0152\"], [0.1, \"#c51b7d\"], [0.2, \"#de77ae\"], [0.3, \"#f1b6da\"], [0.4, \"#fde0ef\"], [0.5, \"#f7f7f7\"], [0.6, \"#e6f5d0\"], [0.7, \"#b8e186\"], [0.8, \"#7fbc41\"], [0.9, \"#4d9221\"], [1, \"#276419\"]], \"sequential\": [[0.0, \"#0d0887\"], [0.1111111111111111, \"#46039f\"], [0.2222222222222222, \"#7201a8\"], [0.3333333333333333, \"#9c179e\"], [0.4444444444444444, \"#bd3786\"], [0.5555555555555556, \"#d8576b\"], [0.6666666666666666, \"#ed7953\"], [0.7777777777777778, \"#fb9f3a\"], [0.8888888888888888, \"#fdca26\"], [1.0, \"#f0f921\"]], \"sequentialminus\": [[0.0, \"#0d0887\"], [0.1111111111111111, \"#46039f\"], [0.2222222222222222, \"#7201a8\"], [0.3333333333333333, \"#9c179e\"], [0.4444444444444444, \"#bd3786\"], [0.5555555555555556, \"#d8576b\"], [0.6666666666666666, \"#ed7953\"], [0.7777777777777778, \"#fb9f3a\"], [0.8888888888888888, \"#fdca26\"], [1.0, \"#f0f921\"]]}, \"colorway\": [\"#636efa\", \"#EF553B\", \"#00cc96\", \"#ab63fa\", \"#FFA15A\", \"#19d3f3\", \"#FF6692\", \"#B6E880\", \"#FF97FF\", \"#FECB52\"], \"font\": {\"color\": \"#2a3f5f\"}, \"geo\": {\"bgcolor\": \"white\", \"lakecolor\": \"white\", \"landcolor\": \"#E5ECF6\", \"showlakes\": true, \"showland\": true, \"subunitcolor\": \"white\"}, \"hoverlabel\": {\"align\": \"left\"}, \"hovermode\": \"closest\", \"mapbox\": {\"style\": \"light\"}, \"paper_bgcolor\": \"white\", \"plot_bgcolor\": \"#E5ECF6\", \"polar\": {\"angularaxis\": {\"gridcolor\": \"white\", \"linecolor\": \"white\", \"ticks\": \"\"}, \"bgcolor\": \"#E5ECF6\", \"radialaxis\": {\"gridcolor\": \"white\", \"linecolor\": \"white\", \"ticks\": \"\"}}, \"scene\": {\"xaxis\": {\"backgroundcolor\": \"#E5ECF6\", \"gridcolor\": \"white\", \"gridwidth\": 2, \"linecolor\": \"white\", \"showbackground\": true, \"ticks\": \"\", \"zerolinecolor\": \"white\"}, \"yaxis\": {\"backgroundcolor\": \"#E5ECF6\", \"gridcolor\": \"white\", \"gridwidth\": 2, \"linecolor\": \"white\", \"showbackground\": true, \"ticks\": \"\", \"zerolinecolor\": \"white\"}, \"zaxis\": {\"backgroundcolor\": \"#E5ECF6\", \"gridcolor\": \"white\", \"gridwidth\": 2, \"linecolor\": \"white\", \"showbackground\": true, \"ticks\": \"\", \"zerolinecolor\": \"white\"}}, \"shapedefaults\": {\"line\": {\"color\": \"#2a3f5f\"}}, \"ternary\": {\"aaxis\": {\"gridcolor\": \"white\", \"linecolor\": \"white\", \"ticks\": \"\"}, \"baxis\": {\"gridcolor\": \"white\", \"linecolor\": \"white\", \"ticks\": \"\"}, \"bgcolor\": \"#E5ECF6\", \"caxis\": {\"gridcolor\": \"white\", \"linecolor\": \"white\", \"ticks\": \"\"}}, \"title\": {\"x\": 0.05}, \"xaxis\": {\"automargin\": true, \"gridcolor\": \"white\", \"linecolor\": \"white\", \"ticks\": \"\", \"title\": {\"standoff\": 15}, \"zerolinecolor\": \"white\", \"zerolinewidth\": 2}, \"yaxis\": {\"automargin\": true, \"gridcolor\": \"white\", \"linecolor\": \"white\", \"ticks\": \"\", \"title\": {\"standoff\": 15}, \"zerolinecolor\": \"white\", \"zerolinewidth\": 2}}}, \"title\": {\"font\": {\"color\": \"#4D5663\"}}, \"xaxis\": {\"gridcolor\": \"#E1E5ED\", \"showgrid\": true, \"tickfont\": {\"color\": \"#4D5663\"}, \"title\": {\"font\": {\"color\": \"#4D5663\"}, \"text\": \"\"}, \"zerolinecolor\": \"#E1E5ED\"}, \"xaxis2\": {\"anchor\": \"y2\", \"gridcolor\": \"#E1E5ED\", \"showgrid\": true, \"showticklabels\": false, \"tickfont\": {\"color\": \"#4D5663\"}, \"title\": {\"font\": {\"color\": \"#4D5663\"}, \"text\": \"\"}, \"zerolinecolor\": \"#E1E5ED\"}, \"yaxis\": {\"domain\": [0.3, 1], \"gridcolor\": \"#E1E5ED\", \"showgrid\": true, \"tickfont\": {\"color\": \"#4D5663\"}, \"title\": {\"font\": {\"color\": \"#4D5663\"}, \"text\": \"\"}, \"zerolinecolor\": \"#E1E5ED\"}, \"yaxis2\": {\"domain\": [0, 0.25], \"gridcolor\": \"#E1E5ED\", \"showgrid\": true, \"tickfont\": {\"color\": \"#4D5663\"}, \"title\": {\"font\": {\"color\": \"#4D5663\"}, \"text\": \"Spread\"}, \"zerolinecolor\": \"#E1E5ED\"}},                        {\"showLink\": true, \"linkText\": \"Export to plot.ly\", \"plotlyServerURL\": \"https://plot.ly\", \"responsive\": true}                    ).then(function(){\n",
       "                            \n",
       "var gd = document.getElementById('57d5e26a-c227-4625-b9d0-fbb3ca400e71');\n",
       "var x = new MutationObserver(function (mutations, observer) {{\n",
       "        var display = window.getComputedStyle(gd).display;\n",
       "        if (!display || display === 'none') {{\n",
       "            console.log([gd, 'removed!']);\n",
       "            Plotly.purge(gd);\n",
       "            observer.disconnect();\n",
       "        }}\n",
       "}});\n",
       "\n",
       "// Listen for the removal of the full notebook cells\n",
       "var notebookContainer = gd.closest('#notebook-container');\n",
       "if (notebookContainer) {{\n",
       "    x.observe(notebookContainer, {childList: true});\n",
       "}}\n",
       "\n",
       "// Listen for the clearing of the current output cell\n",
       "var outputEl = gd.closest('.output');\n",
       "if (outputEl) {{\n",
       "    x.observe(outputEl, {childList: true});\n",
       "}}\n",
       "\n",
       "                        })                };                });            </script>        </div>"
      ]
     },
     "metadata": {},
     "output_type": "display_data"
    }
   ],
   "source": [
    "df[['A','B']].iplot(kind='spread')"
   ]
  },
  {
   "cell_type": "markdown",
   "metadata": {},
   "source": [
    "## histogram"
   ]
  },
  {
   "cell_type": "code",
   "execution_count": 17,
   "metadata": {},
   "outputs": [
    {
     "data": {
      "application/vnd.plotly.v1+json": {
       "config": {
        "linkText": "Export to plot.ly",
        "plotlyServerURL": "https://plot.ly",
        "showLink": true
       },
       "data": [
        {
         "histfunc": "count",
         "histnorm": "",
         "marker": {
          "color": "rgba(255, 153, 51, 1.0)",
          "line": {
           "color": "#4D5663",
           "width": 1.3
          }
         },
         "name": "A",
         "nbinsx": 25,
         "opacity": 0.8,
         "orientation": "v",
         "type": "histogram",
         "x": [
          -0.7017613191698328,
          0.01679259812028604,
          0.8925912413549707,
          -0.6668670618650194,
          -0.08966585714852059,
          -0.24458849205836947,
          -0.4022839095584551,
          0.7369432460042893,
          -1.2494079912136582,
          -0.6401976385659033,
          0.35695542238683164,
          -0.31573632031264465,
          -0.29246285955204526,
          -1.1497298652321202,
          -1.9829912112648982,
          0.5098656704313177,
          2.188181621409416,
          -1.8772696836014646,
          -0.4205418507884751,
          0.30075831472836556,
          0.2473020794475996,
          1.0923057343868103,
          2.214046009241756,
          1.4336535784483952,
          1.4496004076576658,
          -0.682315049522406,
          1.598661713427201,
          1.4227754396583445,
          -1.0553567255207785,
          -1.4467280078731937,
          0.20179887245784411,
          0.35903774873412975,
          -0.3555565196644582,
          1.0761852720282128,
          -0.8916717438447009,
          -1.0601444174693633,
          2.0819303347522395,
          -0.7167603005349762,
          -1.53530673446921,
          1.9133948727068533,
          1.0407153002753171,
          1.4532560987038319,
          0.013243946716610581,
          0.07978980625508145,
          -0.7928520041366476,
          0.9490485222915815,
          0.6796773785389835,
          -0.5312708016279892,
          -0.42543554249806664,
          0.10502509437704735,
          1.6737017511277883,
          -1.8668727674163699,
          0.22836886459639544,
          1.218973217565057,
          0.40212949895106903,
          0.47944343085272584,
          1.2304180606624848,
          0.9922489862689469,
          1.4686658229282794,
          2.0143136536858615,
          -0.14595261041800572,
          -1.1518106457881085,
          -0.6742607596454501,
          -0.7520225160865858,
          -0.08264514311404035,
          -1.944206140200247,
          -0.8218453602495646,
          -0.9346787373246029,
          -0.22471916393044564,
          -1.0780813137475604,
          1.0931423702001777,
          0.1110246057804523,
          0.45843380751609986,
          -1.1479604243030028,
          0.06401934841743986,
          -0.40936004108937313,
          -2.475032937690778,
          -0.5798847812432872,
          0.14760048032172526,
          -1.4746689176623073,
          -0.8130010946296682,
          0.8174795080559044,
          1.2400992521174226,
          -1.1738531185743155,
          0.14683153608009747,
          -1.08192782694488,
          0.23943436417174233,
          -1.8361135319933861,
          0.4890161330117654,
          1.6763408612708235,
          0.140950911004665,
          -0.34898665268627543,
          0.9774154607000615,
          1.4071048918097957,
          0.9928899978366662,
          0.47473909400514425,
          -1.0159736244406523,
          -1.2328148128058634,
          1.5251809494141184,
          0.9749457059105875
         ]
        }
       ],
       "layout": {
        "barmode": "overlay",
        "legend": {
         "bgcolor": "#F5F6F9",
         "font": {
          "color": "#4D5663"
         }
        },
        "paper_bgcolor": "#F5F6F9",
        "plot_bgcolor": "#F5F6F9",
        "template": {
         "data": {
          "bar": [
           {
            "error_x": {
             "color": "#2a3f5f"
            },
            "error_y": {
             "color": "#2a3f5f"
            },
            "marker": {
             "line": {
              "color": "#E5ECF6",
              "width": 0.5
             }
            },
            "type": "bar"
           }
          ],
          "barpolar": [
           {
            "marker": {
             "line": {
              "color": "#E5ECF6",
              "width": 0.5
             }
            },
            "type": "barpolar"
           }
          ],
          "carpet": [
           {
            "aaxis": {
             "endlinecolor": "#2a3f5f",
             "gridcolor": "white",
             "linecolor": "white",
             "minorgridcolor": "white",
             "startlinecolor": "#2a3f5f"
            },
            "baxis": {
             "endlinecolor": "#2a3f5f",
             "gridcolor": "white",
             "linecolor": "white",
             "minorgridcolor": "white",
             "startlinecolor": "#2a3f5f"
            },
            "type": "carpet"
           }
          ],
          "choropleth": [
           {
            "colorbar": {
             "outlinewidth": 0,
             "ticks": ""
            },
            "type": "choropleth"
           }
          ],
          "contour": [
           {
            "colorbar": {
             "outlinewidth": 0,
             "ticks": ""
            },
            "colorscale": [
             [
              0,
              "#0d0887"
             ],
             [
              0.1111111111111111,
              "#46039f"
             ],
             [
              0.2222222222222222,
              "#7201a8"
             ],
             [
              0.3333333333333333,
              "#9c179e"
             ],
             [
              0.4444444444444444,
              "#bd3786"
             ],
             [
              0.5555555555555556,
              "#d8576b"
             ],
             [
              0.6666666666666666,
              "#ed7953"
             ],
             [
              0.7777777777777778,
              "#fb9f3a"
             ],
             [
              0.8888888888888888,
              "#fdca26"
             ],
             [
              1,
              "#f0f921"
             ]
            ],
            "type": "contour"
           }
          ],
          "contourcarpet": [
           {
            "colorbar": {
             "outlinewidth": 0,
             "ticks": ""
            },
            "type": "contourcarpet"
           }
          ],
          "heatmap": [
           {
            "colorbar": {
             "outlinewidth": 0,
             "ticks": ""
            },
            "colorscale": [
             [
              0,
              "#0d0887"
             ],
             [
              0.1111111111111111,
              "#46039f"
             ],
             [
              0.2222222222222222,
              "#7201a8"
             ],
             [
              0.3333333333333333,
              "#9c179e"
             ],
             [
              0.4444444444444444,
              "#bd3786"
             ],
             [
              0.5555555555555556,
              "#d8576b"
             ],
             [
              0.6666666666666666,
              "#ed7953"
             ],
             [
              0.7777777777777778,
              "#fb9f3a"
             ],
             [
              0.8888888888888888,
              "#fdca26"
             ],
             [
              1,
              "#f0f921"
             ]
            ],
            "type": "heatmap"
           }
          ],
          "heatmapgl": [
           {
            "colorbar": {
             "outlinewidth": 0,
             "ticks": ""
            },
            "colorscale": [
             [
              0,
              "#0d0887"
             ],
             [
              0.1111111111111111,
              "#46039f"
             ],
             [
              0.2222222222222222,
              "#7201a8"
             ],
             [
              0.3333333333333333,
              "#9c179e"
             ],
             [
              0.4444444444444444,
              "#bd3786"
             ],
             [
              0.5555555555555556,
              "#d8576b"
             ],
             [
              0.6666666666666666,
              "#ed7953"
             ],
             [
              0.7777777777777778,
              "#fb9f3a"
             ],
             [
              0.8888888888888888,
              "#fdca26"
             ],
             [
              1,
              "#f0f921"
             ]
            ],
            "type": "heatmapgl"
           }
          ],
          "histogram": [
           {
            "marker": {
             "colorbar": {
              "outlinewidth": 0,
              "ticks": ""
             }
            },
            "type": "histogram"
           }
          ],
          "histogram2d": [
           {
            "colorbar": {
             "outlinewidth": 0,
             "ticks": ""
            },
            "colorscale": [
             [
              0,
              "#0d0887"
             ],
             [
              0.1111111111111111,
              "#46039f"
             ],
             [
              0.2222222222222222,
              "#7201a8"
             ],
             [
              0.3333333333333333,
              "#9c179e"
             ],
             [
              0.4444444444444444,
              "#bd3786"
             ],
             [
              0.5555555555555556,
              "#d8576b"
             ],
             [
              0.6666666666666666,
              "#ed7953"
             ],
             [
              0.7777777777777778,
              "#fb9f3a"
             ],
             [
              0.8888888888888888,
              "#fdca26"
             ],
             [
              1,
              "#f0f921"
             ]
            ],
            "type": "histogram2d"
           }
          ],
          "histogram2dcontour": [
           {
            "colorbar": {
             "outlinewidth": 0,
             "ticks": ""
            },
            "colorscale": [
             [
              0,
              "#0d0887"
             ],
             [
              0.1111111111111111,
              "#46039f"
             ],
             [
              0.2222222222222222,
              "#7201a8"
             ],
             [
              0.3333333333333333,
              "#9c179e"
             ],
             [
              0.4444444444444444,
              "#bd3786"
             ],
             [
              0.5555555555555556,
              "#d8576b"
             ],
             [
              0.6666666666666666,
              "#ed7953"
             ],
             [
              0.7777777777777778,
              "#fb9f3a"
             ],
             [
              0.8888888888888888,
              "#fdca26"
             ],
             [
              1,
              "#f0f921"
             ]
            ],
            "type": "histogram2dcontour"
           }
          ],
          "mesh3d": [
           {
            "colorbar": {
             "outlinewidth": 0,
             "ticks": ""
            },
            "type": "mesh3d"
           }
          ],
          "parcoords": [
           {
            "line": {
             "colorbar": {
              "outlinewidth": 0,
              "ticks": ""
             }
            },
            "type": "parcoords"
           }
          ],
          "pie": [
           {
            "automargin": true,
            "type": "pie"
           }
          ],
          "scatter": [
           {
            "marker": {
             "colorbar": {
              "outlinewidth": 0,
              "ticks": ""
             }
            },
            "type": "scatter"
           }
          ],
          "scatter3d": [
           {
            "line": {
             "colorbar": {
              "outlinewidth": 0,
              "ticks": ""
             }
            },
            "marker": {
             "colorbar": {
              "outlinewidth": 0,
              "ticks": ""
             }
            },
            "type": "scatter3d"
           }
          ],
          "scattercarpet": [
           {
            "marker": {
             "colorbar": {
              "outlinewidth": 0,
              "ticks": ""
             }
            },
            "type": "scattercarpet"
           }
          ],
          "scattergeo": [
           {
            "marker": {
             "colorbar": {
              "outlinewidth": 0,
              "ticks": ""
             }
            },
            "type": "scattergeo"
           }
          ],
          "scattergl": [
           {
            "marker": {
             "colorbar": {
              "outlinewidth": 0,
              "ticks": ""
             }
            },
            "type": "scattergl"
           }
          ],
          "scattermapbox": [
           {
            "marker": {
             "colorbar": {
              "outlinewidth": 0,
              "ticks": ""
             }
            },
            "type": "scattermapbox"
           }
          ],
          "scatterpolar": [
           {
            "marker": {
             "colorbar": {
              "outlinewidth": 0,
              "ticks": ""
             }
            },
            "type": "scatterpolar"
           }
          ],
          "scatterpolargl": [
           {
            "marker": {
             "colorbar": {
              "outlinewidth": 0,
              "ticks": ""
             }
            },
            "type": "scatterpolargl"
           }
          ],
          "scatterternary": [
           {
            "marker": {
             "colorbar": {
              "outlinewidth": 0,
              "ticks": ""
             }
            },
            "type": "scatterternary"
           }
          ],
          "surface": [
           {
            "colorbar": {
             "outlinewidth": 0,
             "ticks": ""
            },
            "colorscale": [
             [
              0,
              "#0d0887"
             ],
             [
              0.1111111111111111,
              "#46039f"
             ],
             [
              0.2222222222222222,
              "#7201a8"
             ],
             [
              0.3333333333333333,
              "#9c179e"
             ],
             [
              0.4444444444444444,
              "#bd3786"
             ],
             [
              0.5555555555555556,
              "#d8576b"
             ],
             [
              0.6666666666666666,
              "#ed7953"
             ],
             [
              0.7777777777777778,
              "#fb9f3a"
             ],
             [
              0.8888888888888888,
              "#fdca26"
             ],
             [
              1,
              "#f0f921"
             ]
            ],
            "type": "surface"
           }
          ],
          "table": [
           {
            "cells": {
             "fill": {
              "color": "#EBF0F8"
             },
             "line": {
              "color": "white"
             }
            },
            "header": {
             "fill": {
              "color": "#C8D4E3"
             },
             "line": {
              "color": "white"
             }
            },
            "type": "table"
           }
          ]
         },
         "layout": {
          "annotationdefaults": {
           "arrowcolor": "#2a3f5f",
           "arrowhead": 0,
           "arrowwidth": 1
          },
          "coloraxis": {
           "colorbar": {
            "outlinewidth": 0,
            "ticks": ""
           }
          },
          "colorscale": {
           "diverging": [
            [
             0,
             "#8e0152"
            ],
            [
             0.1,
             "#c51b7d"
            ],
            [
             0.2,
             "#de77ae"
            ],
            [
             0.3,
             "#f1b6da"
            ],
            [
             0.4,
             "#fde0ef"
            ],
            [
             0.5,
             "#f7f7f7"
            ],
            [
             0.6,
             "#e6f5d0"
            ],
            [
             0.7,
             "#b8e186"
            ],
            [
             0.8,
             "#7fbc41"
            ],
            [
             0.9,
             "#4d9221"
            ],
            [
             1,
             "#276419"
            ]
           ],
           "sequential": [
            [
             0,
             "#0d0887"
            ],
            [
             0.1111111111111111,
             "#46039f"
            ],
            [
             0.2222222222222222,
             "#7201a8"
            ],
            [
             0.3333333333333333,
             "#9c179e"
            ],
            [
             0.4444444444444444,
             "#bd3786"
            ],
            [
             0.5555555555555556,
             "#d8576b"
            ],
            [
             0.6666666666666666,
             "#ed7953"
            ],
            [
             0.7777777777777778,
             "#fb9f3a"
            ],
            [
             0.8888888888888888,
             "#fdca26"
            ],
            [
             1,
             "#f0f921"
            ]
           ],
           "sequentialminus": [
            [
             0,
             "#0d0887"
            ],
            [
             0.1111111111111111,
             "#46039f"
            ],
            [
             0.2222222222222222,
             "#7201a8"
            ],
            [
             0.3333333333333333,
             "#9c179e"
            ],
            [
             0.4444444444444444,
             "#bd3786"
            ],
            [
             0.5555555555555556,
             "#d8576b"
            ],
            [
             0.6666666666666666,
             "#ed7953"
            ],
            [
             0.7777777777777778,
             "#fb9f3a"
            ],
            [
             0.8888888888888888,
             "#fdca26"
            ],
            [
             1,
             "#f0f921"
            ]
           ]
          },
          "colorway": [
           "#636efa",
           "#EF553B",
           "#00cc96",
           "#ab63fa",
           "#FFA15A",
           "#19d3f3",
           "#FF6692",
           "#B6E880",
           "#FF97FF",
           "#FECB52"
          ],
          "font": {
           "color": "#2a3f5f"
          },
          "geo": {
           "bgcolor": "white",
           "lakecolor": "white",
           "landcolor": "#E5ECF6",
           "showlakes": true,
           "showland": true,
           "subunitcolor": "white"
          },
          "hoverlabel": {
           "align": "left"
          },
          "hovermode": "closest",
          "mapbox": {
           "style": "light"
          },
          "paper_bgcolor": "white",
          "plot_bgcolor": "#E5ECF6",
          "polar": {
           "angularaxis": {
            "gridcolor": "white",
            "linecolor": "white",
            "ticks": ""
           },
           "bgcolor": "#E5ECF6",
           "radialaxis": {
            "gridcolor": "white",
            "linecolor": "white",
            "ticks": ""
           }
          },
          "scene": {
           "xaxis": {
            "backgroundcolor": "#E5ECF6",
            "gridcolor": "white",
            "gridwidth": 2,
            "linecolor": "white",
            "showbackground": true,
            "ticks": "",
            "zerolinecolor": "white"
           },
           "yaxis": {
            "backgroundcolor": "#E5ECF6",
            "gridcolor": "white",
            "gridwidth": 2,
            "linecolor": "white",
            "showbackground": true,
            "ticks": "",
            "zerolinecolor": "white"
           },
           "zaxis": {
            "backgroundcolor": "#E5ECF6",
            "gridcolor": "white",
            "gridwidth": 2,
            "linecolor": "white",
            "showbackground": true,
            "ticks": "",
            "zerolinecolor": "white"
           }
          },
          "shapedefaults": {
           "line": {
            "color": "#2a3f5f"
           }
          },
          "ternary": {
           "aaxis": {
            "gridcolor": "white",
            "linecolor": "white",
            "ticks": ""
           },
           "baxis": {
            "gridcolor": "white",
            "linecolor": "white",
            "ticks": ""
           },
           "bgcolor": "#E5ECF6",
           "caxis": {
            "gridcolor": "white",
            "linecolor": "white",
            "ticks": ""
           }
          },
          "title": {
           "x": 0.05
          },
          "xaxis": {
           "automargin": true,
           "gridcolor": "white",
           "linecolor": "white",
           "ticks": "",
           "title": {
            "standoff": 15
           },
           "zerolinecolor": "white",
           "zerolinewidth": 2
          },
          "yaxis": {
           "automargin": true,
           "gridcolor": "white",
           "linecolor": "white",
           "ticks": "",
           "title": {
            "standoff": 15
           },
           "zerolinecolor": "white",
           "zerolinewidth": 2
          }
         }
        },
        "title": {
         "font": {
          "color": "#4D5663"
         }
        },
        "xaxis": {
         "gridcolor": "#E1E5ED",
         "showgrid": true,
         "tickfont": {
          "color": "#4D5663"
         },
         "title": {
          "font": {
           "color": "#4D5663"
          },
          "text": ""
         },
         "zerolinecolor": "#E1E5ED"
        },
        "yaxis": {
         "gridcolor": "#E1E5ED",
         "showgrid": true,
         "tickfont": {
          "color": "#4D5663"
         },
         "title": {
          "font": {
           "color": "#4D5663"
          },
          "text": ""
         },
         "zerolinecolor": "#E1E5ED"
        }
       }
      },
      "text/html": [
       "<div>                            <div id=\"20756055-8745-454c-aa7f-e2f400d5c55e\" class=\"plotly-graph-div\" style=\"height:525px; width:100%;\"></div>            <script type=\"text/javascript\">                require([\"plotly\"], function(Plotly) {                    window.PLOTLYENV=window.PLOTLYENV || {};\n",
       "                    window.PLOTLYENV.BASE_URL='https://plot.ly';                                    if (document.getElementById(\"20756055-8745-454c-aa7f-e2f400d5c55e\")) {                    Plotly.newPlot(                        \"20756055-8745-454c-aa7f-e2f400d5c55e\",                        [{\"histfunc\": \"count\", \"histnorm\": \"\", \"marker\": {\"color\": \"rgba(255, 153, 51, 1.0)\", \"line\": {\"color\": \"#4D5663\", \"width\": 1.3}}, \"name\": \"A\", \"nbinsx\": 25, \"opacity\": 0.8, \"orientation\": \"v\", \"type\": \"histogram\", \"x\": [-0.7017613191698328, 0.01679259812028604, 0.8925912413549707, -0.6668670618650194, -0.08966585714852059, -0.24458849205836947, -0.4022839095584551, 0.7369432460042893, -1.2494079912136582, -0.6401976385659033, 0.35695542238683164, -0.31573632031264465, -0.29246285955204526, -1.1497298652321202, -1.9829912112648982, 0.5098656704313177, 2.188181621409416, -1.8772696836014646, -0.4205418507884751, 0.30075831472836556, 0.2473020794475996, 1.0923057343868103, 2.214046009241756, 1.4336535784483952, 1.4496004076576658, -0.682315049522406, 1.598661713427201, 1.4227754396583445, -1.0553567255207785, -1.4467280078731937, 0.20179887245784411, 0.35903774873412975, -0.3555565196644582, 1.0761852720282128, -0.8916717438447009, -1.0601444174693633, 2.0819303347522395, -0.7167603005349762, -1.53530673446921, 1.9133948727068533, 1.0407153002753171, 1.4532560987038319, 0.013243946716610581, 0.07978980625508145, -0.7928520041366476, 0.9490485222915815, 0.6796773785389835, -0.5312708016279892, -0.42543554249806664, 0.10502509437704735, 1.6737017511277883, -1.8668727674163699, 0.22836886459639544, 1.218973217565057, 0.40212949895106903, 0.47944343085272584, 1.2304180606624848, 0.9922489862689469, 1.4686658229282794, 2.0143136536858615, -0.14595261041800572, -1.1518106457881085, -0.6742607596454501, -0.7520225160865858, -0.08264514311404035, -1.944206140200247, -0.8218453602495646, -0.9346787373246029, -0.22471916393044564, -1.0780813137475604, 1.0931423702001777, 0.1110246057804523, 0.45843380751609986, -1.1479604243030028, 0.06401934841743986, -0.40936004108937313, -2.475032937690778, -0.5798847812432872, 0.14760048032172526, -1.4746689176623073, -0.8130010946296682, 0.8174795080559044, 1.2400992521174226, -1.1738531185743155, 0.14683153608009747, -1.08192782694488, 0.23943436417174233, -1.8361135319933861, 0.4890161330117654, 1.6763408612708235, 0.140950911004665, -0.34898665268627543, 0.9774154607000615, 1.4071048918097957, 0.9928899978366662, 0.47473909400514425, -1.0159736244406523, -1.2328148128058634, 1.5251809494141184, 0.9749457059105875]}],                        {\"barmode\": \"overlay\", \"legend\": {\"bgcolor\": \"#F5F6F9\", \"font\": {\"color\": \"#4D5663\"}}, \"paper_bgcolor\": \"#F5F6F9\", \"plot_bgcolor\": \"#F5F6F9\", \"template\": {\"data\": {\"bar\": [{\"error_x\": {\"color\": \"#2a3f5f\"}, \"error_y\": {\"color\": \"#2a3f5f\"}, \"marker\": {\"line\": {\"color\": \"#E5ECF6\", \"width\": 0.5}}, \"type\": \"bar\"}], \"barpolar\": [{\"marker\": {\"line\": {\"color\": \"#E5ECF6\", \"width\": 0.5}}, \"type\": \"barpolar\"}], \"carpet\": [{\"aaxis\": {\"endlinecolor\": \"#2a3f5f\", \"gridcolor\": \"white\", \"linecolor\": \"white\", \"minorgridcolor\": \"white\", \"startlinecolor\": \"#2a3f5f\"}, \"baxis\": {\"endlinecolor\": \"#2a3f5f\", \"gridcolor\": \"white\", \"linecolor\": \"white\", \"minorgridcolor\": \"white\", \"startlinecolor\": \"#2a3f5f\"}, \"type\": \"carpet\"}], \"choropleth\": [{\"colorbar\": {\"outlinewidth\": 0, \"ticks\": \"\"}, \"type\": \"choropleth\"}], \"contour\": [{\"colorbar\": {\"outlinewidth\": 0, \"ticks\": \"\"}, \"colorscale\": [[0.0, \"#0d0887\"], [0.1111111111111111, \"#46039f\"], [0.2222222222222222, \"#7201a8\"], [0.3333333333333333, \"#9c179e\"], [0.4444444444444444, \"#bd3786\"], [0.5555555555555556, \"#d8576b\"], [0.6666666666666666, \"#ed7953\"], [0.7777777777777778, \"#fb9f3a\"], [0.8888888888888888, \"#fdca26\"], [1.0, \"#f0f921\"]], \"type\": \"contour\"}], \"contourcarpet\": [{\"colorbar\": {\"outlinewidth\": 0, \"ticks\": \"\"}, \"type\": \"contourcarpet\"}], \"heatmap\": [{\"colorbar\": {\"outlinewidth\": 0, \"ticks\": \"\"}, \"colorscale\": [[0.0, \"#0d0887\"], [0.1111111111111111, \"#46039f\"], [0.2222222222222222, \"#7201a8\"], [0.3333333333333333, \"#9c179e\"], [0.4444444444444444, \"#bd3786\"], [0.5555555555555556, \"#d8576b\"], [0.6666666666666666, \"#ed7953\"], [0.7777777777777778, \"#fb9f3a\"], [0.8888888888888888, \"#fdca26\"], [1.0, \"#f0f921\"]], \"type\": \"heatmap\"}], \"heatmapgl\": [{\"colorbar\": {\"outlinewidth\": 0, \"ticks\": \"\"}, \"colorscale\": [[0.0, \"#0d0887\"], [0.1111111111111111, \"#46039f\"], [0.2222222222222222, \"#7201a8\"], [0.3333333333333333, \"#9c179e\"], [0.4444444444444444, \"#bd3786\"], [0.5555555555555556, \"#d8576b\"], [0.6666666666666666, \"#ed7953\"], [0.7777777777777778, \"#fb9f3a\"], [0.8888888888888888, \"#fdca26\"], [1.0, \"#f0f921\"]], \"type\": \"heatmapgl\"}], \"histogram\": [{\"marker\": {\"colorbar\": {\"outlinewidth\": 0, \"ticks\": \"\"}}, \"type\": \"histogram\"}], \"histogram2d\": [{\"colorbar\": {\"outlinewidth\": 0, \"ticks\": \"\"}, \"colorscale\": [[0.0, \"#0d0887\"], [0.1111111111111111, \"#46039f\"], [0.2222222222222222, \"#7201a8\"], [0.3333333333333333, \"#9c179e\"], [0.4444444444444444, \"#bd3786\"], [0.5555555555555556, \"#d8576b\"], [0.6666666666666666, \"#ed7953\"], [0.7777777777777778, \"#fb9f3a\"], [0.8888888888888888, \"#fdca26\"], [1.0, \"#f0f921\"]], \"type\": \"histogram2d\"}], \"histogram2dcontour\": [{\"colorbar\": {\"outlinewidth\": 0, \"ticks\": \"\"}, \"colorscale\": [[0.0, \"#0d0887\"], [0.1111111111111111, \"#46039f\"], [0.2222222222222222, \"#7201a8\"], [0.3333333333333333, \"#9c179e\"], [0.4444444444444444, \"#bd3786\"], [0.5555555555555556, \"#d8576b\"], [0.6666666666666666, \"#ed7953\"], [0.7777777777777778, \"#fb9f3a\"], [0.8888888888888888, \"#fdca26\"], [1.0, \"#f0f921\"]], \"type\": \"histogram2dcontour\"}], \"mesh3d\": [{\"colorbar\": {\"outlinewidth\": 0, \"ticks\": \"\"}, \"type\": \"mesh3d\"}], \"parcoords\": [{\"line\": {\"colorbar\": {\"outlinewidth\": 0, \"ticks\": \"\"}}, \"type\": \"parcoords\"}], \"pie\": [{\"automargin\": true, \"type\": \"pie\"}], \"scatter\": [{\"marker\": {\"colorbar\": {\"outlinewidth\": 0, \"ticks\": \"\"}}, \"type\": \"scatter\"}], \"scatter3d\": [{\"line\": {\"colorbar\": {\"outlinewidth\": 0, \"ticks\": \"\"}}, \"marker\": {\"colorbar\": {\"outlinewidth\": 0, \"ticks\": \"\"}}, \"type\": \"scatter3d\"}], \"scattercarpet\": [{\"marker\": {\"colorbar\": {\"outlinewidth\": 0, \"ticks\": \"\"}}, \"type\": \"scattercarpet\"}], \"scattergeo\": [{\"marker\": {\"colorbar\": {\"outlinewidth\": 0, \"ticks\": \"\"}}, \"type\": \"scattergeo\"}], \"scattergl\": [{\"marker\": {\"colorbar\": {\"outlinewidth\": 0, \"ticks\": \"\"}}, \"type\": \"scattergl\"}], \"scattermapbox\": [{\"marker\": {\"colorbar\": {\"outlinewidth\": 0, \"ticks\": \"\"}}, \"type\": \"scattermapbox\"}], \"scatterpolar\": [{\"marker\": {\"colorbar\": {\"outlinewidth\": 0, \"ticks\": \"\"}}, \"type\": \"scatterpolar\"}], \"scatterpolargl\": [{\"marker\": {\"colorbar\": {\"outlinewidth\": 0, \"ticks\": \"\"}}, \"type\": \"scatterpolargl\"}], \"scatterternary\": [{\"marker\": {\"colorbar\": {\"outlinewidth\": 0, \"ticks\": \"\"}}, \"type\": \"scatterternary\"}], \"surface\": [{\"colorbar\": {\"outlinewidth\": 0, \"ticks\": \"\"}, \"colorscale\": [[0.0, \"#0d0887\"], [0.1111111111111111, \"#46039f\"], [0.2222222222222222, \"#7201a8\"], [0.3333333333333333, \"#9c179e\"], [0.4444444444444444, \"#bd3786\"], [0.5555555555555556, \"#d8576b\"], [0.6666666666666666, \"#ed7953\"], [0.7777777777777778, \"#fb9f3a\"], [0.8888888888888888, \"#fdca26\"], [1.0, \"#f0f921\"]], \"type\": \"surface\"}], \"table\": [{\"cells\": {\"fill\": {\"color\": \"#EBF0F8\"}, \"line\": {\"color\": \"white\"}}, \"header\": {\"fill\": {\"color\": \"#C8D4E3\"}, \"line\": {\"color\": \"white\"}}, \"type\": \"table\"}]}, \"layout\": {\"annotationdefaults\": {\"arrowcolor\": \"#2a3f5f\", \"arrowhead\": 0, \"arrowwidth\": 1}, \"coloraxis\": {\"colorbar\": {\"outlinewidth\": 0, \"ticks\": \"\"}}, \"colorscale\": {\"diverging\": [[0, \"#8e0152\"], [0.1, \"#c51b7d\"], [0.2, \"#de77ae\"], [0.3, \"#f1b6da\"], [0.4, \"#fde0ef\"], [0.5, \"#f7f7f7\"], [0.6, \"#e6f5d0\"], [0.7, \"#b8e186\"], [0.8, \"#7fbc41\"], [0.9, \"#4d9221\"], [1, \"#276419\"]], \"sequential\": [[0.0, \"#0d0887\"], [0.1111111111111111, \"#46039f\"], [0.2222222222222222, \"#7201a8\"], [0.3333333333333333, \"#9c179e\"], [0.4444444444444444, \"#bd3786\"], [0.5555555555555556, \"#d8576b\"], [0.6666666666666666, \"#ed7953\"], [0.7777777777777778, \"#fb9f3a\"], [0.8888888888888888, \"#fdca26\"], [1.0, \"#f0f921\"]], \"sequentialminus\": [[0.0, \"#0d0887\"], [0.1111111111111111, \"#46039f\"], [0.2222222222222222, \"#7201a8\"], [0.3333333333333333, \"#9c179e\"], [0.4444444444444444, \"#bd3786\"], [0.5555555555555556, \"#d8576b\"], [0.6666666666666666, \"#ed7953\"], [0.7777777777777778, \"#fb9f3a\"], [0.8888888888888888, \"#fdca26\"], [1.0, \"#f0f921\"]]}, \"colorway\": [\"#636efa\", \"#EF553B\", \"#00cc96\", \"#ab63fa\", \"#FFA15A\", \"#19d3f3\", \"#FF6692\", \"#B6E880\", \"#FF97FF\", \"#FECB52\"], \"font\": {\"color\": \"#2a3f5f\"}, \"geo\": {\"bgcolor\": \"white\", \"lakecolor\": \"white\", \"landcolor\": \"#E5ECF6\", \"showlakes\": true, \"showland\": true, \"subunitcolor\": \"white\"}, \"hoverlabel\": {\"align\": \"left\"}, \"hovermode\": \"closest\", \"mapbox\": {\"style\": \"light\"}, \"paper_bgcolor\": \"white\", \"plot_bgcolor\": \"#E5ECF6\", \"polar\": {\"angularaxis\": {\"gridcolor\": \"white\", \"linecolor\": \"white\", \"ticks\": \"\"}, \"bgcolor\": \"#E5ECF6\", \"radialaxis\": {\"gridcolor\": \"white\", \"linecolor\": \"white\", \"ticks\": \"\"}}, \"scene\": {\"xaxis\": {\"backgroundcolor\": \"#E5ECF6\", \"gridcolor\": \"white\", \"gridwidth\": 2, \"linecolor\": \"white\", \"showbackground\": true, \"ticks\": \"\", \"zerolinecolor\": \"white\"}, \"yaxis\": {\"backgroundcolor\": \"#E5ECF6\", \"gridcolor\": \"white\", \"gridwidth\": 2, \"linecolor\": \"white\", \"showbackground\": true, \"ticks\": \"\", \"zerolinecolor\": \"white\"}, \"zaxis\": {\"backgroundcolor\": \"#E5ECF6\", \"gridcolor\": \"white\", \"gridwidth\": 2, \"linecolor\": \"white\", \"showbackground\": true, \"ticks\": \"\", \"zerolinecolor\": \"white\"}}, \"shapedefaults\": {\"line\": {\"color\": \"#2a3f5f\"}}, \"ternary\": {\"aaxis\": {\"gridcolor\": \"white\", \"linecolor\": \"white\", \"ticks\": \"\"}, \"baxis\": {\"gridcolor\": \"white\", \"linecolor\": \"white\", \"ticks\": \"\"}, \"bgcolor\": \"#E5ECF6\", \"caxis\": {\"gridcolor\": \"white\", \"linecolor\": \"white\", \"ticks\": \"\"}}, \"title\": {\"x\": 0.05}, \"xaxis\": {\"automargin\": true, \"gridcolor\": \"white\", \"linecolor\": \"white\", \"ticks\": \"\", \"title\": {\"standoff\": 15}, \"zerolinecolor\": \"white\", \"zerolinewidth\": 2}, \"yaxis\": {\"automargin\": true, \"gridcolor\": \"white\", \"linecolor\": \"white\", \"ticks\": \"\", \"title\": {\"standoff\": 15}, \"zerolinecolor\": \"white\", \"zerolinewidth\": 2}}}, \"title\": {\"font\": {\"color\": \"#4D5663\"}}, \"xaxis\": {\"gridcolor\": \"#E1E5ED\", \"showgrid\": true, \"tickfont\": {\"color\": \"#4D5663\"}, \"title\": {\"font\": {\"color\": \"#4D5663\"}, \"text\": \"\"}, \"zerolinecolor\": \"#E1E5ED\"}, \"yaxis\": {\"gridcolor\": \"#E1E5ED\", \"showgrid\": true, \"tickfont\": {\"color\": \"#4D5663\"}, \"title\": {\"font\": {\"color\": \"#4D5663\"}, \"text\": \"\"}, \"zerolinecolor\": \"#E1E5ED\"}},                        {\"showLink\": true, \"linkText\": \"Export to plot.ly\", \"plotlyServerURL\": \"https://plot.ly\", \"responsive\": true}                    ).then(function(){\n",
       "                            \n",
       "var gd = document.getElementById('20756055-8745-454c-aa7f-e2f400d5c55e');\n",
       "var x = new MutationObserver(function (mutations, observer) {{\n",
       "        var display = window.getComputedStyle(gd).display;\n",
       "        if (!display || display === 'none') {{\n",
       "            console.log([gd, 'removed!']);\n",
       "            Plotly.purge(gd);\n",
       "            observer.disconnect();\n",
       "        }}\n",
       "}});\n",
       "\n",
       "// Listen for the removal of the full notebook cells\n",
       "var notebookContainer = gd.closest('#notebook-container');\n",
       "if (notebookContainer) {{\n",
       "    x.observe(notebookContainer, {childList: true});\n",
       "}}\n",
       "\n",
       "// Listen for the clearing of the current output cell\n",
       "var outputEl = gd.closest('.output');\n",
       "if (outputEl) {{\n",
       "    x.observe(outputEl, {childList: true});\n",
       "}}\n",
       "\n",
       "                        })                };                });            </script>        </div>"
      ]
     },
     "metadata": {},
     "output_type": "display_data"
    }
   ],
   "source": [
    "df['A'].iplot(kind='hist',bins=25)"
   ]
  },
  {
   "cell_type": "code",
   "execution_count": 18,
   "metadata": {},
   "outputs": [
    {
     "data": {
      "application/vnd.plotly.v1+json": {
       "config": {
        "linkText": "Export to plot.ly",
        "plotlyServerURL": "https://plot.ly",
        "showLink": true
       },
       "data": [
        {
         "marker": {
          "color": [
           "rgb(255, 153, 51)",
           "rgb(55, 128, 191)",
           "rgb(50, 171, 96)",
           "rgb(128, 0, 128)",
           "rgb(219, 64, 82)",
           "rgb(0, 128, 128)",
           "rgb(255, 255, 51)",
           "rgb(128, 128, 0)",
           "rgb(251, 128, 114)",
           "rgb(128, 177, 211)"
          ],
          "line": {
           "width": 1.3
          },
          "size": [
           50,
           54,
           19,
           59,
           42,
           81,
           38,
           38,
           60,
           65,
           81,
           68,
           58,
           76,
           59,
           49,
           74,
           73,
           101,
           105,
           40,
           77,
           84,
           100,
           96,
           45,
           58,
           52,
           12,
           88,
           86,
           67,
           55,
           54,
           78,
           34,
           75,
           94,
           36,
           53,
           55,
           109,
           16,
           63,
           56,
           50,
           56,
           58,
           28,
           112,
           60,
           33,
           44,
           95,
           36,
           88,
           58,
           60,
           50,
           69,
           75,
           45,
           34,
           42,
           106,
           84,
           35,
           54,
           50,
           76,
           75,
           87,
           60,
           51,
           57,
           74,
           94,
           57,
           49,
           83,
           61,
           71,
           81,
           68,
           48,
           13,
           72,
           44,
           90,
           56,
           65,
           43,
           81,
           100,
           80,
           69,
           52,
           58,
           102,
           78
          ],
          "symbol": "circle"
         },
         "mode": "markers",
         "text": "",
         "type": "scatter",
         "x": [
          -0.7017613191698328,
          0.01679259812028604,
          0.8925912413549707,
          -0.6668670618650194,
          -0.08966585714852059,
          -0.24458849205836947,
          -0.4022839095584551,
          0.7369432460042893,
          -1.2494079912136582,
          -0.6401976385659033,
          0.35695542238683164,
          -0.31573632031264465,
          -0.29246285955204526,
          -1.1497298652321202,
          -1.9829912112648982,
          0.5098656704313177,
          2.188181621409416,
          -1.8772696836014646,
          -0.4205418507884751,
          0.30075831472836556,
          0.2473020794475996,
          1.0923057343868103,
          2.214046009241756,
          1.4336535784483952,
          1.4496004076576658,
          -0.682315049522406,
          1.598661713427201,
          1.4227754396583445,
          -1.0553567255207785,
          -1.4467280078731937,
          0.20179887245784411,
          0.35903774873412975,
          -0.3555565196644582,
          1.0761852720282128,
          -0.8916717438447009,
          -1.0601444174693633,
          2.0819303347522395,
          -0.7167603005349762,
          -1.53530673446921,
          1.9133948727068533,
          1.0407153002753171,
          1.4532560987038319,
          0.013243946716610581,
          0.07978980625508145,
          -0.7928520041366476,
          0.9490485222915815,
          0.6796773785389835,
          -0.5312708016279892,
          -0.42543554249806664,
          0.10502509437704735,
          1.6737017511277883,
          -1.8668727674163699,
          0.22836886459639544,
          1.218973217565057,
          0.40212949895106903,
          0.47944343085272584,
          1.2304180606624848,
          0.9922489862689469,
          1.4686658229282794,
          2.0143136536858615,
          -0.14595261041800572,
          -1.1518106457881085,
          -0.6742607596454501,
          -0.7520225160865858,
          -0.08264514311404035,
          -1.944206140200247,
          -0.8218453602495646,
          -0.9346787373246029,
          -0.22471916393044564,
          -1.0780813137475604,
          1.0931423702001777,
          0.1110246057804523,
          0.45843380751609986,
          -1.1479604243030028,
          0.06401934841743986,
          -0.40936004108937313,
          -2.475032937690778,
          -0.5798847812432872,
          0.14760048032172526,
          -1.4746689176623073,
          -0.8130010946296682,
          0.8174795080559044,
          1.2400992521174226,
          -1.1738531185743155,
          0.14683153608009747,
          -1.08192782694488,
          0.23943436417174233,
          -1.8361135319933861,
          0.4890161330117654,
          1.6763408612708235,
          0.140950911004665,
          -0.34898665268627543,
          0.9774154607000615,
          1.4071048918097957,
          0.9928899978366662,
          0.47473909400514425,
          -1.0159736244406523,
          -1.2328148128058634,
          1.5251809494141184,
          0.9749457059105875
         ],
         "y": [
          1.096107160913988,
          -0.9737302345058281,
          -0.7250110916221839,
          0.7674488710153434,
          -0.5886541668788527,
          -1.0622784516157855,
          -1.2238707436028022,
          0.5253344718323851,
          -1.2878683268608349,
          -0.29911395934561635,
          0.3228157242692437,
          -1.3772019647253797,
          0.8422799608523274,
          0.46673940511242085,
          -1.9024107187745396,
          0.155657667140865,
          -0.7071356823154644,
          1.2253160474108702,
          -0.2882825609357239,
          0.36254222065700026,
          -1.1010538416552,
          1.492275113314927,
          -0.8466546929147944,
          -1.407165100389169,
          1.5632998286714186,
          -1.844746282810375,
          0.15876902191918163,
          -1.5707713349068917,
          -0.8912945042064594,
          -1.1888331358388045,
          -0.27504992184297344,
          0.7719987193746825,
          1.0204442420513675,
          -0.8759967579455494,
          0.315369460523939,
          -0.21239405545229284,
          -0.6288758205361382,
          -1.107447520892792,
          -0.2747002480687447,
          -0.4878952806445132,
          0.45536338144084904,
          -0.06056216817983006,
          0.9155766888351832,
          0.3225396215491934,
          1.336825319564932,
          -0.37695618372560696,
          0.6325172658764953,
          0.26144100072357696,
          -0.9176232114780261,
          -1.208512843841877,
          -0.1316287517068255,
          0.8046785617875465,
          -0.5298092909996793,
          -0.37895398463692803,
          -0.05015310836103133,
          1.8473860712933061,
          1.5828731768120015,
          -0.8313732498063346,
          1.56577510300552,
          -0.09835768242436443,
          -0.388099432966121,
          0.9213329848355416,
          -2.348329762291072,
          -0.3698905589364241,
          -1.3494687348772076,
          1.3037780678011601,
          2.417803512990605,
          0.29235264572616937,
          -0.8885381405600554,
          1.298273421113763,
          -0.3243102006073436,
          1.7694595161130415,
          1.1645387332927113,
          0.6288572400159901,
          -0.4527526189306913,
          1.9960678439093071,
          -0.041270654120210824,
          1.2496205442177806,
          -0.8840401546835186,
          0.8183218519596385,
          -2.0264573504660435,
          -0.4060040927237812,
          0.4729778895675059,
          -1.018633095188232,
          -0.29007097710175345,
          -0.06404339828919584,
          -2.1361917322659645,
          0.2609275108959407,
          0.8218707805270796,
          0.9456373949586805,
          0.8181515489793115,
          -1.4850632655046452,
          0.811063068792345,
          -0.31666137234541136,
          1.2786160004896594,
          0.8786720744927401,
          0.3944281417496477,
          0.22966085439033096,
          0.1673512133000957,
          -0.35535519018683315
         ]
        }
       ],
       "layout": {
        "legend": {
         "bgcolor": "#F5F6F9",
         "font": {
          "color": "#4D5663"
         }
        },
        "paper_bgcolor": "#F5F6F9",
        "plot_bgcolor": "#F5F6F9",
        "template": {
         "data": {
          "bar": [
           {
            "error_x": {
             "color": "#2a3f5f"
            },
            "error_y": {
             "color": "#2a3f5f"
            },
            "marker": {
             "line": {
              "color": "#E5ECF6",
              "width": 0.5
             }
            },
            "type": "bar"
           }
          ],
          "barpolar": [
           {
            "marker": {
             "line": {
              "color": "#E5ECF6",
              "width": 0.5
             }
            },
            "type": "barpolar"
           }
          ],
          "carpet": [
           {
            "aaxis": {
             "endlinecolor": "#2a3f5f",
             "gridcolor": "white",
             "linecolor": "white",
             "minorgridcolor": "white",
             "startlinecolor": "#2a3f5f"
            },
            "baxis": {
             "endlinecolor": "#2a3f5f",
             "gridcolor": "white",
             "linecolor": "white",
             "minorgridcolor": "white",
             "startlinecolor": "#2a3f5f"
            },
            "type": "carpet"
           }
          ],
          "choropleth": [
           {
            "colorbar": {
             "outlinewidth": 0,
             "ticks": ""
            },
            "type": "choropleth"
           }
          ],
          "contour": [
           {
            "colorbar": {
             "outlinewidth": 0,
             "ticks": ""
            },
            "colorscale": [
             [
              0,
              "#0d0887"
             ],
             [
              0.1111111111111111,
              "#46039f"
             ],
             [
              0.2222222222222222,
              "#7201a8"
             ],
             [
              0.3333333333333333,
              "#9c179e"
             ],
             [
              0.4444444444444444,
              "#bd3786"
             ],
             [
              0.5555555555555556,
              "#d8576b"
             ],
             [
              0.6666666666666666,
              "#ed7953"
             ],
             [
              0.7777777777777778,
              "#fb9f3a"
             ],
             [
              0.8888888888888888,
              "#fdca26"
             ],
             [
              1,
              "#f0f921"
             ]
            ],
            "type": "contour"
           }
          ],
          "contourcarpet": [
           {
            "colorbar": {
             "outlinewidth": 0,
             "ticks": ""
            },
            "type": "contourcarpet"
           }
          ],
          "heatmap": [
           {
            "colorbar": {
             "outlinewidth": 0,
             "ticks": ""
            },
            "colorscale": [
             [
              0,
              "#0d0887"
             ],
             [
              0.1111111111111111,
              "#46039f"
             ],
             [
              0.2222222222222222,
              "#7201a8"
             ],
             [
              0.3333333333333333,
              "#9c179e"
             ],
             [
              0.4444444444444444,
              "#bd3786"
             ],
             [
              0.5555555555555556,
              "#d8576b"
             ],
             [
              0.6666666666666666,
              "#ed7953"
             ],
             [
              0.7777777777777778,
              "#fb9f3a"
             ],
             [
              0.8888888888888888,
              "#fdca26"
             ],
             [
              1,
              "#f0f921"
             ]
            ],
            "type": "heatmap"
           }
          ],
          "heatmapgl": [
           {
            "colorbar": {
             "outlinewidth": 0,
             "ticks": ""
            },
            "colorscale": [
             [
              0,
              "#0d0887"
             ],
             [
              0.1111111111111111,
              "#46039f"
             ],
             [
              0.2222222222222222,
              "#7201a8"
             ],
             [
              0.3333333333333333,
              "#9c179e"
             ],
             [
              0.4444444444444444,
              "#bd3786"
             ],
             [
              0.5555555555555556,
              "#d8576b"
             ],
             [
              0.6666666666666666,
              "#ed7953"
             ],
             [
              0.7777777777777778,
              "#fb9f3a"
             ],
             [
              0.8888888888888888,
              "#fdca26"
             ],
             [
              1,
              "#f0f921"
             ]
            ],
            "type": "heatmapgl"
           }
          ],
          "histogram": [
           {
            "marker": {
             "colorbar": {
              "outlinewidth": 0,
              "ticks": ""
             }
            },
            "type": "histogram"
           }
          ],
          "histogram2d": [
           {
            "colorbar": {
             "outlinewidth": 0,
             "ticks": ""
            },
            "colorscale": [
             [
              0,
              "#0d0887"
             ],
             [
              0.1111111111111111,
              "#46039f"
             ],
             [
              0.2222222222222222,
              "#7201a8"
             ],
             [
              0.3333333333333333,
              "#9c179e"
             ],
             [
              0.4444444444444444,
              "#bd3786"
             ],
             [
              0.5555555555555556,
              "#d8576b"
             ],
             [
              0.6666666666666666,
              "#ed7953"
             ],
             [
              0.7777777777777778,
              "#fb9f3a"
             ],
             [
              0.8888888888888888,
              "#fdca26"
             ],
             [
              1,
              "#f0f921"
             ]
            ],
            "type": "histogram2d"
           }
          ],
          "histogram2dcontour": [
           {
            "colorbar": {
             "outlinewidth": 0,
             "ticks": ""
            },
            "colorscale": [
             [
              0,
              "#0d0887"
             ],
             [
              0.1111111111111111,
              "#46039f"
             ],
             [
              0.2222222222222222,
              "#7201a8"
             ],
             [
              0.3333333333333333,
              "#9c179e"
             ],
             [
              0.4444444444444444,
              "#bd3786"
             ],
             [
              0.5555555555555556,
              "#d8576b"
             ],
             [
              0.6666666666666666,
              "#ed7953"
             ],
             [
              0.7777777777777778,
              "#fb9f3a"
             ],
             [
              0.8888888888888888,
              "#fdca26"
             ],
             [
              1,
              "#f0f921"
             ]
            ],
            "type": "histogram2dcontour"
           }
          ],
          "mesh3d": [
           {
            "colorbar": {
             "outlinewidth": 0,
             "ticks": ""
            },
            "type": "mesh3d"
           }
          ],
          "parcoords": [
           {
            "line": {
             "colorbar": {
              "outlinewidth": 0,
              "ticks": ""
             }
            },
            "type": "parcoords"
           }
          ],
          "pie": [
           {
            "automargin": true,
            "type": "pie"
           }
          ],
          "scatter": [
           {
            "marker": {
             "colorbar": {
              "outlinewidth": 0,
              "ticks": ""
             }
            },
            "type": "scatter"
           }
          ],
          "scatter3d": [
           {
            "line": {
             "colorbar": {
              "outlinewidth": 0,
              "ticks": ""
             }
            },
            "marker": {
             "colorbar": {
              "outlinewidth": 0,
              "ticks": ""
             }
            },
            "type": "scatter3d"
           }
          ],
          "scattercarpet": [
           {
            "marker": {
             "colorbar": {
              "outlinewidth": 0,
              "ticks": ""
             }
            },
            "type": "scattercarpet"
           }
          ],
          "scattergeo": [
           {
            "marker": {
             "colorbar": {
              "outlinewidth": 0,
              "ticks": ""
             }
            },
            "type": "scattergeo"
           }
          ],
          "scattergl": [
           {
            "marker": {
             "colorbar": {
              "outlinewidth": 0,
              "ticks": ""
             }
            },
            "type": "scattergl"
           }
          ],
          "scattermapbox": [
           {
            "marker": {
             "colorbar": {
              "outlinewidth": 0,
              "ticks": ""
             }
            },
            "type": "scattermapbox"
           }
          ],
          "scatterpolar": [
           {
            "marker": {
             "colorbar": {
              "outlinewidth": 0,
              "ticks": ""
             }
            },
            "type": "scatterpolar"
           }
          ],
          "scatterpolargl": [
           {
            "marker": {
             "colorbar": {
              "outlinewidth": 0,
              "ticks": ""
             }
            },
            "type": "scatterpolargl"
           }
          ],
          "scatterternary": [
           {
            "marker": {
             "colorbar": {
              "outlinewidth": 0,
              "ticks": ""
             }
            },
            "type": "scatterternary"
           }
          ],
          "surface": [
           {
            "colorbar": {
             "outlinewidth": 0,
             "ticks": ""
            },
            "colorscale": [
             [
              0,
              "#0d0887"
             ],
             [
              0.1111111111111111,
              "#46039f"
             ],
             [
              0.2222222222222222,
              "#7201a8"
             ],
             [
              0.3333333333333333,
              "#9c179e"
             ],
             [
              0.4444444444444444,
              "#bd3786"
             ],
             [
              0.5555555555555556,
              "#d8576b"
             ],
             [
              0.6666666666666666,
              "#ed7953"
             ],
             [
              0.7777777777777778,
              "#fb9f3a"
             ],
             [
              0.8888888888888888,
              "#fdca26"
             ],
             [
              1,
              "#f0f921"
             ]
            ],
            "type": "surface"
           }
          ],
          "table": [
           {
            "cells": {
             "fill": {
              "color": "#EBF0F8"
             },
             "line": {
              "color": "white"
             }
            },
            "header": {
             "fill": {
              "color": "#C8D4E3"
             },
             "line": {
              "color": "white"
             }
            },
            "type": "table"
           }
          ]
         },
         "layout": {
          "annotationdefaults": {
           "arrowcolor": "#2a3f5f",
           "arrowhead": 0,
           "arrowwidth": 1
          },
          "coloraxis": {
           "colorbar": {
            "outlinewidth": 0,
            "ticks": ""
           }
          },
          "colorscale": {
           "diverging": [
            [
             0,
             "#8e0152"
            ],
            [
             0.1,
             "#c51b7d"
            ],
            [
             0.2,
             "#de77ae"
            ],
            [
             0.3,
             "#f1b6da"
            ],
            [
             0.4,
             "#fde0ef"
            ],
            [
             0.5,
             "#f7f7f7"
            ],
            [
             0.6,
             "#e6f5d0"
            ],
            [
             0.7,
             "#b8e186"
            ],
            [
             0.8,
             "#7fbc41"
            ],
            [
             0.9,
             "#4d9221"
            ],
            [
             1,
             "#276419"
            ]
           ],
           "sequential": [
            [
             0,
             "#0d0887"
            ],
            [
             0.1111111111111111,
             "#46039f"
            ],
            [
             0.2222222222222222,
             "#7201a8"
            ],
            [
             0.3333333333333333,
             "#9c179e"
            ],
            [
             0.4444444444444444,
             "#bd3786"
            ],
            [
             0.5555555555555556,
             "#d8576b"
            ],
            [
             0.6666666666666666,
             "#ed7953"
            ],
            [
             0.7777777777777778,
             "#fb9f3a"
            ],
            [
             0.8888888888888888,
             "#fdca26"
            ],
            [
             1,
             "#f0f921"
            ]
           ],
           "sequentialminus": [
            [
             0,
             "#0d0887"
            ],
            [
             0.1111111111111111,
             "#46039f"
            ],
            [
             0.2222222222222222,
             "#7201a8"
            ],
            [
             0.3333333333333333,
             "#9c179e"
            ],
            [
             0.4444444444444444,
             "#bd3786"
            ],
            [
             0.5555555555555556,
             "#d8576b"
            ],
            [
             0.6666666666666666,
             "#ed7953"
            ],
            [
             0.7777777777777778,
             "#fb9f3a"
            ],
            [
             0.8888888888888888,
             "#fdca26"
            ],
            [
             1,
             "#f0f921"
            ]
           ]
          },
          "colorway": [
           "#636efa",
           "#EF553B",
           "#00cc96",
           "#ab63fa",
           "#FFA15A",
           "#19d3f3",
           "#FF6692",
           "#B6E880",
           "#FF97FF",
           "#FECB52"
          ],
          "font": {
           "color": "#2a3f5f"
          },
          "geo": {
           "bgcolor": "white",
           "lakecolor": "white",
           "landcolor": "#E5ECF6",
           "showlakes": true,
           "showland": true,
           "subunitcolor": "white"
          },
          "hoverlabel": {
           "align": "left"
          },
          "hovermode": "closest",
          "mapbox": {
           "style": "light"
          },
          "paper_bgcolor": "white",
          "plot_bgcolor": "#E5ECF6",
          "polar": {
           "angularaxis": {
            "gridcolor": "white",
            "linecolor": "white",
            "ticks": ""
           },
           "bgcolor": "#E5ECF6",
           "radialaxis": {
            "gridcolor": "white",
            "linecolor": "white",
            "ticks": ""
           }
          },
          "scene": {
           "xaxis": {
            "backgroundcolor": "#E5ECF6",
            "gridcolor": "white",
            "gridwidth": 2,
            "linecolor": "white",
            "showbackground": true,
            "ticks": "",
            "zerolinecolor": "white"
           },
           "yaxis": {
            "backgroundcolor": "#E5ECF6",
            "gridcolor": "white",
            "gridwidth": 2,
            "linecolor": "white",
            "showbackground": true,
            "ticks": "",
            "zerolinecolor": "white"
           },
           "zaxis": {
            "backgroundcolor": "#E5ECF6",
            "gridcolor": "white",
            "gridwidth": 2,
            "linecolor": "white",
            "showbackground": true,
            "ticks": "",
            "zerolinecolor": "white"
           }
          },
          "shapedefaults": {
           "line": {
            "color": "#2a3f5f"
           }
          },
          "ternary": {
           "aaxis": {
            "gridcolor": "white",
            "linecolor": "white",
            "ticks": ""
           },
           "baxis": {
            "gridcolor": "white",
            "linecolor": "white",
            "ticks": ""
           },
           "bgcolor": "#E5ECF6",
           "caxis": {
            "gridcolor": "white",
            "linecolor": "white",
            "ticks": ""
           }
          },
          "title": {
           "x": 0.05
          },
          "xaxis": {
           "automargin": true,
           "gridcolor": "white",
           "linecolor": "white",
           "ticks": "",
           "title": {
            "standoff": 15
           },
           "zerolinecolor": "white",
           "zerolinewidth": 2
          },
          "yaxis": {
           "automargin": true,
           "gridcolor": "white",
           "linecolor": "white",
           "ticks": "",
           "title": {
            "standoff": 15
           },
           "zerolinecolor": "white",
           "zerolinewidth": 2
          }
         }
        },
        "title": {
         "font": {
          "color": "#4D5663"
         }
        },
        "xaxis": {
         "gridcolor": "#E1E5ED",
         "showgrid": true,
         "tickfont": {
          "color": "#4D5663"
         },
         "title": {
          "font": {
           "color": "#4D5663"
          },
          "text": ""
         },
         "zerolinecolor": "#E1E5ED"
        },
        "yaxis": {
         "gridcolor": "#E1E5ED",
         "showgrid": true,
         "tickfont": {
          "color": "#4D5663"
         },
         "title": {
          "font": {
           "color": "#4D5663"
          },
          "text": ""
         },
         "zerolinecolor": "#E1E5ED"
        }
       }
      },
      "text/html": [
       "<div>                            <div id=\"dd225bf3-14b6-45d4-90df-7b10898d0a31\" class=\"plotly-graph-div\" style=\"height:525px; width:100%;\"></div>            <script type=\"text/javascript\">                require([\"plotly\"], function(Plotly) {                    window.PLOTLYENV=window.PLOTLYENV || {};\n",
       "                    window.PLOTLYENV.BASE_URL='https://plot.ly';                                    if (document.getElementById(\"dd225bf3-14b6-45d4-90df-7b10898d0a31\")) {                    Plotly.newPlot(                        \"dd225bf3-14b6-45d4-90df-7b10898d0a31\",                        [{\"marker\": {\"color\": [\"rgb(255, 153, 51)\", \"rgb(55, 128, 191)\", \"rgb(50, 171, 96)\", \"rgb(128, 0, 128)\", \"rgb(219, 64, 82)\", \"rgb(0, 128, 128)\", \"rgb(255, 255, 51)\", \"rgb(128, 128, 0)\", \"rgb(251, 128, 114)\", \"rgb(128, 177, 211)\"], \"line\": {\"width\": 1.3}, \"size\": [50, 54, 19, 59, 42, 81, 38, 38, 60, 65, 81, 68, 58, 76, 59, 49, 74, 73, 101, 105, 40, 77, 84, 100, 96, 45, 58, 52, 12, 88, 86, 67, 55, 54, 78, 34, 75, 94, 36, 53, 55, 109, 16, 63, 56, 50, 56, 58, 28, 112, 60, 33, 44, 95, 36, 88, 58, 60, 50, 69, 75, 45, 34, 42, 106, 84, 35, 54, 50, 76, 75, 87, 60, 51, 57, 74, 94, 57, 49, 83, 61, 71, 81, 68, 48, 13, 72, 44, 90, 56, 65, 43, 81, 100, 80, 69, 52, 58, 102, 78], \"symbol\": \"circle\"}, \"mode\": \"markers\", \"text\": \"\", \"type\": \"scatter\", \"x\": [-0.7017613191698328, 0.01679259812028604, 0.8925912413549707, -0.6668670618650194, -0.08966585714852059, -0.24458849205836947, -0.4022839095584551, 0.7369432460042893, -1.2494079912136582, -0.6401976385659033, 0.35695542238683164, -0.31573632031264465, -0.29246285955204526, -1.1497298652321202, -1.9829912112648982, 0.5098656704313177, 2.188181621409416, -1.8772696836014646, -0.4205418507884751, 0.30075831472836556, 0.2473020794475996, 1.0923057343868103, 2.214046009241756, 1.4336535784483952, 1.4496004076576658, -0.682315049522406, 1.598661713427201, 1.4227754396583445, -1.0553567255207785, -1.4467280078731937, 0.20179887245784411, 0.35903774873412975, -0.3555565196644582, 1.0761852720282128, -0.8916717438447009, -1.0601444174693633, 2.0819303347522395, -0.7167603005349762, -1.53530673446921, 1.9133948727068533, 1.0407153002753171, 1.4532560987038319, 0.013243946716610581, 0.07978980625508145, -0.7928520041366476, 0.9490485222915815, 0.6796773785389835, -0.5312708016279892, -0.42543554249806664, 0.10502509437704735, 1.6737017511277883, -1.8668727674163699, 0.22836886459639544, 1.218973217565057, 0.40212949895106903, 0.47944343085272584, 1.2304180606624848, 0.9922489862689469, 1.4686658229282794, 2.0143136536858615, -0.14595261041800572, -1.1518106457881085, -0.6742607596454501, -0.7520225160865858, -0.08264514311404035, -1.944206140200247, -0.8218453602495646, -0.9346787373246029, -0.22471916393044564, -1.0780813137475604, 1.0931423702001777, 0.1110246057804523, 0.45843380751609986, -1.1479604243030028, 0.06401934841743986, -0.40936004108937313, -2.475032937690778, -0.5798847812432872, 0.14760048032172526, -1.4746689176623073, -0.8130010946296682, 0.8174795080559044, 1.2400992521174226, -1.1738531185743155, 0.14683153608009747, -1.08192782694488, 0.23943436417174233, -1.8361135319933861, 0.4890161330117654, 1.6763408612708235, 0.140950911004665, -0.34898665268627543, 0.9774154607000615, 1.4071048918097957, 0.9928899978366662, 0.47473909400514425, -1.0159736244406523, -1.2328148128058634, 1.5251809494141184, 0.9749457059105875], \"y\": [1.096107160913988, -0.9737302345058281, -0.7250110916221839, 0.7674488710153434, -0.5886541668788527, -1.0622784516157855, -1.2238707436028022, 0.5253344718323851, -1.2878683268608349, -0.29911395934561635, 0.3228157242692437, -1.3772019647253797, 0.8422799608523274, 0.46673940511242085, -1.9024107187745396, 0.155657667140865, -0.7071356823154644, 1.2253160474108702, -0.2882825609357239, 0.36254222065700026, -1.1010538416552, 1.492275113314927, -0.8466546929147944, -1.407165100389169, 1.5632998286714186, -1.844746282810375, 0.15876902191918163, -1.5707713349068917, -0.8912945042064594, -1.1888331358388045, -0.27504992184297344, 0.7719987193746825, 1.0204442420513675, -0.8759967579455494, 0.315369460523939, -0.21239405545229284, -0.6288758205361382, -1.107447520892792, -0.2747002480687447, -0.4878952806445132, 0.45536338144084904, -0.06056216817983006, 0.9155766888351832, 0.3225396215491934, 1.336825319564932, -0.37695618372560696, 0.6325172658764953, 0.26144100072357696, -0.9176232114780261, -1.208512843841877, -0.1316287517068255, 0.8046785617875465, -0.5298092909996793, -0.37895398463692803, -0.05015310836103133, 1.8473860712933061, 1.5828731768120015, -0.8313732498063346, 1.56577510300552, -0.09835768242436443, -0.388099432966121, 0.9213329848355416, -2.348329762291072, -0.3698905589364241, -1.3494687348772076, 1.3037780678011601, 2.417803512990605, 0.29235264572616937, -0.8885381405600554, 1.298273421113763, -0.3243102006073436, 1.7694595161130415, 1.1645387332927113, 0.6288572400159901, -0.4527526189306913, 1.9960678439093071, -0.041270654120210824, 1.2496205442177806, -0.8840401546835186, 0.8183218519596385, -2.0264573504660435, -0.4060040927237812, 0.4729778895675059, -1.018633095188232, -0.29007097710175345, -0.06404339828919584, -2.1361917322659645, 0.2609275108959407, 0.8218707805270796, 0.9456373949586805, 0.8181515489793115, -1.4850632655046452, 0.811063068792345, -0.31666137234541136, 1.2786160004896594, 0.8786720744927401, 0.3944281417496477, 0.22966085439033096, 0.1673512133000957, -0.35535519018683315]}],                        {\"legend\": {\"bgcolor\": \"#F5F6F9\", \"font\": {\"color\": \"#4D5663\"}}, \"paper_bgcolor\": \"#F5F6F9\", \"plot_bgcolor\": \"#F5F6F9\", \"template\": {\"data\": {\"bar\": [{\"error_x\": {\"color\": \"#2a3f5f\"}, \"error_y\": {\"color\": \"#2a3f5f\"}, \"marker\": {\"line\": {\"color\": \"#E5ECF6\", \"width\": 0.5}}, \"type\": \"bar\"}], \"barpolar\": [{\"marker\": {\"line\": {\"color\": \"#E5ECF6\", \"width\": 0.5}}, \"type\": \"barpolar\"}], \"carpet\": [{\"aaxis\": {\"endlinecolor\": \"#2a3f5f\", \"gridcolor\": \"white\", \"linecolor\": \"white\", \"minorgridcolor\": \"white\", \"startlinecolor\": \"#2a3f5f\"}, \"baxis\": {\"endlinecolor\": \"#2a3f5f\", \"gridcolor\": \"white\", \"linecolor\": \"white\", \"minorgridcolor\": \"white\", \"startlinecolor\": \"#2a3f5f\"}, \"type\": \"carpet\"}], \"choropleth\": [{\"colorbar\": {\"outlinewidth\": 0, \"ticks\": \"\"}, \"type\": \"choropleth\"}], \"contour\": [{\"colorbar\": {\"outlinewidth\": 0, \"ticks\": \"\"}, \"colorscale\": [[0.0, \"#0d0887\"], [0.1111111111111111, \"#46039f\"], [0.2222222222222222, \"#7201a8\"], [0.3333333333333333, \"#9c179e\"], [0.4444444444444444, \"#bd3786\"], [0.5555555555555556, \"#d8576b\"], [0.6666666666666666, \"#ed7953\"], [0.7777777777777778, \"#fb9f3a\"], [0.8888888888888888, \"#fdca26\"], [1.0, \"#f0f921\"]], \"type\": \"contour\"}], \"contourcarpet\": [{\"colorbar\": {\"outlinewidth\": 0, \"ticks\": \"\"}, \"type\": \"contourcarpet\"}], \"heatmap\": [{\"colorbar\": {\"outlinewidth\": 0, \"ticks\": \"\"}, \"colorscale\": [[0.0, \"#0d0887\"], [0.1111111111111111, \"#46039f\"], [0.2222222222222222, \"#7201a8\"], [0.3333333333333333, \"#9c179e\"], [0.4444444444444444, \"#bd3786\"], [0.5555555555555556, \"#d8576b\"], [0.6666666666666666, \"#ed7953\"], [0.7777777777777778, \"#fb9f3a\"], [0.8888888888888888, \"#fdca26\"], [1.0, \"#f0f921\"]], \"type\": \"heatmap\"}], \"heatmapgl\": [{\"colorbar\": {\"outlinewidth\": 0, \"ticks\": \"\"}, \"colorscale\": [[0.0, \"#0d0887\"], [0.1111111111111111, \"#46039f\"], [0.2222222222222222, \"#7201a8\"], [0.3333333333333333, \"#9c179e\"], [0.4444444444444444, \"#bd3786\"], [0.5555555555555556, \"#d8576b\"], [0.6666666666666666, \"#ed7953\"], [0.7777777777777778, \"#fb9f3a\"], [0.8888888888888888, \"#fdca26\"], [1.0, \"#f0f921\"]], \"type\": \"heatmapgl\"}], \"histogram\": [{\"marker\": {\"colorbar\": {\"outlinewidth\": 0, \"ticks\": \"\"}}, \"type\": \"histogram\"}], \"histogram2d\": [{\"colorbar\": {\"outlinewidth\": 0, \"ticks\": \"\"}, \"colorscale\": [[0.0, \"#0d0887\"], [0.1111111111111111, \"#46039f\"], [0.2222222222222222, \"#7201a8\"], [0.3333333333333333, \"#9c179e\"], [0.4444444444444444, \"#bd3786\"], [0.5555555555555556, \"#d8576b\"], [0.6666666666666666, \"#ed7953\"], [0.7777777777777778, \"#fb9f3a\"], [0.8888888888888888, \"#fdca26\"], [1.0, \"#f0f921\"]], \"type\": \"histogram2d\"}], \"histogram2dcontour\": [{\"colorbar\": {\"outlinewidth\": 0, \"ticks\": \"\"}, \"colorscale\": [[0.0, \"#0d0887\"], [0.1111111111111111, \"#46039f\"], [0.2222222222222222, \"#7201a8\"], [0.3333333333333333, \"#9c179e\"], [0.4444444444444444, \"#bd3786\"], [0.5555555555555556, \"#d8576b\"], [0.6666666666666666, \"#ed7953\"], [0.7777777777777778, \"#fb9f3a\"], [0.8888888888888888, \"#fdca26\"], [1.0, \"#f0f921\"]], \"type\": \"histogram2dcontour\"}], \"mesh3d\": [{\"colorbar\": {\"outlinewidth\": 0, \"ticks\": \"\"}, \"type\": \"mesh3d\"}], \"parcoords\": [{\"line\": {\"colorbar\": {\"outlinewidth\": 0, \"ticks\": \"\"}}, \"type\": \"parcoords\"}], \"pie\": [{\"automargin\": true, \"type\": \"pie\"}], \"scatter\": [{\"marker\": {\"colorbar\": {\"outlinewidth\": 0, \"ticks\": \"\"}}, \"type\": \"scatter\"}], \"scatter3d\": [{\"line\": {\"colorbar\": {\"outlinewidth\": 0, \"ticks\": \"\"}}, \"marker\": {\"colorbar\": {\"outlinewidth\": 0, \"ticks\": \"\"}}, \"type\": \"scatter3d\"}], \"scattercarpet\": [{\"marker\": {\"colorbar\": {\"outlinewidth\": 0, \"ticks\": \"\"}}, \"type\": \"scattercarpet\"}], \"scattergeo\": [{\"marker\": {\"colorbar\": {\"outlinewidth\": 0, \"ticks\": \"\"}}, \"type\": \"scattergeo\"}], \"scattergl\": [{\"marker\": {\"colorbar\": {\"outlinewidth\": 0, \"ticks\": \"\"}}, \"type\": \"scattergl\"}], \"scattermapbox\": [{\"marker\": {\"colorbar\": {\"outlinewidth\": 0, \"ticks\": \"\"}}, \"type\": \"scattermapbox\"}], \"scatterpolar\": [{\"marker\": {\"colorbar\": {\"outlinewidth\": 0, \"ticks\": \"\"}}, \"type\": \"scatterpolar\"}], \"scatterpolargl\": [{\"marker\": {\"colorbar\": {\"outlinewidth\": 0, \"ticks\": \"\"}}, \"type\": \"scatterpolargl\"}], \"scatterternary\": [{\"marker\": {\"colorbar\": {\"outlinewidth\": 0, \"ticks\": \"\"}}, \"type\": \"scatterternary\"}], \"surface\": [{\"colorbar\": {\"outlinewidth\": 0, \"ticks\": \"\"}, \"colorscale\": [[0.0, \"#0d0887\"], [0.1111111111111111, \"#46039f\"], [0.2222222222222222, \"#7201a8\"], [0.3333333333333333, \"#9c179e\"], [0.4444444444444444, \"#bd3786\"], [0.5555555555555556, \"#d8576b\"], [0.6666666666666666, \"#ed7953\"], [0.7777777777777778, \"#fb9f3a\"], [0.8888888888888888, \"#fdca26\"], [1.0, \"#f0f921\"]], \"type\": \"surface\"}], \"table\": [{\"cells\": {\"fill\": {\"color\": \"#EBF0F8\"}, \"line\": {\"color\": \"white\"}}, \"header\": {\"fill\": {\"color\": \"#C8D4E3\"}, \"line\": {\"color\": \"white\"}}, \"type\": \"table\"}]}, \"layout\": {\"annotationdefaults\": {\"arrowcolor\": \"#2a3f5f\", \"arrowhead\": 0, \"arrowwidth\": 1}, \"coloraxis\": {\"colorbar\": {\"outlinewidth\": 0, \"ticks\": \"\"}}, \"colorscale\": {\"diverging\": [[0, \"#8e0152\"], [0.1, \"#c51b7d\"], [0.2, \"#de77ae\"], [0.3, \"#f1b6da\"], [0.4, \"#fde0ef\"], [0.5, \"#f7f7f7\"], [0.6, \"#e6f5d0\"], [0.7, \"#b8e186\"], [0.8, \"#7fbc41\"], [0.9, \"#4d9221\"], [1, \"#276419\"]], \"sequential\": [[0.0, \"#0d0887\"], [0.1111111111111111, \"#46039f\"], [0.2222222222222222, \"#7201a8\"], [0.3333333333333333, \"#9c179e\"], [0.4444444444444444, \"#bd3786\"], [0.5555555555555556, \"#d8576b\"], [0.6666666666666666, \"#ed7953\"], [0.7777777777777778, \"#fb9f3a\"], [0.8888888888888888, \"#fdca26\"], [1.0, \"#f0f921\"]], \"sequentialminus\": [[0.0, \"#0d0887\"], [0.1111111111111111, \"#46039f\"], [0.2222222222222222, \"#7201a8\"], [0.3333333333333333, \"#9c179e\"], [0.4444444444444444, \"#bd3786\"], [0.5555555555555556, \"#d8576b\"], [0.6666666666666666, \"#ed7953\"], [0.7777777777777778, \"#fb9f3a\"], [0.8888888888888888, \"#fdca26\"], [1.0, \"#f0f921\"]]}, \"colorway\": [\"#636efa\", \"#EF553B\", \"#00cc96\", \"#ab63fa\", \"#FFA15A\", \"#19d3f3\", \"#FF6692\", \"#B6E880\", \"#FF97FF\", \"#FECB52\"], \"font\": {\"color\": \"#2a3f5f\"}, \"geo\": {\"bgcolor\": \"white\", \"lakecolor\": \"white\", \"landcolor\": \"#E5ECF6\", \"showlakes\": true, \"showland\": true, \"subunitcolor\": \"white\"}, \"hoverlabel\": {\"align\": \"left\"}, \"hovermode\": \"closest\", \"mapbox\": {\"style\": \"light\"}, \"paper_bgcolor\": \"white\", \"plot_bgcolor\": \"#E5ECF6\", \"polar\": {\"angularaxis\": {\"gridcolor\": \"white\", \"linecolor\": \"white\", \"ticks\": \"\"}, \"bgcolor\": \"#E5ECF6\", \"radialaxis\": {\"gridcolor\": \"white\", \"linecolor\": \"white\", \"ticks\": \"\"}}, \"scene\": {\"xaxis\": {\"backgroundcolor\": \"#E5ECF6\", \"gridcolor\": \"white\", \"gridwidth\": 2, \"linecolor\": \"white\", \"showbackground\": true, \"ticks\": \"\", \"zerolinecolor\": \"white\"}, \"yaxis\": {\"backgroundcolor\": \"#E5ECF6\", \"gridcolor\": \"white\", \"gridwidth\": 2, \"linecolor\": \"white\", \"showbackground\": true, \"ticks\": \"\", \"zerolinecolor\": \"white\"}, \"zaxis\": {\"backgroundcolor\": \"#E5ECF6\", \"gridcolor\": \"white\", \"gridwidth\": 2, \"linecolor\": \"white\", \"showbackground\": true, \"ticks\": \"\", \"zerolinecolor\": \"white\"}}, \"shapedefaults\": {\"line\": {\"color\": \"#2a3f5f\"}}, \"ternary\": {\"aaxis\": {\"gridcolor\": \"white\", \"linecolor\": \"white\", \"ticks\": \"\"}, \"baxis\": {\"gridcolor\": \"white\", \"linecolor\": \"white\", \"ticks\": \"\"}, \"bgcolor\": \"#E5ECF6\", \"caxis\": {\"gridcolor\": \"white\", \"linecolor\": \"white\", \"ticks\": \"\"}}, \"title\": {\"x\": 0.05}, \"xaxis\": {\"automargin\": true, \"gridcolor\": \"white\", \"linecolor\": \"white\", \"ticks\": \"\", \"title\": {\"standoff\": 15}, \"zerolinecolor\": \"white\", \"zerolinewidth\": 2}, \"yaxis\": {\"automargin\": true, \"gridcolor\": \"white\", \"linecolor\": \"white\", \"ticks\": \"\", \"title\": {\"standoff\": 15}, \"zerolinecolor\": \"white\", \"zerolinewidth\": 2}}}, \"title\": {\"font\": {\"color\": \"#4D5663\"}}, \"xaxis\": {\"gridcolor\": \"#E1E5ED\", \"showgrid\": true, \"tickfont\": {\"color\": \"#4D5663\"}, \"title\": {\"font\": {\"color\": \"#4D5663\"}, \"text\": \"\"}, \"zerolinecolor\": \"#E1E5ED\"}, \"yaxis\": {\"gridcolor\": \"#E1E5ED\", \"showgrid\": true, \"tickfont\": {\"color\": \"#4D5663\"}, \"title\": {\"font\": {\"color\": \"#4D5663\"}, \"text\": \"\"}, \"zerolinecolor\": \"#E1E5ED\"}},                        {\"showLink\": true, \"linkText\": \"Export to plot.ly\", \"plotlyServerURL\": \"https://plot.ly\", \"responsive\": true}                    ).then(function(){\n",
       "                            \n",
       "var gd = document.getElementById('dd225bf3-14b6-45d4-90df-7b10898d0a31');\n",
       "var x = new MutationObserver(function (mutations, observer) {{\n",
       "        var display = window.getComputedStyle(gd).display;\n",
       "        if (!display || display === 'none') {{\n",
       "            console.log([gd, 'removed!']);\n",
       "            Plotly.purge(gd);\n",
       "            observer.disconnect();\n",
       "        }}\n",
       "}});\n",
       "\n",
       "// Listen for the removal of the full notebook cells\n",
       "var notebookContainer = gd.closest('#notebook-container');\n",
       "if (notebookContainer) {{\n",
       "    x.observe(notebookContainer, {childList: true});\n",
       "}}\n",
       "\n",
       "// Listen for the clearing of the current output cell\n",
       "var outputEl = gd.closest('.output');\n",
       "if (outputEl) {{\n",
       "    x.observe(outputEl, {childList: true});\n",
       "}}\n",
       "\n",
       "                        })                };                });            </script>        </div>"
      ]
     },
     "metadata": {},
     "output_type": "display_data"
    }
   ],
   "source": [
    "df.iplot(kind='bubble',x='A',y='B',size='C')"
   ]
  },
  {
   "cell_type": "markdown",
   "metadata": {},
   "source": [
    "## scatter_matrix()\n",
    "\n",
    "Similar to sns.pairplot()"
   ]
  },
  {
   "cell_type": "code",
   "execution_count": 19,
   "metadata": {},
   "outputs": [
    {
     "data": {
      "application/vnd.plotly.v1+json": {
       "config": {
        "linkText": "Export to plot.ly",
        "plotlyServerURL": "https://plot.ly",
        "showLink": true
       },
       "data": [
        {
         "histfunc": "count",
         "histnorm": "",
         "marker": {
          "color": "rgba(255, 153, 51, 1.0)",
          "line": {
           "color": "#4D5663",
           "width": 1.3
          }
         },
         "name": "A",
         "nbinsx": 10,
         "opacity": 0.8,
         "orientation": "v",
         "type": "histogram",
         "x": [
          -0.7017613191698328,
          0.01679259812028604,
          0.8925912413549707,
          -0.6668670618650194,
          -0.08966585714852059,
          -0.24458849205836947,
          -0.4022839095584551,
          0.7369432460042893,
          -1.2494079912136582,
          -0.6401976385659033,
          0.35695542238683164,
          -0.31573632031264465,
          -0.29246285955204526,
          -1.1497298652321202,
          -1.9829912112648982,
          0.5098656704313177,
          2.188181621409416,
          -1.8772696836014646,
          -0.4205418507884751,
          0.30075831472836556,
          0.2473020794475996,
          1.0923057343868103,
          2.214046009241756,
          1.4336535784483952,
          1.4496004076576658,
          -0.682315049522406,
          1.598661713427201,
          1.4227754396583445,
          -1.0553567255207785,
          -1.4467280078731937,
          0.20179887245784411,
          0.35903774873412975,
          -0.3555565196644582,
          1.0761852720282128,
          -0.8916717438447009,
          -1.0601444174693633,
          2.0819303347522395,
          -0.7167603005349762,
          -1.53530673446921,
          1.9133948727068533,
          1.0407153002753171,
          1.4532560987038319,
          0.013243946716610581,
          0.07978980625508145,
          -0.7928520041366476,
          0.9490485222915815,
          0.6796773785389835,
          -0.5312708016279892,
          -0.42543554249806664,
          0.10502509437704735,
          1.6737017511277883,
          -1.8668727674163699,
          0.22836886459639544,
          1.218973217565057,
          0.40212949895106903,
          0.47944343085272584,
          1.2304180606624848,
          0.9922489862689469,
          1.4686658229282794,
          2.0143136536858615,
          -0.14595261041800572,
          -1.1518106457881085,
          -0.6742607596454501,
          -0.7520225160865858,
          -0.08264514311404035,
          -1.944206140200247,
          -0.8218453602495646,
          -0.9346787373246029,
          -0.22471916393044564,
          -1.0780813137475604,
          1.0931423702001777,
          0.1110246057804523,
          0.45843380751609986,
          -1.1479604243030028,
          0.06401934841743986,
          -0.40936004108937313,
          -2.475032937690778,
          -0.5798847812432872,
          0.14760048032172526,
          -1.4746689176623073,
          -0.8130010946296682,
          0.8174795080559044,
          1.2400992521174226,
          -1.1738531185743155,
          0.14683153608009747,
          -1.08192782694488,
          0.23943436417174233,
          -1.8361135319933861,
          0.4890161330117654,
          1.6763408612708235,
          0.140950911004665,
          -0.34898665268627543,
          0.9774154607000615,
          1.4071048918097957,
          0.9928899978366662,
          0.47473909400514425,
          -1.0159736244406523,
          -1.2328148128058634,
          1.5251809494141184,
          0.9749457059105875
         ],
         "xaxis": "x",
         "yaxis": "y"
        },
        {
         "line": {
          "color": "rgba(128, 128, 128, 1.0)",
          "dash": "solid",
          "shape": "linear",
          "width": 1.3
         },
         "marker": {
          "size": 2,
          "symbol": "circle"
         },
         "mode": "markers",
         "name": "A",
         "text": "",
         "type": "scatter",
         "x": [
          1.096107160913988,
          -0.9737302345058281,
          -0.7250110916221839,
          0.7674488710153434,
          -0.5886541668788527,
          -1.0622784516157855,
          -1.2238707436028022,
          0.5253344718323851,
          -1.2878683268608349,
          -0.29911395934561635,
          0.3228157242692437,
          -1.3772019647253797,
          0.8422799608523274,
          0.46673940511242085,
          -1.9024107187745396,
          0.155657667140865,
          -0.7071356823154644,
          1.2253160474108702,
          -0.2882825609357239,
          0.36254222065700026,
          -1.1010538416552,
          1.492275113314927,
          -0.8466546929147944,
          -1.407165100389169,
          1.5632998286714186,
          -1.844746282810375,
          0.15876902191918163,
          -1.5707713349068917,
          -0.8912945042064594,
          -1.1888331358388045,
          -0.27504992184297344,
          0.7719987193746825,
          1.0204442420513675,
          -0.8759967579455494,
          0.315369460523939,
          -0.21239405545229284,
          -0.6288758205361382,
          -1.107447520892792,
          -0.2747002480687447,
          -0.4878952806445132,
          0.45536338144084904,
          -0.06056216817983006,
          0.9155766888351832,
          0.3225396215491934,
          1.336825319564932,
          -0.37695618372560696,
          0.6325172658764953,
          0.26144100072357696,
          -0.9176232114780261,
          -1.208512843841877,
          -0.1316287517068255,
          0.8046785617875465,
          -0.5298092909996793,
          -0.37895398463692803,
          -0.05015310836103133,
          1.8473860712933061,
          1.5828731768120015,
          -0.8313732498063346,
          1.56577510300552,
          -0.09835768242436443,
          -0.388099432966121,
          0.9213329848355416,
          -2.348329762291072,
          -0.3698905589364241,
          -1.3494687348772076,
          1.3037780678011601,
          2.417803512990605,
          0.29235264572616937,
          -0.8885381405600554,
          1.298273421113763,
          -0.3243102006073436,
          1.7694595161130415,
          1.1645387332927113,
          0.6288572400159901,
          -0.4527526189306913,
          1.9960678439093071,
          -0.041270654120210824,
          1.2496205442177806,
          -0.8840401546835186,
          0.8183218519596385,
          -2.0264573504660435,
          -0.4060040927237812,
          0.4729778895675059,
          -1.018633095188232,
          -0.29007097710175345,
          -0.06404339828919584,
          -2.1361917322659645,
          0.2609275108959407,
          0.8218707805270796,
          0.9456373949586805,
          0.8181515489793115,
          -1.4850632655046452,
          0.811063068792345,
          -0.31666137234541136,
          1.2786160004896594,
          0.8786720744927401,
          0.3944281417496477,
          0.22966085439033096,
          0.1673512133000957,
          -0.35535519018683315
         ],
         "xaxis": "x2",
         "y": [
          -0.7017613191698328,
          0.01679259812028604,
          0.8925912413549707,
          -0.6668670618650194,
          -0.08966585714852059,
          -0.24458849205836947,
          -0.4022839095584551,
          0.7369432460042893,
          -1.2494079912136582,
          -0.6401976385659033,
          0.35695542238683164,
          -0.31573632031264465,
          -0.29246285955204526,
          -1.1497298652321202,
          -1.9829912112648982,
          0.5098656704313177,
          2.188181621409416,
          -1.8772696836014646,
          -0.4205418507884751,
          0.30075831472836556,
          0.2473020794475996,
          1.0923057343868103,
          2.214046009241756,
          1.4336535784483952,
          1.4496004076576658,
          -0.682315049522406,
          1.598661713427201,
          1.4227754396583445,
          -1.0553567255207785,
          -1.4467280078731937,
          0.20179887245784411,
          0.35903774873412975,
          -0.3555565196644582,
          1.0761852720282128,
          -0.8916717438447009,
          -1.0601444174693633,
          2.0819303347522395,
          -0.7167603005349762,
          -1.53530673446921,
          1.9133948727068533,
          1.0407153002753171,
          1.4532560987038319,
          0.013243946716610581,
          0.07978980625508145,
          -0.7928520041366476,
          0.9490485222915815,
          0.6796773785389835,
          -0.5312708016279892,
          -0.42543554249806664,
          0.10502509437704735,
          1.6737017511277883,
          -1.8668727674163699,
          0.22836886459639544,
          1.218973217565057,
          0.40212949895106903,
          0.47944343085272584,
          1.2304180606624848,
          0.9922489862689469,
          1.4686658229282794,
          2.0143136536858615,
          -0.14595261041800572,
          -1.1518106457881085,
          -0.6742607596454501,
          -0.7520225160865858,
          -0.08264514311404035,
          -1.944206140200247,
          -0.8218453602495646,
          -0.9346787373246029,
          -0.22471916393044564,
          -1.0780813137475604,
          1.0931423702001777,
          0.1110246057804523,
          0.45843380751609986,
          -1.1479604243030028,
          0.06401934841743986,
          -0.40936004108937313,
          -2.475032937690778,
          -0.5798847812432872,
          0.14760048032172526,
          -1.4746689176623073,
          -0.8130010946296682,
          0.8174795080559044,
          1.2400992521174226,
          -1.1738531185743155,
          0.14683153608009747,
          -1.08192782694488,
          0.23943436417174233,
          -1.8361135319933861,
          0.4890161330117654,
          1.6763408612708235,
          0.140950911004665,
          -0.34898665268627543,
          0.9774154607000615,
          1.4071048918097957,
          0.9928899978366662,
          0.47473909400514425,
          -1.0159736244406523,
          -1.2328148128058634,
          1.5251809494141184,
          0.9749457059105875
         ],
         "yaxis": "y2"
        },
        {
         "line": {
          "color": "rgba(128, 128, 128, 1.0)",
          "dash": "solid",
          "shape": "linear",
          "width": 1.3
         },
         "marker": {
          "size": 2,
          "symbol": "circle"
         },
         "mode": "markers",
         "name": "A",
         "text": "",
         "type": "scatter",
         "x": [
          -0.7190573047379413,
          -0.5218718981353269,
          -2.1275080461682445,
          -0.26960277311906,
          -1.0790737644754171,
          0.7341284109331028,
          -1.266846062375404,
          -1.2387256433799363,
          -0.21932968038558281,
          -0.013187734310136546,
          0.7032215937556977,
          0.12120609567616611,
          -0.35209807800567167,
          0.5134455262152473,
          -0.26475513443163706,
          -0.7451059786687938,
          0.3943095743441828,
          0.3713231796345752,
          1.6286334447211743,
          1.8442538198408855,
          -1.151830965301197,
          0.5229720015753714,
          0.881194453165917,
          1.606844883388436,
          1.4226236804197914,
          -0.9147988163058547,
          -0.3103286360332352,
          -0.6080075048503447,
          -2.465086189765115,
          1.0515487947146003,
          0.9350470844581024,
          0.06056732333367964,
          -0.48728832073017975,
          -0.5341429120950548,
          0.567108178025013,
          -1.426519473921635,
          0.42768715035685445,
          1.328981492746673,
          -1.3581344700053142,
          -0.5620634315264172,
          -0.4546029207207217,
          2.024428908600939,
          -2.2446087801726655,
          -0.11575069506561245,
          -0.42293352730504197,
          -0.715839010337148,
          -0.413273278778596,
          -0.3515080434189393,
          -1.7165045749911738,
          2.1214726728907998,
          -0.26197840327992683,
          -1.4822822334419699,
          -0.9740005446679961,
          1.3633555475638726,
          -1.3245938521217255,
          1.056420702314937,
          -0.34758214747490396,
          -0.24722960505443037,
          -0.7186505583381386,
          0.1898097306266676,
          0.43299129289059984,
          -0.9362834976115473,
          -1.4298244426857565,
          -1.0534077564072122,
          1.8593094016744611,
          0.8548661205200041,
          -1.3926642016521464,
          -0.5053390753017923,
          -0.682033657955724,
          0.4780039408444455,
          0.4300136249879697,
          0.980883202547787,
          -0.22924488568444756,
          -0.6586989779084301,
          -0.4007190910086093,
          0.3972123229401916,
          1.3029152807213498,
          -0.3815785754169035,
          -0.7484065978209936,
          0.8210504140417529,
          -0.20601732878354262,
          0.24761134531898804,
          0.7040517682313486,
          0.14880891665905396,
          -0.7986815187922411,
          -2.378780532301465,
          0.3187482514131689,
          -0.9934186516974625,
          1.1509456174198616,
          -0.4451139762514316,
          -0.016631977140144284,
          -1.0362573529744676,
          0.7409713523742906,
          1.5830793365139446,
          0.6765580609132692,
          0.1853833194790049,
          -0.6181347969700357,
          -0.34580794958581784,
          1.6797600008794107,
          0.5880586721788934
         ],
         "xaxis": "x3",
         "y": [
          -0.7017613191698328,
          0.01679259812028604,
          0.8925912413549707,
          -0.6668670618650194,
          -0.08966585714852059,
          -0.24458849205836947,
          -0.4022839095584551,
          0.7369432460042893,
          -1.2494079912136582,
          -0.6401976385659033,
          0.35695542238683164,
          -0.31573632031264465,
          -0.29246285955204526,
          -1.1497298652321202,
          -1.9829912112648982,
          0.5098656704313177,
          2.188181621409416,
          -1.8772696836014646,
          -0.4205418507884751,
          0.30075831472836556,
          0.2473020794475996,
          1.0923057343868103,
          2.214046009241756,
          1.4336535784483952,
          1.4496004076576658,
          -0.682315049522406,
          1.598661713427201,
          1.4227754396583445,
          -1.0553567255207785,
          -1.4467280078731937,
          0.20179887245784411,
          0.35903774873412975,
          -0.3555565196644582,
          1.0761852720282128,
          -0.8916717438447009,
          -1.0601444174693633,
          2.0819303347522395,
          -0.7167603005349762,
          -1.53530673446921,
          1.9133948727068533,
          1.0407153002753171,
          1.4532560987038319,
          0.013243946716610581,
          0.07978980625508145,
          -0.7928520041366476,
          0.9490485222915815,
          0.6796773785389835,
          -0.5312708016279892,
          -0.42543554249806664,
          0.10502509437704735,
          1.6737017511277883,
          -1.8668727674163699,
          0.22836886459639544,
          1.218973217565057,
          0.40212949895106903,
          0.47944343085272584,
          1.2304180606624848,
          0.9922489862689469,
          1.4686658229282794,
          2.0143136536858615,
          -0.14595261041800572,
          -1.1518106457881085,
          -0.6742607596454501,
          -0.7520225160865858,
          -0.08264514311404035,
          -1.944206140200247,
          -0.8218453602495646,
          -0.9346787373246029,
          -0.22471916393044564,
          -1.0780813137475604,
          1.0931423702001777,
          0.1110246057804523,
          0.45843380751609986,
          -1.1479604243030028,
          0.06401934841743986,
          -0.40936004108937313,
          -2.475032937690778,
          -0.5798847812432872,
          0.14760048032172526,
          -1.4746689176623073,
          -0.8130010946296682,
          0.8174795080559044,
          1.2400992521174226,
          -1.1738531185743155,
          0.14683153608009747,
          -1.08192782694488,
          0.23943436417174233,
          -1.8361135319933861,
          0.4890161330117654,
          1.6763408612708235,
          0.140950911004665,
          -0.34898665268627543,
          0.9774154607000615,
          1.4071048918097957,
          0.9928899978366662,
          0.47473909400514425,
          -1.0159736244406523,
          -1.2328148128058634,
          1.5251809494141184,
          0.9749457059105875
         ],
         "yaxis": "y3"
        },
        {
         "line": {
          "color": "rgba(128, 128, 128, 1.0)",
          "dash": "solid",
          "shape": "linear",
          "width": 1.3
         },
         "marker": {
          "size": 2,
          "symbol": "circle"
         },
         "mode": "markers",
         "name": "A",
         "text": "",
         "type": "scatter",
         "x": [
          -2.7100027074512263,
          1.5092298638203234,
          1.1057494615184085,
          2.1211286432568324,
          -1.1914403370727311,
          0.41929186434710386,
          -0.8912222018834959,
          0.8032717543495098,
          0.5323382839005606,
          0.7387146178691983,
          0.5262429080554617,
          0.6314237830695967,
          -0.6245340419464724,
          -0.38653643401312915,
          -3.2315136838898405e-05,
          0.6594586539018324,
          -0.8329134530810053,
          1.7016483503963837,
          -0.43409322580015036,
          0.2379801323068665,
          1.6818622904089098,
          -0.30146283972452553,
          0.2551305621479686,
          -0.045384304234003546,
          -0.00821748274901138,
          -0.6648783946530121,
          0.8481206379652664,
          -0.7073702075946093,
          0.3222214926225584,
          -0.9556689747586344,
          0.5634897506208155,
          0.8973608738586154,
          0.13521149549799152,
          -0.351024519858675,
          -1.167015643327293,
          0.9354356194470855,
          0.12385613021386416,
          1.5383648033578345,
          1.901857447308807,
          -0.3866803452023101,
          0.5323164116776599,
          -1.0350154451302893,
          -0.5885030194095547,
          0.37310283740938044,
          0.7948691117118398,
          -0.06642443103251437,
          -0.15958262124597886,
          -0.1970990048918327,
          0.5781068521769578,
          -0.527575222479752,
          -0.8217711389264142,
          1.1048384725245357,
          1.2149480117740057,
          1.9949756503818386,
          -0.21438775731404128,
          -0.42177415282852676,
          1.1499665354881479,
          0.23124086825926587,
          0.16761476703225098,
          -0.14188263184526026,
          1.2963591778857908,
          -0.0015903658037731045,
          -1.1750227183435296,
          -0.5146625844422362,
          0.04525138896638736,
          -1.5158560076332714,
          1.4406393720384827,
          1.0078606044802698,
          -0.12062413745357488,
          -0.6826130761628161,
          -2.367040772010056,
          0.6160818040935914,
          2.416724620529064,
          -0.02413914940279359,
          1.2671432363260808,
          0.2447521594542125,
          -1.2762423050923153,
          1.087979549415762,
          -0.10309456170998484,
          -0.980895290291369,
          -0.5730758333602567,
          1.9394435189591532,
          0.5356258340664333,
          0.39708387457322813,
          0.7091732169573783,
          -0.04977270833216509,
          0.03530437065346389,
          1.2614908521508261,
          0.013803138309950282,
          -0.32250403925302146,
          0.36824266995696003,
          -0.2654923739716801,
          1.8731019929541703,
          0.4285525395547248,
          0.7672964842434786,
          -0.2944144574609767,
          0.5933737771391042,
          -0.40141253257098036,
          0.28440855406739873,
          -0.21540319371195374
         ],
         "xaxis": "x4",
         "y": [
          -0.7017613191698328,
          0.01679259812028604,
          0.8925912413549707,
          -0.6668670618650194,
          -0.08966585714852059,
          -0.24458849205836947,
          -0.4022839095584551,
          0.7369432460042893,
          -1.2494079912136582,
          -0.6401976385659033,
          0.35695542238683164,
          -0.31573632031264465,
          -0.29246285955204526,
          -1.1497298652321202,
          -1.9829912112648982,
          0.5098656704313177,
          2.188181621409416,
          -1.8772696836014646,
          -0.4205418507884751,
          0.30075831472836556,
          0.2473020794475996,
          1.0923057343868103,
          2.214046009241756,
          1.4336535784483952,
          1.4496004076576658,
          -0.682315049522406,
          1.598661713427201,
          1.4227754396583445,
          -1.0553567255207785,
          -1.4467280078731937,
          0.20179887245784411,
          0.35903774873412975,
          -0.3555565196644582,
          1.0761852720282128,
          -0.8916717438447009,
          -1.0601444174693633,
          2.0819303347522395,
          -0.7167603005349762,
          -1.53530673446921,
          1.9133948727068533,
          1.0407153002753171,
          1.4532560987038319,
          0.013243946716610581,
          0.07978980625508145,
          -0.7928520041366476,
          0.9490485222915815,
          0.6796773785389835,
          -0.5312708016279892,
          -0.42543554249806664,
          0.10502509437704735,
          1.6737017511277883,
          -1.8668727674163699,
          0.22836886459639544,
          1.218973217565057,
          0.40212949895106903,
          0.47944343085272584,
          1.2304180606624848,
          0.9922489862689469,
          1.4686658229282794,
          2.0143136536858615,
          -0.14595261041800572,
          -1.1518106457881085,
          -0.6742607596454501,
          -0.7520225160865858,
          -0.08264514311404035,
          -1.944206140200247,
          -0.8218453602495646,
          -0.9346787373246029,
          -0.22471916393044564,
          -1.0780813137475604,
          1.0931423702001777,
          0.1110246057804523,
          0.45843380751609986,
          -1.1479604243030028,
          0.06401934841743986,
          -0.40936004108937313,
          -2.475032937690778,
          -0.5798847812432872,
          0.14760048032172526,
          -1.4746689176623073,
          -0.8130010946296682,
          0.8174795080559044,
          1.2400992521174226,
          -1.1738531185743155,
          0.14683153608009747,
          -1.08192782694488,
          0.23943436417174233,
          -1.8361135319933861,
          0.4890161330117654,
          1.6763408612708235,
          0.140950911004665,
          -0.34898665268627543,
          0.9774154607000615,
          1.4071048918097957,
          0.9928899978366662,
          0.47473909400514425,
          -1.0159736244406523,
          -1.2328148128058634,
          1.5251809494141184,
          0.9749457059105875
         ],
         "yaxis": "y4"
        },
        {
         "line": {
          "color": "rgba(128, 128, 128, 1.0)",
          "dash": "solid",
          "shape": "linear",
          "width": 1.3
         },
         "marker": {
          "size": 2,
          "symbol": "circle"
         },
         "mode": "markers",
         "name": "B",
         "text": "",
         "type": "scatter",
         "x": [
          -0.7017613191698328,
          0.01679259812028604,
          0.8925912413549707,
          -0.6668670618650194,
          -0.08966585714852059,
          -0.24458849205836947,
          -0.4022839095584551,
          0.7369432460042893,
          -1.2494079912136582,
          -0.6401976385659033,
          0.35695542238683164,
          -0.31573632031264465,
          -0.29246285955204526,
          -1.1497298652321202,
          -1.9829912112648982,
          0.5098656704313177,
          2.188181621409416,
          -1.8772696836014646,
          -0.4205418507884751,
          0.30075831472836556,
          0.2473020794475996,
          1.0923057343868103,
          2.214046009241756,
          1.4336535784483952,
          1.4496004076576658,
          -0.682315049522406,
          1.598661713427201,
          1.4227754396583445,
          -1.0553567255207785,
          -1.4467280078731937,
          0.20179887245784411,
          0.35903774873412975,
          -0.3555565196644582,
          1.0761852720282128,
          -0.8916717438447009,
          -1.0601444174693633,
          2.0819303347522395,
          -0.7167603005349762,
          -1.53530673446921,
          1.9133948727068533,
          1.0407153002753171,
          1.4532560987038319,
          0.013243946716610581,
          0.07978980625508145,
          -0.7928520041366476,
          0.9490485222915815,
          0.6796773785389835,
          -0.5312708016279892,
          -0.42543554249806664,
          0.10502509437704735,
          1.6737017511277883,
          -1.8668727674163699,
          0.22836886459639544,
          1.218973217565057,
          0.40212949895106903,
          0.47944343085272584,
          1.2304180606624848,
          0.9922489862689469,
          1.4686658229282794,
          2.0143136536858615,
          -0.14595261041800572,
          -1.1518106457881085,
          -0.6742607596454501,
          -0.7520225160865858,
          -0.08264514311404035,
          -1.944206140200247,
          -0.8218453602495646,
          -0.9346787373246029,
          -0.22471916393044564,
          -1.0780813137475604,
          1.0931423702001777,
          0.1110246057804523,
          0.45843380751609986,
          -1.1479604243030028,
          0.06401934841743986,
          -0.40936004108937313,
          -2.475032937690778,
          -0.5798847812432872,
          0.14760048032172526,
          -1.4746689176623073,
          -0.8130010946296682,
          0.8174795080559044,
          1.2400992521174226,
          -1.1738531185743155,
          0.14683153608009747,
          -1.08192782694488,
          0.23943436417174233,
          -1.8361135319933861,
          0.4890161330117654,
          1.6763408612708235,
          0.140950911004665,
          -0.34898665268627543,
          0.9774154607000615,
          1.4071048918097957,
          0.9928899978366662,
          0.47473909400514425,
          -1.0159736244406523,
          -1.2328148128058634,
          1.5251809494141184,
          0.9749457059105875
         ],
         "xaxis": "x5",
         "y": [
          1.096107160913988,
          -0.9737302345058281,
          -0.7250110916221839,
          0.7674488710153434,
          -0.5886541668788527,
          -1.0622784516157855,
          -1.2238707436028022,
          0.5253344718323851,
          -1.2878683268608349,
          -0.29911395934561635,
          0.3228157242692437,
          -1.3772019647253797,
          0.8422799608523274,
          0.46673940511242085,
          -1.9024107187745396,
          0.155657667140865,
          -0.7071356823154644,
          1.2253160474108702,
          -0.2882825609357239,
          0.36254222065700026,
          -1.1010538416552,
          1.492275113314927,
          -0.8466546929147944,
          -1.407165100389169,
          1.5632998286714186,
          -1.844746282810375,
          0.15876902191918163,
          -1.5707713349068917,
          -0.8912945042064594,
          -1.1888331358388045,
          -0.27504992184297344,
          0.7719987193746825,
          1.0204442420513675,
          -0.8759967579455494,
          0.315369460523939,
          -0.21239405545229284,
          -0.6288758205361382,
          -1.107447520892792,
          -0.2747002480687447,
          -0.4878952806445132,
          0.45536338144084904,
          -0.06056216817983006,
          0.9155766888351832,
          0.3225396215491934,
          1.336825319564932,
          -0.37695618372560696,
          0.6325172658764953,
          0.26144100072357696,
          -0.9176232114780261,
          -1.208512843841877,
          -0.1316287517068255,
          0.8046785617875465,
          -0.5298092909996793,
          -0.37895398463692803,
          -0.05015310836103133,
          1.8473860712933061,
          1.5828731768120015,
          -0.8313732498063346,
          1.56577510300552,
          -0.09835768242436443,
          -0.388099432966121,
          0.9213329848355416,
          -2.348329762291072,
          -0.3698905589364241,
          -1.3494687348772076,
          1.3037780678011601,
          2.417803512990605,
          0.29235264572616937,
          -0.8885381405600554,
          1.298273421113763,
          -0.3243102006073436,
          1.7694595161130415,
          1.1645387332927113,
          0.6288572400159901,
          -0.4527526189306913,
          1.9960678439093071,
          -0.041270654120210824,
          1.2496205442177806,
          -0.8840401546835186,
          0.8183218519596385,
          -2.0264573504660435,
          -0.4060040927237812,
          0.4729778895675059,
          -1.018633095188232,
          -0.29007097710175345,
          -0.06404339828919584,
          -2.1361917322659645,
          0.2609275108959407,
          0.8218707805270796,
          0.9456373949586805,
          0.8181515489793115,
          -1.4850632655046452,
          0.811063068792345,
          -0.31666137234541136,
          1.2786160004896594,
          0.8786720744927401,
          0.3944281417496477,
          0.22966085439033096,
          0.1673512133000957,
          -0.35535519018683315
         ],
         "yaxis": "y5"
        },
        {
         "histfunc": "count",
         "histnorm": "",
         "marker": {
          "color": "rgba(55, 128, 191, 1.0)",
          "line": {
           "color": "#4D5663",
           "width": 1.3
          }
         },
         "name": "B",
         "nbinsx": 10,
         "opacity": 0.8,
         "orientation": "v",
         "type": "histogram",
         "x": [
          1.096107160913988,
          -0.9737302345058281,
          -0.7250110916221839,
          0.7674488710153434,
          -0.5886541668788527,
          -1.0622784516157855,
          -1.2238707436028022,
          0.5253344718323851,
          -1.2878683268608349,
          -0.29911395934561635,
          0.3228157242692437,
          -1.3772019647253797,
          0.8422799608523274,
          0.46673940511242085,
          -1.9024107187745396,
          0.155657667140865,
          -0.7071356823154644,
          1.2253160474108702,
          -0.2882825609357239,
          0.36254222065700026,
          -1.1010538416552,
          1.492275113314927,
          -0.8466546929147944,
          -1.407165100389169,
          1.5632998286714186,
          -1.844746282810375,
          0.15876902191918163,
          -1.5707713349068917,
          -0.8912945042064594,
          -1.1888331358388045,
          -0.27504992184297344,
          0.7719987193746825,
          1.0204442420513675,
          -0.8759967579455494,
          0.315369460523939,
          -0.21239405545229284,
          -0.6288758205361382,
          -1.107447520892792,
          -0.2747002480687447,
          -0.4878952806445132,
          0.45536338144084904,
          -0.06056216817983006,
          0.9155766888351832,
          0.3225396215491934,
          1.336825319564932,
          -0.37695618372560696,
          0.6325172658764953,
          0.26144100072357696,
          -0.9176232114780261,
          -1.208512843841877,
          -0.1316287517068255,
          0.8046785617875465,
          -0.5298092909996793,
          -0.37895398463692803,
          -0.05015310836103133,
          1.8473860712933061,
          1.5828731768120015,
          -0.8313732498063346,
          1.56577510300552,
          -0.09835768242436443,
          -0.388099432966121,
          0.9213329848355416,
          -2.348329762291072,
          -0.3698905589364241,
          -1.3494687348772076,
          1.3037780678011601,
          2.417803512990605,
          0.29235264572616937,
          -0.8885381405600554,
          1.298273421113763,
          -0.3243102006073436,
          1.7694595161130415,
          1.1645387332927113,
          0.6288572400159901,
          -0.4527526189306913,
          1.9960678439093071,
          -0.041270654120210824,
          1.2496205442177806,
          -0.8840401546835186,
          0.8183218519596385,
          -2.0264573504660435,
          -0.4060040927237812,
          0.4729778895675059,
          -1.018633095188232,
          -0.29007097710175345,
          -0.06404339828919584,
          -2.1361917322659645,
          0.2609275108959407,
          0.8218707805270796,
          0.9456373949586805,
          0.8181515489793115,
          -1.4850632655046452,
          0.811063068792345,
          -0.31666137234541136,
          1.2786160004896594,
          0.8786720744927401,
          0.3944281417496477,
          0.22966085439033096,
          0.1673512133000957,
          -0.35535519018683315
         ],
         "xaxis": "x6",
         "yaxis": "y6"
        },
        {
         "line": {
          "color": "rgba(128, 128, 128, 1.0)",
          "dash": "solid",
          "shape": "linear",
          "width": 1.3
         },
         "marker": {
          "size": 2,
          "symbol": "circle"
         },
         "mode": "markers",
         "name": "B",
         "text": "",
         "type": "scatter",
         "x": [
          -0.7190573047379413,
          -0.5218718981353269,
          -2.1275080461682445,
          -0.26960277311906,
          -1.0790737644754171,
          0.7341284109331028,
          -1.266846062375404,
          -1.2387256433799363,
          -0.21932968038558281,
          -0.013187734310136546,
          0.7032215937556977,
          0.12120609567616611,
          -0.35209807800567167,
          0.5134455262152473,
          -0.26475513443163706,
          -0.7451059786687938,
          0.3943095743441828,
          0.3713231796345752,
          1.6286334447211743,
          1.8442538198408855,
          -1.151830965301197,
          0.5229720015753714,
          0.881194453165917,
          1.606844883388436,
          1.4226236804197914,
          -0.9147988163058547,
          -0.3103286360332352,
          -0.6080075048503447,
          -2.465086189765115,
          1.0515487947146003,
          0.9350470844581024,
          0.06056732333367964,
          -0.48728832073017975,
          -0.5341429120950548,
          0.567108178025013,
          -1.426519473921635,
          0.42768715035685445,
          1.328981492746673,
          -1.3581344700053142,
          -0.5620634315264172,
          -0.4546029207207217,
          2.024428908600939,
          -2.2446087801726655,
          -0.11575069506561245,
          -0.42293352730504197,
          -0.715839010337148,
          -0.413273278778596,
          -0.3515080434189393,
          -1.7165045749911738,
          2.1214726728907998,
          -0.26197840327992683,
          -1.4822822334419699,
          -0.9740005446679961,
          1.3633555475638726,
          -1.3245938521217255,
          1.056420702314937,
          -0.34758214747490396,
          -0.24722960505443037,
          -0.7186505583381386,
          0.1898097306266676,
          0.43299129289059984,
          -0.9362834976115473,
          -1.4298244426857565,
          -1.0534077564072122,
          1.8593094016744611,
          0.8548661205200041,
          -1.3926642016521464,
          -0.5053390753017923,
          -0.682033657955724,
          0.4780039408444455,
          0.4300136249879697,
          0.980883202547787,
          -0.22924488568444756,
          -0.6586989779084301,
          -0.4007190910086093,
          0.3972123229401916,
          1.3029152807213498,
          -0.3815785754169035,
          -0.7484065978209936,
          0.8210504140417529,
          -0.20601732878354262,
          0.24761134531898804,
          0.7040517682313486,
          0.14880891665905396,
          -0.7986815187922411,
          -2.378780532301465,
          0.3187482514131689,
          -0.9934186516974625,
          1.1509456174198616,
          -0.4451139762514316,
          -0.016631977140144284,
          -1.0362573529744676,
          0.7409713523742906,
          1.5830793365139446,
          0.6765580609132692,
          0.1853833194790049,
          -0.6181347969700357,
          -0.34580794958581784,
          1.6797600008794107,
          0.5880586721788934
         ],
         "xaxis": "x7",
         "y": [
          1.096107160913988,
          -0.9737302345058281,
          -0.7250110916221839,
          0.7674488710153434,
          -0.5886541668788527,
          -1.0622784516157855,
          -1.2238707436028022,
          0.5253344718323851,
          -1.2878683268608349,
          -0.29911395934561635,
          0.3228157242692437,
          -1.3772019647253797,
          0.8422799608523274,
          0.46673940511242085,
          -1.9024107187745396,
          0.155657667140865,
          -0.7071356823154644,
          1.2253160474108702,
          -0.2882825609357239,
          0.36254222065700026,
          -1.1010538416552,
          1.492275113314927,
          -0.8466546929147944,
          -1.407165100389169,
          1.5632998286714186,
          -1.844746282810375,
          0.15876902191918163,
          -1.5707713349068917,
          -0.8912945042064594,
          -1.1888331358388045,
          -0.27504992184297344,
          0.7719987193746825,
          1.0204442420513675,
          -0.8759967579455494,
          0.315369460523939,
          -0.21239405545229284,
          -0.6288758205361382,
          -1.107447520892792,
          -0.2747002480687447,
          -0.4878952806445132,
          0.45536338144084904,
          -0.06056216817983006,
          0.9155766888351832,
          0.3225396215491934,
          1.336825319564932,
          -0.37695618372560696,
          0.6325172658764953,
          0.26144100072357696,
          -0.9176232114780261,
          -1.208512843841877,
          -0.1316287517068255,
          0.8046785617875465,
          -0.5298092909996793,
          -0.37895398463692803,
          -0.05015310836103133,
          1.8473860712933061,
          1.5828731768120015,
          -0.8313732498063346,
          1.56577510300552,
          -0.09835768242436443,
          -0.388099432966121,
          0.9213329848355416,
          -2.348329762291072,
          -0.3698905589364241,
          -1.3494687348772076,
          1.3037780678011601,
          2.417803512990605,
          0.29235264572616937,
          -0.8885381405600554,
          1.298273421113763,
          -0.3243102006073436,
          1.7694595161130415,
          1.1645387332927113,
          0.6288572400159901,
          -0.4527526189306913,
          1.9960678439093071,
          -0.041270654120210824,
          1.2496205442177806,
          -0.8840401546835186,
          0.8183218519596385,
          -2.0264573504660435,
          -0.4060040927237812,
          0.4729778895675059,
          -1.018633095188232,
          -0.29007097710175345,
          -0.06404339828919584,
          -2.1361917322659645,
          0.2609275108959407,
          0.8218707805270796,
          0.9456373949586805,
          0.8181515489793115,
          -1.4850632655046452,
          0.811063068792345,
          -0.31666137234541136,
          1.2786160004896594,
          0.8786720744927401,
          0.3944281417496477,
          0.22966085439033096,
          0.1673512133000957,
          -0.35535519018683315
         ],
         "yaxis": "y7"
        },
        {
         "line": {
          "color": "rgba(128, 128, 128, 1.0)",
          "dash": "solid",
          "shape": "linear",
          "width": 1.3
         },
         "marker": {
          "size": 2,
          "symbol": "circle"
         },
         "mode": "markers",
         "name": "B",
         "text": "",
         "type": "scatter",
         "x": [
          -2.7100027074512263,
          1.5092298638203234,
          1.1057494615184085,
          2.1211286432568324,
          -1.1914403370727311,
          0.41929186434710386,
          -0.8912222018834959,
          0.8032717543495098,
          0.5323382839005606,
          0.7387146178691983,
          0.5262429080554617,
          0.6314237830695967,
          -0.6245340419464724,
          -0.38653643401312915,
          -3.2315136838898405e-05,
          0.6594586539018324,
          -0.8329134530810053,
          1.7016483503963837,
          -0.43409322580015036,
          0.2379801323068665,
          1.6818622904089098,
          -0.30146283972452553,
          0.2551305621479686,
          -0.045384304234003546,
          -0.00821748274901138,
          -0.6648783946530121,
          0.8481206379652664,
          -0.7073702075946093,
          0.3222214926225584,
          -0.9556689747586344,
          0.5634897506208155,
          0.8973608738586154,
          0.13521149549799152,
          -0.351024519858675,
          -1.167015643327293,
          0.9354356194470855,
          0.12385613021386416,
          1.5383648033578345,
          1.901857447308807,
          -0.3866803452023101,
          0.5323164116776599,
          -1.0350154451302893,
          -0.5885030194095547,
          0.37310283740938044,
          0.7948691117118398,
          -0.06642443103251437,
          -0.15958262124597886,
          -0.1970990048918327,
          0.5781068521769578,
          -0.527575222479752,
          -0.8217711389264142,
          1.1048384725245357,
          1.2149480117740057,
          1.9949756503818386,
          -0.21438775731404128,
          -0.42177415282852676,
          1.1499665354881479,
          0.23124086825926587,
          0.16761476703225098,
          -0.14188263184526026,
          1.2963591778857908,
          -0.0015903658037731045,
          -1.1750227183435296,
          -0.5146625844422362,
          0.04525138896638736,
          -1.5158560076332714,
          1.4406393720384827,
          1.0078606044802698,
          -0.12062413745357488,
          -0.6826130761628161,
          -2.367040772010056,
          0.6160818040935914,
          2.416724620529064,
          -0.02413914940279359,
          1.2671432363260808,
          0.2447521594542125,
          -1.2762423050923153,
          1.087979549415762,
          -0.10309456170998484,
          -0.980895290291369,
          -0.5730758333602567,
          1.9394435189591532,
          0.5356258340664333,
          0.39708387457322813,
          0.7091732169573783,
          -0.04977270833216509,
          0.03530437065346389,
          1.2614908521508261,
          0.013803138309950282,
          -0.32250403925302146,
          0.36824266995696003,
          -0.2654923739716801,
          1.8731019929541703,
          0.4285525395547248,
          0.7672964842434786,
          -0.2944144574609767,
          0.5933737771391042,
          -0.40141253257098036,
          0.28440855406739873,
          -0.21540319371195374
         ],
         "xaxis": "x8",
         "y": [
          1.096107160913988,
          -0.9737302345058281,
          -0.7250110916221839,
          0.7674488710153434,
          -0.5886541668788527,
          -1.0622784516157855,
          -1.2238707436028022,
          0.5253344718323851,
          -1.2878683268608349,
          -0.29911395934561635,
          0.3228157242692437,
          -1.3772019647253797,
          0.8422799608523274,
          0.46673940511242085,
          -1.9024107187745396,
          0.155657667140865,
          -0.7071356823154644,
          1.2253160474108702,
          -0.2882825609357239,
          0.36254222065700026,
          -1.1010538416552,
          1.492275113314927,
          -0.8466546929147944,
          -1.407165100389169,
          1.5632998286714186,
          -1.844746282810375,
          0.15876902191918163,
          -1.5707713349068917,
          -0.8912945042064594,
          -1.1888331358388045,
          -0.27504992184297344,
          0.7719987193746825,
          1.0204442420513675,
          -0.8759967579455494,
          0.315369460523939,
          -0.21239405545229284,
          -0.6288758205361382,
          -1.107447520892792,
          -0.2747002480687447,
          -0.4878952806445132,
          0.45536338144084904,
          -0.06056216817983006,
          0.9155766888351832,
          0.3225396215491934,
          1.336825319564932,
          -0.37695618372560696,
          0.6325172658764953,
          0.26144100072357696,
          -0.9176232114780261,
          -1.208512843841877,
          -0.1316287517068255,
          0.8046785617875465,
          -0.5298092909996793,
          -0.37895398463692803,
          -0.05015310836103133,
          1.8473860712933061,
          1.5828731768120015,
          -0.8313732498063346,
          1.56577510300552,
          -0.09835768242436443,
          -0.388099432966121,
          0.9213329848355416,
          -2.348329762291072,
          -0.3698905589364241,
          -1.3494687348772076,
          1.3037780678011601,
          2.417803512990605,
          0.29235264572616937,
          -0.8885381405600554,
          1.298273421113763,
          -0.3243102006073436,
          1.7694595161130415,
          1.1645387332927113,
          0.6288572400159901,
          -0.4527526189306913,
          1.9960678439093071,
          -0.041270654120210824,
          1.2496205442177806,
          -0.8840401546835186,
          0.8183218519596385,
          -2.0264573504660435,
          -0.4060040927237812,
          0.4729778895675059,
          -1.018633095188232,
          -0.29007097710175345,
          -0.06404339828919584,
          -2.1361917322659645,
          0.2609275108959407,
          0.8218707805270796,
          0.9456373949586805,
          0.8181515489793115,
          -1.4850632655046452,
          0.811063068792345,
          -0.31666137234541136,
          1.2786160004896594,
          0.8786720744927401,
          0.3944281417496477,
          0.22966085439033096,
          0.1673512133000957,
          -0.35535519018683315
         ],
         "yaxis": "y8"
        },
        {
         "line": {
          "color": "rgba(128, 128, 128, 1.0)",
          "dash": "solid",
          "shape": "linear",
          "width": 1.3
         },
         "marker": {
          "size": 2,
          "symbol": "circle"
         },
         "mode": "markers",
         "name": "C",
         "text": "",
         "type": "scatter",
         "x": [
          -0.7017613191698328,
          0.01679259812028604,
          0.8925912413549707,
          -0.6668670618650194,
          -0.08966585714852059,
          -0.24458849205836947,
          -0.4022839095584551,
          0.7369432460042893,
          -1.2494079912136582,
          -0.6401976385659033,
          0.35695542238683164,
          -0.31573632031264465,
          -0.29246285955204526,
          -1.1497298652321202,
          -1.9829912112648982,
          0.5098656704313177,
          2.188181621409416,
          -1.8772696836014646,
          -0.4205418507884751,
          0.30075831472836556,
          0.2473020794475996,
          1.0923057343868103,
          2.214046009241756,
          1.4336535784483952,
          1.4496004076576658,
          -0.682315049522406,
          1.598661713427201,
          1.4227754396583445,
          -1.0553567255207785,
          -1.4467280078731937,
          0.20179887245784411,
          0.35903774873412975,
          -0.3555565196644582,
          1.0761852720282128,
          -0.8916717438447009,
          -1.0601444174693633,
          2.0819303347522395,
          -0.7167603005349762,
          -1.53530673446921,
          1.9133948727068533,
          1.0407153002753171,
          1.4532560987038319,
          0.013243946716610581,
          0.07978980625508145,
          -0.7928520041366476,
          0.9490485222915815,
          0.6796773785389835,
          -0.5312708016279892,
          -0.42543554249806664,
          0.10502509437704735,
          1.6737017511277883,
          -1.8668727674163699,
          0.22836886459639544,
          1.218973217565057,
          0.40212949895106903,
          0.47944343085272584,
          1.2304180606624848,
          0.9922489862689469,
          1.4686658229282794,
          2.0143136536858615,
          -0.14595261041800572,
          -1.1518106457881085,
          -0.6742607596454501,
          -0.7520225160865858,
          -0.08264514311404035,
          -1.944206140200247,
          -0.8218453602495646,
          -0.9346787373246029,
          -0.22471916393044564,
          -1.0780813137475604,
          1.0931423702001777,
          0.1110246057804523,
          0.45843380751609986,
          -1.1479604243030028,
          0.06401934841743986,
          -0.40936004108937313,
          -2.475032937690778,
          -0.5798847812432872,
          0.14760048032172526,
          -1.4746689176623073,
          -0.8130010946296682,
          0.8174795080559044,
          1.2400992521174226,
          -1.1738531185743155,
          0.14683153608009747,
          -1.08192782694488,
          0.23943436417174233,
          -1.8361135319933861,
          0.4890161330117654,
          1.6763408612708235,
          0.140950911004665,
          -0.34898665268627543,
          0.9774154607000615,
          1.4071048918097957,
          0.9928899978366662,
          0.47473909400514425,
          -1.0159736244406523,
          -1.2328148128058634,
          1.5251809494141184,
          0.9749457059105875
         ],
         "xaxis": "x9",
         "y": [
          -0.7190573047379413,
          -0.5218718981353269,
          -2.1275080461682445,
          -0.26960277311906,
          -1.0790737644754171,
          0.7341284109331028,
          -1.266846062375404,
          -1.2387256433799363,
          -0.21932968038558281,
          -0.013187734310136546,
          0.7032215937556977,
          0.12120609567616611,
          -0.35209807800567167,
          0.5134455262152473,
          -0.26475513443163706,
          -0.7451059786687938,
          0.3943095743441828,
          0.3713231796345752,
          1.6286334447211743,
          1.8442538198408855,
          -1.151830965301197,
          0.5229720015753714,
          0.881194453165917,
          1.606844883388436,
          1.4226236804197914,
          -0.9147988163058547,
          -0.3103286360332352,
          -0.6080075048503447,
          -2.465086189765115,
          1.0515487947146003,
          0.9350470844581024,
          0.06056732333367964,
          -0.48728832073017975,
          -0.5341429120950548,
          0.567108178025013,
          -1.426519473921635,
          0.42768715035685445,
          1.328981492746673,
          -1.3581344700053142,
          -0.5620634315264172,
          -0.4546029207207217,
          2.024428908600939,
          -2.2446087801726655,
          -0.11575069506561245,
          -0.42293352730504197,
          -0.715839010337148,
          -0.413273278778596,
          -0.3515080434189393,
          -1.7165045749911738,
          2.1214726728907998,
          -0.26197840327992683,
          -1.4822822334419699,
          -0.9740005446679961,
          1.3633555475638726,
          -1.3245938521217255,
          1.056420702314937,
          -0.34758214747490396,
          -0.24722960505443037,
          -0.7186505583381386,
          0.1898097306266676,
          0.43299129289059984,
          -0.9362834976115473,
          -1.4298244426857565,
          -1.0534077564072122,
          1.8593094016744611,
          0.8548661205200041,
          -1.3926642016521464,
          -0.5053390753017923,
          -0.682033657955724,
          0.4780039408444455,
          0.4300136249879697,
          0.980883202547787,
          -0.22924488568444756,
          -0.6586989779084301,
          -0.4007190910086093,
          0.3972123229401916,
          1.3029152807213498,
          -0.3815785754169035,
          -0.7484065978209936,
          0.8210504140417529,
          -0.20601732878354262,
          0.24761134531898804,
          0.7040517682313486,
          0.14880891665905396,
          -0.7986815187922411,
          -2.378780532301465,
          0.3187482514131689,
          -0.9934186516974625,
          1.1509456174198616,
          -0.4451139762514316,
          -0.016631977140144284,
          -1.0362573529744676,
          0.7409713523742906,
          1.5830793365139446,
          0.6765580609132692,
          0.1853833194790049,
          -0.6181347969700357,
          -0.34580794958581784,
          1.6797600008794107,
          0.5880586721788934
         ],
         "yaxis": "y9"
        },
        {
         "line": {
          "color": "rgba(128, 128, 128, 1.0)",
          "dash": "solid",
          "shape": "linear",
          "width": 1.3
         },
         "marker": {
          "size": 2,
          "symbol": "circle"
         },
         "mode": "markers",
         "name": "C",
         "text": "",
         "type": "scatter",
         "x": [
          1.096107160913988,
          -0.9737302345058281,
          -0.7250110916221839,
          0.7674488710153434,
          -0.5886541668788527,
          -1.0622784516157855,
          -1.2238707436028022,
          0.5253344718323851,
          -1.2878683268608349,
          -0.29911395934561635,
          0.3228157242692437,
          -1.3772019647253797,
          0.8422799608523274,
          0.46673940511242085,
          -1.9024107187745396,
          0.155657667140865,
          -0.7071356823154644,
          1.2253160474108702,
          -0.2882825609357239,
          0.36254222065700026,
          -1.1010538416552,
          1.492275113314927,
          -0.8466546929147944,
          -1.407165100389169,
          1.5632998286714186,
          -1.844746282810375,
          0.15876902191918163,
          -1.5707713349068917,
          -0.8912945042064594,
          -1.1888331358388045,
          -0.27504992184297344,
          0.7719987193746825,
          1.0204442420513675,
          -0.8759967579455494,
          0.315369460523939,
          -0.21239405545229284,
          -0.6288758205361382,
          -1.107447520892792,
          -0.2747002480687447,
          -0.4878952806445132,
          0.45536338144084904,
          -0.06056216817983006,
          0.9155766888351832,
          0.3225396215491934,
          1.336825319564932,
          -0.37695618372560696,
          0.6325172658764953,
          0.26144100072357696,
          -0.9176232114780261,
          -1.208512843841877,
          -0.1316287517068255,
          0.8046785617875465,
          -0.5298092909996793,
          -0.37895398463692803,
          -0.05015310836103133,
          1.8473860712933061,
          1.5828731768120015,
          -0.8313732498063346,
          1.56577510300552,
          -0.09835768242436443,
          -0.388099432966121,
          0.9213329848355416,
          -2.348329762291072,
          -0.3698905589364241,
          -1.3494687348772076,
          1.3037780678011601,
          2.417803512990605,
          0.29235264572616937,
          -0.8885381405600554,
          1.298273421113763,
          -0.3243102006073436,
          1.7694595161130415,
          1.1645387332927113,
          0.6288572400159901,
          -0.4527526189306913,
          1.9960678439093071,
          -0.041270654120210824,
          1.2496205442177806,
          -0.8840401546835186,
          0.8183218519596385,
          -2.0264573504660435,
          -0.4060040927237812,
          0.4729778895675059,
          -1.018633095188232,
          -0.29007097710175345,
          -0.06404339828919584,
          -2.1361917322659645,
          0.2609275108959407,
          0.8218707805270796,
          0.9456373949586805,
          0.8181515489793115,
          -1.4850632655046452,
          0.811063068792345,
          -0.31666137234541136,
          1.2786160004896594,
          0.8786720744927401,
          0.3944281417496477,
          0.22966085439033096,
          0.1673512133000957,
          -0.35535519018683315
         ],
         "xaxis": "x10",
         "y": [
          -0.7190573047379413,
          -0.5218718981353269,
          -2.1275080461682445,
          -0.26960277311906,
          -1.0790737644754171,
          0.7341284109331028,
          -1.266846062375404,
          -1.2387256433799363,
          -0.21932968038558281,
          -0.013187734310136546,
          0.7032215937556977,
          0.12120609567616611,
          -0.35209807800567167,
          0.5134455262152473,
          -0.26475513443163706,
          -0.7451059786687938,
          0.3943095743441828,
          0.3713231796345752,
          1.6286334447211743,
          1.8442538198408855,
          -1.151830965301197,
          0.5229720015753714,
          0.881194453165917,
          1.606844883388436,
          1.4226236804197914,
          -0.9147988163058547,
          -0.3103286360332352,
          -0.6080075048503447,
          -2.465086189765115,
          1.0515487947146003,
          0.9350470844581024,
          0.06056732333367964,
          -0.48728832073017975,
          -0.5341429120950548,
          0.567108178025013,
          -1.426519473921635,
          0.42768715035685445,
          1.328981492746673,
          -1.3581344700053142,
          -0.5620634315264172,
          -0.4546029207207217,
          2.024428908600939,
          -2.2446087801726655,
          -0.11575069506561245,
          -0.42293352730504197,
          -0.715839010337148,
          -0.413273278778596,
          -0.3515080434189393,
          -1.7165045749911738,
          2.1214726728907998,
          -0.26197840327992683,
          -1.4822822334419699,
          -0.9740005446679961,
          1.3633555475638726,
          -1.3245938521217255,
          1.056420702314937,
          -0.34758214747490396,
          -0.24722960505443037,
          -0.7186505583381386,
          0.1898097306266676,
          0.43299129289059984,
          -0.9362834976115473,
          -1.4298244426857565,
          -1.0534077564072122,
          1.8593094016744611,
          0.8548661205200041,
          -1.3926642016521464,
          -0.5053390753017923,
          -0.682033657955724,
          0.4780039408444455,
          0.4300136249879697,
          0.980883202547787,
          -0.22924488568444756,
          -0.6586989779084301,
          -0.4007190910086093,
          0.3972123229401916,
          1.3029152807213498,
          -0.3815785754169035,
          -0.7484065978209936,
          0.8210504140417529,
          -0.20601732878354262,
          0.24761134531898804,
          0.7040517682313486,
          0.14880891665905396,
          -0.7986815187922411,
          -2.378780532301465,
          0.3187482514131689,
          -0.9934186516974625,
          1.1509456174198616,
          -0.4451139762514316,
          -0.016631977140144284,
          -1.0362573529744676,
          0.7409713523742906,
          1.5830793365139446,
          0.6765580609132692,
          0.1853833194790049,
          -0.6181347969700357,
          -0.34580794958581784,
          1.6797600008794107,
          0.5880586721788934
         ],
         "yaxis": "y10"
        },
        {
         "histfunc": "count",
         "histnorm": "",
         "marker": {
          "color": "rgba(50, 171, 96, 1.0)",
          "line": {
           "color": "#4D5663",
           "width": 1.3
          }
         },
         "name": "C",
         "nbinsx": 10,
         "opacity": 0.8,
         "orientation": "v",
         "type": "histogram",
         "x": [
          -0.7190573047379413,
          -0.5218718981353269,
          -2.1275080461682445,
          -0.26960277311906,
          -1.0790737644754171,
          0.7341284109331028,
          -1.266846062375404,
          -1.2387256433799363,
          -0.21932968038558281,
          -0.013187734310136546,
          0.7032215937556977,
          0.12120609567616611,
          -0.35209807800567167,
          0.5134455262152473,
          -0.26475513443163706,
          -0.7451059786687938,
          0.3943095743441828,
          0.3713231796345752,
          1.6286334447211743,
          1.8442538198408855,
          -1.151830965301197,
          0.5229720015753714,
          0.881194453165917,
          1.606844883388436,
          1.4226236804197914,
          -0.9147988163058547,
          -0.3103286360332352,
          -0.6080075048503447,
          -2.465086189765115,
          1.0515487947146003,
          0.9350470844581024,
          0.06056732333367964,
          -0.48728832073017975,
          -0.5341429120950548,
          0.567108178025013,
          -1.426519473921635,
          0.42768715035685445,
          1.328981492746673,
          -1.3581344700053142,
          -0.5620634315264172,
          -0.4546029207207217,
          2.024428908600939,
          -2.2446087801726655,
          -0.11575069506561245,
          -0.42293352730504197,
          -0.715839010337148,
          -0.413273278778596,
          -0.3515080434189393,
          -1.7165045749911738,
          2.1214726728907998,
          -0.26197840327992683,
          -1.4822822334419699,
          -0.9740005446679961,
          1.3633555475638726,
          -1.3245938521217255,
          1.056420702314937,
          -0.34758214747490396,
          -0.24722960505443037,
          -0.7186505583381386,
          0.1898097306266676,
          0.43299129289059984,
          -0.9362834976115473,
          -1.4298244426857565,
          -1.0534077564072122,
          1.8593094016744611,
          0.8548661205200041,
          -1.3926642016521464,
          -0.5053390753017923,
          -0.682033657955724,
          0.4780039408444455,
          0.4300136249879697,
          0.980883202547787,
          -0.22924488568444756,
          -0.6586989779084301,
          -0.4007190910086093,
          0.3972123229401916,
          1.3029152807213498,
          -0.3815785754169035,
          -0.7484065978209936,
          0.8210504140417529,
          -0.20601732878354262,
          0.24761134531898804,
          0.7040517682313486,
          0.14880891665905396,
          -0.7986815187922411,
          -2.378780532301465,
          0.3187482514131689,
          -0.9934186516974625,
          1.1509456174198616,
          -0.4451139762514316,
          -0.016631977140144284,
          -1.0362573529744676,
          0.7409713523742906,
          1.5830793365139446,
          0.6765580609132692,
          0.1853833194790049,
          -0.6181347969700357,
          -0.34580794958581784,
          1.6797600008794107,
          0.5880586721788934
         ],
         "xaxis": "x11",
         "yaxis": "y11"
        },
        {
         "line": {
          "color": "rgba(128, 128, 128, 1.0)",
          "dash": "solid",
          "shape": "linear",
          "width": 1.3
         },
         "marker": {
          "size": 2,
          "symbol": "circle"
         },
         "mode": "markers",
         "name": "C",
         "text": "",
         "type": "scatter",
         "x": [
          -2.7100027074512263,
          1.5092298638203234,
          1.1057494615184085,
          2.1211286432568324,
          -1.1914403370727311,
          0.41929186434710386,
          -0.8912222018834959,
          0.8032717543495098,
          0.5323382839005606,
          0.7387146178691983,
          0.5262429080554617,
          0.6314237830695967,
          -0.6245340419464724,
          -0.38653643401312915,
          -3.2315136838898405e-05,
          0.6594586539018324,
          -0.8329134530810053,
          1.7016483503963837,
          -0.43409322580015036,
          0.2379801323068665,
          1.6818622904089098,
          -0.30146283972452553,
          0.2551305621479686,
          -0.045384304234003546,
          -0.00821748274901138,
          -0.6648783946530121,
          0.8481206379652664,
          -0.7073702075946093,
          0.3222214926225584,
          -0.9556689747586344,
          0.5634897506208155,
          0.8973608738586154,
          0.13521149549799152,
          -0.351024519858675,
          -1.167015643327293,
          0.9354356194470855,
          0.12385613021386416,
          1.5383648033578345,
          1.901857447308807,
          -0.3866803452023101,
          0.5323164116776599,
          -1.0350154451302893,
          -0.5885030194095547,
          0.37310283740938044,
          0.7948691117118398,
          -0.06642443103251437,
          -0.15958262124597886,
          -0.1970990048918327,
          0.5781068521769578,
          -0.527575222479752,
          -0.8217711389264142,
          1.1048384725245357,
          1.2149480117740057,
          1.9949756503818386,
          -0.21438775731404128,
          -0.42177415282852676,
          1.1499665354881479,
          0.23124086825926587,
          0.16761476703225098,
          -0.14188263184526026,
          1.2963591778857908,
          -0.0015903658037731045,
          -1.1750227183435296,
          -0.5146625844422362,
          0.04525138896638736,
          -1.5158560076332714,
          1.4406393720384827,
          1.0078606044802698,
          -0.12062413745357488,
          -0.6826130761628161,
          -2.367040772010056,
          0.6160818040935914,
          2.416724620529064,
          -0.02413914940279359,
          1.2671432363260808,
          0.2447521594542125,
          -1.2762423050923153,
          1.087979549415762,
          -0.10309456170998484,
          -0.980895290291369,
          -0.5730758333602567,
          1.9394435189591532,
          0.5356258340664333,
          0.39708387457322813,
          0.7091732169573783,
          -0.04977270833216509,
          0.03530437065346389,
          1.2614908521508261,
          0.013803138309950282,
          -0.32250403925302146,
          0.36824266995696003,
          -0.2654923739716801,
          1.8731019929541703,
          0.4285525395547248,
          0.7672964842434786,
          -0.2944144574609767,
          0.5933737771391042,
          -0.40141253257098036,
          0.28440855406739873,
          -0.21540319371195374
         ],
         "xaxis": "x12",
         "y": [
          -0.7190573047379413,
          -0.5218718981353269,
          -2.1275080461682445,
          -0.26960277311906,
          -1.0790737644754171,
          0.7341284109331028,
          -1.266846062375404,
          -1.2387256433799363,
          -0.21932968038558281,
          -0.013187734310136546,
          0.7032215937556977,
          0.12120609567616611,
          -0.35209807800567167,
          0.5134455262152473,
          -0.26475513443163706,
          -0.7451059786687938,
          0.3943095743441828,
          0.3713231796345752,
          1.6286334447211743,
          1.8442538198408855,
          -1.151830965301197,
          0.5229720015753714,
          0.881194453165917,
          1.606844883388436,
          1.4226236804197914,
          -0.9147988163058547,
          -0.3103286360332352,
          -0.6080075048503447,
          -2.465086189765115,
          1.0515487947146003,
          0.9350470844581024,
          0.06056732333367964,
          -0.48728832073017975,
          -0.5341429120950548,
          0.567108178025013,
          -1.426519473921635,
          0.42768715035685445,
          1.328981492746673,
          -1.3581344700053142,
          -0.5620634315264172,
          -0.4546029207207217,
          2.024428908600939,
          -2.2446087801726655,
          -0.11575069506561245,
          -0.42293352730504197,
          -0.715839010337148,
          -0.413273278778596,
          -0.3515080434189393,
          -1.7165045749911738,
          2.1214726728907998,
          -0.26197840327992683,
          -1.4822822334419699,
          -0.9740005446679961,
          1.3633555475638726,
          -1.3245938521217255,
          1.056420702314937,
          -0.34758214747490396,
          -0.24722960505443037,
          -0.7186505583381386,
          0.1898097306266676,
          0.43299129289059984,
          -0.9362834976115473,
          -1.4298244426857565,
          -1.0534077564072122,
          1.8593094016744611,
          0.8548661205200041,
          -1.3926642016521464,
          -0.5053390753017923,
          -0.682033657955724,
          0.4780039408444455,
          0.4300136249879697,
          0.980883202547787,
          -0.22924488568444756,
          -0.6586989779084301,
          -0.4007190910086093,
          0.3972123229401916,
          1.3029152807213498,
          -0.3815785754169035,
          -0.7484065978209936,
          0.8210504140417529,
          -0.20601732878354262,
          0.24761134531898804,
          0.7040517682313486,
          0.14880891665905396,
          -0.7986815187922411,
          -2.378780532301465,
          0.3187482514131689,
          -0.9934186516974625,
          1.1509456174198616,
          -0.4451139762514316,
          -0.016631977140144284,
          -1.0362573529744676,
          0.7409713523742906,
          1.5830793365139446,
          0.6765580609132692,
          0.1853833194790049,
          -0.6181347969700357,
          -0.34580794958581784,
          1.6797600008794107,
          0.5880586721788934
         ],
         "yaxis": "y12"
        },
        {
         "line": {
          "color": "rgba(128, 128, 128, 1.0)",
          "dash": "solid",
          "shape": "linear",
          "width": 1.3
         },
         "marker": {
          "size": 2,
          "symbol": "circle"
         },
         "mode": "markers",
         "name": "D",
         "text": "",
         "type": "scatter",
         "x": [
          -0.7017613191698328,
          0.01679259812028604,
          0.8925912413549707,
          -0.6668670618650194,
          -0.08966585714852059,
          -0.24458849205836947,
          -0.4022839095584551,
          0.7369432460042893,
          -1.2494079912136582,
          -0.6401976385659033,
          0.35695542238683164,
          -0.31573632031264465,
          -0.29246285955204526,
          -1.1497298652321202,
          -1.9829912112648982,
          0.5098656704313177,
          2.188181621409416,
          -1.8772696836014646,
          -0.4205418507884751,
          0.30075831472836556,
          0.2473020794475996,
          1.0923057343868103,
          2.214046009241756,
          1.4336535784483952,
          1.4496004076576658,
          -0.682315049522406,
          1.598661713427201,
          1.4227754396583445,
          -1.0553567255207785,
          -1.4467280078731937,
          0.20179887245784411,
          0.35903774873412975,
          -0.3555565196644582,
          1.0761852720282128,
          -0.8916717438447009,
          -1.0601444174693633,
          2.0819303347522395,
          -0.7167603005349762,
          -1.53530673446921,
          1.9133948727068533,
          1.0407153002753171,
          1.4532560987038319,
          0.013243946716610581,
          0.07978980625508145,
          -0.7928520041366476,
          0.9490485222915815,
          0.6796773785389835,
          -0.5312708016279892,
          -0.42543554249806664,
          0.10502509437704735,
          1.6737017511277883,
          -1.8668727674163699,
          0.22836886459639544,
          1.218973217565057,
          0.40212949895106903,
          0.47944343085272584,
          1.2304180606624848,
          0.9922489862689469,
          1.4686658229282794,
          2.0143136536858615,
          -0.14595261041800572,
          -1.1518106457881085,
          -0.6742607596454501,
          -0.7520225160865858,
          -0.08264514311404035,
          -1.944206140200247,
          -0.8218453602495646,
          -0.9346787373246029,
          -0.22471916393044564,
          -1.0780813137475604,
          1.0931423702001777,
          0.1110246057804523,
          0.45843380751609986,
          -1.1479604243030028,
          0.06401934841743986,
          -0.40936004108937313,
          -2.475032937690778,
          -0.5798847812432872,
          0.14760048032172526,
          -1.4746689176623073,
          -0.8130010946296682,
          0.8174795080559044,
          1.2400992521174226,
          -1.1738531185743155,
          0.14683153608009747,
          -1.08192782694488,
          0.23943436417174233,
          -1.8361135319933861,
          0.4890161330117654,
          1.6763408612708235,
          0.140950911004665,
          -0.34898665268627543,
          0.9774154607000615,
          1.4071048918097957,
          0.9928899978366662,
          0.47473909400514425,
          -1.0159736244406523,
          -1.2328148128058634,
          1.5251809494141184,
          0.9749457059105875
         ],
         "xaxis": "x13",
         "y": [
          -2.7100027074512263,
          1.5092298638203234,
          1.1057494615184085,
          2.1211286432568324,
          -1.1914403370727311,
          0.41929186434710386,
          -0.8912222018834959,
          0.8032717543495098,
          0.5323382839005606,
          0.7387146178691983,
          0.5262429080554617,
          0.6314237830695967,
          -0.6245340419464724,
          -0.38653643401312915,
          -3.2315136838898405e-05,
          0.6594586539018324,
          -0.8329134530810053,
          1.7016483503963837,
          -0.43409322580015036,
          0.2379801323068665,
          1.6818622904089098,
          -0.30146283972452553,
          0.2551305621479686,
          -0.045384304234003546,
          -0.00821748274901138,
          -0.6648783946530121,
          0.8481206379652664,
          -0.7073702075946093,
          0.3222214926225584,
          -0.9556689747586344,
          0.5634897506208155,
          0.8973608738586154,
          0.13521149549799152,
          -0.351024519858675,
          -1.167015643327293,
          0.9354356194470855,
          0.12385613021386416,
          1.5383648033578345,
          1.901857447308807,
          -0.3866803452023101,
          0.5323164116776599,
          -1.0350154451302893,
          -0.5885030194095547,
          0.37310283740938044,
          0.7948691117118398,
          -0.06642443103251437,
          -0.15958262124597886,
          -0.1970990048918327,
          0.5781068521769578,
          -0.527575222479752,
          -0.8217711389264142,
          1.1048384725245357,
          1.2149480117740057,
          1.9949756503818386,
          -0.21438775731404128,
          -0.42177415282852676,
          1.1499665354881479,
          0.23124086825926587,
          0.16761476703225098,
          -0.14188263184526026,
          1.2963591778857908,
          -0.0015903658037731045,
          -1.1750227183435296,
          -0.5146625844422362,
          0.04525138896638736,
          -1.5158560076332714,
          1.4406393720384827,
          1.0078606044802698,
          -0.12062413745357488,
          -0.6826130761628161,
          -2.367040772010056,
          0.6160818040935914,
          2.416724620529064,
          -0.02413914940279359,
          1.2671432363260808,
          0.2447521594542125,
          -1.2762423050923153,
          1.087979549415762,
          -0.10309456170998484,
          -0.980895290291369,
          -0.5730758333602567,
          1.9394435189591532,
          0.5356258340664333,
          0.39708387457322813,
          0.7091732169573783,
          -0.04977270833216509,
          0.03530437065346389,
          1.2614908521508261,
          0.013803138309950282,
          -0.32250403925302146,
          0.36824266995696003,
          -0.2654923739716801,
          1.8731019929541703,
          0.4285525395547248,
          0.7672964842434786,
          -0.2944144574609767,
          0.5933737771391042,
          -0.40141253257098036,
          0.28440855406739873,
          -0.21540319371195374
         ],
         "yaxis": "y13"
        },
        {
         "line": {
          "color": "rgba(128, 128, 128, 1.0)",
          "dash": "solid",
          "shape": "linear",
          "width": 1.3
         },
         "marker": {
          "size": 2,
          "symbol": "circle"
         },
         "mode": "markers",
         "name": "D",
         "text": "",
         "type": "scatter",
         "x": [
          1.096107160913988,
          -0.9737302345058281,
          -0.7250110916221839,
          0.7674488710153434,
          -0.5886541668788527,
          -1.0622784516157855,
          -1.2238707436028022,
          0.5253344718323851,
          -1.2878683268608349,
          -0.29911395934561635,
          0.3228157242692437,
          -1.3772019647253797,
          0.8422799608523274,
          0.46673940511242085,
          -1.9024107187745396,
          0.155657667140865,
          -0.7071356823154644,
          1.2253160474108702,
          -0.2882825609357239,
          0.36254222065700026,
          -1.1010538416552,
          1.492275113314927,
          -0.8466546929147944,
          -1.407165100389169,
          1.5632998286714186,
          -1.844746282810375,
          0.15876902191918163,
          -1.5707713349068917,
          -0.8912945042064594,
          -1.1888331358388045,
          -0.27504992184297344,
          0.7719987193746825,
          1.0204442420513675,
          -0.8759967579455494,
          0.315369460523939,
          -0.21239405545229284,
          -0.6288758205361382,
          -1.107447520892792,
          -0.2747002480687447,
          -0.4878952806445132,
          0.45536338144084904,
          -0.06056216817983006,
          0.9155766888351832,
          0.3225396215491934,
          1.336825319564932,
          -0.37695618372560696,
          0.6325172658764953,
          0.26144100072357696,
          -0.9176232114780261,
          -1.208512843841877,
          -0.1316287517068255,
          0.8046785617875465,
          -0.5298092909996793,
          -0.37895398463692803,
          -0.05015310836103133,
          1.8473860712933061,
          1.5828731768120015,
          -0.8313732498063346,
          1.56577510300552,
          -0.09835768242436443,
          -0.388099432966121,
          0.9213329848355416,
          -2.348329762291072,
          -0.3698905589364241,
          -1.3494687348772076,
          1.3037780678011601,
          2.417803512990605,
          0.29235264572616937,
          -0.8885381405600554,
          1.298273421113763,
          -0.3243102006073436,
          1.7694595161130415,
          1.1645387332927113,
          0.6288572400159901,
          -0.4527526189306913,
          1.9960678439093071,
          -0.041270654120210824,
          1.2496205442177806,
          -0.8840401546835186,
          0.8183218519596385,
          -2.0264573504660435,
          -0.4060040927237812,
          0.4729778895675059,
          -1.018633095188232,
          -0.29007097710175345,
          -0.06404339828919584,
          -2.1361917322659645,
          0.2609275108959407,
          0.8218707805270796,
          0.9456373949586805,
          0.8181515489793115,
          -1.4850632655046452,
          0.811063068792345,
          -0.31666137234541136,
          1.2786160004896594,
          0.8786720744927401,
          0.3944281417496477,
          0.22966085439033096,
          0.1673512133000957,
          -0.35535519018683315
         ],
         "xaxis": "x14",
         "y": [
          -2.7100027074512263,
          1.5092298638203234,
          1.1057494615184085,
          2.1211286432568324,
          -1.1914403370727311,
          0.41929186434710386,
          -0.8912222018834959,
          0.8032717543495098,
          0.5323382839005606,
          0.7387146178691983,
          0.5262429080554617,
          0.6314237830695967,
          -0.6245340419464724,
          -0.38653643401312915,
          -3.2315136838898405e-05,
          0.6594586539018324,
          -0.8329134530810053,
          1.7016483503963837,
          -0.43409322580015036,
          0.2379801323068665,
          1.6818622904089098,
          -0.30146283972452553,
          0.2551305621479686,
          -0.045384304234003546,
          -0.00821748274901138,
          -0.6648783946530121,
          0.8481206379652664,
          -0.7073702075946093,
          0.3222214926225584,
          -0.9556689747586344,
          0.5634897506208155,
          0.8973608738586154,
          0.13521149549799152,
          -0.351024519858675,
          -1.167015643327293,
          0.9354356194470855,
          0.12385613021386416,
          1.5383648033578345,
          1.901857447308807,
          -0.3866803452023101,
          0.5323164116776599,
          -1.0350154451302893,
          -0.5885030194095547,
          0.37310283740938044,
          0.7948691117118398,
          -0.06642443103251437,
          -0.15958262124597886,
          -0.1970990048918327,
          0.5781068521769578,
          -0.527575222479752,
          -0.8217711389264142,
          1.1048384725245357,
          1.2149480117740057,
          1.9949756503818386,
          -0.21438775731404128,
          -0.42177415282852676,
          1.1499665354881479,
          0.23124086825926587,
          0.16761476703225098,
          -0.14188263184526026,
          1.2963591778857908,
          -0.0015903658037731045,
          -1.1750227183435296,
          -0.5146625844422362,
          0.04525138896638736,
          -1.5158560076332714,
          1.4406393720384827,
          1.0078606044802698,
          -0.12062413745357488,
          -0.6826130761628161,
          -2.367040772010056,
          0.6160818040935914,
          2.416724620529064,
          -0.02413914940279359,
          1.2671432363260808,
          0.2447521594542125,
          -1.2762423050923153,
          1.087979549415762,
          -0.10309456170998484,
          -0.980895290291369,
          -0.5730758333602567,
          1.9394435189591532,
          0.5356258340664333,
          0.39708387457322813,
          0.7091732169573783,
          -0.04977270833216509,
          0.03530437065346389,
          1.2614908521508261,
          0.013803138309950282,
          -0.32250403925302146,
          0.36824266995696003,
          -0.2654923739716801,
          1.8731019929541703,
          0.4285525395547248,
          0.7672964842434786,
          -0.2944144574609767,
          0.5933737771391042,
          -0.40141253257098036,
          0.28440855406739873,
          -0.21540319371195374
         ],
         "yaxis": "y14"
        },
        {
         "line": {
          "color": "rgba(128, 128, 128, 1.0)",
          "dash": "solid",
          "shape": "linear",
          "width": 1.3
         },
         "marker": {
          "size": 2,
          "symbol": "circle"
         },
         "mode": "markers",
         "name": "D",
         "text": "",
         "type": "scatter",
         "x": [
          -0.7190573047379413,
          -0.5218718981353269,
          -2.1275080461682445,
          -0.26960277311906,
          -1.0790737644754171,
          0.7341284109331028,
          -1.266846062375404,
          -1.2387256433799363,
          -0.21932968038558281,
          -0.013187734310136546,
          0.7032215937556977,
          0.12120609567616611,
          -0.35209807800567167,
          0.5134455262152473,
          -0.26475513443163706,
          -0.7451059786687938,
          0.3943095743441828,
          0.3713231796345752,
          1.6286334447211743,
          1.8442538198408855,
          -1.151830965301197,
          0.5229720015753714,
          0.881194453165917,
          1.606844883388436,
          1.4226236804197914,
          -0.9147988163058547,
          -0.3103286360332352,
          -0.6080075048503447,
          -2.465086189765115,
          1.0515487947146003,
          0.9350470844581024,
          0.06056732333367964,
          -0.48728832073017975,
          -0.5341429120950548,
          0.567108178025013,
          -1.426519473921635,
          0.42768715035685445,
          1.328981492746673,
          -1.3581344700053142,
          -0.5620634315264172,
          -0.4546029207207217,
          2.024428908600939,
          -2.2446087801726655,
          -0.11575069506561245,
          -0.42293352730504197,
          -0.715839010337148,
          -0.413273278778596,
          -0.3515080434189393,
          -1.7165045749911738,
          2.1214726728907998,
          -0.26197840327992683,
          -1.4822822334419699,
          -0.9740005446679961,
          1.3633555475638726,
          -1.3245938521217255,
          1.056420702314937,
          -0.34758214747490396,
          -0.24722960505443037,
          -0.7186505583381386,
          0.1898097306266676,
          0.43299129289059984,
          -0.9362834976115473,
          -1.4298244426857565,
          -1.0534077564072122,
          1.8593094016744611,
          0.8548661205200041,
          -1.3926642016521464,
          -0.5053390753017923,
          -0.682033657955724,
          0.4780039408444455,
          0.4300136249879697,
          0.980883202547787,
          -0.22924488568444756,
          -0.6586989779084301,
          -0.4007190910086093,
          0.3972123229401916,
          1.3029152807213498,
          -0.3815785754169035,
          -0.7484065978209936,
          0.8210504140417529,
          -0.20601732878354262,
          0.24761134531898804,
          0.7040517682313486,
          0.14880891665905396,
          -0.7986815187922411,
          -2.378780532301465,
          0.3187482514131689,
          -0.9934186516974625,
          1.1509456174198616,
          -0.4451139762514316,
          -0.016631977140144284,
          -1.0362573529744676,
          0.7409713523742906,
          1.5830793365139446,
          0.6765580609132692,
          0.1853833194790049,
          -0.6181347969700357,
          -0.34580794958581784,
          1.6797600008794107,
          0.5880586721788934
         ],
         "xaxis": "x15",
         "y": [
          -2.7100027074512263,
          1.5092298638203234,
          1.1057494615184085,
          2.1211286432568324,
          -1.1914403370727311,
          0.41929186434710386,
          -0.8912222018834959,
          0.8032717543495098,
          0.5323382839005606,
          0.7387146178691983,
          0.5262429080554617,
          0.6314237830695967,
          -0.6245340419464724,
          -0.38653643401312915,
          -3.2315136838898405e-05,
          0.6594586539018324,
          -0.8329134530810053,
          1.7016483503963837,
          -0.43409322580015036,
          0.2379801323068665,
          1.6818622904089098,
          -0.30146283972452553,
          0.2551305621479686,
          -0.045384304234003546,
          -0.00821748274901138,
          -0.6648783946530121,
          0.8481206379652664,
          -0.7073702075946093,
          0.3222214926225584,
          -0.9556689747586344,
          0.5634897506208155,
          0.8973608738586154,
          0.13521149549799152,
          -0.351024519858675,
          -1.167015643327293,
          0.9354356194470855,
          0.12385613021386416,
          1.5383648033578345,
          1.901857447308807,
          -0.3866803452023101,
          0.5323164116776599,
          -1.0350154451302893,
          -0.5885030194095547,
          0.37310283740938044,
          0.7948691117118398,
          -0.06642443103251437,
          -0.15958262124597886,
          -0.1970990048918327,
          0.5781068521769578,
          -0.527575222479752,
          -0.8217711389264142,
          1.1048384725245357,
          1.2149480117740057,
          1.9949756503818386,
          -0.21438775731404128,
          -0.42177415282852676,
          1.1499665354881479,
          0.23124086825926587,
          0.16761476703225098,
          -0.14188263184526026,
          1.2963591778857908,
          -0.0015903658037731045,
          -1.1750227183435296,
          -0.5146625844422362,
          0.04525138896638736,
          -1.5158560076332714,
          1.4406393720384827,
          1.0078606044802698,
          -0.12062413745357488,
          -0.6826130761628161,
          -2.367040772010056,
          0.6160818040935914,
          2.416724620529064,
          -0.02413914940279359,
          1.2671432363260808,
          0.2447521594542125,
          -1.2762423050923153,
          1.087979549415762,
          -0.10309456170998484,
          -0.980895290291369,
          -0.5730758333602567,
          1.9394435189591532,
          0.5356258340664333,
          0.39708387457322813,
          0.7091732169573783,
          -0.04977270833216509,
          0.03530437065346389,
          1.2614908521508261,
          0.013803138309950282,
          -0.32250403925302146,
          0.36824266995696003,
          -0.2654923739716801,
          1.8731019929541703,
          0.4285525395547248,
          0.7672964842434786,
          -0.2944144574609767,
          0.5933737771391042,
          -0.40141253257098036,
          0.28440855406739873,
          -0.21540319371195374
         ],
         "yaxis": "y15"
        },
        {
         "histfunc": "count",
         "histnorm": "",
         "marker": {
          "color": "rgba(128, 0, 128, 1.0)",
          "line": {
           "color": "#4D5663",
           "width": 1.3
          }
         },
         "name": "D",
         "nbinsx": 10,
         "opacity": 0.8,
         "orientation": "v",
         "type": "histogram",
         "x": [
          -2.7100027074512263,
          1.5092298638203234,
          1.1057494615184085,
          2.1211286432568324,
          -1.1914403370727311,
          0.41929186434710386,
          -0.8912222018834959,
          0.8032717543495098,
          0.5323382839005606,
          0.7387146178691983,
          0.5262429080554617,
          0.6314237830695967,
          -0.6245340419464724,
          -0.38653643401312915,
          -3.2315136838898405e-05,
          0.6594586539018324,
          -0.8329134530810053,
          1.7016483503963837,
          -0.43409322580015036,
          0.2379801323068665,
          1.6818622904089098,
          -0.30146283972452553,
          0.2551305621479686,
          -0.045384304234003546,
          -0.00821748274901138,
          -0.6648783946530121,
          0.8481206379652664,
          -0.7073702075946093,
          0.3222214926225584,
          -0.9556689747586344,
          0.5634897506208155,
          0.8973608738586154,
          0.13521149549799152,
          -0.351024519858675,
          -1.167015643327293,
          0.9354356194470855,
          0.12385613021386416,
          1.5383648033578345,
          1.901857447308807,
          -0.3866803452023101,
          0.5323164116776599,
          -1.0350154451302893,
          -0.5885030194095547,
          0.37310283740938044,
          0.7948691117118398,
          -0.06642443103251437,
          -0.15958262124597886,
          -0.1970990048918327,
          0.5781068521769578,
          -0.527575222479752,
          -0.8217711389264142,
          1.1048384725245357,
          1.2149480117740057,
          1.9949756503818386,
          -0.21438775731404128,
          -0.42177415282852676,
          1.1499665354881479,
          0.23124086825926587,
          0.16761476703225098,
          -0.14188263184526026,
          1.2963591778857908,
          -0.0015903658037731045,
          -1.1750227183435296,
          -0.5146625844422362,
          0.04525138896638736,
          -1.5158560076332714,
          1.4406393720384827,
          1.0078606044802698,
          -0.12062413745357488,
          -0.6826130761628161,
          -2.367040772010056,
          0.6160818040935914,
          2.416724620529064,
          -0.02413914940279359,
          1.2671432363260808,
          0.2447521594542125,
          -1.2762423050923153,
          1.087979549415762,
          -0.10309456170998484,
          -0.980895290291369,
          -0.5730758333602567,
          1.9394435189591532,
          0.5356258340664333,
          0.39708387457322813,
          0.7091732169573783,
          -0.04977270833216509,
          0.03530437065346389,
          1.2614908521508261,
          0.013803138309950282,
          -0.32250403925302146,
          0.36824266995696003,
          -0.2654923739716801,
          1.8731019929541703,
          0.4285525395547248,
          0.7672964842434786,
          -0.2944144574609767,
          0.5933737771391042,
          -0.40141253257098036,
          0.28440855406739873,
          -0.21540319371195374
         ],
         "xaxis": "x16",
         "yaxis": "y16"
        }
       ],
       "layout": {
        "bargap": 0.02,
        "legend": {
         "bgcolor": "#F5F6F9",
         "font": {
          "color": "#4D5663"
         }
        },
        "paper_bgcolor": "#F5F6F9",
        "plot_bgcolor": "#F5F6F9",
        "showlegend": false,
        "template": {
         "data": {
          "bar": [
           {
            "error_x": {
             "color": "#2a3f5f"
            },
            "error_y": {
             "color": "#2a3f5f"
            },
            "marker": {
             "line": {
              "color": "#E5ECF6",
              "width": 0.5
             }
            },
            "type": "bar"
           }
          ],
          "barpolar": [
           {
            "marker": {
             "line": {
              "color": "#E5ECF6",
              "width": 0.5
             }
            },
            "type": "barpolar"
           }
          ],
          "carpet": [
           {
            "aaxis": {
             "endlinecolor": "#2a3f5f",
             "gridcolor": "white",
             "linecolor": "white",
             "minorgridcolor": "white",
             "startlinecolor": "#2a3f5f"
            },
            "baxis": {
             "endlinecolor": "#2a3f5f",
             "gridcolor": "white",
             "linecolor": "white",
             "minorgridcolor": "white",
             "startlinecolor": "#2a3f5f"
            },
            "type": "carpet"
           }
          ],
          "choropleth": [
           {
            "colorbar": {
             "outlinewidth": 0,
             "ticks": ""
            },
            "type": "choropleth"
           }
          ],
          "contour": [
           {
            "colorbar": {
             "outlinewidth": 0,
             "ticks": ""
            },
            "colorscale": [
             [
              0,
              "#0d0887"
             ],
             [
              0.1111111111111111,
              "#46039f"
             ],
             [
              0.2222222222222222,
              "#7201a8"
             ],
             [
              0.3333333333333333,
              "#9c179e"
             ],
             [
              0.4444444444444444,
              "#bd3786"
             ],
             [
              0.5555555555555556,
              "#d8576b"
             ],
             [
              0.6666666666666666,
              "#ed7953"
             ],
             [
              0.7777777777777778,
              "#fb9f3a"
             ],
             [
              0.8888888888888888,
              "#fdca26"
             ],
             [
              1,
              "#f0f921"
             ]
            ],
            "type": "contour"
           }
          ],
          "contourcarpet": [
           {
            "colorbar": {
             "outlinewidth": 0,
             "ticks": ""
            },
            "type": "contourcarpet"
           }
          ],
          "heatmap": [
           {
            "colorbar": {
             "outlinewidth": 0,
             "ticks": ""
            },
            "colorscale": [
             [
              0,
              "#0d0887"
             ],
             [
              0.1111111111111111,
              "#46039f"
             ],
             [
              0.2222222222222222,
              "#7201a8"
             ],
             [
              0.3333333333333333,
              "#9c179e"
             ],
             [
              0.4444444444444444,
              "#bd3786"
             ],
             [
              0.5555555555555556,
              "#d8576b"
             ],
             [
              0.6666666666666666,
              "#ed7953"
             ],
             [
              0.7777777777777778,
              "#fb9f3a"
             ],
             [
              0.8888888888888888,
              "#fdca26"
             ],
             [
              1,
              "#f0f921"
             ]
            ],
            "type": "heatmap"
           }
          ],
          "heatmapgl": [
           {
            "colorbar": {
             "outlinewidth": 0,
             "ticks": ""
            },
            "colorscale": [
             [
              0,
              "#0d0887"
             ],
             [
              0.1111111111111111,
              "#46039f"
             ],
             [
              0.2222222222222222,
              "#7201a8"
             ],
             [
              0.3333333333333333,
              "#9c179e"
             ],
             [
              0.4444444444444444,
              "#bd3786"
             ],
             [
              0.5555555555555556,
              "#d8576b"
             ],
             [
              0.6666666666666666,
              "#ed7953"
             ],
             [
              0.7777777777777778,
              "#fb9f3a"
             ],
             [
              0.8888888888888888,
              "#fdca26"
             ],
             [
              1,
              "#f0f921"
             ]
            ],
            "type": "heatmapgl"
           }
          ],
          "histogram": [
           {
            "marker": {
             "colorbar": {
              "outlinewidth": 0,
              "ticks": ""
             }
            },
            "type": "histogram"
           }
          ],
          "histogram2d": [
           {
            "colorbar": {
             "outlinewidth": 0,
             "ticks": ""
            },
            "colorscale": [
             [
              0,
              "#0d0887"
             ],
             [
              0.1111111111111111,
              "#46039f"
             ],
             [
              0.2222222222222222,
              "#7201a8"
             ],
             [
              0.3333333333333333,
              "#9c179e"
             ],
             [
              0.4444444444444444,
              "#bd3786"
             ],
             [
              0.5555555555555556,
              "#d8576b"
             ],
             [
              0.6666666666666666,
              "#ed7953"
             ],
             [
              0.7777777777777778,
              "#fb9f3a"
             ],
             [
              0.8888888888888888,
              "#fdca26"
             ],
             [
              1,
              "#f0f921"
             ]
            ],
            "type": "histogram2d"
           }
          ],
          "histogram2dcontour": [
           {
            "colorbar": {
             "outlinewidth": 0,
             "ticks": ""
            },
            "colorscale": [
             [
              0,
              "#0d0887"
             ],
             [
              0.1111111111111111,
              "#46039f"
             ],
             [
              0.2222222222222222,
              "#7201a8"
             ],
             [
              0.3333333333333333,
              "#9c179e"
             ],
             [
              0.4444444444444444,
              "#bd3786"
             ],
             [
              0.5555555555555556,
              "#d8576b"
             ],
             [
              0.6666666666666666,
              "#ed7953"
             ],
             [
              0.7777777777777778,
              "#fb9f3a"
             ],
             [
              0.8888888888888888,
              "#fdca26"
             ],
             [
              1,
              "#f0f921"
             ]
            ],
            "type": "histogram2dcontour"
           }
          ],
          "mesh3d": [
           {
            "colorbar": {
             "outlinewidth": 0,
             "ticks": ""
            },
            "type": "mesh3d"
           }
          ],
          "parcoords": [
           {
            "line": {
             "colorbar": {
              "outlinewidth": 0,
              "ticks": ""
             }
            },
            "type": "parcoords"
           }
          ],
          "pie": [
           {
            "automargin": true,
            "type": "pie"
           }
          ],
          "scatter": [
           {
            "marker": {
             "colorbar": {
              "outlinewidth": 0,
              "ticks": ""
             }
            },
            "type": "scatter"
           }
          ],
          "scatter3d": [
           {
            "line": {
             "colorbar": {
              "outlinewidth": 0,
              "ticks": ""
             }
            },
            "marker": {
             "colorbar": {
              "outlinewidth": 0,
              "ticks": ""
             }
            },
            "type": "scatter3d"
           }
          ],
          "scattercarpet": [
           {
            "marker": {
             "colorbar": {
              "outlinewidth": 0,
              "ticks": ""
             }
            },
            "type": "scattercarpet"
           }
          ],
          "scattergeo": [
           {
            "marker": {
             "colorbar": {
              "outlinewidth": 0,
              "ticks": ""
             }
            },
            "type": "scattergeo"
           }
          ],
          "scattergl": [
           {
            "marker": {
             "colorbar": {
              "outlinewidth": 0,
              "ticks": ""
             }
            },
            "type": "scattergl"
           }
          ],
          "scattermapbox": [
           {
            "marker": {
             "colorbar": {
              "outlinewidth": 0,
              "ticks": ""
             }
            },
            "type": "scattermapbox"
           }
          ],
          "scatterpolar": [
           {
            "marker": {
             "colorbar": {
              "outlinewidth": 0,
              "ticks": ""
             }
            },
            "type": "scatterpolar"
           }
          ],
          "scatterpolargl": [
           {
            "marker": {
             "colorbar": {
              "outlinewidth": 0,
              "ticks": ""
             }
            },
            "type": "scatterpolargl"
           }
          ],
          "scatterternary": [
           {
            "marker": {
             "colorbar": {
              "outlinewidth": 0,
              "ticks": ""
             }
            },
            "type": "scatterternary"
           }
          ],
          "surface": [
           {
            "colorbar": {
             "outlinewidth": 0,
             "ticks": ""
            },
            "colorscale": [
             [
              0,
              "#0d0887"
             ],
             [
              0.1111111111111111,
              "#46039f"
             ],
             [
              0.2222222222222222,
              "#7201a8"
             ],
             [
              0.3333333333333333,
              "#9c179e"
             ],
             [
              0.4444444444444444,
              "#bd3786"
             ],
             [
              0.5555555555555556,
              "#d8576b"
             ],
             [
              0.6666666666666666,
              "#ed7953"
             ],
             [
              0.7777777777777778,
              "#fb9f3a"
             ],
             [
              0.8888888888888888,
              "#fdca26"
             ],
             [
              1,
              "#f0f921"
             ]
            ],
            "type": "surface"
           }
          ],
          "table": [
           {
            "cells": {
             "fill": {
              "color": "#EBF0F8"
             },
             "line": {
              "color": "white"
             }
            },
            "header": {
             "fill": {
              "color": "#C8D4E3"
             },
             "line": {
              "color": "white"
             }
            },
            "type": "table"
           }
          ]
         },
         "layout": {
          "annotationdefaults": {
           "arrowcolor": "#2a3f5f",
           "arrowhead": 0,
           "arrowwidth": 1
          },
          "coloraxis": {
           "colorbar": {
            "outlinewidth": 0,
            "ticks": ""
           }
          },
          "colorscale": {
           "diverging": [
            [
             0,
             "#8e0152"
            ],
            [
             0.1,
             "#c51b7d"
            ],
            [
             0.2,
             "#de77ae"
            ],
            [
             0.3,
             "#f1b6da"
            ],
            [
             0.4,
             "#fde0ef"
            ],
            [
             0.5,
             "#f7f7f7"
            ],
            [
             0.6,
             "#e6f5d0"
            ],
            [
             0.7,
             "#b8e186"
            ],
            [
             0.8,
             "#7fbc41"
            ],
            [
             0.9,
             "#4d9221"
            ],
            [
             1,
             "#276419"
            ]
           ],
           "sequential": [
            [
             0,
             "#0d0887"
            ],
            [
             0.1111111111111111,
             "#46039f"
            ],
            [
             0.2222222222222222,
             "#7201a8"
            ],
            [
             0.3333333333333333,
             "#9c179e"
            ],
            [
             0.4444444444444444,
             "#bd3786"
            ],
            [
             0.5555555555555556,
             "#d8576b"
            ],
            [
             0.6666666666666666,
             "#ed7953"
            ],
            [
             0.7777777777777778,
             "#fb9f3a"
            ],
            [
             0.8888888888888888,
             "#fdca26"
            ],
            [
             1,
             "#f0f921"
            ]
           ],
           "sequentialminus": [
            [
             0,
             "#0d0887"
            ],
            [
             0.1111111111111111,
             "#46039f"
            ],
            [
             0.2222222222222222,
             "#7201a8"
            ],
            [
             0.3333333333333333,
             "#9c179e"
            ],
            [
             0.4444444444444444,
             "#bd3786"
            ],
            [
             0.5555555555555556,
             "#d8576b"
            ],
            [
             0.6666666666666666,
             "#ed7953"
            ],
            [
             0.7777777777777778,
             "#fb9f3a"
            ],
            [
             0.8888888888888888,
             "#fdca26"
            ],
            [
             1,
             "#f0f921"
            ]
           ]
          },
          "colorway": [
           "#636efa",
           "#EF553B",
           "#00cc96",
           "#ab63fa",
           "#FFA15A",
           "#19d3f3",
           "#FF6692",
           "#B6E880",
           "#FF97FF",
           "#FECB52"
          ],
          "font": {
           "color": "#2a3f5f"
          },
          "geo": {
           "bgcolor": "white",
           "lakecolor": "white",
           "landcolor": "#E5ECF6",
           "showlakes": true,
           "showland": true,
           "subunitcolor": "white"
          },
          "hoverlabel": {
           "align": "left"
          },
          "hovermode": "closest",
          "mapbox": {
           "style": "light"
          },
          "paper_bgcolor": "white",
          "plot_bgcolor": "#E5ECF6",
          "polar": {
           "angularaxis": {
            "gridcolor": "white",
            "linecolor": "white",
            "ticks": ""
           },
           "bgcolor": "#E5ECF6",
           "radialaxis": {
            "gridcolor": "white",
            "linecolor": "white",
            "ticks": ""
           }
          },
          "scene": {
           "xaxis": {
            "backgroundcolor": "#E5ECF6",
            "gridcolor": "white",
            "gridwidth": 2,
            "linecolor": "white",
            "showbackground": true,
            "ticks": "",
            "zerolinecolor": "white"
           },
           "yaxis": {
            "backgroundcolor": "#E5ECF6",
            "gridcolor": "white",
            "gridwidth": 2,
            "linecolor": "white",
            "showbackground": true,
            "ticks": "",
            "zerolinecolor": "white"
           },
           "zaxis": {
            "backgroundcolor": "#E5ECF6",
            "gridcolor": "white",
            "gridwidth": 2,
            "linecolor": "white",
            "showbackground": true,
            "ticks": "",
            "zerolinecolor": "white"
           }
          },
          "shapedefaults": {
           "line": {
            "color": "#2a3f5f"
           }
          },
          "ternary": {
           "aaxis": {
            "gridcolor": "white",
            "linecolor": "white",
            "ticks": ""
           },
           "baxis": {
            "gridcolor": "white",
            "linecolor": "white",
            "ticks": ""
           },
           "bgcolor": "#E5ECF6",
           "caxis": {
            "gridcolor": "white",
            "linecolor": "white",
            "ticks": ""
           }
          },
          "title": {
           "x": 0.05
          },
          "xaxis": {
           "automargin": true,
           "gridcolor": "white",
           "linecolor": "white",
           "ticks": "",
           "title": {
            "standoff": 15
           },
           "zerolinecolor": "white",
           "zerolinewidth": 2
          },
          "yaxis": {
           "automargin": true,
           "gridcolor": "white",
           "linecolor": "white",
           "ticks": "",
           "title": {
            "standoff": 15
           },
           "zerolinecolor": "white",
           "zerolinewidth": 2
          }
         }
        },
        "title": {
         "font": {
          "color": "#4D5663"
         }
        },
        "xaxis": {
         "anchor": "y",
         "domain": [
          0,
          0.2125
         ],
         "gridcolor": "#E1E5ED",
         "showgrid": false,
         "tickfont": {
          "color": "#4D5663"
         },
         "title": {
          "font": {
           "color": "#4D5663"
          },
          "text": ""
         },
         "zerolinecolor": "#E1E5ED"
        },
        "xaxis10": {
         "anchor": "y10",
         "domain": [
          0.2625,
          0.475
         ],
         "gridcolor": "#E1E5ED",
         "showgrid": false,
         "tickfont": {
          "color": "#4D5663"
         },
         "title": {
          "font": {
           "color": "#4D5663"
          },
          "text": ""
         },
         "zerolinecolor": "#E1E5ED"
        },
        "xaxis11": {
         "anchor": "y11",
         "domain": [
          0.525,
          0.7375
         ],
         "gridcolor": "#E1E5ED",
         "showgrid": false,
         "tickfont": {
          "color": "#4D5663"
         },
         "title": {
          "font": {
           "color": "#4D5663"
          },
          "text": ""
         },
         "zerolinecolor": "#E1E5ED"
        },
        "xaxis12": {
         "anchor": "y12",
         "domain": [
          0.7875,
          1
         ],
         "gridcolor": "#E1E5ED",
         "showgrid": false,
         "tickfont": {
          "color": "#4D5663"
         },
         "title": {
          "font": {
           "color": "#4D5663"
          },
          "text": ""
         },
         "zerolinecolor": "#E1E5ED"
        },
        "xaxis13": {
         "anchor": "y13",
         "domain": [
          0,
          0.2125
         ],
         "gridcolor": "#E1E5ED",
         "showgrid": false,
         "tickfont": {
          "color": "#4D5663"
         },
         "title": {
          "font": {
           "color": "#4D5663"
          },
          "text": ""
         },
         "zerolinecolor": "#E1E5ED"
        },
        "xaxis14": {
         "anchor": "y14",
         "domain": [
          0.2625,
          0.475
         ],
         "gridcolor": "#E1E5ED",
         "showgrid": false,
         "tickfont": {
          "color": "#4D5663"
         },
         "title": {
          "font": {
           "color": "#4D5663"
          },
          "text": ""
         },
         "zerolinecolor": "#E1E5ED"
        },
        "xaxis15": {
         "anchor": "y15",
         "domain": [
          0.525,
          0.7375
         ],
         "gridcolor": "#E1E5ED",
         "showgrid": false,
         "tickfont": {
          "color": "#4D5663"
         },
         "title": {
          "font": {
           "color": "#4D5663"
          },
          "text": ""
         },
         "zerolinecolor": "#E1E5ED"
        },
        "xaxis16": {
         "anchor": "y16",
         "domain": [
          0.7875,
          1
         ],
         "gridcolor": "#E1E5ED",
         "showgrid": false,
         "tickfont": {
          "color": "#4D5663"
         },
         "title": {
          "font": {
           "color": "#4D5663"
          },
          "text": ""
         },
         "zerolinecolor": "#E1E5ED"
        },
        "xaxis2": {
         "anchor": "y2",
         "domain": [
          0.2625,
          0.475
         ],
         "gridcolor": "#E1E5ED",
         "showgrid": false,
         "tickfont": {
          "color": "#4D5663"
         },
         "title": {
          "font": {
           "color": "#4D5663"
          },
          "text": ""
         },
         "zerolinecolor": "#E1E5ED"
        },
        "xaxis3": {
         "anchor": "y3",
         "domain": [
          0.525,
          0.7375
         ],
         "gridcolor": "#E1E5ED",
         "showgrid": false,
         "tickfont": {
          "color": "#4D5663"
         },
         "title": {
          "font": {
           "color": "#4D5663"
          },
          "text": ""
         },
         "zerolinecolor": "#E1E5ED"
        },
        "xaxis4": {
         "anchor": "y4",
         "domain": [
          0.7875,
          1
         ],
         "gridcolor": "#E1E5ED",
         "showgrid": false,
         "tickfont": {
          "color": "#4D5663"
         },
         "title": {
          "font": {
           "color": "#4D5663"
          },
          "text": ""
         },
         "zerolinecolor": "#E1E5ED"
        },
        "xaxis5": {
         "anchor": "y5",
         "domain": [
          0,
          0.2125
         ],
         "gridcolor": "#E1E5ED",
         "showgrid": false,
         "tickfont": {
          "color": "#4D5663"
         },
         "title": {
          "font": {
           "color": "#4D5663"
          },
          "text": ""
         },
         "zerolinecolor": "#E1E5ED"
        },
        "xaxis6": {
         "anchor": "y6",
         "domain": [
          0.2625,
          0.475
         ],
         "gridcolor": "#E1E5ED",
         "showgrid": false,
         "tickfont": {
          "color": "#4D5663"
         },
         "title": {
          "font": {
           "color": "#4D5663"
          },
          "text": ""
         },
         "zerolinecolor": "#E1E5ED"
        },
        "xaxis7": {
         "anchor": "y7",
         "domain": [
          0.525,
          0.7375
         ],
         "gridcolor": "#E1E5ED",
         "showgrid": false,
         "tickfont": {
          "color": "#4D5663"
         },
         "title": {
          "font": {
           "color": "#4D5663"
          },
          "text": ""
         },
         "zerolinecolor": "#E1E5ED"
        },
        "xaxis8": {
         "anchor": "y8",
         "domain": [
          0.7875,
          1
         ],
         "gridcolor": "#E1E5ED",
         "showgrid": false,
         "tickfont": {
          "color": "#4D5663"
         },
         "title": {
          "font": {
           "color": "#4D5663"
          },
          "text": ""
         },
         "zerolinecolor": "#E1E5ED"
        },
        "xaxis9": {
         "anchor": "y9",
         "domain": [
          0,
          0.2125
         ],
         "gridcolor": "#E1E5ED",
         "showgrid": false,
         "tickfont": {
          "color": "#4D5663"
         },
         "title": {
          "font": {
           "color": "#4D5663"
          },
          "text": ""
         },
         "zerolinecolor": "#E1E5ED"
        },
        "yaxis": {
         "anchor": "x",
         "domain": [
          0.8025,
          1
         ],
         "gridcolor": "#E1E5ED",
         "showgrid": false,
         "tickfont": {
          "color": "#4D5663"
         },
         "title": {
          "font": {
           "color": "#4D5663"
          },
          "text": ""
         },
         "zerolinecolor": "#E1E5ED"
        },
        "yaxis10": {
         "anchor": "x10",
         "domain": [
          0.2675,
          0.465
         ],
         "gridcolor": "#E1E5ED",
         "showgrid": false,
         "tickfont": {
          "color": "#4D5663"
         },
         "title": {
          "font": {
           "color": "#4D5663"
          },
          "text": ""
         },
         "zerolinecolor": "#E1E5ED"
        },
        "yaxis11": {
         "anchor": "x11",
         "domain": [
          0.2675,
          0.465
         ],
         "gridcolor": "#E1E5ED",
         "showgrid": false,
         "tickfont": {
          "color": "#4D5663"
         },
         "title": {
          "font": {
           "color": "#4D5663"
          },
          "text": ""
         },
         "zerolinecolor": "#E1E5ED"
        },
        "yaxis12": {
         "anchor": "x12",
         "domain": [
          0.2675,
          0.465
         ],
         "gridcolor": "#E1E5ED",
         "showgrid": false,
         "tickfont": {
          "color": "#4D5663"
         },
         "title": {
          "font": {
           "color": "#4D5663"
          },
          "text": ""
         },
         "zerolinecolor": "#E1E5ED"
        },
        "yaxis13": {
         "anchor": "x13",
         "domain": [
          0,
          0.1975
         ],
         "gridcolor": "#E1E5ED",
         "showgrid": false,
         "tickfont": {
          "color": "#4D5663"
         },
         "title": {
          "font": {
           "color": "#4D5663"
          },
          "text": ""
         },
         "zerolinecolor": "#E1E5ED"
        },
        "yaxis14": {
         "anchor": "x14",
         "domain": [
          0,
          0.1975
         ],
         "gridcolor": "#E1E5ED",
         "showgrid": false,
         "tickfont": {
          "color": "#4D5663"
         },
         "title": {
          "font": {
           "color": "#4D5663"
          },
          "text": ""
         },
         "zerolinecolor": "#E1E5ED"
        },
        "yaxis15": {
         "anchor": "x15",
         "domain": [
          0,
          0.1975
         ],
         "gridcolor": "#E1E5ED",
         "showgrid": false,
         "tickfont": {
          "color": "#4D5663"
         },
         "title": {
          "font": {
           "color": "#4D5663"
          },
          "text": ""
         },
         "zerolinecolor": "#E1E5ED"
        },
        "yaxis16": {
         "anchor": "x16",
         "domain": [
          0,
          0.1975
         ],
         "gridcolor": "#E1E5ED",
         "showgrid": false,
         "tickfont": {
          "color": "#4D5663"
         },
         "title": {
          "font": {
           "color": "#4D5663"
          },
          "text": ""
         },
         "zerolinecolor": "#E1E5ED"
        },
        "yaxis2": {
         "anchor": "x2",
         "domain": [
          0.8025,
          1
         ],
         "gridcolor": "#E1E5ED",
         "showgrid": false,
         "tickfont": {
          "color": "#4D5663"
         },
         "title": {
          "font": {
           "color": "#4D5663"
          },
          "text": ""
         },
         "zerolinecolor": "#E1E5ED"
        },
        "yaxis3": {
         "anchor": "x3",
         "domain": [
          0.8025,
          1
         ],
         "gridcolor": "#E1E5ED",
         "showgrid": false,
         "tickfont": {
          "color": "#4D5663"
         },
         "title": {
          "font": {
           "color": "#4D5663"
          },
          "text": ""
         },
         "zerolinecolor": "#E1E5ED"
        },
        "yaxis4": {
         "anchor": "x4",
         "domain": [
          0.8025,
          1
         ],
         "gridcolor": "#E1E5ED",
         "showgrid": false,
         "tickfont": {
          "color": "#4D5663"
         },
         "title": {
          "font": {
           "color": "#4D5663"
          },
          "text": ""
         },
         "zerolinecolor": "#E1E5ED"
        },
        "yaxis5": {
         "anchor": "x5",
         "domain": [
          0.535,
          0.7325
         ],
         "gridcolor": "#E1E5ED",
         "showgrid": false,
         "tickfont": {
          "color": "#4D5663"
         },
         "title": {
          "font": {
           "color": "#4D5663"
          },
          "text": ""
         },
         "zerolinecolor": "#E1E5ED"
        },
        "yaxis6": {
         "anchor": "x6",
         "domain": [
          0.535,
          0.7325
         ],
         "gridcolor": "#E1E5ED",
         "showgrid": false,
         "tickfont": {
          "color": "#4D5663"
         },
         "title": {
          "font": {
           "color": "#4D5663"
          },
          "text": ""
         },
         "zerolinecolor": "#E1E5ED"
        },
        "yaxis7": {
         "anchor": "x7",
         "domain": [
          0.535,
          0.7325
         ],
         "gridcolor": "#E1E5ED",
         "showgrid": false,
         "tickfont": {
          "color": "#4D5663"
         },
         "title": {
          "font": {
           "color": "#4D5663"
          },
          "text": ""
         },
         "zerolinecolor": "#E1E5ED"
        },
        "yaxis8": {
         "anchor": "x8",
         "domain": [
          0.535,
          0.7325
         ],
         "gridcolor": "#E1E5ED",
         "showgrid": false,
         "tickfont": {
          "color": "#4D5663"
         },
         "title": {
          "font": {
           "color": "#4D5663"
          },
          "text": ""
         },
         "zerolinecolor": "#E1E5ED"
        },
        "yaxis9": {
         "anchor": "x9",
         "domain": [
          0.2675,
          0.465
         ],
         "gridcolor": "#E1E5ED",
         "showgrid": false,
         "tickfont": {
          "color": "#4D5663"
         },
         "title": {
          "font": {
           "color": "#4D5663"
          },
          "text": ""
         },
         "zerolinecolor": "#E1E5ED"
        }
       }
      },
      "text/html": [
       "<div>                            <div id=\"dc37720f-1e44-43ba-acb7-58c115617277\" class=\"plotly-graph-div\" style=\"height:525px; width:100%;\"></div>            <script type=\"text/javascript\">                require([\"plotly\"], function(Plotly) {                    window.PLOTLYENV=window.PLOTLYENV || {};\n",
       "                    window.PLOTLYENV.BASE_URL='https://plot.ly';                                    if (document.getElementById(\"dc37720f-1e44-43ba-acb7-58c115617277\")) {                    Plotly.newPlot(                        \"dc37720f-1e44-43ba-acb7-58c115617277\",                        [{\"histfunc\": \"count\", \"histnorm\": \"\", \"marker\": {\"color\": \"rgba(255, 153, 51, 1.0)\", \"line\": {\"color\": \"#4D5663\", \"width\": 1.3}}, \"name\": \"A\", \"nbinsx\": 10, \"opacity\": 0.8, \"orientation\": \"v\", \"type\": \"histogram\", \"x\": [-0.7017613191698328, 0.01679259812028604, 0.8925912413549707, -0.6668670618650194, -0.08966585714852059, -0.24458849205836947, -0.4022839095584551, 0.7369432460042893, -1.2494079912136582, -0.6401976385659033, 0.35695542238683164, -0.31573632031264465, -0.29246285955204526, -1.1497298652321202, -1.9829912112648982, 0.5098656704313177, 2.188181621409416, -1.8772696836014646, -0.4205418507884751, 0.30075831472836556, 0.2473020794475996, 1.0923057343868103, 2.214046009241756, 1.4336535784483952, 1.4496004076576658, -0.682315049522406, 1.598661713427201, 1.4227754396583445, -1.0553567255207785, -1.4467280078731937, 0.20179887245784411, 0.35903774873412975, -0.3555565196644582, 1.0761852720282128, -0.8916717438447009, -1.0601444174693633, 2.0819303347522395, -0.7167603005349762, -1.53530673446921, 1.9133948727068533, 1.0407153002753171, 1.4532560987038319, 0.013243946716610581, 0.07978980625508145, -0.7928520041366476, 0.9490485222915815, 0.6796773785389835, -0.5312708016279892, -0.42543554249806664, 0.10502509437704735, 1.6737017511277883, -1.8668727674163699, 0.22836886459639544, 1.218973217565057, 0.40212949895106903, 0.47944343085272584, 1.2304180606624848, 0.9922489862689469, 1.4686658229282794, 2.0143136536858615, -0.14595261041800572, -1.1518106457881085, -0.6742607596454501, -0.7520225160865858, -0.08264514311404035, -1.944206140200247, -0.8218453602495646, -0.9346787373246029, -0.22471916393044564, -1.0780813137475604, 1.0931423702001777, 0.1110246057804523, 0.45843380751609986, -1.1479604243030028, 0.06401934841743986, -0.40936004108937313, -2.475032937690778, -0.5798847812432872, 0.14760048032172526, -1.4746689176623073, -0.8130010946296682, 0.8174795080559044, 1.2400992521174226, -1.1738531185743155, 0.14683153608009747, -1.08192782694488, 0.23943436417174233, -1.8361135319933861, 0.4890161330117654, 1.6763408612708235, 0.140950911004665, -0.34898665268627543, 0.9774154607000615, 1.4071048918097957, 0.9928899978366662, 0.47473909400514425, -1.0159736244406523, -1.2328148128058634, 1.5251809494141184, 0.9749457059105875], \"xaxis\": \"x\", \"yaxis\": \"y\"}, {\"line\": {\"color\": \"rgba(128, 128, 128, 1.0)\", \"dash\": \"solid\", \"shape\": \"linear\", \"width\": 1.3}, \"marker\": {\"size\": 2, \"symbol\": \"circle\"}, \"mode\": \"markers\", \"name\": \"A\", \"text\": \"\", \"type\": \"scatter\", \"x\": [1.096107160913988, -0.9737302345058281, -0.7250110916221839, 0.7674488710153434, -0.5886541668788527, -1.0622784516157855, -1.2238707436028022, 0.5253344718323851, -1.2878683268608349, -0.29911395934561635, 0.3228157242692437, -1.3772019647253797, 0.8422799608523274, 0.46673940511242085, -1.9024107187745396, 0.155657667140865, -0.7071356823154644, 1.2253160474108702, -0.2882825609357239, 0.36254222065700026, -1.1010538416552, 1.492275113314927, -0.8466546929147944, -1.407165100389169, 1.5632998286714186, -1.844746282810375, 0.15876902191918163, -1.5707713349068917, -0.8912945042064594, -1.1888331358388045, -0.27504992184297344, 0.7719987193746825, 1.0204442420513675, -0.8759967579455494, 0.315369460523939, -0.21239405545229284, -0.6288758205361382, -1.107447520892792, -0.2747002480687447, -0.4878952806445132, 0.45536338144084904, -0.06056216817983006, 0.9155766888351832, 0.3225396215491934, 1.336825319564932, -0.37695618372560696, 0.6325172658764953, 0.26144100072357696, -0.9176232114780261, -1.208512843841877, -0.1316287517068255, 0.8046785617875465, -0.5298092909996793, -0.37895398463692803, -0.05015310836103133, 1.8473860712933061, 1.5828731768120015, -0.8313732498063346, 1.56577510300552, -0.09835768242436443, -0.388099432966121, 0.9213329848355416, -2.348329762291072, -0.3698905589364241, -1.3494687348772076, 1.3037780678011601, 2.417803512990605, 0.29235264572616937, -0.8885381405600554, 1.298273421113763, -0.3243102006073436, 1.7694595161130415, 1.1645387332927113, 0.6288572400159901, -0.4527526189306913, 1.9960678439093071, -0.041270654120210824, 1.2496205442177806, -0.8840401546835186, 0.8183218519596385, -2.0264573504660435, -0.4060040927237812, 0.4729778895675059, -1.018633095188232, -0.29007097710175345, -0.06404339828919584, -2.1361917322659645, 0.2609275108959407, 0.8218707805270796, 0.9456373949586805, 0.8181515489793115, -1.4850632655046452, 0.811063068792345, -0.31666137234541136, 1.2786160004896594, 0.8786720744927401, 0.3944281417496477, 0.22966085439033096, 0.1673512133000957, -0.35535519018683315], \"xaxis\": \"x2\", \"y\": [-0.7017613191698328, 0.01679259812028604, 0.8925912413549707, -0.6668670618650194, -0.08966585714852059, -0.24458849205836947, -0.4022839095584551, 0.7369432460042893, -1.2494079912136582, -0.6401976385659033, 0.35695542238683164, -0.31573632031264465, -0.29246285955204526, -1.1497298652321202, -1.9829912112648982, 0.5098656704313177, 2.188181621409416, -1.8772696836014646, -0.4205418507884751, 0.30075831472836556, 0.2473020794475996, 1.0923057343868103, 2.214046009241756, 1.4336535784483952, 1.4496004076576658, -0.682315049522406, 1.598661713427201, 1.4227754396583445, -1.0553567255207785, -1.4467280078731937, 0.20179887245784411, 0.35903774873412975, -0.3555565196644582, 1.0761852720282128, -0.8916717438447009, -1.0601444174693633, 2.0819303347522395, -0.7167603005349762, -1.53530673446921, 1.9133948727068533, 1.0407153002753171, 1.4532560987038319, 0.013243946716610581, 0.07978980625508145, -0.7928520041366476, 0.9490485222915815, 0.6796773785389835, -0.5312708016279892, -0.42543554249806664, 0.10502509437704735, 1.6737017511277883, -1.8668727674163699, 0.22836886459639544, 1.218973217565057, 0.40212949895106903, 0.47944343085272584, 1.2304180606624848, 0.9922489862689469, 1.4686658229282794, 2.0143136536858615, -0.14595261041800572, -1.1518106457881085, -0.6742607596454501, -0.7520225160865858, -0.08264514311404035, -1.944206140200247, -0.8218453602495646, -0.9346787373246029, -0.22471916393044564, -1.0780813137475604, 1.0931423702001777, 0.1110246057804523, 0.45843380751609986, -1.1479604243030028, 0.06401934841743986, -0.40936004108937313, -2.475032937690778, -0.5798847812432872, 0.14760048032172526, -1.4746689176623073, -0.8130010946296682, 0.8174795080559044, 1.2400992521174226, -1.1738531185743155, 0.14683153608009747, -1.08192782694488, 0.23943436417174233, -1.8361135319933861, 0.4890161330117654, 1.6763408612708235, 0.140950911004665, -0.34898665268627543, 0.9774154607000615, 1.4071048918097957, 0.9928899978366662, 0.47473909400514425, -1.0159736244406523, -1.2328148128058634, 1.5251809494141184, 0.9749457059105875], \"yaxis\": \"y2\"}, {\"line\": {\"color\": \"rgba(128, 128, 128, 1.0)\", \"dash\": \"solid\", \"shape\": \"linear\", \"width\": 1.3}, \"marker\": {\"size\": 2, \"symbol\": \"circle\"}, \"mode\": \"markers\", \"name\": \"A\", \"text\": \"\", \"type\": \"scatter\", \"x\": [-0.7190573047379413, -0.5218718981353269, -2.1275080461682445, -0.26960277311906, -1.0790737644754171, 0.7341284109331028, -1.266846062375404, -1.2387256433799363, -0.21932968038558281, -0.013187734310136546, 0.7032215937556977, 0.12120609567616611, -0.35209807800567167, 0.5134455262152473, -0.26475513443163706, -0.7451059786687938, 0.3943095743441828, 0.3713231796345752, 1.6286334447211743, 1.8442538198408855, -1.151830965301197, 0.5229720015753714, 0.881194453165917, 1.606844883388436, 1.4226236804197914, -0.9147988163058547, -0.3103286360332352, -0.6080075048503447, -2.465086189765115, 1.0515487947146003, 0.9350470844581024, 0.06056732333367964, -0.48728832073017975, -0.5341429120950548, 0.567108178025013, -1.426519473921635, 0.42768715035685445, 1.328981492746673, -1.3581344700053142, -0.5620634315264172, -0.4546029207207217, 2.024428908600939, -2.2446087801726655, -0.11575069506561245, -0.42293352730504197, -0.715839010337148, -0.413273278778596, -0.3515080434189393, -1.7165045749911738, 2.1214726728907998, -0.26197840327992683, -1.4822822334419699, -0.9740005446679961, 1.3633555475638726, -1.3245938521217255, 1.056420702314937, -0.34758214747490396, -0.24722960505443037, -0.7186505583381386, 0.1898097306266676, 0.43299129289059984, -0.9362834976115473, -1.4298244426857565, -1.0534077564072122, 1.8593094016744611, 0.8548661205200041, -1.3926642016521464, -0.5053390753017923, -0.682033657955724, 0.4780039408444455, 0.4300136249879697, 0.980883202547787, -0.22924488568444756, -0.6586989779084301, -0.4007190910086093, 0.3972123229401916, 1.3029152807213498, -0.3815785754169035, -0.7484065978209936, 0.8210504140417529, -0.20601732878354262, 0.24761134531898804, 0.7040517682313486, 0.14880891665905396, -0.7986815187922411, -2.378780532301465, 0.3187482514131689, -0.9934186516974625, 1.1509456174198616, -0.4451139762514316, -0.016631977140144284, -1.0362573529744676, 0.7409713523742906, 1.5830793365139446, 0.6765580609132692, 0.1853833194790049, -0.6181347969700357, -0.34580794958581784, 1.6797600008794107, 0.5880586721788934], \"xaxis\": \"x3\", \"y\": [-0.7017613191698328, 0.01679259812028604, 0.8925912413549707, -0.6668670618650194, -0.08966585714852059, -0.24458849205836947, -0.4022839095584551, 0.7369432460042893, -1.2494079912136582, -0.6401976385659033, 0.35695542238683164, -0.31573632031264465, -0.29246285955204526, -1.1497298652321202, -1.9829912112648982, 0.5098656704313177, 2.188181621409416, -1.8772696836014646, -0.4205418507884751, 0.30075831472836556, 0.2473020794475996, 1.0923057343868103, 2.214046009241756, 1.4336535784483952, 1.4496004076576658, -0.682315049522406, 1.598661713427201, 1.4227754396583445, -1.0553567255207785, -1.4467280078731937, 0.20179887245784411, 0.35903774873412975, -0.3555565196644582, 1.0761852720282128, -0.8916717438447009, -1.0601444174693633, 2.0819303347522395, -0.7167603005349762, -1.53530673446921, 1.9133948727068533, 1.0407153002753171, 1.4532560987038319, 0.013243946716610581, 0.07978980625508145, -0.7928520041366476, 0.9490485222915815, 0.6796773785389835, -0.5312708016279892, -0.42543554249806664, 0.10502509437704735, 1.6737017511277883, -1.8668727674163699, 0.22836886459639544, 1.218973217565057, 0.40212949895106903, 0.47944343085272584, 1.2304180606624848, 0.9922489862689469, 1.4686658229282794, 2.0143136536858615, -0.14595261041800572, -1.1518106457881085, -0.6742607596454501, -0.7520225160865858, -0.08264514311404035, -1.944206140200247, -0.8218453602495646, -0.9346787373246029, -0.22471916393044564, -1.0780813137475604, 1.0931423702001777, 0.1110246057804523, 0.45843380751609986, -1.1479604243030028, 0.06401934841743986, -0.40936004108937313, -2.475032937690778, -0.5798847812432872, 0.14760048032172526, -1.4746689176623073, -0.8130010946296682, 0.8174795080559044, 1.2400992521174226, -1.1738531185743155, 0.14683153608009747, -1.08192782694488, 0.23943436417174233, -1.8361135319933861, 0.4890161330117654, 1.6763408612708235, 0.140950911004665, -0.34898665268627543, 0.9774154607000615, 1.4071048918097957, 0.9928899978366662, 0.47473909400514425, -1.0159736244406523, -1.2328148128058634, 1.5251809494141184, 0.9749457059105875], \"yaxis\": \"y3\"}, {\"line\": {\"color\": \"rgba(128, 128, 128, 1.0)\", \"dash\": \"solid\", \"shape\": \"linear\", \"width\": 1.3}, \"marker\": {\"size\": 2, \"symbol\": \"circle\"}, \"mode\": \"markers\", \"name\": \"A\", \"text\": \"\", \"type\": \"scatter\", \"x\": [-2.7100027074512263, 1.5092298638203234, 1.1057494615184085, 2.1211286432568324, -1.1914403370727311, 0.41929186434710386, -0.8912222018834959, 0.8032717543495098, 0.5323382839005606, 0.7387146178691983, 0.5262429080554617, 0.6314237830695967, -0.6245340419464724, -0.38653643401312915, -3.2315136838898405e-05, 0.6594586539018324, -0.8329134530810053, 1.7016483503963837, -0.43409322580015036, 0.2379801323068665, 1.6818622904089098, -0.30146283972452553, 0.2551305621479686, -0.045384304234003546, -0.00821748274901138, -0.6648783946530121, 0.8481206379652664, -0.7073702075946093, 0.3222214926225584, -0.9556689747586344, 0.5634897506208155, 0.8973608738586154, 0.13521149549799152, -0.351024519858675, -1.167015643327293, 0.9354356194470855, 0.12385613021386416, 1.5383648033578345, 1.901857447308807, -0.3866803452023101, 0.5323164116776599, -1.0350154451302893, -0.5885030194095547, 0.37310283740938044, 0.7948691117118398, -0.06642443103251437, -0.15958262124597886, -0.1970990048918327, 0.5781068521769578, -0.527575222479752, -0.8217711389264142, 1.1048384725245357, 1.2149480117740057, 1.9949756503818386, -0.21438775731404128, -0.42177415282852676, 1.1499665354881479, 0.23124086825926587, 0.16761476703225098, -0.14188263184526026, 1.2963591778857908, -0.0015903658037731045, -1.1750227183435296, -0.5146625844422362, 0.04525138896638736, -1.5158560076332714, 1.4406393720384827, 1.0078606044802698, -0.12062413745357488, -0.6826130761628161, -2.367040772010056, 0.6160818040935914, 2.416724620529064, -0.02413914940279359, 1.2671432363260808, 0.2447521594542125, -1.2762423050923153, 1.087979549415762, -0.10309456170998484, -0.980895290291369, -0.5730758333602567, 1.9394435189591532, 0.5356258340664333, 0.39708387457322813, 0.7091732169573783, -0.04977270833216509, 0.03530437065346389, 1.2614908521508261, 0.013803138309950282, -0.32250403925302146, 0.36824266995696003, -0.2654923739716801, 1.8731019929541703, 0.4285525395547248, 0.7672964842434786, -0.2944144574609767, 0.5933737771391042, -0.40141253257098036, 0.28440855406739873, -0.21540319371195374], \"xaxis\": \"x4\", \"y\": [-0.7017613191698328, 0.01679259812028604, 0.8925912413549707, -0.6668670618650194, -0.08966585714852059, -0.24458849205836947, -0.4022839095584551, 0.7369432460042893, -1.2494079912136582, -0.6401976385659033, 0.35695542238683164, -0.31573632031264465, -0.29246285955204526, -1.1497298652321202, -1.9829912112648982, 0.5098656704313177, 2.188181621409416, -1.8772696836014646, -0.4205418507884751, 0.30075831472836556, 0.2473020794475996, 1.0923057343868103, 2.214046009241756, 1.4336535784483952, 1.4496004076576658, -0.682315049522406, 1.598661713427201, 1.4227754396583445, -1.0553567255207785, -1.4467280078731937, 0.20179887245784411, 0.35903774873412975, -0.3555565196644582, 1.0761852720282128, -0.8916717438447009, -1.0601444174693633, 2.0819303347522395, -0.7167603005349762, -1.53530673446921, 1.9133948727068533, 1.0407153002753171, 1.4532560987038319, 0.013243946716610581, 0.07978980625508145, -0.7928520041366476, 0.9490485222915815, 0.6796773785389835, -0.5312708016279892, -0.42543554249806664, 0.10502509437704735, 1.6737017511277883, -1.8668727674163699, 0.22836886459639544, 1.218973217565057, 0.40212949895106903, 0.47944343085272584, 1.2304180606624848, 0.9922489862689469, 1.4686658229282794, 2.0143136536858615, -0.14595261041800572, -1.1518106457881085, -0.6742607596454501, -0.7520225160865858, -0.08264514311404035, -1.944206140200247, -0.8218453602495646, -0.9346787373246029, -0.22471916393044564, -1.0780813137475604, 1.0931423702001777, 0.1110246057804523, 0.45843380751609986, -1.1479604243030028, 0.06401934841743986, -0.40936004108937313, -2.475032937690778, -0.5798847812432872, 0.14760048032172526, -1.4746689176623073, -0.8130010946296682, 0.8174795080559044, 1.2400992521174226, -1.1738531185743155, 0.14683153608009747, -1.08192782694488, 0.23943436417174233, -1.8361135319933861, 0.4890161330117654, 1.6763408612708235, 0.140950911004665, -0.34898665268627543, 0.9774154607000615, 1.4071048918097957, 0.9928899978366662, 0.47473909400514425, -1.0159736244406523, -1.2328148128058634, 1.5251809494141184, 0.9749457059105875], \"yaxis\": \"y4\"}, {\"line\": {\"color\": \"rgba(128, 128, 128, 1.0)\", \"dash\": \"solid\", \"shape\": \"linear\", \"width\": 1.3}, \"marker\": {\"size\": 2, \"symbol\": \"circle\"}, \"mode\": \"markers\", \"name\": \"B\", \"text\": \"\", \"type\": \"scatter\", \"x\": [-0.7017613191698328, 0.01679259812028604, 0.8925912413549707, -0.6668670618650194, -0.08966585714852059, -0.24458849205836947, -0.4022839095584551, 0.7369432460042893, -1.2494079912136582, -0.6401976385659033, 0.35695542238683164, -0.31573632031264465, -0.29246285955204526, -1.1497298652321202, -1.9829912112648982, 0.5098656704313177, 2.188181621409416, -1.8772696836014646, -0.4205418507884751, 0.30075831472836556, 0.2473020794475996, 1.0923057343868103, 2.214046009241756, 1.4336535784483952, 1.4496004076576658, -0.682315049522406, 1.598661713427201, 1.4227754396583445, -1.0553567255207785, -1.4467280078731937, 0.20179887245784411, 0.35903774873412975, -0.3555565196644582, 1.0761852720282128, -0.8916717438447009, -1.0601444174693633, 2.0819303347522395, -0.7167603005349762, -1.53530673446921, 1.9133948727068533, 1.0407153002753171, 1.4532560987038319, 0.013243946716610581, 0.07978980625508145, -0.7928520041366476, 0.9490485222915815, 0.6796773785389835, -0.5312708016279892, -0.42543554249806664, 0.10502509437704735, 1.6737017511277883, -1.8668727674163699, 0.22836886459639544, 1.218973217565057, 0.40212949895106903, 0.47944343085272584, 1.2304180606624848, 0.9922489862689469, 1.4686658229282794, 2.0143136536858615, -0.14595261041800572, -1.1518106457881085, -0.6742607596454501, -0.7520225160865858, -0.08264514311404035, -1.944206140200247, -0.8218453602495646, -0.9346787373246029, -0.22471916393044564, -1.0780813137475604, 1.0931423702001777, 0.1110246057804523, 0.45843380751609986, -1.1479604243030028, 0.06401934841743986, -0.40936004108937313, -2.475032937690778, -0.5798847812432872, 0.14760048032172526, -1.4746689176623073, -0.8130010946296682, 0.8174795080559044, 1.2400992521174226, -1.1738531185743155, 0.14683153608009747, -1.08192782694488, 0.23943436417174233, -1.8361135319933861, 0.4890161330117654, 1.6763408612708235, 0.140950911004665, -0.34898665268627543, 0.9774154607000615, 1.4071048918097957, 0.9928899978366662, 0.47473909400514425, -1.0159736244406523, -1.2328148128058634, 1.5251809494141184, 0.9749457059105875], \"xaxis\": \"x5\", \"y\": [1.096107160913988, -0.9737302345058281, -0.7250110916221839, 0.7674488710153434, -0.5886541668788527, -1.0622784516157855, -1.2238707436028022, 0.5253344718323851, -1.2878683268608349, -0.29911395934561635, 0.3228157242692437, -1.3772019647253797, 0.8422799608523274, 0.46673940511242085, -1.9024107187745396, 0.155657667140865, -0.7071356823154644, 1.2253160474108702, -0.2882825609357239, 0.36254222065700026, -1.1010538416552, 1.492275113314927, -0.8466546929147944, -1.407165100389169, 1.5632998286714186, -1.844746282810375, 0.15876902191918163, -1.5707713349068917, -0.8912945042064594, -1.1888331358388045, -0.27504992184297344, 0.7719987193746825, 1.0204442420513675, -0.8759967579455494, 0.315369460523939, -0.21239405545229284, -0.6288758205361382, -1.107447520892792, -0.2747002480687447, -0.4878952806445132, 0.45536338144084904, -0.06056216817983006, 0.9155766888351832, 0.3225396215491934, 1.336825319564932, -0.37695618372560696, 0.6325172658764953, 0.26144100072357696, -0.9176232114780261, -1.208512843841877, -0.1316287517068255, 0.8046785617875465, -0.5298092909996793, -0.37895398463692803, -0.05015310836103133, 1.8473860712933061, 1.5828731768120015, -0.8313732498063346, 1.56577510300552, -0.09835768242436443, -0.388099432966121, 0.9213329848355416, -2.348329762291072, -0.3698905589364241, -1.3494687348772076, 1.3037780678011601, 2.417803512990605, 0.29235264572616937, -0.8885381405600554, 1.298273421113763, -0.3243102006073436, 1.7694595161130415, 1.1645387332927113, 0.6288572400159901, -0.4527526189306913, 1.9960678439093071, -0.041270654120210824, 1.2496205442177806, -0.8840401546835186, 0.8183218519596385, -2.0264573504660435, -0.4060040927237812, 0.4729778895675059, -1.018633095188232, -0.29007097710175345, -0.06404339828919584, -2.1361917322659645, 0.2609275108959407, 0.8218707805270796, 0.9456373949586805, 0.8181515489793115, -1.4850632655046452, 0.811063068792345, -0.31666137234541136, 1.2786160004896594, 0.8786720744927401, 0.3944281417496477, 0.22966085439033096, 0.1673512133000957, -0.35535519018683315], \"yaxis\": \"y5\"}, {\"histfunc\": \"count\", \"histnorm\": \"\", \"marker\": {\"color\": \"rgba(55, 128, 191, 1.0)\", \"line\": {\"color\": \"#4D5663\", \"width\": 1.3}}, \"name\": \"B\", \"nbinsx\": 10, \"opacity\": 0.8, \"orientation\": \"v\", \"type\": \"histogram\", \"x\": [1.096107160913988, -0.9737302345058281, -0.7250110916221839, 0.7674488710153434, -0.5886541668788527, -1.0622784516157855, -1.2238707436028022, 0.5253344718323851, -1.2878683268608349, -0.29911395934561635, 0.3228157242692437, -1.3772019647253797, 0.8422799608523274, 0.46673940511242085, -1.9024107187745396, 0.155657667140865, -0.7071356823154644, 1.2253160474108702, -0.2882825609357239, 0.36254222065700026, -1.1010538416552, 1.492275113314927, -0.8466546929147944, -1.407165100389169, 1.5632998286714186, -1.844746282810375, 0.15876902191918163, -1.5707713349068917, -0.8912945042064594, -1.1888331358388045, -0.27504992184297344, 0.7719987193746825, 1.0204442420513675, -0.8759967579455494, 0.315369460523939, -0.21239405545229284, -0.6288758205361382, -1.107447520892792, -0.2747002480687447, -0.4878952806445132, 0.45536338144084904, -0.06056216817983006, 0.9155766888351832, 0.3225396215491934, 1.336825319564932, -0.37695618372560696, 0.6325172658764953, 0.26144100072357696, -0.9176232114780261, -1.208512843841877, -0.1316287517068255, 0.8046785617875465, -0.5298092909996793, -0.37895398463692803, -0.05015310836103133, 1.8473860712933061, 1.5828731768120015, -0.8313732498063346, 1.56577510300552, -0.09835768242436443, -0.388099432966121, 0.9213329848355416, -2.348329762291072, -0.3698905589364241, -1.3494687348772076, 1.3037780678011601, 2.417803512990605, 0.29235264572616937, -0.8885381405600554, 1.298273421113763, -0.3243102006073436, 1.7694595161130415, 1.1645387332927113, 0.6288572400159901, -0.4527526189306913, 1.9960678439093071, -0.041270654120210824, 1.2496205442177806, -0.8840401546835186, 0.8183218519596385, -2.0264573504660435, -0.4060040927237812, 0.4729778895675059, -1.018633095188232, -0.29007097710175345, -0.06404339828919584, -2.1361917322659645, 0.2609275108959407, 0.8218707805270796, 0.9456373949586805, 0.8181515489793115, -1.4850632655046452, 0.811063068792345, -0.31666137234541136, 1.2786160004896594, 0.8786720744927401, 0.3944281417496477, 0.22966085439033096, 0.1673512133000957, -0.35535519018683315], \"xaxis\": \"x6\", \"yaxis\": \"y6\"}, {\"line\": {\"color\": \"rgba(128, 128, 128, 1.0)\", \"dash\": \"solid\", \"shape\": \"linear\", \"width\": 1.3}, \"marker\": {\"size\": 2, \"symbol\": \"circle\"}, \"mode\": \"markers\", \"name\": \"B\", \"text\": \"\", \"type\": \"scatter\", \"x\": [-0.7190573047379413, -0.5218718981353269, -2.1275080461682445, -0.26960277311906, -1.0790737644754171, 0.7341284109331028, -1.266846062375404, -1.2387256433799363, -0.21932968038558281, -0.013187734310136546, 0.7032215937556977, 0.12120609567616611, -0.35209807800567167, 0.5134455262152473, -0.26475513443163706, -0.7451059786687938, 0.3943095743441828, 0.3713231796345752, 1.6286334447211743, 1.8442538198408855, -1.151830965301197, 0.5229720015753714, 0.881194453165917, 1.606844883388436, 1.4226236804197914, -0.9147988163058547, -0.3103286360332352, -0.6080075048503447, -2.465086189765115, 1.0515487947146003, 0.9350470844581024, 0.06056732333367964, -0.48728832073017975, -0.5341429120950548, 0.567108178025013, -1.426519473921635, 0.42768715035685445, 1.328981492746673, -1.3581344700053142, -0.5620634315264172, -0.4546029207207217, 2.024428908600939, -2.2446087801726655, -0.11575069506561245, -0.42293352730504197, -0.715839010337148, -0.413273278778596, -0.3515080434189393, -1.7165045749911738, 2.1214726728907998, -0.26197840327992683, -1.4822822334419699, -0.9740005446679961, 1.3633555475638726, -1.3245938521217255, 1.056420702314937, -0.34758214747490396, -0.24722960505443037, -0.7186505583381386, 0.1898097306266676, 0.43299129289059984, -0.9362834976115473, -1.4298244426857565, -1.0534077564072122, 1.8593094016744611, 0.8548661205200041, -1.3926642016521464, -0.5053390753017923, -0.682033657955724, 0.4780039408444455, 0.4300136249879697, 0.980883202547787, -0.22924488568444756, -0.6586989779084301, -0.4007190910086093, 0.3972123229401916, 1.3029152807213498, -0.3815785754169035, -0.7484065978209936, 0.8210504140417529, -0.20601732878354262, 0.24761134531898804, 0.7040517682313486, 0.14880891665905396, -0.7986815187922411, -2.378780532301465, 0.3187482514131689, -0.9934186516974625, 1.1509456174198616, -0.4451139762514316, -0.016631977140144284, -1.0362573529744676, 0.7409713523742906, 1.5830793365139446, 0.6765580609132692, 0.1853833194790049, -0.6181347969700357, -0.34580794958581784, 1.6797600008794107, 0.5880586721788934], \"xaxis\": \"x7\", \"y\": [1.096107160913988, -0.9737302345058281, -0.7250110916221839, 0.7674488710153434, -0.5886541668788527, -1.0622784516157855, -1.2238707436028022, 0.5253344718323851, -1.2878683268608349, -0.29911395934561635, 0.3228157242692437, -1.3772019647253797, 0.8422799608523274, 0.46673940511242085, -1.9024107187745396, 0.155657667140865, -0.7071356823154644, 1.2253160474108702, -0.2882825609357239, 0.36254222065700026, -1.1010538416552, 1.492275113314927, -0.8466546929147944, -1.407165100389169, 1.5632998286714186, -1.844746282810375, 0.15876902191918163, -1.5707713349068917, -0.8912945042064594, -1.1888331358388045, -0.27504992184297344, 0.7719987193746825, 1.0204442420513675, -0.8759967579455494, 0.315369460523939, -0.21239405545229284, -0.6288758205361382, -1.107447520892792, -0.2747002480687447, -0.4878952806445132, 0.45536338144084904, -0.06056216817983006, 0.9155766888351832, 0.3225396215491934, 1.336825319564932, -0.37695618372560696, 0.6325172658764953, 0.26144100072357696, -0.9176232114780261, -1.208512843841877, -0.1316287517068255, 0.8046785617875465, -0.5298092909996793, -0.37895398463692803, -0.05015310836103133, 1.8473860712933061, 1.5828731768120015, -0.8313732498063346, 1.56577510300552, -0.09835768242436443, -0.388099432966121, 0.9213329848355416, -2.348329762291072, -0.3698905589364241, -1.3494687348772076, 1.3037780678011601, 2.417803512990605, 0.29235264572616937, -0.8885381405600554, 1.298273421113763, -0.3243102006073436, 1.7694595161130415, 1.1645387332927113, 0.6288572400159901, -0.4527526189306913, 1.9960678439093071, -0.041270654120210824, 1.2496205442177806, -0.8840401546835186, 0.8183218519596385, -2.0264573504660435, -0.4060040927237812, 0.4729778895675059, -1.018633095188232, -0.29007097710175345, -0.06404339828919584, -2.1361917322659645, 0.2609275108959407, 0.8218707805270796, 0.9456373949586805, 0.8181515489793115, -1.4850632655046452, 0.811063068792345, -0.31666137234541136, 1.2786160004896594, 0.8786720744927401, 0.3944281417496477, 0.22966085439033096, 0.1673512133000957, -0.35535519018683315], \"yaxis\": \"y7\"}, {\"line\": {\"color\": \"rgba(128, 128, 128, 1.0)\", \"dash\": \"solid\", \"shape\": \"linear\", \"width\": 1.3}, \"marker\": {\"size\": 2, \"symbol\": \"circle\"}, \"mode\": \"markers\", \"name\": \"B\", \"text\": \"\", \"type\": \"scatter\", \"x\": [-2.7100027074512263, 1.5092298638203234, 1.1057494615184085, 2.1211286432568324, -1.1914403370727311, 0.41929186434710386, -0.8912222018834959, 0.8032717543495098, 0.5323382839005606, 0.7387146178691983, 0.5262429080554617, 0.6314237830695967, -0.6245340419464724, -0.38653643401312915, -3.2315136838898405e-05, 0.6594586539018324, -0.8329134530810053, 1.7016483503963837, -0.43409322580015036, 0.2379801323068665, 1.6818622904089098, -0.30146283972452553, 0.2551305621479686, -0.045384304234003546, -0.00821748274901138, -0.6648783946530121, 0.8481206379652664, -0.7073702075946093, 0.3222214926225584, -0.9556689747586344, 0.5634897506208155, 0.8973608738586154, 0.13521149549799152, -0.351024519858675, -1.167015643327293, 0.9354356194470855, 0.12385613021386416, 1.5383648033578345, 1.901857447308807, -0.3866803452023101, 0.5323164116776599, -1.0350154451302893, -0.5885030194095547, 0.37310283740938044, 0.7948691117118398, -0.06642443103251437, -0.15958262124597886, -0.1970990048918327, 0.5781068521769578, -0.527575222479752, -0.8217711389264142, 1.1048384725245357, 1.2149480117740057, 1.9949756503818386, -0.21438775731404128, -0.42177415282852676, 1.1499665354881479, 0.23124086825926587, 0.16761476703225098, -0.14188263184526026, 1.2963591778857908, -0.0015903658037731045, -1.1750227183435296, -0.5146625844422362, 0.04525138896638736, -1.5158560076332714, 1.4406393720384827, 1.0078606044802698, -0.12062413745357488, -0.6826130761628161, -2.367040772010056, 0.6160818040935914, 2.416724620529064, -0.02413914940279359, 1.2671432363260808, 0.2447521594542125, -1.2762423050923153, 1.087979549415762, -0.10309456170998484, -0.980895290291369, -0.5730758333602567, 1.9394435189591532, 0.5356258340664333, 0.39708387457322813, 0.7091732169573783, -0.04977270833216509, 0.03530437065346389, 1.2614908521508261, 0.013803138309950282, -0.32250403925302146, 0.36824266995696003, -0.2654923739716801, 1.8731019929541703, 0.4285525395547248, 0.7672964842434786, -0.2944144574609767, 0.5933737771391042, -0.40141253257098036, 0.28440855406739873, -0.21540319371195374], \"xaxis\": \"x8\", \"y\": [1.096107160913988, -0.9737302345058281, -0.7250110916221839, 0.7674488710153434, -0.5886541668788527, -1.0622784516157855, -1.2238707436028022, 0.5253344718323851, -1.2878683268608349, -0.29911395934561635, 0.3228157242692437, -1.3772019647253797, 0.8422799608523274, 0.46673940511242085, -1.9024107187745396, 0.155657667140865, -0.7071356823154644, 1.2253160474108702, -0.2882825609357239, 0.36254222065700026, -1.1010538416552, 1.492275113314927, -0.8466546929147944, -1.407165100389169, 1.5632998286714186, -1.844746282810375, 0.15876902191918163, -1.5707713349068917, -0.8912945042064594, -1.1888331358388045, -0.27504992184297344, 0.7719987193746825, 1.0204442420513675, -0.8759967579455494, 0.315369460523939, -0.21239405545229284, -0.6288758205361382, -1.107447520892792, -0.2747002480687447, -0.4878952806445132, 0.45536338144084904, -0.06056216817983006, 0.9155766888351832, 0.3225396215491934, 1.336825319564932, -0.37695618372560696, 0.6325172658764953, 0.26144100072357696, -0.9176232114780261, -1.208512843841877, -0.1316287517068255, 0.8046785617875465, -0.5298092909996793, -0.37895398463692803, -0.05015310836103133, 1.8473860712933061, 1.5828731768120015, -0.8313732498063346, 1.56577510300552, -0.09835768242436443, -0.388099432966121, 0.9213329848355416, -2.348329762291072, -0.3698905589364241, -1.3494687348772076, 1.3037780678011601, 2.417803512990605, 0.29235264572616937, -0.8885381405600554, 1.298273421113763, -0.3243102006073436, 1.7694595161130415, 1.1645387332927113, 0.6288572400159901, -0.4527526189306913, 1.9960678439093071, -0.041270654120210824, 1.2496205442177806, -0.8840401546835186, 0.8183218519596385, -2.0264573504660435, -0.4060040927237812, 0.4729778895675059, -1.018633095188232, -0.29007097710175345, -0.06404339828919584, -2.1361917322659645, 0.2609275108959407, 0.8218707805270796, 0.9456373949586805, 0.8181515489793115, -1.4850632655046452, 0.811063068792345, -0.31666137234541136, 1.2786160004896594, 0.8786720744927401, 0.3944281417496477, 0.22966085439033096, 0.1673512133000957, -0.35535519018683315], \"yaxis\": \"y8\"}, {\"line\": {\"color\": \"rgba(128, 128, 128, 1.0)\", \"dash\": \"solid\", \"shape\": \"linear\", \"width\": 1.3}, \"marker\": {\"size\": 2, \"symbol\": \"circle\"}, \"mode\": \"markers\", \"name\": \"C\", \"text\": \"\", \"type\": \"scatter\", \"x\": [-0.7017613191698328, 0.01679259812028604, 0.8925912413549707, -0.6668670618650194, -0.08966585714852059, -0.24458849205836947, -0.4022839095584551, 0.7369432460042893, -1.2494079912136582, -0.6401976385659033, 0.35695542238683164, -0.31573632031264465, -0.29246285955204526, -1.1497298652321202, -1.9829912112648982, 0.5098656704313177, 2.188181621409416, -1.8772696836014646, -0.4205418507884751, 0.30075831472836556, 0.2473020794475996, 1.0923057343868103, 2.214046009241756, 1.4336535784483952, 1.4496004076576658, -0.682315049522406, 1.598661713427201, 1.4227754396583445, -1.0553567255207785, -1.4467280078731937, 0.20179887245784411, 0.35903774873412975, -0.3555565196644582, 1.0761852720282128, -0.8916717438447009, -1.0601444174693633, 2.0819303347522395, -0.7167603005349762, -1.53530673446921, 1.9133948727068533, 1.0407153002753171, 1.4532560987038319, 0.013243946716610581, 0.07978980625508145, -0.7928520041366476, 0.9490485222915815, 0.6796773785389835, -0.5312708016279892, -0.42543554249806664, 0.10502509437704735, 1.6737017511277883, -1.8668727674163699, 0.22836886459639544, 1.218973217565057, 0.40212949895106903, 0.47944343085272584, 1.2304180606624848, 0.9922489862689469, 1.4686658229282794, 2.0143136536858615, -0.14595261041800572, -1.1518106457881085, -0.6742607596454501, -0.7520225160865858, -0.08264514311404035, -1.944206140200247, -0.8218453602495646, -0.9346787373246029, -0.22471916393044564, -1.0780813137475604, 1.0931423702001777, 0.1110246057804523, 0.45843380751609986, -1.1479604243030028, 0.06401934841743986, -0.40936004108937313, -2.475032937690778, -0.5798847812432872, 0.14760048032172526, -1.4746689176623073, -0.8130010946296682, 0.8174795080559044, 1.2400992521174226, -1.1738531185743155, 0.14683153608009747, -1.08192782694488, 0.23943436417174233, -1.8361135319933861, 0.4890161330117654, 1.6763408612708235, 0.140950911004665, -0.34898665268627543, 0.9774154607000615, 1.4071048918097957, 0.9928899978366662, 0.47473909400514425, -1.0159736244406523, -1.2328148128058634, 1.5251809494141184, 0.9749457059105875], \"xaxis\": \"x9\", \"y\": [-0.7190573047379413, -0.5218718981353269, -2.1275080461682445, -0.26960277311906, -1.0790737644754171, 0.7341284109331028, -1.266846062375404, -1.2387256433799363, -0.21932968038558281, -0.013187734310136546, 0.7032215937556977, 0.12120609567616611, -0.35209807800567167, 0.5134455262152473, -0.26475513443163706, -0.7451059786687938, 0.3943095743441828, 0.3713231796345752, 1.6286334447211743, 1.8442538198408855, -1.151830965301197, 0.5229720015753714, 0.881194453165917, 1.606844883388436, 1.4226236804197914, -0.9147988163058547, -0.3103286360332352, -0.6080075048503447, -2.465086189765115, 1.0515487947146003, 0.9350470844581024, 0.06056732333367964, -0.48728832073017975, -0.5341429120950548, 0.567108178025013, -1.426519473921635, 0.42768715035685445, 1.328981492746673, -1.3581344700053142, -0.5620634315264172, -0.4546029207207217, 2.024428908600939, -2.2446087801726655, -0.11575069506561245, -0.42293352730504197, -0.715839010337148, -0.413273278778596, -0.3515080434189393, -1.7165045749911738, 2.1214726728907998, -0.26197840327992683, -1.4822822334419699, -0.9740005446679961, 1.3633555475638726, -1.3245938521217255, 1.056420702314937, -0.34758214747490396, -0.24722960505443037, -0.7186505583381386, 0.1898097306266676, 0.43299129289059984, -0.9362834976115473, -1.4298244426857565, -1.0534077564072122, 1.8593094016744611, 0.8548661205200041, -1.3926642016521464, -0.5053390753017923, -0.682033657955724, 0.4780039408444455, 0.4300136249879697, 0.980883202547787, -0.22924488568444756, -0.6586989779084301, -0.4007190910086093, 0.3972123229401916, 1.3029152807213498, -0.3815785754169035, -0.7484065978209936, 0.8210504140417529, -0.20601732878354262, 0.24761134531898804, 0.7040517682313486, 0.14880891665905396, -0.7986815187922411, -2.378780532301465, 0.3187482514131689, -0.9934186516974625, 1.1509456174198616, -0.4451139762514316, -0.016631977140144284, -1.0362573529744676, 0.7409713523742906, 1.5830793365139446, 0.6765580609132692, 0.1853833194790049, -0.6181347969700357, -0.34580794958581784, 1.6797600008794107, 0.5880586721788934], \"yaxis\": \"y9\"}, {\"line\": {\"color\": \"rgba(128, 128, 128, 1.0)\", \"dash\": \"solid\", \"shape\": \"linear\", \"width\": 1.3}, \"marker\": {\"size\": 2, \"symbol\": \"circle\"}, \"mode\": \"markers\", \"name\": \"C\", \"text\": \"\", \"type\": \"scatter\", \"x\": [1.096107160913988, -0.9737302345058281, -0.7250110916221839, 0.7674488710153434, -0.5886541668788527, -1.0622784516157855, -1.2238707436028022, 0.5253344718323851, -1.2878683268608349, -0.29911395934561635, 0.3228157242692437, -1.3772019647253797, 0.8422799608523274, 0.46673940511242085, -1.9024107187745396, 0.155657667140865, -0.7071356823154644, 1.2253160474108702, -0.2882825609357239, 0.36254222065700026, -1.1010538416552, 1.492275113314927, -0.8466546929147944, -1.407165100389169, 1.5632998286714186, -1.844746282810375, 0.15876902191918163, -1.5707713349068917, -0.8912945042064594, -1.1888331358388045, -0.27504992184297344, 0.7719987193746825, 1.0204442420513675, -0.8759967579455494, 0.315369460523939, -0.21239405545229284, -0.6288758205361382, -1.107447520892792, -0.2747002480687447, -0.4878952806445132, 0.45536338144084904, -0.06056216817983006, 0.9155766888351832, 0.3225396215491934, 1.336825319564932, -0.37695618372560696, 0.6325172658764953, 0.26144100072357696, -0.9176232114780261, -1.208512843841877, -0.1316287517068255, 0.8046785617875465, -0.5298092909996793, -0.37895398463692803, -0.05015310836103133, 1.8473860712933061, 1.5828731768120015, -0.8313732498063346, 1.56577510300552, -0.09835768242436443, -0.388099432966121, 0.9213329848355416, -2.348329762291072, -0.3698905589364241, -1.3494687348772076, 1.3037780678011601, 2.417803512990605, 0.29235264572616937, -0.8885381405600554, 1.298273421113763, -0.3243102006073436, 1.7694595161130415, 1.1645387332927113, 0.6288572400159901, -0.4527526189306913, 1.9960678439093071, -0.041270654120210824, 1.2496205442177806, -0.8840401546835186, 0.8183218519596385, -2.0264573504660435, -0.4060040927237812, 0.4729778895675059, -1.018633095188232, -0.29007097710175345, -0.06404339828919584, -2.1361917322659645, 0.2609275108959407, 0.8218707805270796, 0.9456373949586805, 0.8181515489793115, -1.4850632655046452, 0.811063068792345, -0.31666137234541136, 1.2786160004896594, 0.8786720744927401, 0.3944281417496477, 0.22966085439033096, 0.1673512133000957, -0.35535519018683315], \"xaxis\": \"x10\", \"y\": [-0.7190573047379413, -0.5218718981353269, -2.1275080461682445, -0.26960277311906, -1.0790737644754171, 0.7341284109331028, -1.266846062375404, -1.2387256433799363, -0.21932968038558281, -0.013187734310136546, 0.7032215937556977, 0.12120609567616611, -0.35209807800567167, 0.5134455262152473, -0.26475513443163706, -0.7451059786687938, 0.3943095743441828, 0.3713231796345752, 1.6286334447211743, 1.8442538198408855, -1.151830965301197, 0.5229720015753714, 0.881194453165917, 1.606844883388436, 1.4226236804197914, -0.9147988163058547, -0.3103286360332352, -0.6080075048503447, -2.465086189765115, 1.0515487947146003, 0.9350470844581024, 0.06056732333367964, -0.48728832073017975, -0.5341429120950548, 0.567108178025013, -1.426519473921635, 0.42768715035685445, 1.328981492746673, -1.3581344700053142, -0.5620634315264172, -0.4546029207207217, 2.024428908600939, -2.2446087801726655, -0.11575069506561245, -0.42293352730504197, -0.715839010337148, -0.413273278778596, -0.3515080434189393, -1.7165045749911738, 2.1214726728907998, -0.26197840327992683, -1.4822822334419699, -0.9740005446679961, 1.3633555475638726, -1.3245938521217255, 1.056420702314937, -0.34758214747490396, -0.24722960505443037, -0.7186505583381386, 0.1898097306266676, 0.43299129289059984, -0.9362834976115473, -1.4298244426857565, -1.0534077564072122, 1.8593094016744611, 0.8548661205200041, -1.3926642016521464, -0.5053390753017923, -0.682033657955724, 0.4780039408444455, 0.4300136249879697, 0.980883202547787, -0.22924488568444756, -0.6586989779084301, -0.4007190910086093, 0.3972123229401916, 1.3029152807213498, -0.3815785754169035, -0.7484065978209936, 0.8210504140417529, -0.20601732878354262, 0.24761134531898804, 0.7040517682313486, 0.14880891665905396, -0.7986815187922411, -2.378780532301465, 0.3187482514131689, -0.9934186516974625, 1.1509456174198616, -0.4451139762514316, -0.016631977140144284, -1.0362573529744676, 0.7409713523742906, 1.5830793365139446, 0.6765580609132692, 0.1853833194790049, -0.6181347969700357, -0.34580794958581784, 1.6797600008794107, 0.5880586721788934], \"yaxis\": \"y10\"}, {\"histfunc\": \"count\", \"histnorm\": \"\", \"marker\": {\"color\": \"rgba(50, 171, 96, 1.0)\", \"line\": {\"color\": \"#4D5663\", \"width\": 1.3}}, \"name\": \"C\", \"nbinsx\": 10, \"opacity\": 0.8, \"orientation\": \"v\", \"type\": \"histogram\", \"x\": [-0.7190573047379413, -0.5218718981353269, -2.1275080461682445, -0.26960277311906, -1.0790737644754171, 0.7341284109331028, -1.266846062375404, -1.2387256433799363, -0.21932968038558281, -0.013187734310136546, 0.7032215937556977, 0.12120609567616611, -0.35209807800567167, 0.5134455262152473, -0.26475513443163706, -0.7451059786687938, 0.3943095743441828, 0.3713231796345752, 1.6286334447211743, 1.8442538198408855, -1.151830965301197, 0.5229720015753714, 0.881194453165917, 1.606844883388436, 1.4226236804197914, -0.9147988163058547, -0.3103286360332352, -0.6080075048503447, -2.465086189765115, 1.0515487947146003, 0.9350470844581024, 0.06056732333367964, -0.48728832073017975, -0.5341429120950548, 0.567108178025013, -1.426519473921635, 0.42768715035685445, 1.328981492746673, -1.3581344700053142, -0.5620634315264172, -0.4546029207207217, 2.024428908600939, -2.2446087801726655, -0.11575069506561245, -0.42293352730504197, -0.715839010337148, -0.413273278778596, -0.3515080434189393, -1.7165045749911738, 2.1214726728907998, -0.26197840327992683, -1.4822822334419699, -0.9740005446679961, 1.3633555475638726, -1.3245938521217255, 1.056420702314937, -0.34758214747490396, -0.24722960505443037, -0.7186505583381386, 0.1898097306266676, 0.43299129289059984, -0.9362834976115473, -1.4298244426857565, -1.0534077564072122, 1.8593094016744611, 0.8548661205200041, -1.3926642016521464, -0.5053390753017923, -0.682033657955724, 0.4780039408444455, 0.4300136249879697, 0.980883202547787, -0.22924488568444756, -0.6586989779084301, -0.4007190910086093, 0.3972123229401916, 1.3029152807213498, -0.3815785754169035, -0.7484065978209936, 0.8210504140417529, -0.20601732878354262, 0.24761134531898804, 0.7040517682313486, 0.14880891665905396, -0.7986815187922411, -2.378780532301465, 0.3187482514131689, -0.9934186516974625, 1.1509456174198616, -0.4451139762514316, -0.016631977140144284, -1.0362573529744676, 0.7409713523742906, 1.5830793365139446, 0.6765580609132692, 0.1853833194790049, -0.6181347969700357, -0.34580794958581784, 1.6797600008794107, 0.5880586721788934], \"xaxis\": \"x11\", \"yaxis\": \"y11\"}, {\"line\": {\"color\": \"rgba(128, 128, 128, 1.0)\", \"dash\": \"solid\", \"shape\": \"linear\", \"width\": 1.3}, \"marker\": {\"size\": 2, \"symbol\": \"circle\"}, \"mode\": \"markers\", \"name\": \"C\", \"text\": \"\", \"type\": \"scatter\", \"x\": [-2.7100027074512263, 1.5092298638203234, 1.1057494615184085, 2.1211286432568324, -1.1914403370727311, 0.41929186434710386, -0.8912222018834959, 0.8032717543495098, 0.5323382839005606, 0.7387146178691983, 0.5262429080554617, 0.6314237830695967, -0.6245340419464724, -0.38653643401312915, -3.2315136838898405e-05, 0.6594586539018324, -0.8329134530810053, 1.7016483503963837, -0.43409322580015036, 0.2379801323068665, 1.6818622904089098, -0.30146283972452553, 0.2551305621479686, -0.045384304234003546, -0.00821748274901138, -0.6648783946530121, 0.8481206379652664, -0.7073702075946093, 0.3222214926225584, -0.9556689747586344, 0.5634897506208155, 0.8973608738586154, 0.13521149549799152, -0.351024519858675, -1.167015643327293, 0.9354356194470855, 0.12385613021386416, 1.5383648033578345, 1.901857447308807, -0.3866803452023101, 0.5323164116776599, -1.0350154451302893, -0.5885030194095547, 0.37310283740938044, 0.7948691117118398, -0.06642443103251437, -0.15958262124597886, -0.1970990048918327, 0.5781068521769578, -0.527575222479752, -0.8217711389264142, 1.1048384725245357, 1.2149480117740057, 1.9949756503818386, -0.21438775731404128, -0.42177415282852676, 1.1499665354881479, 0.23124086825926587, 0.16761476703225098, -0.14188263184526026, 1.2963591778857908, -0.0015903658037731045, -1.1750227183435296, -0.5146625844422362, 0.04525138896638736, -1.5158560076332714, 1.4406393720384827, 1.0078606044802698, -0.12062413745357488, -0.6826130761628161, -2.367040772010056, 0.6160818040935914, 2.416724620529064, -0.02413914940279359, 1.2671432363260808, 0.2447521594542125, -1.2762423050923153, 1.087979549415762, -0.10309456170998484, -0.980895290291369, -0.5730758333602567, 1.9394435189591532, 0.5356258340664333, 0.39708387457322813, 0.7091732169573783, -0.04977270833216509, 0.03530437065346389, 1.2614908521508261, 0.013803138309950282, -0.32250403925302146, 0.36824266995696003, -0.2654923739716801, 1.8731019929541703, 0.4285525395547248, 0.7672964842434786, -0.2944144574609767, 0.5933737771391042, -0.40141253257098036, 0.28440855406739873, -0.21540319371195374], \"xaxis\": \"x12\", \"y\": [-0.7190573047379413, -0.5218718981353269, -2.1275080461682445, -0.26960277311906, -1.0790737644754171, 0.7341284109331028, -1.266846062375404, -1.2387256433799363, -0.21932968038558281, -0.013187734310136546, 0.7032215937556977, 0.12120609567616611, -0.35209807800567167, 0.5134455262152473, -0.26475513443163706, -0.7451059786687938, 0.3943095743441828, 0.3713231796345752, 1.6286334447211743, 1.8442538198408855, -1.151830965301197, 0.5229720015753714, 0.881194453165917, 1.606844883388436, 1.4226236804197914, -0.9147988163058547, -0.3103286360332352, -0.6080075048503447, -2.465086189765115, 1.0515487947146003, 0.9350470844581024, 0.06056732333367964, -0.48728832073017975, -0.5341429120950548, 0.567108178025013, -1.426519473921635, 0.42768715035685445, 1.328981492746673, -1.3581344700053142, -0.5620634315264172, -0.4546029207207217, 2.024428908600939, -2.2446087801726655, -0.11575069506561245, -0.42293352730504197, -0.715839010337148, -0.413273278778596, -0.3515080434189393, -1.7165045749911738, 2.1214726728907998, -0.26197840327992683, -1.4822822334419699, -0.9740005446679961, 1.3633555475638726, -1.3245938521217255, 1.056420702314937, -0.34758214747490396, -0.24722960505443037, -0.7186505583381386, 0.1898097306266676, 0.43299129289059984, -0.9362834976115473, -1.4298244426857565, -1.0534077564072122, 1.8593094016744611, 0.8548661205200041, -1.3926642016521464, -0.5053390753017923, -0.682033657955724, 0.4780039408444455, 0.4300136249879697, 0.980883202547787, -0.22924488568444756, -0.6586989779084301, -0.4007190910086093, 0.3972123229401916, 1.3029152807213498, -0.3815785754169035, -0.7484065978209936, 0.8210504140417529, -0.20601732878354262, 0.24761134531898804, 0.7040517682313486, 0.14880891665905396, -0.7986815187922411, -2.378780532301465, 0.3187482514131689, -0.9934186516974625, 1.1509456174198616, -0.4451139762514316, -0.016631977140144284, -1.0362573529744676, 0.7409713523742906, 1.5830793365139446, 0.6765580609132692, 0.1853833194790049, -0.6181347969700357, -0.34580794958581784, 1.6797600008794107, 0.5880586721788934], \"yaxis\": \"y12\"}, {\"line\": {\"color\": \"rgba(128, 128, 128, 1.0)\", \"dash\": \"solid\", \"shape\": \"linear\", \"width\": 1.3}, \"marker\": {\"size\": 2, \"symbol\": \"circle\"}, \"mode\": \"markers\", \"name\": \"D\", \"text\": \"\", \"type\": \"scatter\", \"x\": [-0.7017613191698328, 0.01679259812028604, 0.8925912413549707, -0.6668670618650194, -0.08966585714852059, -0.24458849205836947, -0.4022839095584551, 0.7369432460042893, -1.2494079912136582, -0.6401976385659033, 0.35695542238683164, -0.31573632031264465, -0.29246285955204526, -1.1497298652321202, -1.9829912112648982, 0.5098656704313177, 2.188181621409416, -1.8772696836014646, -0.4205418507884751, 0.30075831472836556, 0.2473020794475996, 1.0923057343868103, 2.214046009241756, 1.4336535784483952, 1.4496004076576658, -0.682315049522406, 1.598661713427201, 1.4227754396583445, -1.0553567255207785, -1.4467280078731937, 0.20179887245784411, 0.35903774873412975, -0.3555565196644582, 1.0761852720282128, -0.8916717438447009, -1.0601444174693633, 2.0819303347522395, -0.7167603005349762, -1.53530673446921, 1.9133948727068533, 1.0407153002753171, 1.4532560987038319, 0.013243946716610581, 0.07978980625508145, -0.7928520041366476, 0.9490485222915815, 0.6796773785389835, -0.5312708016279892, -0.42543554249806664, 0.10502509437704735, 1.6737017511277883, -1.8668727674163699, 0.22836886459639544, 1.218973217565057, 0.40212949895106903, 0.47944343085272584, 1.2304180606624848, 0.9922489862689469, 1.4686658229282794, 2.0143136536858615, -0.14595261041800572, -1.1518106457881085, -0.6742607596454501, -0.7520225160865858, -0.08264514311404035, -1.944206140200247, -0.8218453602495646, -0.9346787373246029, -0.22471916393044564, -1.0780813137475604, 1.0931423702001777, 0.1110246057804523, 0.45843380751609986, -1.1479604243030028, 0.06401934841743986, -0.40936004108937313, -2.475032937690778, -0.5798847812432872, 0.14760048032172526, -1.4746689176623073, -0.8130010946296682, 0.8174795080559044, 1.2400992521174226, -1.1738531185743155, 0.14683153608009747, -1.08192782694488, 0.23943436417174233, -1.8361135319933861, 0.4890161330117654, 1.6763408612708235, 0.140950911004665, -0.34898665268627543, 0.9774154607000615, 1.4071048918097957, 0.9928899978366662, 0.47473909400514425, -1.0159736244406523, -1.2328148128058634, 1.5251809494141184, 0.9749457059105875], \"xaxis\": \"x13\", \"y\": [-2.7100027074512263, 1.5092298638203234, 1.1057494615184085, 2.1211286432568324, -1.1914403370727311, 0.41929186434710386, -0.8912222018834959, 0.8032717543495098, 0.5323382839005606, 0.7387146178691983, 0.5262429080554617, 0.6314237830695967, -0.6245340419464724, -0.38653643401312915, -3.2315136838898405e-05, 0.6594586539018324, -0.8329134530810053, 1.7016483503963837, -0.43409322580015036, 0.2379801323068665, 1.6818622904089098, -0.30146283972452553, 0.2551305621479686, -0.045384304234003546, -0.00821748274901138, -0.6648783946530121, 0.8481206379652664, -0.7073702075946093, 0.3222214926225584, -0.9556689747586344, 0.5634897506208155, 0.8973608738586154, 0.13521149549799152, -0.351024519858675, -1.167015643327293, 0.9354356194470855, 0.12385613021386416, 1.5383648033578345, 1.901857447308807, -0.3866803452023101, 0.5323164116776599, -1.0350154451302893, -0.5885030194095547, 0.37310283740938044, 0.7948691117118398, -0.06642443103251437, -0.15958262124597886, -0.1970990048918327, 0.5781068521769578, -0.527575222479752, -0.8217711389264142, 1.1048384725245357, 1.2149480117740057, 1.9949756503818386, -0.21438775731404128, -0.42177415282852676, 1.1499665354881479, 0.23124086825926587, 0.16761476703225098, -0.14188263184526026, 1.2963591778857908, -0.0015903658037731045, -1.1750227183435296, -0.5146625844422362, 0.04525138896638736, -1.5158560076332714, 1.4406393720384827, 1.0078606044802698, -0.12062413745357488, -0.6826130761628161, -2.367040772010056, 0.6160818040935914, 2.416724620529064, -0.02413914940279359, 1.2671432363260808, 0.2447521594542125, -1.2762423050923153, 1.087979549415762, -0.10309456170998484, -0.980895290291369, -0.5730758333602567, 1.9394435189591532, 0.5356258340664333, 0.39708387457322813, 0.7091732169573783, -0.04977270833216509, 0.03530437065346389, 1.2614908521508261, 0.013803138309950282, -0.32250403925302146, 0.36824266995696003, -0.2654923739716801, 1.8731019929541703, 0.4285525395547248, 0.7672964842434786, -0.2944144574609767, 0.5933737771391042, -0.40141253257098036, 0.28440855406739873, -0.21540319371195374], \"yaxis\": \"y13\"}, {\"line\": {\"color\": \"rgba(128, 128, 128, 1.0)\", \"dash\": \"solid\", \"shape\": \"linear\", \"width\": 1.3}, \"marker\": {\"size\": 2, \"symbol\": \"circle\"}, \"mode\": \"markers\", \"name\": \"D\", \"text\": \"\", \"type\": \"scatter\", \"x\": [1.096107160913988, -0.9737302345058281, -0.7250110916221839, 0.7674488710153434, -0.5886541668788527, -1.0622784516157855, -1.2238707436028022, 0.5253344718323851, -1.2878683268608349, -0.29911395934561635, 0.3228157242692437, -1.3772019647253797, 0.8422799608523274, 0.46673940511242085, -1.9024107187745396, 0.155657667140865, -0.7071356823154644, 1.2253160474108702, -0.2882825609357239, 0.36254222065700026, -1.1010538416552, 1.492275113314927, -0.8466546929147944, -1.407165100389169, 1.5632998286714186, -1.844746282810375, 0.15876902191918163, -1.5707713349068917, -0.8912945042064594, -1.1888331358388045, -0.27504992184297344, 0.7719987193746825, 1.0204442420513675, -0.8759967579455494, 0.315369460523939, -0.21239405545229284, -0.6288758205361382, -1.107447520892792, -0.2747002480687447, -0.4878952806445132, 0.45536338144084904, -0.06056216817983006, 0.9155766888351832, 0.3225396215491934, 1.336825319564932, -0.37695618372560696, 0.6325172658764953, 0.26144100072357696, -0.9176232114780261, -1.208512843841877, -0.1316287517068255, 0.8046785617875465, -0.5298092909996793, -0.37895398463692803, -0.05015310836103133, 1.8473860712933061, 1.5828731768120015, -0.8313732498063346, 1.56577510300552, -0.09835768242436443, -0.388099432966121, 0.9213329848355416, -2.348329762291072, -0.3698905589364241, -1.3494687348772076, 1.3037780678011601, 2.417803512990605, 0.29235264572616937, -0.8885381405600554, 1.298273421113763, -0.3243102006073436, 1.7694595161130415, 1.1645387332927113, 0.6288572400159901, -0.4527526189306913, 1.9960678439093071, -0.041270654120210824, 1.2496205442177806, -0.8840401546835186, 0.8183218519596385, -2.0264573504660435, -0.4060040927237812, 0.4729778895675059, -1.018633095188232, -0.29007097710175345, -0.06404339828919584, -2.1361917322659645, 0.2609275108959407, 0.8218707805270796, 0.9456373949586805, 0.8181515489793115, -1.4850632655046452, 0.811063068792345, -0.31666137234541136, 1.2786160004896594, 0.8786720744927401, 0.3944281417496477, 0.22966085439033096, 0.1673512133000957, -0.35535519018683315], \"xaxis\": \"x14\", \"y\": [-2.7100027074512263, 1.5092298638203234, 1.1057494615184085, 2.1211286432568324, -1.1914403370727311, 0.41929186434710386, -0.8912222018834959, 0.8032717543495098, 0.5323382839005606, 0.7387146178691983, 0.5262429080554617, 0.6314237830695967, -0.6245340419464724, -0.38653643401312915, -3.2315136838898405e-05, 0.6594586539018324, -0.8329134530810053, 1.7016483503963837, -0.43409322580015036, 0.2379801323068665, 1.6818622904089098, -0.30146283972452553, 0.2551305621479686, -0.045384304234003546, -0.00821748274901138, -0.6648783946530121, 0.8481206379652664, -0.7073702075946093, 0.3222214926225584, -0.9556689747586344, 0.5634897506208155, 0.8973608738586154, 0.13521149549799152, -0.351024519858675, -1.167015643327293, 0.9354356194470855, 0.12385613021386416, 1.5383648033578345, 1.901857447308807, -0.3866803452023101, 0.5323164116776599, -1.0350154451302893, -0.5885030194095547, 0.37310283740938044, 0.7948691117118398, -0.06642443103251437, -0.15958262124597886, -0.1970990048918327, 0.5781068521769578, -0.527575222479752, -0.8217711389264142, 1.1048384725245357, 1.2149480117740057, 1.9949756503818386, -0.21438775731404128, -0.42177415282852676, 1.1499665354881479, 0.23124086825926587, 0.16761476703225098, -0.14188263184526026, 1.2963591778857908, -0.0015903658037731045, -1.1750227183435296, -0.5146625844422362, 0.04525138896638736, -1.5158560076332714, 1.4406393720384827, 1.0078606044802698, -0.12062413745357488, -0.6826130761628161, -2.367040772010056, 0.6160818040935914, 2.416724620529064, -0.02413914940279359, 1.2671432363260808, 0.2447521594542125, -1.2762423050923153, 1.087979549415762, -0.10309456170998484, -0.980895290291369, -0.5730758333602567, 1.9394435189591532, 0.5356258340664333, 0.39708387457322813, 0.7091732169573783, -0.04977270833216509, 0.03530437065346389, 1.2614908521508261, 0.013803138309950282, -0.32250403925302146, 0.36824266995696003, -0.2654923739716801, 1.8731019929541703, 0.4285525395547248, 0.7672964842434786, -0.2944144574609767, 0.5933737771391042, -0.40141253257098036, 0.28440855406739873, -0.21540319371195374], \"yaxis\": \"y14\"}, {\"line\": {\"color\": \"rgba(128, 128, 128, 1.0)\", \"dash\": \"solid\", \"shape\": \"linear\", \"width\": 1.3}, \"marker\": {\"size\": 2, \"symbol\": \"circle\"}, \"mode\": \"markers\", \"name\": \"D\", \"text\": \"\", \"type\": \"scatter\", \"x\": [-0.7190573047379413, -0.5218718981353269, -2.1275080461682445, -0.26960277311906, -1.0790737644754171, 0.7341284109331028, -1.266846062375404, -1.2387256433799363, -0.21932968038558281, -0.013187734310136546, 0.7032215937556977, 0.12120609567616611, -0.35209807800567167, 0.5134455262152473, -0.26475513443163706, -0.7451059786687938, 0.3943095743441828, 0.3713231796345752, 1.6286334447211743, 1.8442538198408855, -1.151830965301197, 0.5229720015753714, 0.881194453165917, 1.606844883388436, 1.4226236804197914, -0.9147988163058547, -0.3103286360332352, -0.6080075048503447, -2.465086189765115, 1.0515487947146003, 0.9350470844581024, 0.06056732333367964, -0.48728832073017975, -0.5341429120950548, 0.567108178025013, -1.426519473921635, 0.42768715035685445, 1.328981492746673, -1.3581344700053142, -0.5620634315264172, -0.4546029207207217, 2.024428908600939, -2.2446087801726655, -0.11575069506561245, -0.42293352730504197, -0.715839010337148, -0.413273278778596, -0.3515080434189393, -1.7165045749911738, 2.1214726728907998, -0.26197840327992683, -1.4822822334419699, -0.9740005446679961, 1.3633555475638726, -1.3245938521217255, 1.056420702314937, -0.34758214747490396, -0.24722960505443037, -0.7186505583381386, 0.1898097306266676, 0.43299129289059984, -0.9362834976115473, -1.4298244426857565, -1.0534077564072122, 1.8593094016744611, 0.8548661205200041, -1.3926642016521464, -0.5053390753017923, -0.682033657955724, 0.4780039408444455, 0.4300136249879697, 0.980883202547787, -0.22924488568444756, -0.6586989779084301, -0.4007190910086093, 0.3972123229401916, 1.3029152807213498, -0.3815785754169035, -0.7484065978209936, 0.8210504140417529, -0.20601732878354262, 0.24761134531898804, 0.7040517682313486, 0.14880891665905396, -0.7986815187922411, -2.378780532301465, 0.3187482514131689, -0.9934186516974625, 1.1509456174198616, -0.4451139762514316, -0.016631977140144284, -1.0362573529744676, 0.7409713523742906, 1.5830793365139446, 0.6765580609132692, 0.1853833194790049, -0.6181347969700357, -0.34580794958581784, 1.6797600008794107, 0.5880586721788934], \"xaxis\": \"x15\", \"y\": [-2.7100027074512263, 1.5092298638203234, 1.1057494615184085, 2.1211286432568324, -1.1914403370727311, 0.41929186434710386, -0.8912222018834959, 0.8032717543495098, 0.5323382839005606, 0.7387146178691983, 0.5262429080554617, 0.6314237830695967, -0.6245340419464724, -0.38653643401312915, -3.2315136838898405e-05, 0.6594586539018324, -0.8329134530810053, 1.7016483503963837, -0.43409322580015036, 0.2379801323068665, 1.6818622904089098, -0.30146283972452553, 0.2551305621479686, -0.045384304234003546, -0.00821748274901138, -0.6648783946530121, 0.8481206379652664, -0.7073702075946093, 0.3222214926225584, -0.9556689747586344, 0.5634897506208155, 0.8973608738586154, 0.13521149549799152, -0.351024519858675, -1.167015643327293, 0.9354356194470855, 0.12385613021386416, 1.5383648033578345, 1.901857447308807, -0.3866803452023101, 0.5323164116776599, -1.0350154451302893, -0.5885030194095547, 0.37310283740938044, 0.7948691117118398, -0.06642443103251437, -0.15958262124597886, -0.1970990048918327, 0.5781068521769578, -0.527575222479752, -0.8217711389264142, 1.1048384725245357, 1.2149480117740057, 1.9949756503818386, -0.21438775731404128, -0.42177415282852676, 1.1499665354881479, 0.23124086825926587, 0.16761476703225098, -0.14188263184526026, 1.2963591778857908, -0.0015903658037731045, -1.1750227183435296, -0.5146625844422362, 0.04525138896638736, -1.5158560076332714, 1.4406393720384827, 1.0078606044802698, -0.12062413745357488, -0.6826130761628161, -2.367040772010056, 0.6160818040935914, 2.416724620529064, -0.02413914940279359, 1.2671432363260808, 0.2447521594542125, -1.2762423050923153, 1.087979549415762, -0.10309456170998484, -0.980895290291369, -0.5730758333602567, 1.9394435189591532, 0.5356258340664333, 0.39708387457322813, 0.7091732169573783, -0.04977270833216509, 0.03530437065346389, 1.2614908521508261, 0.013803138309950282, -0.32250403925302146, 0.36824266995696003, -0.2654923739716801, 1.8731019929541703, 0.4285525395547248, 0.7672964842434786, -0.2944144574609767, 0.5933737771391042, -0.40141253257098036, 0.28440855406739873, -0.21540319371195374], \"yaxis\": \"y15\"}, {\"histfunc\": \"count\", \"histnorm\": \"\", \"marker\": {\"color\": \"rgba(128, 0, 128, 1.0)\", \"line\": {\"color\": \"#4D5663\", \"width\": 1.3}}, \"name\": \"D\", \"nbinsx\": 10, \"opacity\": 0.8, \"orientation\": \"v\", \"type\": \"histogram\", \"x\": [-2.7100027074512263, 1.5092298638203234, 1.1057494615184085, 2.1211286432568324, -1.1914403370727311, 0.41929186434710386, -0.8912222018834959, 0.8032717543495098, 0.5323382839005606, 0.7387146178691983, 0.5262429080554617, 0.6314237830695967, -0.6245340419464724, -0.38653643401312915, -3.2315136838898405e-05, 0.6594586539018324, -0.8329134530810053, 1.7016483503963837, -0.43409322580015036, 0.2379801323068665, 1.6818622904089098, -0.30146283972452553, 0.2551305621479686, -0.045384304234003546, -0.00821748274901138, -0.6648783946530121, 0.8481206379652664, -0.7073702075946093, 0.3222214926225584, -0.9556689747586344, 0.5634897506208155, 0.8973608738586154, 0.13521149549799152, -0.351024519858675, -1.167015643327293, 0.9354356194470855, 0.12385613021386416, 1.5383648033578345, 1.901857447308807, -0.3866803452023101, 0.5323164116776599, -1.0350154451302893, -0.5885030194095547, 0.37310283740938044, 0.7948691117118398, -0.06642443103251437, -0.15958262124597886, -0.1970990048918327, 0.5781068521769578, -0.527575222479752, -0.8217711389264142, 1.1048384725245357, 1.2149480117740057, 1.9949756503818386, -0.21438775731404128, -0.42177415282852676, 1.1499665354881479, 0.23124086825926587, 0.16761476703225098, -0.14188263184526026, 1.2963591778857908, -0.0015903658037731045, -1.1750227183435296, -0.5146625844422362, 0.04525138896638736, -1.5158560076332714, 1.4406393720384827, 1.0078606044802698, -0.12062413745357488, -0.6826130761628161, -2.367040772010056, 0.6160818040935914, 2.416724620529064, -0.02413914940279359, 1.2671432363260808, 0.2447521594542125, -1.2762423050923153, 1.087979549415762, -0.10309456170998484, -0.980895290291369, -0.5730758333602567, 1.9394435189591532, 0.5356258340664333, 0.39708387457322813, 0.7091732169573783, -0.04977270833216509, 0.03530437065346389, 1.2614908521508261, 0.013803138309950282, -0.32250403925302146, 0.36824266995696003, -0.2654923739716801, 1.8731019929541703, 0.4285525395547248, 0.7672964842434786, -0.2944144574609767, 0.5933737771391042, -0.40141253257098036, 0.28440855406739873, -0.21540319371195374], \"xaxis\": \"x16\", \"yaxis\": \"y16\"}],                        {\"bargap\": 0.02, \"legend\": {\"bgcolor\": \"#F5F6F9\", \"font\": {\"color\": \"#4D5663\"}}, \"paper_bgcolor\": \"#F5F6F9\", \"plot_bgcolor\": \"#F5F6F9\", \"showlegend\": false, \"template\": {\"data\": {\"bar\": [{\"error_x\": {\"color\": \"#2a3f5f\"}, \"error_y\": {\"color\": \"#2a3f5f\"}, \"marker\": {\"line\": {\"color\": \"#E5ECF6\", \"width\": 0.5}}, \"type\": \"bar\"}], \"barpolar\": [{\"marker\": {\"line\": {\"color\": \"#E5ECF6\", \"width\": 0.5}}, \"type\": \"barpolar\"}], \"carpet\": [{\"aaxis\": {\"endlinecolor\": \"#2a3f5f\", \"gridcolor\": \"white\", \"linecolor\": \"white\", \"minorgridcolor\": \"white\", \"startlinecolor\": \"#2a3f5f\"}, \"baxis\": {\"endlinecolor\": \"#2a3f5f\", \"gridcolor\": \"white\", \"linecolor\": \"white\", \"minorgridcolor\": \"white\", \"startlinecolor\": \"#2a3f5f\"}, \"type\": \"carpet\"}], \"choropleth\": [{\"colorbar\": {\"outlinewidth\": 0, \"ticks\": \"\"}, \"type\": \"choropleth\"}], \"contour\": [{\"colorbar\": {\"outlinewidth\": 0, \"ticks\": \"\"}, \"colorscale\": [[0.0, \"#0d0887\"], [0.1111111111111111, \"#46039f\"], [0.2222222222222222, \"#7201a8\"], [0.3333333333333333, \"#9c179e\"], [0.4444444444444444, \"#bd3786\"], [0.5555555555555556, \"#d8576b\"], [0.6666666666666666, \"#ed7953\"], [0.7777777777777778, \"#fb9f3a\"], [0.8888888888888888, \"#fdca26\"], [1.0, \"#f0f921\"]], \"type\": \"contour\"}], \"contourcarpet\": [{\"colorbar\": {\"outlinewidth\": 0, \"ticks\": \"\"}, \"type\": \"contourcarpet\"}], \"heatmap\": [{\"colorbar\": {\"outlinewidth\": 0, \"ticks\": \"\"}, \"colorscale\": [[0.0, \"#0d0887\"], [0.1111111111111111, \"#46039f\"], [0.2222222222222222, \"#7201a8\"], [0.3333333333333333, \"#9c179e\"], [0.4444444444444444, \"#bd3786\"], [0.5555555555555556, \"#d8576b\"], [0.6666666666666666, \"#ed7953\"], [0.7777777777777778, \"#fb9f3a\"], [0.8888888888888888, \"#fdca26\"], [1.0, \"#f0f921\"]], \"type\": \"heatmap\"}], \"heatmapgl\": [{\"colorbar\": {\"outlinewidth\": 0, \"ticks\": \"\"}, \"colorscale\": [[0.0, \"#0d0887\"], [0.1111111111111111, \"#46039f\"], [0.2222222222222222, \"#7201a8\"], [0.3333333333333333, \"#9c179e\"], [0.4444444444444444, \"#bd3786\"], [0.5555555555555556, \"#d8576b\"], [0.6666666666666666, \"#ed7953\"], [0.7777777777777778, \"#fb9f3a\"], [0.8888888888888888, \"#fdca26\"], [1.0, \"#f0f921\"]], \"type\": \"heatmapgl\"}], \"histogram\": [{\"marker\": {\"colorbar\": {\"outlinewidth\": 0, \"ticks\": \"\"}}, \"type\": \"histogram\"}], \"histogram2d\": [{\"colorbar\": {\"outlinewidth\": 0, \"ticks\": \"\"}, \"colorscale\": [[0.0, \"#0d0887\"], [0.1111111111111111, \"#46039f\"], [0.2222222222222222, \"#7201a8\"], [0.3333333333333333, \"#9c179e\"], [0.4444444444444444, \"#bd3786\"], [0.5555555555555556, \"#d8576b\"], [0.6666666666666666, \"#ed7953\"], [0.7777777777777778, \"#fb9f3a\"], [0.8888888888888888, \"#fdca26\"], [1.0, \"#f0f921\"]], \"type\": \"histogram2d\"}], \"histogram2dcontour\": [{\"colorbar\": {\"outlinewidth\": 0, \"ticks\": \"\"}, \"colorscale\": [[0.0, \"#0d0887\"], [0.1111111111111111, \"#46039f\"], [0.2222222222222222, \"#7201a8\"], [0.3333333333333333, \"#9c179e\"], [0.4444444444444444, \"#bd3786\"], [0.5555555555555556, \"#d8576b\"], [0.6666666666666666, \"#ed7953\"], [0.7777777777777778, \"#fb9f3a\"], [0.8888888888888888, \"#fdca26\"], [1.0, \"#f0f921\"]], \"type\": \"histogram2dcontour\"}], \"mesh3d\": [{\"colorbar\": {\"outlinewidth\": 0, \"ticks\": \"\"}, \"type\": \"mesh3d\"}], \"parcoords\": [{\"line\": {\"colorbar\": {\"outlinewidth\": 0, \"ticks\": \"\"}}, \"type\": \"parcoords\"}], \"pie\": [{\"automargin\": true, \"type\": \"pie\"}], \"scatter\": [{\"marker\": {\"colorbar\": {\"outlinewidth\": 0, \"ticks\": \"\"}}, \"type\": \"scatter\"}], \"scatter3d\": [{\"line\": {\"colorbar\": {\"outlinewidth\": 0, \"ticks\": \"\"}}, \"marker\": {\"colorbar\": {\"outlinewidth\": 0, \"ticks\": \"\"}}, \"type\": \"scatter3d\"}], \"scattercarpet\": [{\"marker\": {\"colorbar\": {\"outlinewidth\": 0, \"ticks\": \"\"}}, \"type\": \"scattercarpet\"}], \"scattergeo\": [{\"marker\": {\"colorbar\": {\"outlinewidth\": 0, \"ticks\": \"\"}}, \"type\": \"scattergeo\"}], \"scattergl\": [{\"marker\": {\"colorbar\": {\"outlinewidth\": 0, \"ticks\": \"\"}}, \"type\": \"scattergl\"}], \"scattermapbox\": [{\"marker\": {\"colorbar\": {\"outlinewidth\": 0, \"ticks\": \"\"}}, \"type\": \"scattermapbox\"}], \"scatterpolar\": [{\"marker\": {\"colorbar\": {\"outlinewidth\": 0, \"ticks\": \"\"}}, \"type\": \"scatterpolar\"}], \"scatterpolargl\": [{\"marker\": {\"colorbar\": {\"outlinewidth\": 0, \"ticks\": \"\"}}, \"type\": \"scatterpolargl\"}], \"scatterternary\": [{\"marker\": {\"colorbar\": {\"outlinewidth\": 0, \"ticks\": \"\"}}, \"type\": \"scatterternary\"}], \"surface\": [{\"colorbar\": {\"outlinewidth\": 0, \"ticks\": \"\"}, \"colorscale\": [[0.0, \"#0d0887\"], [0.1111111111111111, \"#46039f\"], [0.2222222222222222, \"#7201a8\"], [0.3333333333333333, \"#9c179e\"], [0.4444444444444444, \"#bd3786\"], [0.5555555555555556, \"#d8576b\"], [0.6666666666666666, \"#ed7953\"], [0.7777777777777778, \"#fb9f3a\"], [0.8888888888888888, \"#fdca26\"], [1.0, \"#f0f921\"]], \"type\": \"surface\"}], \"table\": [{\"cells\": {\"fill\": {\"color\": \"#EBF0F8\"}, \"line\": {\"color\": \"white\"}}, \"header\": {\"fill\": {\"color\": \"#C8D4E3\"}, \"line\": {\"color\": \"white\"}}, \"type\": \"table\"}]}, \"layout\": {\"annotationdefaults\": {\"arrowcolor\": \"#2a3f5f\", \"arrowhead\": 0, \"arrowwidth\": 1}, \"coloraxis\": {\"colorbar\": {\"outlinewidth\": 0, \"ticks\": \"\"}}, \"colorscale\": {\"diverging\": [[0, \"#8e0152\"], [0.1, \"#c51b7d\"], [0.2, \"#de77ae\"], [0.3, \"#f1b6da\"], [0.4, \"#fde0ef\"], [0.5, \"#f7f7f7\"], [0.6, \"#e6f5d0\"], [0.7, \"#b8e186\"], [0.8, \"#7fbc41\"], [0.9, \"#4d9221\"], [1, \"#276419\"]], \"sequential\": [[0.0, \"#0d0887\"], [0.1111111111111111, \"#46039f\"], [0.2222222222222222, \"#7201a8\"], [0.3333333333333333, \"#9c179e\"], [0.4444444444444444, \"#bd3786\"], [0.5555555555555556, \"#d8576b\"], [0.6666666666666666, \"#ed7953\"], [0.7777777777777778, \"#fb9f3a\"], [0.8888888888888888, \"#fdca26\"], [1.0, \"#f0f921\"]], \"sequentialminus\": [[0.0, \"#0d0887\"], [0.1111111111111111, \"#46039f\"], [0.2222222222222222, \"#7201a8\"], [0.3333333333333333, \"#9c179e\"], [0.4444444444444444, \"#bd3786\"], [0.5555555555555556, \"#d8576b\"], [0.6666666666666666, \"#ed7953\"], [0.7777777777777778, \"#fb9f3a\"], [0.8888888888888888, \"#fdca26\"], [1.0, \"#f0f921\"]]}, \"colorway\": [\"#636efa\", \"#EF553B\", \"#00cc96\", \"#ab63fa\", \"#FFA15A\", \"#19d3f3\", \"#FF6692\", \"#B6E880\", \"#FF97FF\", \"#FECB52\"], \"font\": {\"color\": \"#2a3f5f\"}, \"geo\": {\"bgcolor\": \"white\", \"lakecolor\": \"white\", \"landcolor\": \"#E5ECF6\", \"showlakes\": true, \"showland\": true, \"subunitcolor\": \"white\"}, \"hoverlabel\": {\"align\": \"left\"}, \"hovermode\": \"closest\", \"mapbox\": {\"style\": \"light\"}, \"paper_bgcolor\": \"white\", \"plot_bgcolor\": \"#E5ECF6\", \"polar\": {\"angularaxis\": {\"gridcolor\": \"white\", \"linecolor\": \"white\", \"ticks\": \"\"}, \"bgcolor\": \"#E5ECF6\", \"radialaxis\": {\"gridcolor\": \"white\", \"linecolor\": \"white\", \"ticks\": \"\"}}, \"scene\": {\"xaxis\": {\"backgroundcolor\": \"#E5ECF6\", \"gridcolor\": \"white\", \"gridwidth\": 2, \"linecolor\": \"white\", \"showbackground\": true, \"ticks\": \"\", \"zerolinecolor\": \"white\"}, \"yaxis\": {\"backgroundcolor\": \"#E5ECF6\", \"gridcolor\": \"white\", \"gridwidth\": 2, \"linecolor\": \"white\", \"showbackground\": true, \"ticks\": \"\", \"zerolinecolor\": \"white\"}, \"zaxis\": {\"backgroundcolor\": \"#E5ECF6\", \"gridcolor\": \"white\", \"gridwidth\": 2, \"linecolor\": \"white\", \"showbackground\": true, \"ticks\": \"\", \"zerolinecolor\": \"white\"}}, \"shapedefaults\": {\"line\": {\"color\": \"#2a3f5f\"}}, \"ternary\": {\"aaxis\": {\"gridcolor\": \"white\", \"linecolor\": \"white\", \"ticks\": \"\"}, \"baxis\": {\"gridcolor\": \"white\", \"linecolor\": \"white\", \"ticks\": \"\"}, \"bgcolor\": \"#E5ECF6\", \"caxis\": {\"gridcolor\": \"white\", \"linecolor\": \"white\", \"ticks\": \"\"}}, \"title\": {\"x\": 0.05}, \"xaxis\": {\"automargin\": true, \"gridcolor\": \"white\", \"linecolor\": \"white\", \"ticks\": \"\", \"title\": {\"standoff\": 15}, \"zerolinecolor\": \"white\", \"zerolinewidth\": 2}, \"yaxis\": {\"automargin\": true, \"gridcolor\": \"white\", \"linecolor\": \"white\", \"ticks\": \"\", \"title\": {\"standoff\": 15}, \"zerolinecolor\": \"white\", \"zerolinewidth\": 2}}}, \"title\": {\"font\": {\"color\": \"#4D5663\"}}, \"xaxis\": {\"anchor\": \"y\", \"domain\": [0.0, 0.2125], \"gridcolor\": \"#E1E5ED\", \"showgrid\": false, \"tickfont\": {\"color\": \"#4D5663\"}, \"title\": {\"font\": {\"color\": \"#4D5663\"}, \"text\": \"\"}, \"zerolinecolor\": \"#E1E5ED\"}, \"xaxis10\": {\"anchor\": \"y10\", \"domain\": [0.2625, 0.475], \"gridcolor\": \"#E1E5ED\", \"showgrid\": false, \"tickfont\": {\"color\": \"#4D5663\"}, \"title\": {\"font\": {\"color\": \"#4D5663\"}, \"text\": \"\"}, \"zerolinecolor\": \"#E1E5ED\"}, \"xaxis11\": {\"anchor\": \"y11\", \"domain\": [0.525, 0.7375], \"gridcolor\": \"#E1E5ED\", \"showgrid\": false, \"tickfont\": {\"color\": \"#4D5663\"}, \"title\": {\"font\": {\"color\": \"#4D5663\"}, \"text\": \"\"}, \"zerolinecolor\": \"#E1E5ED\"}, \"xaxis12\": {\"anchor\": \"y12\", \"domain\": [0.7875, 1.0], \"gridcolor\": \"#E1E5ED\", \"showgrid\": false, \"tickfont\": {\"color\": \"#4D5663\"}, \"title\": {\"font\": {\"color\": \"#4D5663\"}, \"text\": \"\"}, \"zerolinecolor\": \"#E1E5ED\"}, \"xaxis13\": {\"anchor\": \"y13\", \"domain\": [0.0, 0.2125], \"gridcolor\": \"#E1E5ED\", \"showgrid\": false, \"tickfont\": {\"color\": \"#4D5663\"}, \"title\": {\"font\": {\"color\": \"#4D5663\"}, \"text\": \"\"}, \"zerolinecolor\": \"#E1E5ED\"}, \"xaxis14\": {\"anchor\": \"y14\", \"domain\": [0.2625, 0.475], \"gridcolor\": \"#E1E5ED\", \"showgrid\": false, \"tickfont\": {\"color\": \"#4D5663\"}, \"title\": {\"font\": {\"color\": \"#4D5663\"}, \"text\": \"\"}, \"zerolinecolor\": \"#E1E5ED\"}, \"xaxis15\": {\"anchor\": \"y15\", \"domain\": [0.525, 0.7375], \"gridcolor\": \"#E1E5ED\", \"showgrid\": false, \"tickfont\": {\"color\": \"#4D5663\"}, \"title\": {\"font\": {\"color\": \"#4D5663\"}, \"text\": \"\"}, \"zerolinecolor\": \"#E1E5ED\"}, \"xaxis16\": {\"anchor\": \"y16\", \"domain\": [0.7875, 1.0], \"gridcolor\": \"#E1E5ED\", \"showgrid\": false, \"tickfont\": {\"color\": \"#4D5663\"}, \"title\": {\"font\": {\"color\": \"#4D5663\"}, \"text\": \"\"}, \"zerolinecolor\": \"#E1E5ED\"}, \"xaxis2\": {\"anchor\": \"y2\", \"domain\": [0.2625, 0.475], \"gridcolor\": \"#E1E5ED\", \"showgrid\": false, \"tickfont\": {\"color\": \"#4D5663\"}, \"title\": {\"font\": {\"color\": \"#4D5663\"}, \"text\": \"\"}, \"zerolinecolor\": \"#E1E5ED\"}, \"xaxis3\": {\"anchor\": \"y3\", \"domain\": [0.525, 0.7375], \"gridcolor\": \"#E1E5ED\", \"showgrid\": false, \"tickfont\": {\"color\": \"#4D5663\"}, \"title\": {\"font\": {\"color\": \"#4D5663\"}, \"text\": \"\"}, \"zerolinecolor\": \"#E1E5ED\"}, \"xaxis4\": {\"anchor\": \"y4\", \"domain\": [0.7875, 1.0], \"gridcolor\": \"#E1E5ED\", \"showgrid\": false, \"tickfont\": {\"color\": \"#4D5663\"}, \"title\": {\"font\": {\"color\": \"#4D5663\"}, \"text\": \"\"}, \"zerolinecolor\": \"#E1E5ED\"}, \"xaxis5\": {\"anchor\": \"y5\", \"domain\": [0.0, 0.2125], \"gridcolor\": \"#E1E5ED\", \"showgrid\": false, \"tickfont\": {\"color\": \"#4D5663\"}, \"title\": {\"font\": {\"color\": \"#4D5663\"}, \"text\": \"\"}, \"zerolinecolor\": \"#E1E5ED\"}, \"xaxis6\": {\"anchor\": \"y6\", \"domain\": [0.2625, 0.475], \"gridcolor\": \"#E1E5ED\", \"showgrid\": false, \"tickfont\": {\"color\": \"#4D5663\"}, \"title\": {\"font\": {\"color\": \"#4D5663\"}, \"text\": \"\"}, \"zerolinecolor\": \"#E1E5ED\"}, \"xaxis7\": {\"anchor\": \"y7\", \"domain\": [0.525, 0.7375], \"gridcolor\": \"#E1E5ED\", \"showgrid\": false, \"tickfont\": {\"color\": \"#4D5663\"}, \"title\": {\"font\": {\"color\": \"#4D5663\"}, \"text\": \"\"}, \"zerolinecolor\": \"#E1E5ED\"}, \"xaxis8\": {\"anchor\": \"y8\", \"domain\": [0.7875, 1.0], \"gridcolor\": \"#E1E5ED\", \"showgrid\": false, \"tickfont\": {\"color\": \"#4D5663\"}, \"title\": {\"font\": {\"color\": \"#4D5663\"}, \"text\": \"\"}, \"zerolinecolor\": \"#E1E5ED\"}, \"xaxis9\": {\"anchor\": \"y9\", \"domain\": [0.0, 0.2125], \"gridcolor\": \"#E1E5ED\", \"showgrid\": false, \"tickfont\": {\"color\": \"#4D5663\"}, \"title\": {\"font\": {\"color\": \"#4D5663\"}, \"text\": \"\"}, \"zerolinecolor\": \"#E1E5ED\"}, \"yaxis\": {\"anchor\": \"x\", \"domain\": [0.8025, 1.0], \"gridcolor\": \"#E1E5ED\", \"showgrid\": false, \"tickfont\": {\"color\": \"#4D5663\"}, \"title\": {\"font\": {\"color\": \"#4D5663\"}, \"text\": \"\"}, \"zerolinecolor\": \"#E1E5ED\"}, \"yaxis10\": {\"anchor\": \"x10\", \"domain\": [0.2675, 0.465], \"gridcolor\": \"#E1E5ED\", \"showgrid\": false, \"tickfont\": {\"color\": \"#4D5663\"}, \"title\": {\"font\": {\"color\": \"#4D5663\"}, \"text\": \"\"}, \"zerolinecolor\": \"#E1E5ED\"}, \"yaxis11\": {\"anchor\": \"x11\", \"domain\": [0.2675, 0.465], \"gridcolor\": \"#E1E5ED\", \"showgrid\": false, \"tickfont\": {\"color\": \"#4D5663\"}, \"title\": {\"font\": {\"color\": \"#4D5663\"}, \"text\": \"\"}, \"zerolinecolor\": \"#E1E5ED\"}, \"yaxis12\": {\"anchor\": \"x12\", \"domain\": [0.2675, 0.465], \"gridcolor\": \"#E1E5ED\", \"showgrid\": false, \"tickfont\": {\"color\": \"#4D5663\"}, \"title\": {\"font\": {\"color\": \"#4D5663\"}, \"text\": \"\"}, \"zerolinecolor\": \"#E1E5ED\"}, \"yaxis13\": {\"anchor\": \"x13\", \"domain\": [0.0, 0.1975], \"gridcolor\": \"#E1E5ED\", \"showgrid\": false, \"tickfont\": {\"color\": \"#4D5663\"}, \"title\": {\"font\": {\"color\": \"#4D5663\"}, \"text\": \"\"}, \"zerolinecolor\": \"#E1E5ED\"}, \"yaxis14\": {\"anchor\": \"x14\", \"domain\": [0.0, 0.1975], \"gridcolor\": \"#E1E5ED\", \"showgrid\": false, \"tickfont\": {\"color\": \"#4D5663\"}, \"title\": {\"font\": {\"color\": \"#4D5663\"}, \"text\": \"\"}, \"zerolinecolor\": \"#E1E5ED\"}, \"yaxis15\": {\"anchor\": \"x15\", \"domain\": [0.0, 0.1975], \"gridcolor\": \"#E1E5ED\", \"showgrid\": false, \"tickfont\": {\"color\": \"#4D5663\"}, \"title\": {\"font\": {\"color\": \"#4D5663\"}, \"text\": \"\"}, \"zerolinecolor\": \"#E1E5ED\"}, \"yaxis16\": {\"anchor\": \"x16\", \"domain\": [0.0, 0.1975], \"gridcolor\": \"#E1E5ED\", \"showgrid\": false, \"tickfont\": {\"color\": \"#4D5663\"}, \"title\": {\"font\": {\"color\": \"#4D5663\"}, \"text\": \"\"}, \"zerolinecolor\": \"#E1E5ED\"}, \"yaxis2\": {\"anchor\": \"x2\", \"domain\": [0.8025, 1.0], \"gridcolor\": \"#E1E5ED\", \"showgrid\": false, \"tickfont\": {\"color\": \"#4D5663\"}, \"title\": {\"font\": {\"color\": \"#4D5663\"}, \"text\": \"\"}, \"zerolinecolor\": \"#E1E5ED\"}, \"yaxis3\": {\"anchor\": \"x3\", \"domain\": [0.8025, 1.0], \"gridcolor\": \"#E1E5ED\", \"showgrid\": false, \"tickfont\": {\"color\": \"#4D5663\"}, \"title\": {\"font\": {\"color\": \"#4D5663\"}, \"text\": \"\"}, \"zerolinecolor\": \"#E1E5ED\"}, \"yaxis4\": {\"anchor\": \"x4\", \"domain\": [0.8025, 1.0], \"gridcolor\": \"#E1E5ED\", \"showgrid\": false, \"tickfont\": {\"color\": \"#4D5663\"}, \"title\": {\"font\": {\"color\": \"#4D5663\"}, \"text\": \"\"}, \"zerolinecolor\": \"#E1E5ED\"}, \"yaxis5\": {\"anchor\": \"x5\", \"domain\": [0.535, 0.7325], \"gridcolor\": \"#E1E5ED\", \"showgrid\": false, \"tickfont\": {\"color\": \"#4D5663\"}, \"title\": {\"font\": {\"color\": \"#4D5663\"}, \"text\": \"\"}, \"zerolinecolor\": \"#E1E5ED\"}, \"yaxis6\": {\"anchor\": \"x6\", \"domain\": [0.535, 0.7325], \"gridcolor\": \"#E1E5ED\", \"showgrid\": false, \"tickfont\": {\"color\": \"#4D5663\"}, \"title\": {\"font\": {\"color\": \"#4D5663\"}, \"text\": \"\"}, \"zerolinecolor\": \"#E1E5ED\"}, \"yaxis7\": {\"anchor\": \"x7\", \"domain\": [0.535, 0.7325], \"gridcolor\": \"#E1E5ED\", \"showgrid\": false, \"tickfont\": {\"color\": \"#4D5663\"}, \"title\": {\"font\": {\"color\": \"#4D5663\"}, \"text\": \"\"}, \"zerolinecolor\": \"#E1E5ED\"}, \"yaxis8\": {\"anchor\": \"x8\", \"domain\": [0.535, 0.7325], \"gridcolor\": \"#E1E5ED\", \"showgrid\": false, \"tickfont\": {\"color\": \"#4D5663\"}, \"title\": {\"font\": {\"color\": \"#4D5663\"}, \"text\": \"\"}, \"zerolinecolor\": \"#E1E5ED\"}, \"yaxis9\": {\"anchor\": \"x9\", \"domain\": [0.2675, 0.465], \"gridcolor\": \"#E1E5ED\", \"showgrid\": false, \"tickfont\": {\"color\": \"#4D5663\"}, \"title\": {\"font\": {\"color\": \"#4D5663\"}, \"text\": \"\"}, \"zerolinecolor\": \"#E1E5ED\"}},                        {\"showLink\": true, \"linkText\": \"Export to plot.ly\", \"plotlyServerURL\": \"https://plot.ly\", \"responsive\": true}                    ).then(function(){\n",
       "                            \n",
       "var gd = document.getElementById('dc37720f-1e44-43ba-acb7-58c115617277');\n",
       "var x = new MutationObserver(function (mutations, observer) {{\n",
       "        var display = window.getComputedStyle(gd).display;\n",
       "        if (!display || display === 'none') {{\n",
       "            console.log([gd, 'removed!']);\n",
       "            Plotly.purge(gd);\n",
       "            observer.disconnect();\n",
       "        }}\n",
       "}});\n",
       "\n",
       "// Listen for the removal of the full notebook cells\n",
       "var notebookContainer = gd.closest('#notebook-container');\n",
       "if (notebookContainer) {{\n",
       "    x.observe(notebookContainer, {childList: true});\n",
       "}}\n",
       "\n",
       "// Listen for the clearing of the current output cell\n",
       "var outputEl = gd.closest('.output');\n",
       "if (outputEl) {{\n",
       "    x.observe(outputEl, {childList: true});\n",
       "}}\n",
       "\n",
       "                        })                };                });            </script>        </div>"
      ]
     },
     "metadata": {},
     "output_type": "display_data"
    }
   ],
   "source": [
    "df.scatter_matrix()"
   ]
  }
 ],
 "metadata": {
  "kernelspec": {
   "display_name": "Python 3",
   "language": "python",
   "name": "python3"
  },
  "language_info": {
   "codemirror_mode": {
    "name": "ipython",
    "version": 3
   },
   "file_extension": ".py",
   "mimetype": "text/x-python",
   "name": "python",
   "nbconvert_exporter": "python",
   "pygments_lexer": "ipython3",
   "version": "3.7.6"
  }
 },
 "nbformat": 4,
 "nbformat_minor": 1
}
